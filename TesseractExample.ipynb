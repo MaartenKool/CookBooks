{
 "cells": [
  {
   "cell_type": "markdown",
   "metadata": {
    "toc": true
   },
   "source": [
    "<h1>Table of Contents<span class=\"tocSkip\"></span></h1>\n",
    "<div class=\"toc\"><ul class=\"toc-item\"></ul></div>"
   ]
  },
  {
   "cell_type": "code",
   "execution_count": 3,
   "metadata": {},
   "outputs": [],
   "source": [
    "'''https://www.geeksforgeeks.org/python-reading-contents-of-pdf-using-ocr-optical-character-recognition/\n",
    "\n",
    "macports works best(Brew not so good) for OSX\n",
    "need to also run: sudo port install tesseract-eng . It requires the english training set even if it does not use it'\n",
    "\n",
    "For windwos: installer\n",
    "'''\n",
    "\n",
    "\n",
    "# Import libraries \n",
    "from PIL import Image \n",
    "import pytesseract \n",
    "import sys \n",
    "from pdf2image import convert_from_path \n",
    "import os \n",
    "\n",
    "# Path of the pdf \n",
    "PDF_file = \"/Users/maartenk/Downloads/scan0001.pdf\"\n",
    "# /Users/maartenk/Downloads/scan.pdf\n",
    "''' \n",
    "Part #1 : Converting PDF to images \n",
    "'''\n",
    "\n",
    "# Store all the pages of the PDF in a variable \n",
    "pages = convert_from_path(PDF_file, 500) \n",
    "\n",
    "# Counter to store images of each page of PDF to image \n",
    "image_counter = 1\n",
    "\n",
    "# Iterate through all the pages stored above \n",
    "for page in pages: \n",
    "\n",
    "\t# Declaring filename for each page of PDF as JPG \n",
    "\t# For each page, filename will be: \n",
    "\t# PDF page 1 -> page_1.jpg \n",
    "\t# PDF page 2 -> page_2.jpg \n",
    "\t# PDF page 3 -> page_3.jpg \n",
    "\t# .... \n",
    "\t# PDF page n -> page_n.jpg \n",
    "\tfilename = \"page_\"+str(image_counter)+\".jpg\"\n",
    "\t\n",
    "\t# Save the image of the page in system \n",
    "\tpage.save(filename, 'JPEG') \n",
    "\n",
    "\t# Increment the counter to update filename \n",
    "\timage_counter = image_counter + 1\n",
    "\n",
    "''' \n",
    "Part #2 - Recognizing text from the images using OCR \n",
    "'''\n",
    "\n",
    "# Variable to get count of total number of pages \n",
    "filelimit = image_counter-1\n",
    "\n",
    "# Creating a text file to write the output \n",
    "outfile = \"out_text.txt\"\n",
    "\n",
    "# Open the file in append mode so that \n",
    "# All contents of all images are added to the same file \n",
    "f = open(outfile, \"a\") \n",
    "\n",
    "# Iterate from 1 to total number of pages \n",
    "for i in range(1, filelimit + 1): \n",
    "\n",
    "\t# Set filename to recognize text from \n",
    "\t# Again, these files will be: \n",
    "\t# page_1.jpg \n",
    "\t# page_2.jpg \n",
    "\t# .... \n",
    "\t# page_n.jpg \n",
    "\tfilename = \"page_\"+str(i)+\".jpg\"\n",
    "\t\t\n",
    "\t# Recognize the text as string in image using pytesserct \n",
    "\ttext = str(((pytesseract.image_to_string(Image.open(filename))))) \n",
    "\n",
    "\t# The recognized text is stored in variable text \n",
    "\t# Any string processing may be applied on text \n",
    "\t# Here, basic formatting has been done: \n",
    "\t# In many PDFs, at line ending, if a word can't \n",
    "\t# be written fully, a 'hyphen' is added. \n",
    "\t# The rest of the word is written in the next line \n",
    "\t# Eg: This is a sample text this word here GeeksF- \n",
    "\t# orGeeks is half on first line, remaining on next. \n",
    "\t# To remove this, we replace every '-\\n' to ''. \n",
    "\ttext = text.replace('-\\n', '')\t \n",
    "\n",
    "\t# Finally, write the processed text to the file. \n",
    "\tf.write(text) \n",
    "\n",
    "# Close the file after writing all the text. \n",
    "f.close() \n",
    "\n"
   ]
  },
  {
   "cell_type": "code",
   "execution_count": 4,
   "metadata": {},
   "outputs": [
    {
     "data": {
      "text/plain": [
       "'SOLAS LeineRoebana\\n\\nMuziek heeft een bijzondere plaats in de choreografieén van Andrea Leine en Harijono Roebana. Een\\nbreed scala aan muzieksoorten spreekt hen aan. Van Gamelan tot Oude muziek. Van Dance tot\\nVarese. Altijd moet er iets veroverd worden in het samengaan van die twee disciplines. Zowel het\\nhoorbare als het zichtbare van de dansers en musici maakt onderdeel uit van een crossdisciplinaire\\nchoreografie. Samen vormen ze één geheel. Eén adem. Een verandering in de dans heeft gevolgen\\nvoor de muziek en omgekeerd. Een muzikale gedachte zet zich voort in beweging. Een dansthema\\nwordt muziek. Synesthesie. De musici bewegen, zingen, spreken: de dansers en zangers verenigen die\\ntwee disciplines contrapuntisch en onnadrukkelijk in hun lichaam.\\n\\nIn SOLAS is gekozen voor inspiratie door oude muziek: liederen van John Dowland en middeleeuwse\\nliederen. Hoe komt muziek van lang geleden op ons af? Wij kunnen niet meer horen met de oren van\\neen middeleeuwer of iemand uit de zeventiende eeuw. LeineRoebana verscherpt dat besef door deze\\nte combineren met moderne klanken. Luit naast elektrische gitaar. John Dowland naast Wiek Hijmans.\\nOngelijksoortige elementen, die in deze voorstelling tot een geheel versmelten. Tegelijk maakt de\\ncombinatie voelbaar dat oude en nieuwe muziek ieder hun eigen karakter hebben, die elkaar\\nversterken.\\n\\nHoewel de bewegingsstijl van LeineRoebana hedendaags is, zijn in SOLAS ook elementen uit een ver\\nverleden verwerkt. Handgebaren uit de Gestiek, waarmee in het 18%-eeuwse tonee| emoties en\\ngedachten werden overgebracht, dienen als verbinding tussen het abstracte, objectieve ruimtélijk\\ndenken van de dansers en de natuurlijke, intentionele- en expressieve gebaren van binnenuit van de\\nzangers. De Gestiek, als taal die op conventies berust, zit daar tussenin. Wij verstaan deze gecodeerde\\ntaal niet meer, maar te midden van de grillige dans van SOLAS krijgt ze een eigen zeggingskracht: wat\\nis beweging, wat gebaar?\\n\\nTeksten vormen een belangrijk onderdeel in SOLAS. Niet als een verhaal of libretto dat begrepen\\nmoet worden en het verloop van de voorstelling bepaalt; maar als iets dat ons associatievermogen\\nstimuleert; net als dans en muziek. Andrea en Harijono hebben de liedteksten laten hertalen door\\nBindervoet en Henkes, bekend van vertalingen van ondermeer James Joyce en The Beatles. Zij maken\\ngeen letterlijke vertalingen, maar klankassociaties. Deze klinken soms in plaats van en soms tegelijk\\nmet het origineel. Ze zijn een manier om de oude liedteksten vanuit de verte, via associaties van nu,\\nnaar ons toe te halen.\\n\\nDe titel SOLAS impliceert ‘troost’, ‘oplossing’, ‘soelaas’. Het plaatst de voorstelling midden in onze tijd,\\nwaarin we niet alleen een plethora aan problemen het hoofd moeten bieden, maar er ook de moed in\\nmoeten houden. Door de muziek van Dowland en de ongewone, ontregelende verwevenheid van\\nongelijksoortige elementen biedt SOLAS uitzicht op beide betekenissen van de titel.\\n\\nCredits SOLAS\\n\\nChoreografie: Andrea Leine en Harijono Roebana\\n\\nSOLAS is gemaakt met en voor dansers en musici: Uri Eugenio, Andrea Pisano, Timon de Ridder, Luana\\nvan Eekeren, Myrthe Bokelmann, Kris Mohammed Adem, Talitha van de Spek, Elisabeth Hetherington,\\nDavid Mackor, Wiek Hijmans\\n\\nMuziek: John Dowland, Antoine Boesset, Guillaume de Machaut, Wiek Hijmans, Derek Bermel e.a.\\nTekst: Erik Bindervoet en Robbert Jan-Henkes\\nLichtontwerp: Jeroen Smith'"
      ]
     },
     "execution_count": 4,
     "metadata": {},
     "output_type": "execute_result"
    }
   ],
   "source": [
    "text"
   ]
  },
  {
   "cell_type": "code",
   "execution_count": 6,
   "metadata": {},
   "outputs": [
    {
     "data": {
      "text/plain": [
       "['SOLAS LeineRoebana',\n",
       " '',\n",
       " 'Muziek heeft een bijzondere plaats in de choreografieén van Andrea Leine en Harijono Roebana. Een',\n",
       " 'breed scala aan muzieksoorten spreekt hen aan. Van Gamelan tot Oude muziek. Van Dance tot',\n",
       " 'Varese. Altijd moet er iets veroverd worden in het samengaan van die twee disciplines. Zowel het',\n",
       " 'hoorbare als het zichtbare van de dansers en musici maakt onderdeel uit van een crossdisciplinaire',\n",
       " 'choreografie. Samen vormen ze één geheel. Eén adem. Een verandering in de dans heeft gevolgen',\n",
       " 'voor de muziek en omgekeerd. Een muzikale gedachte zet zich voort in beweging. Een dansthema',\n",
       " 'wordt muziek. Synesthesie. De musici bewegen, zingen, spreken: de dansers en zangers verenigen die',\n",
       " 'twee disciplines contrapuntisch en onnadrukkelijk in hun lichaam.',\n",
       " '',\n",
       " 'In SOLAS is gekozen voor inspiratie door oude muziek: liederen van John Dowland en middeleeuwse',\n",
       " 'liederen. Hoe komt muziek van lang geleden op ons af? Wij kunnen niet meer horen met de oren van',\n",
       " 'een middeleeuwer of iemand uit de zeventiende eeuw. LeineRoebana verscherpt dat besef door deze',\n",
       " 'te combineren met moderne klanken. Luit naast elektrische gitaar. John Dowland naast Wiek Hijmans.',\n",
       " 'Ongelijksoortige elementen, die in deze voorstelling tot een geheel versmelten. Tegelijk maakt de',\n",
       " 'combinatie voelbaar dat oude en nieuwe muziek ieder hun eigen karakter hebben, die elkaar',\n",
       " 'versterken.',\n",
       " '',\n",
       " 'Hoewel de bewegingsstijl van LeineRoebana hedendaags is, zijn in SOLAS ook elementen uit een ver',\n",
       " 'verleden verwerkt. Handgebaren uit de Gestiek, waarmee in het 18%-eeuwse tonee| emoties en',\n",
       " 'gedachten werden overgebracht, dienen als verbinding tussen het abstracte, objectieve ruimtélijk',\n",
       " 'denken van de dansers en de natuurlijke, intentionele- en expressieve gebaren van binnenuit van de',\n",
       " 'zangers. De Gestiek, als taal die op conventies berust, zit daar tussenin. Wij verstaan deze gecodeerde',\n",
       " 'taal niet meer, maar te midden van de grillige dans van SOLAS krijgt ze een eigen zeggingskracht: wat',\n",
       " 'is beweging, wat gebaar?',\n",
       " '',\n",
       " 'Teksten vormen een belangrijk onderdeel in SOLAS. Niet als een verhaal of libretto dat begrepen',\n",
       " 'moet worden en het verloop van de voorstelling bepaalt; maar als iets dat ons associatievermogen',\n",
       " 'stimuleert; net als dans en muziek. Andrea en Harijono hebben de liedteksten laten hertalen door',\n",
       " 'Bindervoet en Henkes, bekend van vertalingen van ondermeer James Joyce en The Beatles. Zij maken',\n",
       " 'geen letterlijke vertalingen, maar klankassociaties. Deze klinken soms in plaats van en soms tegelijk',\n",
       " 'met het origineel. Ze zijn een manier om de oude liedteksten vanuit de verte, via associaties van nu,',\n",
       " 'naar ons toe te halen.',\n",
       " '',\n",
       " 'De titel SOLAS impliceert ‘troost’, ‘oplossing’, ‘soelaas’. Het plaatst de voorstelling midden in onze tijd,',\n",
       " 'waarin we niet alleen een plethora aan problemen het hoofd moeten bieden, maar er ook de moed in',\n",
       " 'moeten houden. Door de muziek van Dowland en de ongewone, ontregelende verwevenheid van',\n",
       " 'ongelijksoortige elementen biedt SOLAS uitzicht op beide betekenissen van de titel.',\n",
       " '',\n",
       " 'Credits SOLAS',\n",
       " '',\n",
       " 'Choreografie: Andrea Leine en Harijono Roebana',\n",
       " '',\n",
       " 'SOLAS is gemaakt met en voor dansers en musici: Uri Eugenio, Andrea Pisano, Timon de Ridder, Luana',\n",
       " 'van Eekeren, Myrthe Bokelmann, Kris Mohammed Adem, Talitha van de Spek, Elisabeth Hetherington,',\n",
       " 'David Mackor, Wiek Hijmans',\n",
       " '',\n",
       " 'Muziek: John Dowland, Antoine Boesset, Guillaume de Machaut, Wiek Hijmans, Derek Bermel e.a.',\n",
       " 'Tekst: Erik Bindervoet en Robbert Jan-Henkes',\n",
       " 'Lichtontwerp: Jeroen Smith']"
      ]
     },
     "execution_count": 6,
     "metadata": {},
     "output_type": "execute_result"
    }
   ],
   "source": [
    "text.split('\\n')"
   ]
  },
  {
   "cell_type": "code",
   "execution_count": null,
   "metadata": {},
   "outputs": [],
   "source": [
    "scan.pdf\n",
    "scan0001.pdf"
   ]
  },
  {
   "cell_type": "code",
   "execution_count": 7,
   "metadata": {},
   "outputs": [],
   "source": [
    "'''https://www.geeksforgeeks.org/python-reading-contents-of-pdf-using-ocr-optical-character-recognition/\n",
    "\n",
    "macports works best(Brew not so good) for OSX\n",
    "need to also run: sudo port install tesseract-eng . It requires the english training set even if it does not use it'\n",
    "\n",
    "For windwos: installer\n",
    "'''\n",
    "\n",
    "\n",
    "# Import libraries \n",
    "from PIL import Image \n",
    "import pytesseract \n",
    "import sys \n",
    "from pdf2image import convert_from_path \n",
    "import os \n",
    "\n",
    "# Path of the pdf \n",
    "PDF_file = \"/Users/maartenk/Downloads/scan0002.pdf\"\n",
    "# /Users/maartenk/Downloads/scan.pdf\n",
    "''' \n",
    "Part #1 : Converting PDF to images \n",
    "'''\n",
    "\n",
    "# Store all the pages of the PDF in a variable \n",
    "pages = convert_from_path(PDF_file, 500) \n",
    "\n",
    "# Counter to store images of each page of PDF to image \n",
    "image_counter = 1\n",
    "\n",
    "# Iterate through all the pages stored above \n",
    "for page in pages: \n",
    "\n",
    "\t# Declaring filename for each page of PDF as JPG \n",
    "\t# For each page, filename will be: \n",
    "\t# PDF page 1 -> page_1.jpg \n",
    "\t# PDF page 2 -> page_2.jpg \n",
    "\t# PDF page 3 -> page_3.jpg \n",
    "\t# .... \n",
    "\t# PDF page n -> page_n.jpg \n",
    "\tfilename = \"page_\"+str(image_counter)+\".jpg\"\n",
    "\t\n",
    "\t# Save the image of the page in system \n",
    "\tpage.save(filename, 'JPEG') \n",
    "\n",
    "\t# Increment the counter to update filename \n",
    "\timage_counter = image_counter + 1\n",
    "\n",
    "''' \n",
    "Part #2 - Recognizing text from the images using OCR \n",
    "'''\n",
    "\n",
    "# Variable to get count of total number of pages \n",
    "filelimit = image_counter-1\n",
    "\n",
    "# Creating a text file to write the output \n",
    "outfile = \"out_text.txt\"\n",
    "\n",
    "# Open the file in append mode so that \n",
    "# All contents of all images are added to the same file \n",
    "f = open(outfile, \"a\") \n",
    "\n",
    "# Iterate from 1 to total number of pages \n",
    "for i in range(1, filelimit + 1): \n",
    "\n",
    "\t# Set filename to recognize text from \n",
    "\t# Again, these files will be: \n",
    "\t# page_1.jpg \n",
    "\t# page_2.jpg \n",
    "\t# .... \n",
    "\t# page_n.jpg \n",
    "\tfilename = \"page_\"+str(i)+\".jpg\"\n",
    "\t\t\n",
    "\t# Recognize the text as string in image using pytesserct \n",
    "\ttext = str(((pytesseract.image_to_string(Image.open(filename))))) \n",
    "\n",
    "\t# The recognized text is stored in variable text \n",
    "\t# Any string processing may be applied on text \n",
    "\t# Here, basic formatting has been done: \n",
    "\t# In many PDFs, at line ending, if a word can't \n",
    "\t# be written fully, a 'hyphen' is added. \n",
    "\t# The rest of the word is written in the next line \n",
    "\t# Eg: This is a sample text this word here GeeksF- \n",
    "\t# orGeeks is half on first line, remaining on next. \n",
    "\t# To remove this, we replace every '-\\n' to ''. \n",
    "\ttext = text.replace('-\\n', '')\t \n",
    "\n",
    "\t# Finally, write the processed text to the file. \n",
    "\tf.write(text) \n",
    "\n",
    "# Close the file after writing all the text. \n",
    "f.close() \n",
    "\n"
   ]
  },
  {
   "cell_type": "code",
   "execution_count": 10,
   "metadata": {},
   "outputs": [
    {
     "data": {
      "text/plain": [
       "'TR\\n\\nSOLAS LeineRoebana\\n\\nMuziek heeft een bijzondere plaats in de choreografieén van Andrea Leine en Harijono Roebana. Een\\nbreed scala aan muzieksoorten spreekt hen aan. Van Gamelan tot Oude muziek. Van Dance tot\\nvarése. Altijd moet er iets veroverd worden in het samengaan van die twee disciplines. Zowel het\\nhoorbare als het zichtbare van de dansers en musici maakt onderdeel uit van een crossdisciplinaire\\nchoreografie. Samen vormen z€ één geheel. Eén adem. Een verandering in de dans heeft gevolgen\\nvoor de muziek en omgekeerd. Een muzikale gedachte zet Jich voort in beweging. Een dansthema\\nwordt muziek. Synesthesie. De musici bewegen, zingen, spreken; de dansers en zangers verenigen die\\ntwee disciplines contrapuntisch en onnadrukkelijk in hun lichaam.\\n\\nIn SOLAS is gekozen voor inspiratie door oude muziek: liederen van John Dowland en middeleeuwse\\nliederen. Hoe komt muziek van lang geleden op ONS 3f? Wij kunnen niet meer horen met de oren van\\neen middeleeuwer of iemand uit de zeventiende eeuw. LeineRoebana verscherpt dat besef door deze\\n\\nte combineren met moderne klanken. Luit naast elektrische gitaar. John Dowland naast Wiek Hijmans.\\n\\nOngelijksoortige elementen, die in deze voorstelling tot een geheel versmelten. Tegelijk maakt de\\ncombinatie voelbaar dat oude en nieuwe muziek ieder hun eigen karakter hebben, die elkaar\\nversterken.\\n\\nHoewel de bewegingsstijl van LeineRoebana hedendaags is, zijn in SOLAS 00k elementen uit een ver\\nverleden verwerkt. Handgebaren uit de Gestiek, waarmee in het 18¢-eeuwse toneel emoties en\\ngedachten werden overgebracht, dienen 3ls verbinding tussen het abstracte, objectieve ruimtelijk\\ndenken van de dansers en de natuurlijke, intentionele- en expressieve gebaren van binnenuit van de\\nzangers. De Gestiek, als taal die op conventies berust, zit daar tussenin. Wij verstaan deze gecodeerde\\ntaal niet meer, maar te midden van de grillige dans van SOLAS krijgt ze een eigen zeggingskracht: wat\\nis beweging, wat gebaar?\\n\\nTeksten vormen een belangrijk onderdeel in SOLAS. Niet als een verhaal of libretto dat begrepen\\nmoet worden en het verloop van de voorstelling bepaalt; maar als iets dat ons associatievermogen\\nstimuleert; net als dans en muziek. Andrea en Harijono hebben de liedteksten laten hertalen door\\nBindervoet en Henkes, bekend van vertalingen van ondermeer James Joyce en The Beatles. Zij maken\\ngeen letterlijke vertalingen, maar klankassociaties. Deze klinken soms in plaats van en soms tegelijk\\nmet het origineel. Ze zijn een manier om de oude liedteksten vanuit de verte, via associaties van nu,\\nnaar ons toe te halen.\\n\\nDe titel SOLAS impliceert “roost’, ‘oplossing’, ‘soelaas’. Het plaatst de voorstelling midden in onze tijd,\\nwaarin we niet alleen een plethora aan problemen het hoofd moeten bieden, maar er ook de moed in\\nmoeten houden. Door de muziek van Dowland en de ongewone, ontregelende verwevenheid van\\nongelijksoortige elementen biedt SOLAS uitzicht op beide betekenissen van de titel.\\n\\nCredits SOLAS\\n\\nChoreografie: Andrea Leine en Harijono Roebana\\n\\nSOLAS is gemaakt met en voor dansers en musici: Uri Eugenio, Andrea Pisano, Timon de Ridder, Luana\\nvan Eekeren, Myrthe Bokelmann, Kris Mohammed Adem, Talitha van de Spek, Elisabeth Hetherington,\\nDavid Mackor, Wiek Hijmans\\n\\nMuziek: John Dowland, Antoine Boesset, Guillaume de Machaut, Wiek Hijmans, Derek Bermel e.a.\\nTekst: Erik Bindervoet en Robbert Jan-Henkes\\nLichtontwerp: Jeroen Smith'"
      ]
     },
     "execution_count": 10,
     "metadata": {},
     "output_type": "execute_result"
    }
   ],
   "source": [
    "text"
   ]
  },
  {
   "cell_type": "code",
   "execution_count": null,
   "metadata": {},
   "outputs": [],
   "source": []
  }
 ],
 "metadata": {
  "hide_input": false,
  "kernelspec": {
   "display_name": "Python 3",
   "language": "python",
   "name": "python3"
  },
  "toc": {
   "base_numbering": 1,
   "nav_menu": {},
   "number_sections": true,
   "sideBar": true,
   "skip_h1_title": true,
   "title_cell": "Table of Contents",
   "title_sidebar": "Contents",
   "toc_cell": true,
   "toc_position": {},
   "toc_section_display": true,
   "toc_window_display": true
  },
  "varInspector": {
   "cols": {
    "lenName": 16,
    "lenType": 16,
    "lenVar": 40
   },
   "kernels_config": {
    "python": {
     "delete_cmd_postfix": "",
     "delete_cmd_prefix": "del ",
     "library": "var_list.py",
     "varRefreshCmd": "print(var_dic_list())"
    },
    "r": {
     "delete_cmd_postfix": ") ",
     "delete_cmd_prefix": "rm(",
     "library": "var_list.r",
     "varRefreshCmd": "cat(var_dic_list()) "
    }
   },
   "types_to_exclude": [
    "module",
    "function",
    "builtin_function_or_method",
    "instance",
    "_Feature"
   ],
   "window_display": false
  }
 },
 "nbformat": 4,
 "nbformat_minor": 2
}
