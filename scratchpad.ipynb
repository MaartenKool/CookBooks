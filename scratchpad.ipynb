{
 "cells": [
  {
   "cell_type": "markdown",
   "metadata": {
    "toc": true
   },
   "source": [
    "<h1>Table of Contents<span class=\"tocSkip\"></span></h1>\n",
    "<div class=\"toc\"><ul class=\"toc-item\"></ul></div>"
   ]
  },
  {
   "cell_type": "code",
   "execution_count": 11,
   "metadata": {},
   "outputs": [
    {
     "name": "stdout",
     "output_type": "stream",
     "text": [
      "distance        : 12593.53 km\n",
      "initial bearing : -62.85 °\n",
      "final bearing   : -120.02 °\n"
     ]
    }
   ],
   "source": [
    "# https://github.com/callum-ryan/vincentyPy/blob/master/vincenty.py\n",
    "    \n",
    "    \n",
    "import numpy as np\n",
    "from math import radians\n",
    "import sys\n",
    "\n",
    "x1 = 155000\n",
    "y1 = 463000 \n",
    "x2 = 257415\n",
    "y2 = 471042\n",
    "\n",
    "x1, y1, x2, y2 = map(radians, [x1, y1, x2, y2])\n",
    "\n",
    "# c1 = c1.split(',')\n",
    "# c2 = c2.split(',')\n",
    "\n",
    "# c1 = sys.argv[1].split(',')\n",
    "# c2 = sys.argv[2].split(',')\n",
    "\n",
    "def to_rad(lat_long):\n",
    "\tfor x, y in enumerate(lat_long):\n",
    "\t\tlat_long[x] = (np.float64(y) * np.pi) / 180\n",
    "\treturn lat_long\n",
    "\n",
    "# c1 = to_rad(c1)\n",
    "# c2 = to_rad(c2)\n",
    "\n",
    "a = 6378.137\n",
    "f = 1/298.257223563\n",
    "b = 6356.7523142\n",
    "\n",
    "L = y1 - y2\n",
    "u1 = np.arctan((1-f)*np.tan(x1))\n",
    "u2 = np.arctan((1-f)*np.tan(x2))\n",
    "\n",
    "lmd = L\n",
    "lmdd = 0\n",
    "count = 0\n",
    "\n",
    "while abs(lmd-lmdd) > 1e-12 and count <= 100:\n",
    "\tsinSqsig = (np.cos(u2)*np.sin(lmd))*(np.cos(u2)*np.sin(lmd)) + (np.cos(u1)*np.sin(u2) - np.sin(u1)*np.cos(u2)*np.cos(lmd))*(np.cos(u1)*np.sin(u2) - np.sin(u1)*np.cos(u2)*np.cos(lmd))\n",
    "\tsinsig = np.sqrt(sinSqsig)\n",
    "\tcossig = np.sin(u1)*np.sin(u2) + np.cos(u1)*np.cos(u2)*np.cos(lmd)\n",
    "\tsig = np.arctan2(sinsig,cossig)\n",
    "\tsina = np.cos(u1)*np.cos(u2)*np.sin(lmd) / sinsig\n",
    "\tcosSqa = 1 - sina * sina\n",
    "\tcos2sigM = cossig - 2*np.sin(u1)*np.sin(u2)/cosSqa\n",
    "\tC = f/16*cosSqa*(4+f*(4-3*cosSqa))\n",
    "\tlmdd = lmd\n",
    "\tlmd = L + (1-C) * f * sina * (sig + C*sinsig*(cos2sigM+C*cossig*(-1+2*cos2sigM*cos2sigM)))\n",
    "\tcount += 1\n",
    "\n",
    "uSq = cosSqa * (a*a - b*b) / (b*b)\n",
    "A = 1 + uSq/16384. * (4096 + uSq * (-768 + uSq * (320 - 175 * uSq)))\n",
    "B = uSq / 1024. * (256 + uSq * (-128 + uSq * (74 - 47 * uSq)))\n",
    "dsig = B * sinsig * (cos2sigM + B/4. * (cossig * (-1 + 2 * cos2sigM*cos2sigM) - B / 6. * cos2sigM * (-3 + 4 * sinsig * sinsig) * (-3 + 4 * cos2sigM * cos2sigM)))\n",
    "\n",
    "s = b * A * (sig-dsig)\n",
    "a1 = np.arctan2(np.cos(u2)*np.sin(lmd), np.cos(u1)*np.sin(u2)-np.sin(u1)*np.cos(u2)*np.cos(lmd))\n",
    "a2 = np.arctan2(np.cos(u1)*np.sin(lmd), -np.sin(u1)*np.cos(u2)+np.cos(u1)*np.sin(u2)*np.cos(lmd))\n",
    "\n",
    "print('distance        : '+'{0:.2f}'.format(s)+' km')\n",
    "print('initial bearing : '+'{0:.2f}'.format(np.degrees(a1))+' °')\n",
    "print('final bearing   : '+'{0:.2f}'.format(np.degrees(a2))+' °')"
   ]
  },
  {
   "cell_type": "code",
   "execution_count": 19,
   "metadata": {},
   "outputs": [
    {
     "data": {
      "text/plain": [
       "[<matplotlib.lines.Line2D at 0x1a1f385048>,\n",
       " <matplotlib.lines.Line2D at 0x1a1f385198>]"
      ]
     },
     "execution_count": 19,
     "metadata": {},
     "output_type": "execute_result"
    },
    {
     "data": {
      "image/png": "[encoded data removed]",
      "text/plain": [
       "<Figure size 432x288 with 1 Axes>"
      ]
     },
     "metadata": {
      "image/png": {
       "height": 244,
       "width": 419
      },
      "needs_background": "light"
     },
     "output_type": "display_data"
    }
   ],
   "source": [
    "plt.plot(x1,y1, x2, y2, marker= 'o')#, y1, x2, y2, lw=5);"
   ]
  },
  {
   "cell_type": "code",
   "execution_count": 20,
   "metadata": {},
   "outputs": [
    {
     "name": "stdout",
     "output_type": "stream",
     "text": [
      "9714.289056865364\n"
     ]
    }
   ],
   "source": [
    "from math import radians, cos, sin, asin, sqrt\n",
    "\n",
    "def haversine(lat1, lon1, lat2, lon2):\n",
    "\n",
    "      R = 3959.87433 # this is in miles.  For Earth radius in kilometers use 6372.8 km\n",
    "\n",
    "      dLat = radians(lat2 - lat1)\n",
    "      dLon = radians(lon2 - lon1)\n",
    "      lat1 = radians(lat1)\n",
    "      lat2 = radians(lat2)\n",
    "\n",
    "      a = sin(dLat/2)**2 + cos(lat1)*cos(lat2)*sin(dLon/2)**2\n",
    "      c = 2*asin(sqrt(a))\n",
    "\n",
    "      return R * c\n",
    "\n",
    "# Usage\n",
    "lon1 = -103.548851\n",
    "lat1 = 32.0004311\n",
    "lon2 = -103.6041946\n",
    "lat2 = 33.374939\n",
    "\n",
    "print(haversine(x1, y1, x2, y2))"
   ]
  },
  {
   "cell_type": "code",
   "execution_count": 24,
   "metadata": {},
   "outputs": [
    {
     "name": "stdout",
     "output_type": "stream",
     "text": [
      "11388.097408162095\n",
      "359.8677007728352\n"
     ]
    }
   ],
   "source": [
    "#coding:UTF-8\n",
    "from math import radians, cos, sin, asin, sqrt, atan2, degrees\n",
    "\n",
    "def haversine(pointA, pointB):\n",
    "\n",
    "    if (type(pointA) != tuple) or (type(pointB) != tuple):\n",
    "        raise TypeError(\"Only tuples are supported as arguments\")\n",
    "\n",
    "    lat1 = pointA[0]\n",
    "    lon1 = pointA[1]\n",
    "\n",
    "    lat2 = pointB[0]\n",
    "    lon2 = pointB[1]\n",
    "\n",
    "    # convert decimal degrees to radians \n",
    "    lat1, lon1, lat2, lon2 = map(radians, [lat1, lon1, lat2, lon2]) \n",
    "\n",
    "    # haversine formula \n",
    "    dlon = lon2 - lon1 \n",
    "    dlat = lat2 - lat1 \n",
    "    a = sin(dlat/2)**2 + cos(lat1) * cos(lat2) * sin(dlon/2)**2\n",
    "    c = 2 * asin(sqrt(a)) \n",
    "    r = 6371 # Radius of earth in kilometers. Use 3956 for miles\n",
    "    return c * r\n",
    "\n",
    "\n",
    "def initial_bearing(pointA, pointB):\n",
    "\n",
    "    if (type(pointA) != tuple) or (type(pointB) != tuple):\n",
    "        raise TypeError(\"Only tuples are supported as arguments\")\n",
    "\n",
    "    lat1 = radians(pointA[0])\n",
    "    lat2 = radians(pointB[0])\n",
    "\n",
    "    diffLong = radians(pointB[1] - pointA[1])\n",
    "\n",
    "    x = sin(diffLong) * cos(lat2)\n",
    "    y = cos(lat1) * sin(lat2) - (sin(lat1)\n",
    "            * cos(lat2) * cos(diffLong))\n",
    "\n",
    "    initial_bearing = atan2(x, y)\n",
    "\n",
    "    # Now we have the initial bearing but math.atan2 return values\n",
    "    # from -180° to + 180° which is not what we want for a compass bearing\n",
    "    # The solution is to normalize the initial bearing as shown below\n",
    "    initial_bearing = degrees(initial_bearing)\n",
    "    compass_bearing = (initial_bearing + 360) % 360\n",
    "\n",
    "    return compass_bearing\n",
    "\n",
    "pA = (155.000,46.449)\n",
    "pB = (257.415,47.042)\n",
    "\n",
    "x1 = 155000\n",
    "y1 = 463000 \n",
    "x2 = 257415\n",
    "y2 = 471042\n",
    "print(haversine(pA, pB))\n",
    "\n",
    "print(initial_bearing(pA, pB))"
   ]
  },
  {
   "cell_type": "code",
   "execution_count": null,
   "metadata": {},
   "outputs": [],
   "source": []
  }
 ],
 "metadata": {
  "hide_input": false,
  "kernelspec": {
   "display_name": "Python 3",
   "language": "python",
   "name": "python3"
  },
  "language_info": {
   "codemirror_mode": {
    "name": "ipython",
    "version": 3
   },
   "file_extension": ".py",
   "mimetype": "text/x-python",
   "name": "python",
   "nbconvert_exporter": "python",
   "pygments_lexer": "ipython3",
   "version": "3.6.8"
  },
  "toc": {
   "nav_menu": {},
   "number_sections": true,
   "sideBar": true,
   "skip_h1_title": true,
   "title_cell": "Table of Contents",
   "title_sidebar": "Contents",
   "toc_cell": true,
   "toc_position": {},
   "toc_section_display": true,
   "toc_window_display": true
  }
 },
 "nbformat": 4,
 "nbformat_minor": 2
}
