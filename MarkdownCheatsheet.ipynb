{
 "cells": [
  {
   "cell_type": "markdown",
   "metadata": {
    "toc": true
   },
   "source": [
    "<h1>Table of Contents<span class=\"tocSkip\"></span></h1>\n",
    "<div class=\"toc\"><ul class=\"toc-item\"><li><span><a href=\"#Chapter\" data-toc-modified-id=\"Chapter-1\"><span class=\"toc-item-num\">1&nbsp;&nbsp;</span>Chapter</a></span><ul class=\"toc-item\"><li><span><a href=\"#Section\" data-toc-modified-id=\"Section-1.1\"><span class=\"toc-item-num\">1.1&nbsp;&nbsp;</span>Section</a></span><ul class=\"toc-item\"><li><span><a href=\"#Paragraph\" data-toc-modified-id=\"Paragraph-1.1.1\"><span class=\"toc-item-num\">1.1.1&nbsp;&nbsp;</span>Paragraph</a></span><ul class=\"toc-item\"><li><span><a href=\"#Subparagraph\" data-toc-modified-id=\"Subparagraph-1.1.1.1\"><span class=\"toc-item-num\">1.1.1.1&nbsp;&nbsp;</span>Subparagraph</a></span></li></ul></li></ul></li></ul></li></ul></div>"
   ]
  },
  {
   "cell_type": "markdown",
   "metadata": {},
   "source": [
    "# Book\n",
    "## Chapter\n",
    "### Section\n",
    "#### Paragraph\n",
    "##### Subparagraph\n",
    "###### Heading\n",
    "####### No more indents\n",
    "\n",
    "Plain text which autospaces\n",
    "\n",
    "---\n",
    "\n",
    "A return, three dashes (---) and a return, make a line.\n",
    "To start a new line, the line needs to be closed by  \n",
    "2 spaces\n",
    "\n",
    "*star text star* makes italics  \n",
    "$dollar  text  dollar$ does too\n",
    "$$dollardollar text dollardollar$$ centers the text\n",
    "\n",
    "_underscore text underscore_ also prints italic (Rome _is_ in Italy...`right`)\n",
    "\n",
    "\n",
    "**2stars text 2 stars** prints bold \n",
    "\n",
    "***3stars text 3stars*** prints bold italic, also ***like* this**\n",
    "\n",
    "`Accent grave text accent grave` highlights the text\n",
    "\n",
    "> This gives a nice intend\n",
    "\n",
    "    - Another way of listing\n",
    "    - with an indent\n",
    "\n",
    "A numbered list:\n",
    "1. Number 1\n",
    "2. Number 2\n",
    "3. number 3\n",
    "    4. number 4\n",
    "    5. number 5\n",
    "        6. number 6\n",
    "            7. number 7\n",
    "                8. number 8  \n",
    "                2 spaces nicely indents the text\n",
    "            9. number 9\n",
    "        10. 'Ok, I get the drift'\n",
    "        \n",
    "\n",
    "A bullited list:\n",
    "- Number 1\n",
    "- Number 2\n",
    "- number 3\n",
    "    - number 4\n",
    "    - number 5\n",
    "        - number 6\n",
    "            - number 7\n",
    "                8. number 8  \n",
    "                2 spaces nicely indents the text\n",
    "            9. number 9\n",
    "        10. Check out how the bulleting works per level of indent\n",
    "        \n",
    "        \n",
    "Including a picture:\n",
    "\n",
    "![](https://pbs.twimg.com/media/DSvelmpVoAEaiXw.jpg)\n",
    "\n",
    "Slightly more versatile: \n",
    "\n",
    "<BR CLEAR=”middle” />\n",
    "<img src=\"https://github.com/MaartenKool/CookBooks-Sources/blob/master/newton-right.jpg?raw=true\" width=\"150\" height=\"150\" align=\"middle\"/><BR CLEAR=”middle” />It allows to scale the image and the place the picture in designated location.\n",
    "This text follows on the left of the image and show be wrapping around it neatly. lets ee if it does....\n",
    "<img src=\"https://pbs.twimg.com/media/DSvelmpVoAEaiXw.jpg\" width=\"300\" height=\"200\" align=\"RIGHT\"/>This text follows on the left of the image and show be wrapping around it neatly. lets ee if it does...."
   ]
  }
 ],
 "metadata": {
  "hide_input": false,
  "kernelspec": {
   "display_name": "Python 3",
   "language": "python",
   "name": "python3"
  },
  "language_info": {
   "codemirror_mode": {
    "name": "ipython",
    "version": 3
   },
   "file_extension": ".py",
   "mimetype": "text/x-python",
   "name": "python",
   "nbconvert_exporter": "python",
   "pygments_lexer": "ipython3",
   "version": "3.7.4"
  },
  "toc": {
   "base_numbering": 1,
   "nav_menu": {},
   "number_sections": true,
   "sideBar": true,
   "skip_h1_title": true,
   "title_cell": "Table of Contents",
   "title_sidebar": "Contents",
   "toc_cell": true,
   "toc_position": {},
   "toc_section_display": true,
   "toc_window_display": true
  },
  "varInspector": {
   "cols": {
    "lenName": 16,
    "lenType": 16,
    "lenVar": 40
   },
   "kernels_config": {
    "python": {
     "delete_cmd_postfix": "",
     "delete_cmd_prefix": "del ",
     "library": "var_list.py",
     "varRefreshCmd": "print(var_dic_list())"
    },
    "r": {
     "delete_cmd_postfix": ") ",
     "delete_cmd_prefix": "rm(",
     "library": "var_list.r",
     "varRefreshCmd": "cat(var_dic_list()) "
    }
   },
   "types_to_exclude": [
    "module",
    "function",
    "builtin_function_or_method",
    "instance",
    "_Feature"
   ],
   "window_display": false
  }
 },
 "nbformat": 4,
 "nbformat_minor": 2
}
