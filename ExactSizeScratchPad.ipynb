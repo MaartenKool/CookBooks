{
 "cells": [
  {
   "cell_type": "markdown",
   "metadata": {
    "toc": true
   },
   "source": [
    "<h1>Table of Contents<span class=\"tocSkip\"></span></h1>\n",
    "<div class=\"toc\"><ul class=\"toc-item\"></ul></div>"
   ]
  },
  {
   "cell_type": "code",
   "execution_count": 58,
   "metadata": {
    "scrolled": true
   },
   "outputs": [
    {
     "data": {
      "image/png": "[encoded data removed]",
      "text/plain": [
       "<Figure size 144x144 with 1 Axes>"
      ]
     },
     "metadata": {
      "image/png": {
       "height": 136,
       "width": 136
      },
      "needs_background": "light"
     },
     "output_type": "display_data"
    }
   ],
   "source": [
    "\n",
    "import matplotlib.pyplot as plt\n",
    "\n",
    "cmap=plt.get_cmap(\"flag\")\n",
    "\n",
    "\n",
    "# fig, ax = plt.subplots(figsize=(8.25,11.75))\n",
    "fig, ax = plt.subplots(figsize=(2,2))\n",
    "\n",
    "\n",
    "\n",
    "\n",
    "x=[-4,4,4,-4]\n",
    "y=[4,4,-4,-4]\n",
    "ax.scatter(x,y)\n",
    "# ax.plot(df.groupby(by = df['hr']).mean(), lw=1, c='r', label='mean')\n",
    "# ax.legend(loc='upper center', bbox_to_anchor=(0.5, 1.05),\n",
    "#           ncol=3, fancybox=True, shadow=True)\n",
    "# fig.suptitle('Good movement by Hr')\n",
    "\n",
    "# ax.grid('on')\n",
    "# ax.xaxis.grid(b='True', which='both')\n",
    "# ax.yaxis.grid(b=True, which='both')\n",
    "\n",
    "# Show the major grid lines with dark grey lines\n",
    "plt.grid(b=True, which='major', color='#666666', linestyle='-')\n",
    "\n",
    "# Show the minor grid lines with very faint and almost transparent grey lines\n",
    "plt.minorticks_on()\n",
    "plt.grid(b=True, which='minor', color='#999999', linestyle='-', alpha=0.2)\n",
    "\n",
    "\n",
    "ax.spines['top'].set_color('none')\n",
    "\n",
    "ax.axhline(color='black', lw=0.5)\n",
    "ax.axvline(color='black', lw=0.5)\n",
    "\n",
    "ax.spines['left'].set_position(('data', 0.0))\n",
    "ax.spines['bottom'].set_position(('data', 0.0))\n",
    "ax.spines['right'].set_color('none')\n",
    "ax.spines['top'].set_color('none')\n",
    "ax.set_aspect('equal')\n",
    "# ax.axis('off')\n",
    "ax.plot()   #Causes an autoscale update.\n",
    "plt.tight_layout()\n",
    "# plt.show()\n",
    "plt.savefig('temp1.png', dpi=200, facecolor=None, edgecolor='black',\n",
    "        orientation='portrait', papertype=None, format=None,\n",
    "        transparent=False, bbox_inches=None, pad_inches=0\n",
    "        , metadata=None)\n",
    "!open 'temp1.png'"
   ]
  },
  {
   "cell_type": "code",
   "execution_count": 42,
   "metadata": {
    "scrolled": true
   },
   "outputs": [
    {
     "data": {
      "image/png": "[encoded data removed]",
      "text/plain": [
       "<Figure size 432x288 with 1 Axes>"
      ]
     },
     "metadata": {
      "image/png": {
       "height": 231,
       "width": 231
      },
      "needs_background": "light"
     },
     "output_type": "display_data"
    },
    {
     "data": {
      "text/plain": [
       "<Figure size 1440x1440 with 0 Axes>"
      ]
     },
     "metadata": {},
     "output_type": "display_data"
    }
   ],
   "source": [
    "%matplotlib inline\n",
    "%config InlineBackend.figure_format='retina'\n",
    "import matplotlib.pyplot as plt\n",
    "\n",
    "cmap=plt.get_cmap(\"flag\")\n",
    "\n",
    "\n",
    "fig, ax = plt.subplots()\n",
    "plt.figure(figsize=(20,20))\n",
    "\n",
    "\n",
    "x=[-4,4,4,-4]\n",
    "y=[4,4,-4,-4]\n",
    "ax.scatter(x,y)\n",
    "# ax.plot(df.groupby(by = df['hr']).mean(), lw=1, c='r', label='mean')\n",
    "# ax.legend(loc='upper center', bbox_to_anchor=(0.5, 1.05),\n",
    "#           ncol=3, fancybox=True, shadow=True)\n",
    "# fig.suptitle('Good movement by Hr')\n",
    "\n",
    "# ax.grid('on')\n",
    "ax.xaxis.grid(b='True', which='both')\n",
    "ax.yaxis.grid(b=True, which='both')\n",
    "\n",
    "ax.spines['top'].set_color('none')\n",
    "\n",
    "ax.axhline(color='black', lw=0.5)\n",
    "ax.axvline(color='black', lw=0.5)\n",
    "\n",
    "ax.spines['left'].set_position(('data', 0.0))\n",
    "ax.spines['bottom'].set_position(('data', 0.0))\n",
    "ax.spines['right'].set_color('none')\n",
    "ax.spines['top'].set_color('none')\n",
    "ax.set_aspect('equal')\n",
    "# ax.axis('off')\n",
    "ax.plot()   #Causes an autoscale update.\n",
    "plt.tight_layout()\n",
    "plt.show();"
   ]
  },
  {
   "cell_type": "code",
   "execution_count": 37,
   "metadata": {},
   "outputs": [
    {
     "data": {
      "text/plain": [
       "72.0"
      ]
     },
     "execution_count": 37,
     "metadata": {},
     "output_type": "execute_result"
    }
   ],
   "source": [
    "1440/20"
   ]
  },
  {
   "cell_type": "markdown",
   "metadata": {},
   "source": [
    "https://stackoverflow.com/questions/31556446/how-to-draw-axis-in-the-middle-of-the-figure"
   ]
  }
 ],
 "metadata": {
  "hide_input": false,
  "kernelspec": {
   "display_name": "Python 3",
   "language": "python",
   "name": "python3"
  },
  "language_info": {
   "codemirror_mode": {
    "name": "ipython",
    "version": 3
   },
   "file_extension": ".py",
   "mimetype": "text/x-python",
   "name": "python",
   "nbconvert_exporter": "python",
   "pygments_lexer": "ipython3",
   "version": "3.7.4"
  },
  "toc": {
   "base_numbering": 1,
   "nav_menu": {},
   "number_sections": true,
   "sideBar": true,
   "skip_h1_title": true,
   "title_cell": "Table of Contents",
   "title_sidebar": "Contents",
   "toc_cell": true,
   "toc_position": {},
   "toc_section_display": true,
   "toc_window_display": true
  },
  "varInspector": {
   "cols": {
    "lenName": 16,
    "lenType": 16,
    "lenVar": 40
   },
   "kernels_config": {
    "python": {
     "delete_cmd_postfix": "",
     "delete_cmd_prefix": "del ",
     "library": "var_list.py",
     "varRefreshCmd": "print(var_dic_list())"
    },
    "r": {
     "delete_cmd_postfix": ") ",
     "delete_cmd_prefix": "rm(",
     "library": "var_list.r",
     "varRefreshCmd": "cat(var_dic_list()) "
    }
   },
   "types_to_exclude": [
    "module",
    "function",
    "builtin_function_or_method",
    "instance",
    "_Feature"
   ],
   "window_display": false
  }
 },
 "nbformat": 4,
 "nbformat_minor": 2
}
