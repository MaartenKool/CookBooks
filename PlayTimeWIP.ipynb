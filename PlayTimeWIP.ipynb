{
 "cells": [
  {
   "cell_type": "markdown",
   "metadata": {
    "toc": true
   },
   "source": [
    "<h1>Table of Contents<span class=\"tocSkip\"></span></h1>\n",
    "<div class=\"toc\"><ul class=\"toc-item\"></ul></div>"
   ]
  },
  {
   "cell_type": "markdown",
   "metadata": {},
   "source": [
    "// h = 1..12, m = 0..59\n",
    "static double angle(int h, int m) {\n",
    "    double hAngle = 0.5D * (h * 60 + m);\n",
    "    double mAngle = 6 * m;\n",
    "    double angle = Math.abs(hAngle - mAngle);\n",
    "    angle = Math.min(angle, 360 - angle);\n",
    "    return angle;\n",
    "}\n",
    "Basically:\n",
    "\n",
    "The hour hand moves at the rate of 0.5 degrees per minute\n",
    "The minute hand moves at the rate of of 6 degrees per minute\n"
   ]
  },
  {
   "cell_type": "code",
   "execution_count": 223,
   "metadata": {},
   "outputs": [],
   "source": [
    "df = pd.DataFrame()\n",
    "hr = []\n",
    "for x in range(0,24):\n",
    "    hr.append(x+1)\n",
    "df['hr']=hr\n",
    "\n",
    "# mnth = []\n",
    "# for x in range(0,12):\n",
    "#     mnth.append(x+1)\n",
    "# df['mnth']=mnth"
   ]
  },
  {
   "cell_type": "code",
   "execution_count": 224,
   "metadata": {},
   "outputs": [],
   "source": [
    "df['hr_sin'] = np.sin(df.hr*(2.*np.pi/24))\n",
    "df['hr_cos'] = np.cos(df.hr*(2.*np.pi/24))\n"
   ]
  },
  {
   "cell_type": "code",
   "execution_count": 225,
   "metadata": {},
   "outputs": [],
   "source": [
    "import math\n",
    "\n",
    "def rotate(origin, point, angle):\n",
    "    \"\"\"\n",
    "    Rotate a point counterclockwise by a given angle around a given origin.\n",
    "\n",
    "    The angle should be given in radians.\n",
    "    \"\"\"\n",
    "    ox, oy = origin\n",
    "    px, py = point\n",
    "\n",
    "    qx = ox + math.cos(angle) * (px - ox) - math.sin(angle) * (py - oy)\n",
    "    qy = oy + math.sin(angle) * (px - ox) + math.cos(angle) * (py - oy)\n",
    "    return qx, qy"
   ]
  },
  {
   "cell_type": "code",
   "execution_count": 226,
   "metadata": {},
   "outputs": [
    {
     "name": "stdout",
     "output_type": "stream",
     "text": [
      "Minute 31\n",
      "Hour 21\n",
      "second 11\n"
     ]
    }
   ],
   "source": [
    "import datetime\n",
    "now = datetime.datetime.now()\n",
    "print('Minute', now.minute)\n",
    "print('Hour', now.hour)\n",
    "print('second', now.second)"
   ]
  },
  {
   "cell_type": "code",
   "execution_count": 227,
   "metadata": {},
   "outputs": [],
   "source": [
    "minute_hand = now.minute * 6"
   ]
  },
  {
   "cell_type": "code",
   "execution_count": 228,
   "metadata": {},
   "outputs": [],
   "source": [
    "minute_hand_opposite = (now.minute+30) * 6"
   ]
  },
  {
   "cell_type": "code",
   "execution_count": 229,
   "metadata": {},
   "outputs": [],
   "source": [
    "import time\n",
    "t = time.strptime(str(now.hour), \"%H\")\n",
    "timevalue_12hour = time.strftime( \"%I\", t )"
   ]
  },
  {
   "cell_type": "code",
   "execution_count": 230,
   "metadata": {},
   "outputs": [],
   "source": [
    "hour_hand = (int(timevalue_12hour)*60+now.minute)*.5"
   ]
  },
  {
   "cell_type": "code",
   "execution_count": 231,
   "metadata": {},
   "outputs": [],
   "source": [
    "hour_hand_opposite = ((int(timevalue_12hour)*60+now.minute)+360)*.5"
   ]
  },
  {
   "cell_type": "code",
   "execution_count": 232,
   "metadata": {},
   "outputs": [],
   "source": [
    "seconds_hand = now.second * 6"
   ]
  },
  {
   "cell_type": "code",
   "execution_count": 233,
   "metadata": {},
   "outputs": [],
   "source": [
    "seconds_hand_opposite = (now.second+30) * 6"
   ]
  },
  {
   "cell_type": "code",
   "execution_count": 234,
   "metadata": {},
   "outputs": [],
   "source": [
    "pointhour = (.75, 0)\n",
    "pointminute = (1, 0)\n",
    "pointsecond = (.80, 0)\n",
    "origin = (0, 0)\n",
    "pointopposite = (.2,0)\n"
   ]
  },
  {
   "cell_type": "code",
   "execution_count": 235,
   "metadata": {},
   "outputs": [],
   "source": [
    "xm, ym = rotate(origin, pointminute, math.radians(minute_hand))"
   ]
  },
  {
   "cell_type": "code",
   "execution_count": 236,
   "metadata": {},
   "outputs": [],
   "source": [
    "xmo, ymo = rotate(origin, pointopposite, math.radians(minute_hand_opposite))"
   ]
  },
  {
   "cell_type": "code",
   "execution_count": null,
   "metadata": {},
   "outputs": [],
   "source": []
  },
  {
   "cell_type": "code",
   "execution_count": 237,
   "metadata": {},
   "outputs": [],
   "source": [
    "xh, yh = rotate(origin, pointhour, math.radians(hour_hand))"
   ]
  },
  {
   "cell_type": "code",
   "execution_count": 238,
   "metadata": {},
   "outputs": [],
   "source": [
    "xho, yho = rotate(origin, pointopposite, math.radians(hour_hand_opposite))"
   ]
  },
  {
   "cell_type": "code",
   "execution_count": 239,
   "metadata": {},
   "outputs": [],
   "source": [
    "xs, ys = rotate(origin, pointsecond, math.radians(seconds_hand))"
   ]
  },
  {
   "cell_type": "code",
   "execution_count": 240,
   "metadata": {},
   "outputs": [],
   "source": [
    "xso, yso = rotate(origin, pointopposite, math.radians(seconds_hand_opposite))"
   ]
  },
  {
   "cell_type": "code",
   "execution_count": 241,
   "metadata": {},
   "outputs": [
    {
     "data": {
      "image/png": "[encoded data removed]",
      "text/plain": [
       "<Figure size 432x288 with 1 Axes>"
      ]
     },
     "metadata": {
      "image/png": {
       "height": 231,
       "width": 390
      },
      "needs_background": "light"
     },
     "output_type": "display_data"
    }
   ],
   "source": [
    "# https://stackoverflow.com/questions/23345565/is-it-possible-to-control-matplotlib-marker-orientation\n",
    "import matplotlib.pyplot as plt\n",
    "import matplotlib as mpl\n",
    "\n",
    "fig, ax = plt.subplots()\n",
    "\n",
    "#ax.add_patch(plt.Circle((0, 0), 1.05, fill=None, ec='k', lw=5))\n",
    "\n",
    "for i in range(1,24,2):\n",
    "    angle = (np.array(np.linspace(15,360,24))[i])\n",
    "    a1, a2  = (df['hr_sin'][i],df['hr_cos'][i])\n",
    "    \n",
    "    t = mpl.markers.MarkerStyle(marker='|')\n",
    "    t._transform = t.get_transform().rotate_deg(-angle)\n",
    "    plt.scatter((a1*.92), (a2*.92), marker=t, s=300, c='k')\n",
    "    \n",
    "for i in range(1,61):\n",
    "    angle = (np.array(np.linspace(0,360,61))[i])\n",
    "    a1, a2  = (np.sin(i*2.*np.pi/60)),np.cos(i*(2.*np.pi/60))\n",
    "    \n",
    "    t = mpl.markers.MarkerStyle(marker='|')\n",
    "    t._transform = t.get_transform().rotate_deg(-angle)\n",
    "    plt.scatter((a1*.98), (a2*.98), marker=t, s=80, c='k', lw=3)\n",
    "    \n",
    "# for i, txt in enumerate(hr):\n",
    "#     plt.annotate(txt, (df['hr_sin'][i], df['hr_cos'][i]), (df['hr_sin'][i]*1.15, df['hr_cos'][i]*1.15),   # fraction, fraction\n",
    "#             horizontalalignment='center',\n",
    "#             verticalalignment='center')\n",
    "\n",
    "# ax.plot((df['hr_sin'][2]*.9, df['hr_sin'][2]*-.15),(df['hr_cos'][2]*.9, df['hr_cos'][2]*-.15), lw =5, c='black')\n",
    "\n",
    "ax.plot((ym, 0),(xm, 0), lw =5, c='black')\n",
    "ax.plot((ymo, 0),(xmo, 0), lw =5, c='black')\n",
    "# ax.plot((0, 0),(0.8, 0), lw =5, c='black')\n",
    "ax.plot((yh, 0),(xh,0), lw =5, c='black')\n",
    "ax.plot((yho, 0),(xho,0), lw =5, c='black')\n",
    "ax.scatter(0,0)\n",
    "\n",
    "\n",
    "# # # ax.plot((np.sin(5)*.7,(np.sin(5)*-.2),(np.cos(5)*.7),(np.cos(5)*-.2), lw =5, c='black')\n",
    "\n",
    "ax.plot((ys, 0),(xs,0), lw =3, marker='o',c='red', markevery=-1, markersize=12)\n",
    "ax.plot((yso, 0),(xso,0), lw =3,c='red')\n",
    "\n",
    "#Use adjustable='box-forced' to make the plot area square-shaped as well.\n",
    "ax.set_aspect('equal', adjustable='datalim')\n",
    "ax.plot()   #Causes an autoscale update.\n",
    "plt.axis('off')\n",
    "plt.show()"
   ]
  },
  {
   "cell_type": "code",
   "execution_count": null,
   "metadata": {},
   "outputs": [],
   "source": []
  },
  {
   "cell_type": "code",
   "execution_count": null,
   "metadata": {},
   "outputs": [],
   "source": []
  },
  {
   "cell_type": "code",
   "execution_count": null,
   "metadata": {},
   "outputs": [],
   "source": []
  }
 ],
 "metadata": {
  "hide_input": false,
  "kernelspec": {
   "display_name": "Python 3",
   "language": "python",
   "name": "python3"
  },
  "language_info": {
   "codemirror_mode": {
    "name": "ipython",
    "version": 3
   },
   "file_extension": ".py",
   "mimetype": "text/x-python",
   "name": "python",
   "nbconvert_exporter": "python",
   "pygments_lexer": "ipython3",
   "version": "3.6.8"
  },
  "toc": {
   "nav_menu": {},
   "number_sections": true,
   "sideBar": true,
   "skip_h1_title": true,
   "title_cell": "Table of Contents",
   "title_sidebar": "Contents",
   "toc_cell": true,
   "toc_position": {},
   "toc_section_display": true,
   "toc_window_display": false
  }
 },
 "nbformat": 4,
 "nbformat_minor": 2
}
