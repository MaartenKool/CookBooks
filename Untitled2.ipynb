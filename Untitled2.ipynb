{
 "cells": [
  {
   "cell_type": "markdown",
   "metadata": {
    "toc": true
   },
   "source": [
    "<h1>Table of Contents<span class=\"tocSkip\"></span></h1>\n",
    "<div class=\"toc\"><ul class=\"toc-item\"><li><ul class=\"toc-item\"><li><ul class=\"toc-item\"><li><span><a href=\"#PyMC3\" data-toc-modified-id=\"PyMC3-0.0.1\"><span class=\"toc-item-num\">0.0.1&nbsp;&nbsp;</span>PyMC3</a></span></li></ul></li></ul></li><li><span><a href=\"#Monte-Carlo\" data-toc-modified-id=\"Monte-Carlo-1\"><span class=\"toc-item-num\">1&nbsp;&nbsp;</span>Monte Carlo</a></span><ul class=\"toc-item\"><li><span><a href=\"#Method\" data-toc-modified-id=\"Method-1.1\"><span class=\"toc-item-num\">1.1&nbsp;&nbsp;</span>Method</a></span></li><li><span><a href=\"#Simulation\" data-toc-modified-id=\"Simulation-1.2\"><span class=\"toc-item-num\">1.2&nbsp;&nbsp;</span>Simulation</a></span></li></ul></li><li><span><a href=\"#Markov-Chain\" data-toc-modified-id=\"Markov-Chain-2\"><span class=\"toc-item-num\">2&nbsp;&nbsp;</span>Markov Chain</a></span></li></ul></div>"
   ]
  },
  {
   "cell_type": "markdown",
   "metadata": {},
   "source": [
    "#### PyMC3\n",
    "\n",
    "Monte Carlo Markov Chain Bayesian modeling...very confusing. To understand what it is about the union needs to be peeled layer by layer.\n",
    "\n",
    "## Monte Carlo\n",
    "### Method\n",
    "### Simulation\n",
    "\n",
    "## Markov Chain\n",
    "\n",
    "A discrete-time Markov chain is a sequence of random variables X1, X2, X3, … that satisfy the Markov property — the probability of moving from the current state to the next state depends solely on the present state. In other words completely independent.\n",
    "\n",
    "A simple example would be weather, weather transitions and the associated probability in time:\n",
    "\n",
    "<img src=\"https://github.com/MaartenKool/CookBooks-Sources/blob/master/MarkChainGraph.png?raw=true\" width=\"600\" height=\"300\" align=\"MIDDLE\"/>\n",
    "\n",
    "Weather can have 3 states: Sunny, Rainy and Snowy, at each time interval there is a probability, chance, associated with the transition to the next state. I.e. 0.8 it will remain sunny, 0.01 it will snow and 0.19 it will rain. This may also be presented in a so-called transition matrix.\n",
    "\n",
    "<img src=\"https://github.com/MaartenKool/CookBooks-Sources/blob/master/MarkChainTransMatr.png?raw=true\" width=\"400\" height=\"200\" align=\"MIDDLE\"/>\n",
    "\n",
    "he transition matrix is the standard way of representing Markov chains \n",
    "\n",
    "Markov chains are important mathematical tools that effectively aid the simplification of predicting stochastic processes by viewing the future as independent of the past, given the present state of the process. \n",
    "\n",
    "\n",
    "\n",
    "\n",
    "<img src=\"https://github.com/MaartenKool/CookBooks-Sources/blob/master/MarkChainTransMatr.png?raw=true\" width=\"600\" height=\"300\" align=\"MIDDLE\"/>\n",
    "\n",
    "\n",
    "https://medium.com/@__amol__/markov-chains-with-python-1109663f3678 "
   ]
  },
  {
   "cell_type": "code",
   "execution_count": null,
   "metadata": {},
   "outputs": [],
   "source": []
  }
 ],
 "metadata": {
  "hide_input": false,
  "kernelspec": {
   "display_name": "Python 3",
   "language": "python",
   "name": "python3"
  },
  "toc": {
   "nav_menu": {},
   "number_sections": true,
   "sideBar": true,
   "skip_h1_title": true,
   "title_cell": "Table of Contents",
   "title_sidebar": "Contents",
   "toc_cell": true,
   "toc_position": {},
   "toc_section_display": true,
   "toc_window_display": true
  }
 },
 "nbformat": 4,
 "nbformat_minor": 2
}
