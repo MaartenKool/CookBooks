{
 "cells": [
  {
   "cell_type": "markdown",
   "metadata": {
    "toc": true
   },
   "source": [
    "<h1>Table of Contents<span class=\"tocSkip\"></span></h1>\n",
    "<div class=\"toc\"><ul class=\"toc-item\"></ul></div>"
   ]
  },
  {
   "cell_type": "code",
   "execution_count": 227,
   "metadata": {},
   "outputs": [],
   "source": [
    "import re\n",
    "import collections as coll\n"
   ]
  },
  {
   "cell_type": "code",
   "execution_count": 230,
   "metadata": {},
   "outputs": [],
   "source": [
    "text = ['een', 'twee','twee', 'drie','drie','drie','vier', 'vier','vier','vier','vijf','vijf','vijf','vijf','vijf']"
   ]
  },
  {
   "cell_type": "code",
   "execution_count": 231,
   "metadata": {},
   "outputs": [
    {
     "data": {
      "text/plain": [
       "['een', 'twee', 'drie', 'vier', 'vijf']"
      ]
     },
     "execution_count": 231,
     "metadata": {},
     "output_type": "execute_result"
    }
   ],
   "source": [
    "cnt = coll.Counter()\n",
    "for word in text:\n",
    "    cnt[word] += 1\n",
    "list(cnt.keys())"
   ]
  },
  {
   "cell_type": "code",
   "execution_count": 234,
   "metadata": {},
   "outputs": [
    {
     "data": {
      "text/plain": [
       "['drie', 'een', 'twee', 'vier', 'vijf']"
      ]
     },
     "execution_count": 234,
     "metadata": {},
     "output_type": "execute_result"
    }
   ],
   "source": [
    "sorted(cnt)"
   ]
  },
  {
   "cell_type": "code",
   "execution_count": 235,
   "metadata": {},
   "outputs": [
    {
     "data": {
      "text/plain": [
       "dict_keys(['een', 'twee', 'drie', 'vier', 'vijf'])"
      ]
     },
     "execution_count": 235,
     "metadata": {},
     "output_type": "execute_result"
    }
   ],
   "source": [
    "cnt.keys()"
   ]
  },
  {
   "cell_type": "code",
   "execution_count": 236,
   "metadata": {},
   "outputs": [],
   "source": [
    "from random import sample"
   ]
  },
  {
   "cell_type": "code",
   "execution_count": 282,
   "metadata": {},
   "outputs": [
    {
     "data": {
      "text/plain": [
       "['drie', 'een', 'twee', 'vier', 'vijf']"
      ]
     },
     "execution_count": 282,
     "metadata": {},
     "output_type": "execute_result"
    }
   ],
   "source": [
    "l=sorted(cnt)\n",
    "l"
   ]
  },
  {
   "cell_type": "code",
   "execution_count": 283,
   "metadata": {},
   "outputs": [
    {
     "data": {
      "text/plain": [
       "['vier', 'een', 'twee', 'vijf', 'drie']"
      ]
     },
     "execution_count": 283,
     "metadata": {},
     "output_type": "execute_result"
    }
   ],
   "source": [
    "s=sample(l,len(l))\n",
    "s"
   ]
  },
  {
   "cell_type": "code",
   "execution_count": 284,
   "metadata": {},
   "outputs": [
    {
     "data": {
      "text/plain": [
       "{'drie': 'vier', 'een': 'een', 'twee': 'twee', 'vier': 'vijf', 'vijf': 'drie'}"
      ]
     },
     "execution_count": 284,
     "metadata": {},
     "output_type": "execute_result"
    }
   ],
   "source": [
    "d=dict(zip(l,s))\n",
    "d\n",
    "        "
   ]
  },
  {
   "cell_type": "code",
   "execution_count": 285,
   "metadata": {},
   "outputs": [],
   "source": [
    "r_text = [x if x not in d else d[x] for x in text]"
   ]
  },
  {
   "cell_type": "code",
   "execution_count": 286,
   "metadata": {},
   "outputs": [
    {
     "data": {
      "text/plain": [
       "['een',\n",
       " 'twee',\n",
       " 'twee',\n",
       " 'vier',\n",
       " 'vier',\n",
       " 'vier',\n",
       " 'vijf',\n",
       " 'vijf',\n",
       " 'vijf',\n",
       " 'vijf',\n",
       " 'drie',\n",
       " 'drie',\n",
       " 'drie',\n",
       " 'drie',\n",
       " 'drie']"
      ]
     },
     "execution_count": 286,
     "metadata": {},
     "output_type": "execute_result"
    }
   ],
   "source": [
    "r_text"
   ]
  },
  {
   "cell_type": "code",
   "execution_count": 298,
   "metadata": {},
   "outputs": [
    {
     "ename": "KeyError",
     "evalue": "'zes'",
     "output_type": "error",
     "traceback": [
      "\u001b[0;31m---------------------------------------------------------------------------\u001b[0m",
      "\u001b[0;31mKeyError\u001b[0m                                  Traceback (most recent call last)",
      "\u001b[0;32m<ipython-input-298-41571c0690d0>\u001b[0m in \u001b[0;36m<module>\u001b[0;34m\u001b[0m\n\u001b[0;32m----> 1\u001b[0;31m \u001b[0;34m[\u001b[0m\u001b[0md\u001b[0m\u001b[0;34m[\u001b[0m\u001b[0mx\u001b[0m\u001b[0;34m]\u001b[0m \u001b[0;32mfor\u001b[0m \u001b[0mx\u001b[0m \u001b[0;32min\u001b[0m \u001b[0mt\u001b[0m\u001b[0;34m.\u001b[0m\u001b[0msplit\u001b[0m\u001b[0;34m(\u001b[0m\u001b[0;34m)\u001b[0m\u001b[0;34m]\u001b[0m\u001b[0;34m\u001b[0m\u001b[0;34m\u001b[0m\u001b[0m\n\u001b[0m",
      "\u001b[0;32m<ipython-input-298-41571c0690d0>\u001b[0m in \u001b[0;36m<listcomp>\u001b[0;34m(.0)\u001b[0m\n\u001b[0;32m----> 1\u001b[0;31m \u001b[0;34m[\u001b[0m\u001b[0md\u001b[0m\u001b[0;34m[\u001b[0m\u001b[0mx\u001b[0m\u001b[0;34m]\u001b[0m \u001b[0;32mfor\u001b[0m \u001b[0mx\u001b[0m \u001b[0;32min\u001b[0m \u001b[0mt\u001b[0m\u001b[0;34m.\u001b[0m\u001b[0msplit\u001b[0m\u001b[0;34m(\u001b[0m\u001b[0;34m)\u001b[0m\u001b[0;34m]\u001b[0m\u001b[0;34m\u001b[0m\u001b[0;34m\u001b[0m\u001b[0m\n\u001b[0m",
      "\u001b[0;31mKeyError\u001b[0m: 'zes'"
     ]
    }
   ],
   "source": [
    "[d[x] for x in t.split()]"
   ]
  },
  {
   "cell_type": "code",
   "execution_count": 299,
   "metadata": {},
   "outputs": [
    {
     "data": {
      "text/plain": [
       "['een',\n",
       " 'twee',\n",
       " 'twee',\n",
       " 'vier',\n",
       " 'vier',\n",
       " 'vier',\n",
       " 'vijf',\n",
       " 'vijf',\n",
       " 'vijf',\n",
       " 'vijf',\n",
       " 'zes',\n",
       " 'zes',\n",
       " 'zes',\n",
       " 'zes',\n",
       " 'zes',\n",
       " 'zes']"
      ]
     },
     "execution_count": 299,
     "metadata": {},
     "output_type": "execute_result"
    }
   ],
   "source": [
    "[x if x not in d else d[x] for x in t.split()]"
   ]
  },
  {
   "cell_type": "code",
   "execution_count": 296,
   "metadata": {},
   "outputs": [],
   "source": [
    "t='een twee twee drie drie drie vier vier vier vier zes zes zes zes zes zes'"
   ]
  },
  {
   "cell_type": "code",
   "execution_count": 295,
   "metadata": {},
   "outputs": [
    {
     "data": {
      "text/plain": [
       "['een',\n",
       " 'twee',\n",
       " 'twee',\n",
       " 'drie',\n",
       " 'drie',\n",
       " 'drie',\n",
       " 'vier',\n",
       " 'vier',\n",
       " 'vier',\n",
       " 'vier',\n",
       " 'zes',\n",
       " 'zes',\n",
       " 'zes',\n",
       " 'zes',\n",
       " 'zes',\n",
       " 'zes']"
      ]
     },
     "execution_count": 295,
     "metadata": {},
     "output_type": "execute_result"
    }
   ],
   "source": [
    "t.split()"
   ]
  },
  {
   "cell_type": "code",
   "execution_count": 300,
   "metadata": {},
   "outputs": [],
   "source": [
    "t='Van Velzen is een stoere vent met dito tatoeages, die openhartig vertelt. Veel antwoorden begint hij bijna verontschuldigend met: ‘eerlijk gezegd’. “Achteraf denk ik dat mentale begeleiding in mijn Manchester-tijd goed was geweest. Om me te helpen focussen op bepaalde doelen en het had de klappen die ik op Twitter kreeg misschien gedempt. Maar het is nooit aangeboden en ik heb er zelf niet om gevraagd. Ik dacht toen, net als de meeste mensen om me heen, dat er iets mis was met je als je naar een sportpsycholoog ging. Voetbal is een machowereld, waarin mentale gezondheid nog het stigma heeft van zwakte, stelt Vana Hutter, docent sportpsychologie aan de Vrije Universiteit. Zij coördineert ‘Flame’ (Flourishing in and beyond the game), een Europees wetenschappelijk onderzoek naar de sociaal-emotionele ontwikkeling van spelers in de jeugdopleidingen van betaald voetbal organisaties. “We moeten ervoor zorgen dat deze kinderen klaar zijn voor hun volwassen leven, ongeacht of ze de nieuwe Messi worden of niet.'"
   ]
  },
  {
   "cell_type": "code",
   "execution_count": 302,
   "metadata": {},
   "outputs": [
    {
     "data": {
      "text/plain": [
       "['Van',\n",
       " 'Velzen',\n",
       " 'is',\n",
       " 'een',\n",
       " 'stoere',\n",
       " 'vent',\n",
       " 'met',\n",
       " 'dito',\n",
       " 'tatoeages,',\n",
       " 'die',\n",
       " 'openhartig',\n",
       " 'vertelt.',\n",
       " 'Veel',\n",
       " 'antwoorden',\n",
       " 'begint',\n",
       " 'hij',\n",
       " 'bijna',\n",
       " 'verontschuldigend',\n",
       " 'met:',\n",
       " '‘eerlijk',\n",
       " 'gezegd’.',\n",
       " '“Achteraf',\n",
       " 'denk',\n",
       " 'ik',\n",
       " 'dat',\n",
       " 'mentale',\n",
       " 'begeleiding',\n",
       " 'in',\n",
       " 'mijn',\n",
       " 'Manchester-tijd',\n",
       " 'goed',\n",
       " 'was',\n",
       " 'geweest.',\n",
       " 'Om',\n",
       " 'me',\n",
       " 'te',\n",
       " 'helpen',\n",
       " 'focussen',\n",
       " 'op',\n",
       " 'bepaalde',\n",
       " 'doelen',\n",
       " 'en',\n",
       " 'het',\n",
       " 'had',\n",
       " 'de',\n",
       " 'klappen',\n",
       " 'Twitter',\n",
       " 'kreeg',\n",
       " 'misschien',\n",
       " 'gedempt.',\n",
       " 'Maar',\n",
       " 'nooit',\n",
       " 'aangeboden',\n",
       " 'heb',\n",
       " 'er',\n",
       " 'zelf',\n",
       " 'niet',\n",
       " 'om',\n",
       " 'gevraagd.',\n",
       " 'Ik',\n",
       " 'dacht',\n",
       " 'toen,',\n",
       " 'net',\n",
       " 'als',\n",
       " 'meeste',\n",
       " 'mensen',\n",
       " 'heen,',\n",
       " 'iets',\n",
       " 'mis',\n",
       " 'je',\n",
       " 'naar',\n",
       " 'sportpsycholoog',\n",
       " 'ging.',\n",
       " 'Voetbal',\n",
       " 'machowereld,',\n",
       " 'waarin',\n",
       " 'gezondheid',\n",
       " 'nog',\n",
       " 'stigma',\n",
       " 'heeft',\n",
       " 'van',\n",
       " 'zwakte,',\n",
       " 'stelt',\n",
       " 'Vana',\n",
       " 'Hutter,',\n",
       " 'docent',\n",
       " 'sportpsychologie',\n",
       " 'aan',\n",
       " 'Vrije',\n",
       " 'Universiteit.',\n",
       " 'Zij',\n",
       " 'coördineert',\n",
       " '‘Flame’',\n",
       " '(Flourishing',\n",
       " 'and',\n",
       " 'beyond',\n",
       " 'the',\n",
       " 'game),',\n",
       " 'Europees',\n",
       " 'wetenschappelijk',\n",
       " 'onderzoek',\n",
       " 'sociaal-emotionele',\n",
       " 'ontwikkeling',\n",
       " 'spelers',\n",
       " 'jeugdopleidingen',\n",
       " 'betaald',\n",
       " 'voetbal',\n",
       " 'organisaties.',\n",
       " '“We',\n",
       " 'moeten',\n",
       " 'ervoor',\n",
       " 'zorgen',\n",
       " 'deze',\n",
       " 'kinderen',\n",
       " 'klaar',\n",
       " 'zijn',\n",
       " 'voor',\n",
       " 'hun',\n",
       " 'volwassen',\n",
       " 'leven,',\n",
       " 'ongeacht',\n",
       " 'of',\n",
       " 'ze',\n",
       " 'nieuwe',\n",
       " 'Messi',\n",
       " 'worden',\n",
       " 'niet.']"
      ]
     },
     "execution_count": 302,
     "metadata": {},
     "output_type": "execute_result"
    }
   ],
   "source": [
    "cnt = coll.Counter()\n",
    "for word in t.split():\n",
    "    cnt[word] += 1\n",
    "list(cnt.keys())"
   ]
  },
  {
   "cell_type": "code",
   "execution_count": 303,
   "metadata": {},
   "outputs": [
    {
     "data": {
      "text/plain": [
       "['(Flourishing',\n",
       " 'Europees',\n",
       " 'Hutter,',\n",
       " 'Ik',\n",
       " 'Maar',\n",
       " 'Manchester-tijd',\n",
       " 'Messi',\n",
       " 'Om',\n",
       " 'Twitter',\n",
       " 'Universiteit.',\n",
       " 'Van',\n",
       " 'Vana',\n",
       " 'Veel',\n",
       " 'Velzen',\n",
       " 'Voetbal',\n",
       " 'Vrije',\n",
       " 'Zij',\n",
       " 'aan',\n",
       " 'aangeboden',\n",
       " 'als',\n",
       " 'and',\n",
       " 'antwoorden',\n",
       " 'begeleiding',\n",
       " 'begint',\n",
       " 'bepaalde',\n",
       " 'betaald',\n",
       " 'beyond',\n",
       " 'bijna',\n",
       " 'coördineert',\n",
       " 'dacht',\n",
       " 'dat',\n",
       " 'de',\n",
       " 'denk',\n",
       " 'deze',\n",
       " 'die',\n",
       " 'dito',\n",
       " 'docent',\n",
       " 'doelen',\n",
       " 'een',\n",
       " 'en',\n",
       " 'er',\n",
       " 'ervoor',\n",
       " 'focussen',\n",
       " 'game),',\n",
       " 'gedempt.',\n",
       " 'gevraagd.',\n",
       " 'geweest.',\n",
       " 'gezegd’.',\n",
       " 'gezondheid',\n",
       " 'ging.',\n",
       " 'goed',\n",
       " 'had',\n",
       " 'heb',\n",
       " 'heeft',\n",
       " 'heen,',\n",
       " 'helpen',\n",
       " 'het',\n",
       " 'hij',\n",
       " 'hun',\n",
       " 'iets',\n",
       " 'ik',\n",
       " 'in',\n",
       " 'is',\n",
       " 'je',\n",
       " 'jeugdopleidingen',\n",
       " 'kinderen',\n",
       " 'klaar',\n",
       " 'klappen',\n",
       " 'kreeg',\n",
       " 'leven,',\n",
       " 'machowereld,',\n",
       " 'me',\n",
       " 'meeste',\n",
       " 'mensen',\n",
       " 'mentale',\n",
       " 'met',\n",
       " 'met:',\n",
       " 'mijn',\n",
       " 'mis',\n",
       " 'misschien',\n",
       " 'moeten',\n",
       " 'naar',\n",
       " 'net',\n",
       " 'niet',\n",
       " 'niet.',\n",
       " 'nieuwe',\n",
       " 'nog',\n",
       " 'nooit',\n",
       " 'of',\n",
       " 'om',\n",
       " 'onderzoek',\n",
       " 'ongeacht',\n",
       " 'ontwikkeling',\n",
       " 'op',\n",
       " 'openhartig',\n",
       " 'organisaties.',\n",
       " 'sociaal-emotionele',\n",
       " 'spelers',\n",
       " 'sportpsychologie',\n",
       " 'sportpsycholoog',\n",
       " 'stelt',\n",
       " 'stigma',\n",
       " 'stoere',\n",
       " 'tatoeages,',\n",
       " 'te',\n",
       " 'the',\n",
       " 'toen,',\n",
       " 'van',\n",
       " 'vent',\n",
       " 'verontschuldigend',\n",
       " 'vertelt.',\n",
       " 'voetbal',\n",
       " 'volwassen',\n",
       " 'voor',\n",
       " 'waarin',\n",
       " 'was',\n",
       " 'wetenschappelijk',\n",
       " 'worden',\n",
       " 'ze',\n",
       " 'zelf',\n",
       " 'zijn',\n",
       " 'zorgen',\n",
       " 'zwakte,',\n",
       " '‘Flame’',\n",
       " '‘eerlijk',\n",
       " '“Achteraf',\n",
       " '“We']"
      ]
     },
     "execution_count": 303,
     "metadata": {},
     "output_type": "execute_result"
    }
   ],
   "source": [
    "l=sorted(cnt)\n",
    "l"
   ]
  },
  {
   "cell_type": "code",
   "execution_count": 312,
   "metadata": {},
   "outputs": [],
   "source": [
    "s=l.copy()#sample(l,len(l))\n",
    "random.shuffle(s)"
   ]
  },
  {
   "cell_type": "code",
   "execution_count": 313,
   "metadata": {},
   "outputs": [
    {
     "data": {
      "text/plain": [
       "{'(Flourishing': 'gevraagd.',\n",
       " 'Europees': 'zwakte,',\n",
       " 'Hutter,': 'stelt',\n",
       " 'Ik': 'denk',\n",
       " 'Maar': 'Vana',\n",
       " 'Manchester-tijd': 'of',\n",
       " 'Messi': 'gezegd’.',\n",
       " 'Om': 'gedempt.',\n",
       " 'Twitter': 'klappen',\n",
       " 'Universiteit.': 'niet.',\n",
       " 'Van': 'moeten',\n",
       " 'Vana': 'deze',\n",
       " 'Veel': 'was',\n",
       " 'Velzen': 'jeugdopleidingen',\n",
       " 'Voetbal': '“Achteraf',\n",
       " 'Vrije': 'om',\n",
       " 'Zij': 'Universiteit.',\n",
       " 'aan': 'zorgen',\n",
       " 'aangeboden': 'the',\n",
       " 'als': 'meeste',\n",
       " 'and': 'betaald',\n",
       " 'antwoorden': 'hun',\n",
       " 'begeleiding': 'als',\n",
       " 'begint': 'nieuwe',\n",
       " 'bepaalde': 'voor',\n",
       " 'betaald': 'het',\n",
       " 'beyond': 'van',\n",
       " 'bijna': 'gezondheid',\n",
       " 'coördineert': 'verontschuldigend',\n",
       " 'dacht': 'aangeboden',\n",
       " 'dat': 'naar',\n",
       " 'de': 'and',\n",
       " 'denk': 'mentale',\n",
       " 'deze': 'niet',\n",
       " 'die': 'Zij',\n",
       " 'dito': 'Ik',\n",
       " 'docent': 'ontwikkeling',\n",
       " 'doelen': 'bijna',\n",
       " 'een': 'Europees',\n",
       " 'en': 'heen,',\n",
       " 'er': 'mis',\n",
       " 'ervoor': 'ervoor',\n",
       " 'focussen': 'waarin',\n",
       " 'game),': 'begint',\n",
       " 'gedempt.': 'er',\n",
       " 'gevraagd.': 'heb',\n",
       " 'geweest.': 'worden',\n",
       " 'gezegd’.': 'Voetbal',\n",
       " 'gezondheid': 'coördineert',\n",
       " 'ging.': '“We',\n",
       " 'goed': 'iets',\n",
       " 'had': 'helpen',\n",
       " 'heb': 'volwassen',\n",
       " 'heeft': 'onderzoek',\n",
       " 'heen,': 'spelers',\n",
       " 'helpen': 'zijn',\n",
       " 'het': 'machowereld,',\n",
       " 'hij': 'de',\n",
       " 'hun': 'dat',\n",
       " 'iets': 'Van',\n",
       " 'ik': 'stoere',\n",
       " 'in': 'sportpsycholoog',\n",
       " 'is': 'klaar',\n",
       " 'je': '(Flourishing',\n",
       " 'jeugdopleidingen': 'op',\n",
       " 'kinderen': 'kreeg',\n",
       " 'klaar': 'aan',\n",
       " 'klappen': '‘Flame’',\n",
       " 'kreeg': 'Om',\n",
       " 'leven,': 'ongeacht',\n",
       " 'machowereld,': 'docent',\n",
       " 'me': 'te',\n",
       " 'meeste': 'doelen',\n",
       " 'mensen': 'Maar',\n",
       " 'mentale': 'game),',\n",
       " 'met': 'vertelt.',\n",
       " 'met:': 'leven,',\n",
       " 'mijn': 'die',\n",
       " 'mis': 'geweest.',\n",
       " 'misschien': 'vent',\n",
       " 'moeten': 'Manchester-tijd',\n",
       " 'naar': 'zelf',\n",
       " 'net': 'ging.',\n",
       " 'niet': 'Veel',\n",
       " 'niet.': 'Hutter,',\n",
       " 'nieuwe': 'Messi',\n",
       " 'nog': 'Twitter',\n",
       " 'nooit': 'ze',\n",
       " 'of': 'mensen',\n",
       " 'om': 'misschien',\n",
       " 'onderzoek': 'hij',\n",
       " 'ongeacht': 'sportpsychologie',\n",
       " 'ontwikkeling': 'kinderen',\n",
       " 'op': 'bepaalde',\n",
       " 'openhartig': 'Vrije',\n",
       " 'organisaties.': 'nog',\n",
       " 'sociaal-emotionele': 'in',\n",
       " 'spelers': 'ik',\n",
       " 'sportpsychologie': 'met',\n",
       " 'sportpsycholoog': 'dito',\n",
       " 'stelt': 'focussen',\n",
       " 'stigma': 'me',\n",
       " 'stoere': 'antwoorden',\n",
       " 'tatoeages,': 'mijn',\n",
       " 'te': 'begeleiding',\n",
       " 'the': 'en',\n",
       " 'toen,': 'voetbal',\n",
       " 'van': 'een',\n",
       " 'vent': 'net',\n",
       " 'verontschuldigend': 'goed',\n",
       " 'vertelt.': 'je',\n",
       " 'voetbal': 'organisaties.',\n",
       " 'volwassen': 'met:',\n",
       " 'voor': 'dacht',\n",
       " 'waarin': 'Velzen',\n",
       " 'was': '‘eerlijk',\n",
       " 'wetenschappelijk': 'wetenschappelijk',\n",
       " 'worden': 'stigma',\n",
       " 'ze': 'toen,',\n",
       " 'zelf': 'nooit',\n",
       " 'zijn': 'beyond',\n",
       " 'zorgen': 'tatoeages,',\n",
       " 'zwakte,': 'openhartig',\n",
       " '‘Flame’': 'is',\n",
       " '‘eerlijk': 'sociaal-emotionele',\n",
       " '“Achteraf': 'heeft',\n",
       " '“We': 'had'}"
      ]
     },
     "execution_count": 313,
     "metadata": {},
     "output_type": "execute_result"
    }
   ],
   "source": [
    "d=dict(zip(l,s))\n",
    "d"
   ]
  },
  {
   "cell_type": "code",
   "execution_count": 314,
   "metadata": {},
   "outputs": [],
   "source": [
    "r_t = [x if x not in d else d[x] for x in t.split()]"
   ]
  },
  {
   "cell_type": "code",
   "execution_count": 315,
   "metadata": {},
   "outputs": [
    {
     "data": {
      "text/plain": [
       "'moeten jeugdopleidingen klaar Europees antwoorden net vertelt. Ik mijn Zij Vrije je was hun nieuwe de gezondheid goed leven, sociaal-emotionele Voetbal heeft mentale stoere naar game), als sportpsycholoog die of iets ‘eerlijk worden gedempt. te begeleiding zijn waarin bepaalde voor bijna heen, machowereld, helpen and ‘Flame’ Zij stoere bepaalde klappen Om vent er Vana machowereld, klaar ze the heen, stoere volwassen mis nooit Veel misschien heb denk aangeboden voetbal ging. meeste and doelen Maar misschien te spelers naar mis Van geweest. ‘eerlijk vertelt. (Flourishing meeste (Flourishing zelf Europees dito “We “Achteraf klaar Europees docent Velzen game), coördineert Twitter machowereld, me onderzoek een openhartig focussen deze stelt ontwikkeling met zorgen and om niet. Universiteit. verontschuldigend is gevraagd. sportpsycholoog betaald van en begint Europees zwakte, wetenschappelijk hij zelf and in kinderen een ik sportpsycholoog and op een het organisaties. nog had Manchester-tijd ervoor tatoeages, naar niet kreeg aan beyond dacht dat met: ongeacht sportpsychologie mensen toen, and Messi gezegd’. stigma mensen Hutter,'"
      ]
     },
     "execution_count": 315,
     "metadata": {},
     "output_type": "execute_result"
    }
   ],
   "source": [
    "' '.join(r_t)"
   ]
  },
  {
   "cell_type": "code",
   "execution_count": 316,
   "metadata": {},
   "outputs": [
    {
     "data": {
      "text/plain": [
       "'Van Velzen is een stoere vent met dito tatoeages, die openhartig vertelt. Veel antwoorden begint hij bijna verontschuldigend met: ‘eerlijk gezegd’. “Achteraf denk ik dat mentale begeleiding in mijn Manchester-tijd goed was geweest. Om me te helpen focussen op bepaalde doelen en het had de klappen die ik op Twitter kreeg misschien gedempt. Maar het is nooit aangeboden en ik heb er zelf niet om gevraagd. Ik dacht toen, net als de meeste mensen om me heen, dat er iets mis was met je als je naar een sportpsycholoog ging. Voetbal is een machowereld, waarin mentale gezondheid nog het stigma heeft van zwakte, stelt Vana Hutter, docent sportpsychologie aan de Vrije Universiteit. Zij coördineert ‘Flame’ (Flourishing in and beyond the game), een Europees wetenschappelijk onderzoek naar de sociaal-emotionele ontwikkeling van spelers in de jeugdopleidingen van betaald voetbal organisaties. “We moeten ervoor zorgen dat deze kinderen klaar zijn voor hun volwassen leven, ongeacht of ze de nieuwe Messi worden of niet.'"
      ]
     },
     "execution_count": 316,
     "metadata": {},
     "output_type": "execute_result"
    }
   ],
   "source": [
    "t"
   ]
  },
  {
   "cell_type": "code",
   "execution_count": null,
   "metadata": {},
   "outputs": [],
   "source": []
  }
 ],
 "metadata": {
  "hide_input": false,
  "kernelspec": {
   "display_name": "Python 3",
   "language": "python",
   "name": "python3"
  },
  "language_info": {
   "codemirror_mode": {
    "name": "ipython",
    "version": 3
   },
   "file_extension": ".py",
   "mimetype": "text/x-python",
   "name": "python",
   "nbconvert_exporter": "python",
   "pygments_lexer": "ipython3",
   "version": "3.7.4"
  },
  "toc": {
   "base_numbering": 1,
   "nav_menu": {},
   "number_sections": true,
   "sideBar": true,
   "skip_h1_title": true,
   "title_cell": "Table of Contents",
   "title_sidebar": "Contents",
   "toc_cell": true,
   "toc_position": {},
   "toc_section_display": true,
   "toc_window_display": true
  },
  "varInspector": {
   "cols": {
    "lenName": 16,
    "lenType": 16,
    "lenVar": 40
   },
   "kernels_config": {
    "python": {
     "delete_cmd_postfix": "",
     "delete_cmd_prefix": "del ",
     "library": "var_list.py",
     "varRefreshCmd": "print(var_dic_list())"
    },
    "r": {
     "delete_cmd_postfix": ") ",
     "delete_cmd_prefix": "rm(",
     "library": "var_list.r",
     "varRefreshCmd": "cat(var_dic_list()) "
    }
   },
   "types_to_exclude": [
    "module",
    "function",
    "builtin_function_or_method",
    "instance",
    "_Feature"
   ],
   "window_display": false
  }
 },
 "nbformat": 4,
 "nbformat_minor": 2
}
