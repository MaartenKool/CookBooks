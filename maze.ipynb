{
 "cells": [
  {
   "cell_type": "markdown",
   "metadata": {
    "toc": true
   },
   "source": [
    "<h1>Table of Contents<span class=\"tocSkip\"></span></h1>\n",
    "<div class=\"toc\"><ul class=\"toc-item\"></ul></div>"
   ]
  },
  {
   "cell_type": "code",
   "execution_count": 4,
   "metadata": {},
   "outputs": [
    {
     "data": {
      "image/png": "[encoded data removed]",
      "text/plain": [
       "<Figure size 720x720 with 1 Axes>"
      ]
     },
     "metadata": {
      "image/png": {
       "height": 558,
       "width": 557
      }
     },
     "output_type": "display_data"
    }
   ],
   "source": [
    "import numpy\n",
    "from numpy.random import randint as rand\n",
    "import matplotlib.pyplot as pyplot\n",
    "\n",
    "def maze(width=40, height=40, complexity=1, density=1):\n",
    "    # Only odd shapes\n",
    "    shape = ((height // 2) * 2 + 1, (width // 2) * 2 + 1)\n",
    "    # Adjust complexity and density relative to maze size\n",
    "    complexity = int(complexity * (5 * (shape[0] + shape[1]))) # number of components\n",
    "    density    = int(density * ((shape[0] // 2) * (shape[1] // 2))) # size of components\n",
    "    # Build actual maze\n",
    "    Z = numpy.zeros(shape, dtype=bool)\n",
    "    # Fill borders\n",
    "    Z[0, :] = Z[-1, :] = 1\n",
    "    Z[:, 0] = Z[:, -1] = 1\n",
    "    # Make aisles\n",
    "    for i in range(density):\n",
    "        x, y = rand(0, shape[1] // 2) * 2, rand(0, shape[0] // 2) * 2 # pick a random position\n",
    "        Z[y, x] = 1\n",
    "        for j in range(complexity):\n",
    "            neighbours = []\n",
    "            if x > 1:             neighbours.append((y, x - 2))\n",
    "            if x < shape[1] - 2:  neighbours.append((y, x + 2))\n",
    "            if y > 1:             neighbours.append((y - 2, x))\n",
    "            if y < shape[0] - 2:  neighbours.append((y + 2, x))\n",
    "            if len(neighbours):\n",
    "                y_,x_ = neighbours[rand(0, len(neighbours) - 1)]\n",
    "                if Z[y_, x_] == 0:\n",
    "                    Z[y_, x_] = 1\n",
    "                    Z[y_ + (y - y_) // 2, x_ + (x - x_) // 2] = 1\n",
    "                    x, y = x_, y_\n",
    "    return Z\n",
    "\n",
    "pyplot.figure(figsize=(10, 10))\n",
    "pyplot.imshow(maze(100, 100, 2), cmap=pyplot.cm.binary, interpolation='nearest')\n",
    "pyplot.xticks([]), pyplot.yticks([])\n",
    "pyplot.show()"
   ]
  },
  {
   "cell_type": "code",
   "execution_count": 7,
   "metadata": {},
   "outputs": [
    {
     "name": "stdout",
     "output_type": "stream",
     "text": [
      "/Users/maartenk/Documents/git\r\n"
     ]
    }
   ],
   "source": [
    "!pwd"
   ]
  },
  {
   "cell_type": "code",
   "execution_count": 8,
   "metadata": {},
   "outputs": [
    {
     "name": "stdout",
     "output_type": "stream",
     "text": [
      "AccuracyAndUnbalance.ipynb\r\n",
      "Auto_Summary_Legal.ipynb\r\n",
      "CltAndLlnIllustration.ipynb\r\n",
      "CodeAlongRegressionStacker.ipynb\r\n",
      "CodeAlongRegressionStackerSolution.ipynb\r\n",
      "\u001b[34mCookBooks\u001b[m\u001b[m\r\n",
      "\u001b[34mDsMasterClass\u001b[m\u001b[m\r\n",
      "FrequencySummarizer.py\r\n",
      "GeoPandasNetherlands.ipynb\r\n",
      "ImputKnn.xls\r\n",
      "MarkdownCheatsheet.ipynb\r\n",
      "McMcInShort.ipynb\r\n",
      "MonteCarlo3 2.ipynb\r\n",
      "MonteCarlo3 3.ipynb\r\n",
      "MonteCarlo3 4.ipynb\r\n",
      "MonteCarlo3.ipynb\r\n",
      "MonteCarloSurface.ipynb\r\n",
      "MonteCarloSurface2.ipynb\r\n",
      "MyDataScienceCookBook3.ipynb\r\n",
      "MyDataScienceCookBookPart1.ipynb\r\n",
      "MyDataScienceCookBookPart2.ipynb\r\n",
      "MyDataScienceCookBookPart3.ipynb\r\n",
      "MyPythonCheatSheet.ipynb\r\n",
      "NlpSnippitsWIP.ipynb\r\n",
      "NoteOnStratification.ipynb\r\n",
      "Plotting.ipynb\r\n",
      "\u001b[34mProjects\u001b[m\u001b[m\r\n",
      "README.md\r\n",
      "RegressionWorkflowCookBook2.ipynb\r\n",
      "ReidQuote.jpg\r\n",
      "ShapesRoadshow-Copy1.ipynb\r\n",
      "ShapesRoadshow.ipynb\r\n",
      "ShapesRoadshow.ipynb copy\r\n",
      "SkLearnOverview.ipynb\r\n",
      "\u001b[34mTextSummary\u001b[m\u001b[m\r\n",
      "TimeSeriesWindMill.ipynb\r\n",
      "\u001b[34mUnsupervised\u001b[m\u001b[m\r\n",
      "Untitled.ipynb\r\n",
      "Untitled.ipynb copy\r\n",
      "Untitled1.ipynb\r\n",
      "Untitled2 2.ipynb\r\n",
      "Untitled2.ipynb\r\n",
      "Untitled3.ipynb\r\n",
      "Untitled4 2.ipynb\r\n",
      "Untitled4 3.ipynb\r\n",
      "Untitled4 4.ipynb\r\n",
      "Webscraping_Demo_DataScience.ipynb\r\n",
      "\u001b[34m__pycache__\u001b[m\u001b[m\r\n",
      "cyclical.ipynb\r\n",
      "multilabelcanvas.ipynb\r\n",
      "nltk_dict_example.ipynb\r\n",
      "shapes.xlsx\r\n",
      "tennis.xlsx\r\n",
      "tree.dot\r\n",
      "treetennis.gif\r\n",
      "treetennis.pdf\r\n",
      "treetennis.png\r\n"
     ]
    }
   ],
   "source": [
    "!ls"
   ]
  },
  {
   "cell_type": "code",
   "execution_count": 5,
   "metadata": {},
   "outputs": [
    {
     "name": "stdout",
     "output_type": "stream",
     "text": [
      "------------------------------------------------------------\n",
      "|       |     |       |       | |                       |   |\n",
      "| +-+-+ + +-+ +-+-+ +-+ +-+ + + + +-+ +-+ +-+-+-+-+-+-+ + +-+\n",
      "|   | | |   |     |     |   |   |   | |   |   | |     | |   |\n",
      "|-+-+ + + + +-+-+ + +-+-+ +-+-+ +-+ + +-+-+ + + + +-+ + +-+ +\n",
      "|     | | | | |   | |     |   | |   | |     | | | |   |     |\n",
      "| +-+ + +-+ + + +-+ + +-+-+ + +-+ +-+ + +-+-+ + + + +-+-+-+ +\n",
      "| |   |     | | |   |       |     | | | |   | |   |   |   | |\n",
      "| + +-+-+-+-+ + + +-+-+-+-+-+-+-+-+ + + +-+ + +-+-+-+ + + + +\n",
      "| |           | | |   |     |       | |   | |   |   | | |   |\n",
      "| +-+-+-+-+ +-+ + +-+ + + + +-+-+-+ + +-+ + +-+ + + + + +-+-+\n",
      "|     |     |   |   |   | |     |   | |   |   |   | | | |   |\n",
      "|-+-+-+ +-+ + +-+-+ + +-+ +-+-+ + + + + +-+ + +-+-+ + + + +-+\n",
      "|       |   | | |   |   | | |   | | |       |   |   |   |   |\n",
      "| +-+-+-+ +-+ + + +-+-+-+ + + +-+ +-+-+-+-+ +-+-+ +-+-+ +-+ +\n",
      "|   |     |   |   |       |       |     | | |     |   |     |\n",
      "| + +-+-+-+ +-+ +-+-+ +-+-+ +-+-+-+ +-+ + + + +-+-+ + +-+-+ +\n",
      "| |   |     | |       |   | | |     | | |   | |   | | |   | |\n",
      "| +-+ + +-+-+ +-+-+-+-+-+ + + + +-+-+ + +-+-+ + + + + + + +-+\n",
      "|   | |     |             |   | |     | |     | |   |   |   |\n",
      "|-+-+ +-+-+ + +-+-+ +-+ +-+-+ + +-+ +-+ + + +-+ +-+-+-+-+-+ +\n",
      "|         | |     |   | |     |   |     | | |       |   |   |\n",
      "| +-+-+ +-+ + +-+-+-+ +-+ +-+-+-+ + +-+-+ +-+ +-+-+-+ + + + +\n",
      "|     | |   | |     | |   | |     |   |       | |     |   | |\n",
      "| +-+ + + +-+-+ +-+ + + +-+ + +-+-+-+ +-+ +-+-+ + +-+ +-+-+-+\n",
      "|   | | |       | | | |   | | |     |   |     | |   | |     |\n",
      "|-+-+ +-+-+-+-+-+ + + +-+ + + +-+ + +-+ +-+-+ + +-+ +-+ +-+ +\n",
      "|     |         | | |   |   |   | |   | |   |   | |   | |   |\n",
      "| +-+-+ +-+ +-+ + + + + + +-+-+ + +-+ + + +-+-+ + +-+ + + +-+\n",
      "| |     | |   | | | | |   |   | | |   | | |     |   |   |   |\n",
      "| + +-+-+ +-+ + + + +-+-+-+ + + + +-+-+ + + +-+-+ + +-+-+-+ +\n",
      "| |     |   | |   |         |   | |     | | |     | |     | |\n",
      "| +-+-+ + + + + +-+-+-+-+-+-+-+-+ + +-+-+ + +-+ +-+ +-+ + + +\n",
      "| |     | | | | |     | |         | |       |   | |     | | |\n",
      "| + +-+-+ + + +-+ + + + + +-+ + +-+ + +-+-+-+ +-+ +-+-+-+ + +\n",
      "| | |     | |     | |   |   | | |   | | |     |   |     | | |\n",
      "| + + +-+ + +-+-+-+ +-+-+-+ + + + +-+ + + + +-+ +-+ + +-+ + +\n",
      "|   |   | | |     | |   |   | | | |   |   |   |     | |   | |\n",
      "| +-+-+ + +-+ +-+ + + + + +-+ +-+ + +-+-+-+-+ + +-+-+ + +-+ +\n",
      "| |   | |     |   |   | |   |   | |         | |     | | | | |\n",
      "| + + +-+-+-+-+ +-+-+-+ +-+ +-+ + + +-+-+-+ + +-+-+ + + + + +\n",
      "|   |           |     |   | | |   | |   |   |     | |     | |\n",
      "|-+-+ +-+-+-+-+-+ +-+ +-+ + + +-+-+-+ + + +-+ +-+ +-+-+-+-+ +\n",
      "|     |         | |       |     |     | | |   | |   |   |   |\n",
      "| +-+-+ +-+-+-+ + +-+-+-+ +-+-+ + +-+-+ + +-+ + +-+ + + + +-+\n",
      "| |     |   | | |   |   | |   | | |     |   |   |   | | |   |\n",
      "|-+ +-+-+ + + + +-+ + + + + +-+ + +-+ +-+-+ +-+-+ +-+ + +-+ +\n",
      "|   |     |   |   | | | | | |   |   |     | |   |   | |     |\n",
      "| +-+ +-+-+ +-+-+ + +-+ + + + +-+-+ +-+-+ + + + +-+ + +-+-+ +\n",
      "| |   | |   |     |   | |   |     |   | | |   |     | |   | |\n",
      "| +-+ + + +-+ +-+-+-+ + +-+ +-+-+ +-+ + + +-+-+-+-+ + + + + +\n",
      "| |   |   |   |       |         |   | | | |       | | | |   |\n",
      "| + +-+-+-+ +-+ +-+-+-+-+-+-+-+ +-+ + + + +-+-+ +-+ + + +-+-+\n",
      "| |     |   |     |         | |   |   |   |   |     | |     |\n",
      "| +-+ + + +-+-+-+ + +-+-+-+ + +-+ +-+-+ +-+ + +-+-+-+ +-+-+ +\n",
      "|   | | |         |       | |         |     |       | |     |\n",
      "| + + + +-+-+ +-+-+-+ +-+-+ + +-+-+-+-+-+-+-+-+-+-+ + +-+ +-+\n",
      "| | | |       |   |   |     | |   |       |   |   | |   |   |\n",
      "| + +-+-+-+-+-+ + + +-+ +-+-+-+ + + +-+ +-+ + + + + +-+ +-+ +\n",
      "| |             |     |         |     |     |   |       |   |\n",
      "|-+-+-+-+-+-+-+-+-+-+-+-+-+-+-+-+-+-+-+-+-+-+-+-+-+-+-+-+-+-+\n"
     ]
    }
   ],
   "source": [
    "# df_maze.py\n",
    "import random\n",
    "\n",
    "# Create a maze using the depth-first algorithm described at                    \n",
    "# https://scipython.com/blog/making-a-maze/                                     \n",
    "# Christian Hill, April 2017.\n",
    "\n",
    "class Cell:\n",
    "    \"\"\"A cell in the maze.\n",
    "\n",
    "    A maze \"Cell\" is a point in the grid which may be surrounded by walls to\n",
    "    the north, east, south or west.\n",
    "\n",
    "    \"\"\"\n",
    "\n",
    "    # A wall separates a pair of cells in the N-S or W-E directions.\n",
    "    wall_pairs = {'N': 'S', 'S': 'N', 'E': 'W', 'W': 'E'}\n",
    "\n",
    "    def __init__(self, x, y):\n",
    "        \"\"\"Initialize the cell at (x,y). At first it is surrounded by walls.\"\"\"\n",
    "\n",
    "        self.x, self.y = x, y\n",
    "        self.walls = {'N': True, 'S': True, 'E': True, 'W': True}\n",
    "\n",
    "    def has_all_walls(self):\n",
    "        \"\"\"Does this cell still have all its walls?\"\"\"\n",
    "\n",
    "        return all(self.walls.values())\n",
    "\n",
    "    def knock_down_wall(self, other, wall):\n",
    "        \"\"\"Knock down the wall between cells self and other.\"\"\"\n",
    "\n",
    "        self.walls[wall] = False\n",
    "        other.walls[Cell.wall_pairs[wall]] = False\n",
    "\n",
    "class Maze:\n",
    "    \"\"\"A Maze, represented as a grid of cells.\"\"\"\n",
    "\n",
    "    def __init__(self, nx, ny, ix=0, iy=0):\n",
    "        \"\"\"Initialize the maze grid.\n",
    "        The maze consists of nx x ny cells and will be constructed starting\n",
    "        at the cell indexed at (ix, iy).\n",
    "\n",
    "        \"\"\"\n",
    "\n",
    "        self.nx, self.ny = nx, ny\n",
    "        self.ix, self.iy = ix, iy\n",
    "        self.maze_map = [[Cell(x, y) for y in range(ny)] for x in range(nx)]\n",
    "\n",
    "    def cell_at(self, x, y):\n",
    "        \"\"\"Return the Cell object at (x,y).\"\"\"\n",
    "\n",
    "        return self.maze_map[x][y]\n",
    "\n",
    "    def __str__(self):\n",
    "        \"\"\"Return a (crude) string representation of the maze.\"\"\"\n",
    "\n",
    "        maze_rows = ['-' * nx*2]\n",
    "        for y in range(ny):\n",
    "            maze_row = ['|']\n",
    "            for x in range(nx):\n",
    "                if self.maze_map[x][y].walls['E']:\n",
    "                    maze_row.append(' |')\n",
    "                else:\n",
    "                    maze_row.append('  ')\n",
    "            maze_rows.append(''.join(maze_row))\n",
    "            maze_row = ['|']\n",
    "            for x in range(nx):\n",
    "                if self.maze_map[x][y].walls['S']:\n",
    "                    maze_row.append('-+')\n",
    "                else:\n",
    "                    maze_row.append(' +')\n",
    "            maze_rows.append(''.join(maze_row))\n",
    "        return '\\n'.join(maze_rows)\n",
    "\n",
    "    def write_svg(self, filename):\n",
    "        \"\"\"Write an SVG image of the maze to filename.\"\"\"\n",
    "\n",
    "        aspect_ratio = self.nx / self.ny\n",
    "        # Pad the maze all around by this amount.\n",
    "        padding = 10\n",
    "        # Height and width of the maze image (excluding padding), in pixels\n",
    "        height = 500\n",
    "        width = int(height * aspect_ratio)\n",
    "        # Scaling factors mapping maze coordinates to image coordinates\n",
    "        scy, scx = height / ny, width / nx\n",
    "\n",
    "        def write_wall(f, x1, y1, x2, y2):\n",
    "            \"\"\"Write a single wall to the SVG image file handle f.\"\"\"\n",
    "\n",
    "            print('<line x1=\"{}\" y1=\"{}\" x2=\"{}\" y2=\"{}\"/>'\n",
    "                                .format(x1, y1, x2, y2), file=f)\n",
    "\n",
    "        # Write the SVG image file for maze\n",
    "        with open(filename, 'w') as f:\n",
    "            # SVG preamble and styles.\n",
    "            print('<?xml version=\"1.0\" encoding=\"utf-8\"?>', file=f)\n",
    "            print('<svg xmlns=\"http://www.w3.org/2000/svg\"', file=f)\n",
    "            print('    xmlns:xlink=\"http://www.w3.org/1999/xlink\"', file=f)\n",
    "            print('    width=\"{:d}\" height=\"{:d}\" viewBox=\"{} {} {} {}\">'\n",
    "                    .format(width+2*padding, height+2*padding,\n",
    "                        -padding, -padding, width+2*padding, height+2*padding),\n",
    "                  file=f)\n",
    "            print('<defs>\\n<style type=\"text/css\"><![CDATA[', file=f)\n",
    "            print('line {', file=f)\n",
    "            print('    stroke: #000000;\\n    stroke-linecap: square;', file=f)\n",
    "            print('    stroke-width: 5;\\n}', file=f)\n",
    "            print(']]></style>\\n</defs>', file=f)\n",
    "            # Draw the \"South\" and \"East\" walls of each cell, if present (these\n",
    "            # are the \"North\" and \"West\" walls of a neighbouring cell in\n",
    "            # general, of course).\n",
    "            for x in range(nx):\n",
    "                for y in range(ny):\n",
    "                    if maze.cell_at(x,y).walls['S']:\n",
    "                        x1, y1, x2, y2 = x*scx, (y+1)*scy, (x+1)*scx, (y+1)*scy\n",
    "                        write_wall(f, x1, y1, x2, y2)\n",
    "                    if maze.cell_at(x,y).walls['E']:\n",
    "                        x1, y1, x2, y2 = (x+1)*scx, y*scy, (x+1)*scx, (y+1)*scy\n",
    "                        write_wall(f, x1, y1, x2, y2)\n",
    "            # Draw the North and West maze border, which won't have been drawn\n",
    "            # by the procedure above. \n",
    "            print('<line x1=\"0\" y1=\"0\" x2=\"{}\" y2=\"0\"/>'.format(width), file=f)\n",
    "            print('<line x1=\"0\" y1=\"0\" x2=\"0\" y2=\"{}\"/>'.format(height),file=f)\n",
    "            print('</svg>', file=f)\n",
    "\n",
    "    def find_valid_neighbours(self, cell):\n",
    "        \"\"\"Return a list of unvisited neighbours to cell.\"\"\"\n",
    "\n",
    "        delta = [('W', (-1,0)),\n",
    "                 ('E', (1,0)),\n",
    "                 ('S', (0,1)),\n",
    "                 ('N', (0,-1))]\n",
    "        neighbours = []\n",
    "        for direction, (dx,dy) in delta:\n",
    "            x2, y2 = cell.x + dx, cell.y + dy\n",
    "            if (0 <= x2 < nx) and (0 <= y2 < ny):\n",
    "                neighbour = maze.cell_at(x2, y2)\n",
    "                if neighbour.has_all_walls():\n",
    "                    neighbours.append((direction, neighbour))\n",
    "        return neighbours\n",
    "\n",
    "    def make_maze(self):\n",
    "        # Total number of cells.\n",
    "        n = self.nx * self.ny\n",
    "        cell_stack = []\n",
    "        current_cell = self.cell_at(ix, iy)\n",
    "        # Total number of visited cells during maze construction.\n",
    "        nv = 1\n",
    "\n",
    "        while nv < n:\n",
    "            neighbours = self.find_valid_neighbours(current_cell)\n",
    "\n",
    "            if not neighbours:\n",
    "                # We've reached a dead end: backtrack.\n",
    "                current_cell = cell_stack.pop()\n",
    "                continue\n",
    "\n",
    "            # Choose a random neighbouring cell and move to it.\n",
    "            direction, next_cell = random.choice(neighbours)\n",
    "            current_cell.knock_down_wall(next_cell, direction)\n",
    "            cell_stack.append(current_cell)\n",
    "            current_cell = next_cell\n",
    "            nv += 1\n",
    "\n",
    "# Maze dimensions (ncols, nrows)\n",
    "nx, ny = 30, 30\n",
    "# Maze entry position\n",
    "ix, iy = 1, 1\n",
    "\n",
    "maze = Maze(nx, ny, ix, iy)\n",
    "maze.make_maze()\n",
    "\n",
    "print(maze)\n",
    "# maze.write_svg('maze.svg')"
   ]
  },
  {
   "cell_type": "code",
   "execution_count": 45,
   "metadata": {},
   "outputs": [
    {
     "data": {
      "text/plain": [
       "<__main__.Maze at 0x1a24d3c390>"
      ]
     },
     "execution_count": 45,
     "metadata": {},
     "output_type": "execute_result"
    }
   ],
   "source": [
    "maze"
   ]
  },
  {
   "cell_type": "code",
   "execution_count": 6,
   "metadata": {},
   "outputs": [
    {
     "ename": "ValueError",
     "evalue": "not enough values to unpack (expected 2, got 0)",
     "output_type": "error",
     "traceback": [
      "\u001b[0;31m---------------------------------------------------------------------------\u001b[0m",
      "\u001b[0;31mValueError\u001b[0m                                Traceback (most recent call last)",
      "\u001b[0;32m<ipython-input-6-6673056c2c6b>\u001b[0m in \u001b[0;36m<module>\u001b[0;34m\u001b[0m\n\u001b[1;32m     19\u001b[0m \u001b[0;31m#     maze.append(row)\u001b[0m\u001b[0;34m\u001b[0m\u001b[0;34m\u001b[0m\u001b[0;34m\u001b[0m\u001b[0m\n\u001b[1;32m     20\u001b[0m \u001b[0;34m\u001b[0m\u001b[0m\n\u001b[0;32m---> 21\u001b[0;31m \u001b[0mplt\u001b[0m\u001b[0;34m.\u001b[0m\u001b[0mpcolormesh\u001b[0m\u001b[0;34m(\u001b[0m\u001b[0mmaze\u001b[0m\u001b[0;34m)\u001b[0m\u001b[0;34m\u001b[0m\u001b[0;34m\u001b[0m\u001b[0m\n\u001b[0m\u001b[1;32m     22\u001b[0m \u001b[0mplt\u001b[0m\u001b[0;34m.\u001b[0m\u001b[0maxes\u001b[0m\u001b[0;34m(\u001b[0m\u001b[0;34m)\u001b[0m\u001b[0;34m.\u001b[0m\u001b[0mset_aspect\u001b[0m\u001b[0;34m(\u001b[0m\u001b[0;34m'equal'\u001b[0m\u001b[0;34m)\u001b[0m \u001b[0;31m#set the x and y axes to the same scale\u001b[0m\u001b[0;34m\u001b[0m\u001b[0;34m\u001b[0m\u001b[0m\n\u001b[1;32m     23\u001b[0m \u001b[0mplt\u001b[0m\u001b[0;34m.\u001b[0m\u001b[0mxticks\u001b[0m\u001b[0;34m(\u001b[0m\u001b[0;34m[\u001b[0m\u001b[0;34m]\u001b[0m\u001b[0;34m)\u001b[0m \u001b[0;31m# remove the tick marks by setting to an empty list\u001b[0m\u001b[0;34m\u001b[0m\u001b[0;34m\u001b[0m\u001b[0m\n",
      "\u001b[0;32m/anaconda3/lib/python3.6/site-packages/matplotlib/pyplot.py\u001b[0m in \u001b[0;36mpcolormesh\u001b[0;34m(alpha, norm, cmap, vmin, vmax, shading, antialiased, data, *args, **kwargs)\u001b[0m\n\u001b[1;32m   2749\u001b[0m         \u001b[0;34m*\u001b[0m\u001b[0margs\u001b[0m\u001b[0;34m,\u001b[0m \u001b[0malpha\u001b[0m\u001b[0;34m=\u001b[0m\u001b[0malpha\u001b[0m\u001b[0;34m,\u001b[0m \u001b[0mnorm\u001b[0m\u001b[0;34m=\u001b[0m\u001b[0mnorm\u001b[0m\u001b[0;34m,\u001b[0m \u001b[0mcmap\u001b[0m\u001b[0;34m=\u001b[0m\u001b[0mcmap\u001b[0m\u001b[0;34m,\u001b[0m \u001b[0mvmin\u001b[0m\u001b[0;34m=\u001b[0m\u001b[0mvmin\u001b[0m\u001b[0;34m,\u001b[0m\u001b[0;34m\u001b[0m\u001b[0;34m\u001b[0m\u001b[0m\n\u001b[1;32m   2750\u001b[0m         \u001b[0mvmax\u001b[0m\u001b[0;34m=\u001b[0m\u001b[0mvmax\u001b[0m\u001b[0;34m,\u001b[0m \u001b[0mshading\u001b[0m\u001b[0;34m=\u001b[0m\u001b[0mshading\u001b[0m\u001b[0;34m,\u001b[0m \u001b[0mantialiased\u001b[0m\u001b[0;34m=\u001b[0m\u001b[0mantialiased\u001b[0m\u001b[0;34m,\u001b[0m\u001b[0;34m\u001b[0m\u001b[0;34m\u001b[0m\u001b[0m\n\u001b[0;32m-> 2751\u001b[0;31m         **({\"data\": data} if data is not None else {}), **kwargs)\n\u001b[0m\u001b[1;32m   2752\u001b[0m     \u001b[0msci\u001b[0m\u001b[0;34m(\u001b[0m\u001b[0m__ret\u001b[0m\u001b[0;34m)\u001b[0m\u001b[0;34m\u001b[0m\u001b[0;34m\u001b[0m\u001b[0m\n\u001b[1;32m   2753\u001b[0m     \u001b[0;32mreturn\u001b[0m \u001b[0m__ret\u001b[0m\u001b[0;34m\u001b[0m\u001b[0;34m\u001b[0m\u001b[0m\n",
      "\u001b[0;32m/anaconda3/lib/python3.6/site-packages/matplotlib/__init__.py\u001b[0m in \u001b[0;36minner\u001b[0;34m(ax, data, *args, **kwargs)\u001b[0m\n\u001b[1;32m   1587\u001b[0m     \u001b[0;32mdef\u001b[0m \u001b[0minner\u001b[0m\u001b[0;34m(\u001b[0m\u001b[0max\u001b[0m\u001b[0;34m,\u001b[0m \u001b[0;34m*\u001b[0m\u001b[0margs\u001b[0m\u001b[0;34m,\u001b[0m \u001b[0mdata\u001b[0m\u001b[0;34m=\u001b[0m\u001b[0;32mNone\u001b[0m\u001b[0;34m,\u001b[0m \u001b[0;34m**\u001b[0m\u001b[0mkwargs\u001b[0m\u001b[0;34m)\u001b[0m\u001b[0;34m:\u001b[0m\u001b[0;34m\u001b[0m\u001b[0;34m\u001b[0m\u001b[0m\n\u001b[1;32m   1588\u001b[0m         \u001b[0;32mif\u001b[0m \u001b[0mdata\u001b[0m \u001b[0;32mis\u001b[0m \u001b[0;32mNone\u001b[0m\u001b[0;34m:\u001b[0m\u001b[0;34m\u001b[0m\u001b[0;34m\u001b[0m\u001b[0m\n\u001b[0;32m-> 1589\u001b[0;31m             \u001b[0;32mreturn\u001b[0m \u001b[0mfunc\u001b[0m\u001b[0;34m(\u001b[0m\u001b[0max\u001b[0m\u001b[0;34m,\u001b[0m \u001b[0;34m*\u001b[0m\u001b[0mmap\u001b[0m\u001b[0;34m(\u001b[0m\u001b[0msanitize_sequence\u001b[0m\u001b[0;34m,\u001b[0m \u001b[0margs\u001b[0m\u001b[0;34m)\u001b[0m\u001b[0;34m,\u001b[0m \u001b[0;34m**\u001b[0m\u001b[0mkwargs\u001b[0m\u001b[0;34m)\u001b[0m\u001b[0;34m\u001b[0m\u001b[0;34m\u001b[0m\u001b[0m\n\u001b[0m\u001b[1;32m   1590\u001b[0m \u001b[0;34m\u001b[0m\u001b[0m\n\u001b[1;32m   1591\u001b[0m         \u001b[0mbound\u001b[0m \u001b[0;34m=\u001b[0m \u001b[0mnew_sig\u001b[0m\u001b[0;34m.\u001b[0m\u001b[0mbind\u001b[0m\u001b[0;34m(\u001b[0m\u001b[0max\u001b[0m\u001b[0;34m,\u001b[0m \u001b[0;34m*\u001b[0m\u001b[0margs\u001b[0m\u001b[0;34m,\u001b[0m \u001b[0;34m**\u001b[0m\u001b[0mkwargs\u001b[0m\u001b[0;34m)\u001b[0m\u001b[0;34m\u001b[0m\u001b[0;34m\u001b[0m\u001b[0m\n",
      "\u001b[0;32m/anaconda3/lib/python3.6/site-packages/matplotlib/axes/_axes.py\u001b[0m in \u001b[0;36mpcolormesh\u001b[0;34m(self, alpha, norm, cmap, vmin, vmax, shading, antialiased, *args, **kwargs)\u001b[0m\n\u001b[1;32m   6144\u001b[0m         \u001b[0mallmatch\u001b[0m \u001b[0;34m=\u001b[0m \u001b[0;34m(\u001b[0m\u001b[0mshading\u001b[0m \u001b[0;34m==\u001b[0m \u001b[0;34m'gouraud'\u001b[0m\u001b[0;34m)\u001b[0m\u001b[0;34m\u001b[0m\u001b[0;34m\u001b[0m\u001b[0m\n\u001b[1;32m   6145\u001b[0m \u001b[0;34m\u001b[0m\u001b[0m\n\u001b[0;32m-> 6146\u001b[0;31m         \u001b[0mX\u001b[0m\u001b[0;34m,\u001b[0m \u001b[0mY\u001b[0m\u001b[0;34m,\u001b[0m \u001b[0mC\u001b[0m \u001b[0;34m=\u001b[0m \u001b[0mself\u001b[0m\u001b[0;34m.\u001b[0m\u001b[0m_pcolorargs\u001b[0m\u001b[0;34m(\u001b[0m\u001b[0;34m'pcolormesh'\u001b[0m\u001b[0;34m,\u001b[0m \u001b[0;34m*\u001b[0m\u001b[0margs\u001b[0m\u001b[0;34m,\u001b[0m \u001b[0mallmatch\u001b[0m\u001b[0;34m=\u001b[0m\u001b[0mallmatch\u001b[0m\u001b[0;34m)\u001b[0m\u001b[0;34m\u001b[0m\u001b[0;34m\u001b[0m\u001b[0m\n\u001b[0m\u001b[1;32m   6147\u001b[0m         \u001b[0mNy\u001b[0m\u001b[0;34m,\u001b[0m \u001b[0mNx\u001b[0m \u001b[0;34m=\u001b[0m \u001b[0mX\u001b[0m\u001b[0;34m.\u001b[0m\u001b[0mshape\u001b[0m\u001b[0;34m\u001b[0m\u001b[0;34m\u001b[0m\u001b[0m\n\u001b[1;32m   6148\u001b[0m         \u001b[0mX\u001b[0m \u001b[0;34m=\u001b[0m \u001b[0mX\u001b[0m\u001b[0;34m.\u001b[0m\u001b[0mravel\u001b[0m\u001b[0;34m(\u001b[0m\u001b[0;34m)\u001b[0m\u001b[0;34m\u001b[0m\u001b[0;34m\u001b[0m\u001b[0m\n",
      "\u001b[0;32m/anaconda3/lib/python3.6/site-packages/matplotlib/axes/_axes.py\u001b[0m in \u001b[0;36m_pcolorargs\u001b[0;34m(funcname, allmatch, *args)\u001b[0m\n\u001b[1;32m   5688\u001b[0m         \u001b[0;32mif\u001b[0m \u001b[0mlen\u001b[0m\u001b[0;34m(\u001b[0m\u001b[0margs\u001b[0m\u001b[0;34m)\u001b[0m \u001b[0;34m==\u001b[0m \u001b[0;36m1\u001b[0m\u001b[0;34m:\u001b[0m\u001b[0;34m\u001b[0m\u001b[0;34m\u001b[0m\u001b[0m\n\u001b[1;32m   5689\u001b[0m             \u001b[0mC\u001b[0m \u001b[0;34m=\u001b[0m \u001b[0mnp\u001b[0m\u001b[0;34m.\u001b[0m\u001b[0masanyarray\u001b[0m\u001b[0;34m(\u001b[0m\u001b[0margs\u001b[0m\u001b[0;34m[\u001b[0m\u001b[0;36m0\u001b[0m\u001b[0;34m]\u001b[0m\u001b[0;34m)\u001b[0m\u001b[0;34m\u001b[0m\u001b[0;34m\u001b[0m\u001b[0m\n\u001b[0;32m-> 5690\u001b[0;31m             \u001b[0mnumRows\u001b[0m\u001b[0;34m,\u001b[0m \u001b[0mnumCols\u001b[0m \u001b[0;34m=\u001b[0m \u001b[0mC\u001b[0m\u001b[0;34m.\u001b[0m\u001b[0mshape\u001b[0m\u001b[0;34m\u001b[0m\u001b[0;34m\u001b[0m\u001b[0m\n\u001b[0m\u001b[1;32m   5691\u001b[0m             \u001b[0;32mif\u001b[0m \u001b[0mallmatch\u001b[0m\u001b[0;34m:\u001b[0m\u001b[0;34m\u001b[0m\u001b[0;34m\u001b[0m\u001b[0m\n\u001b[1;32m   5692\u001b[0m                 \u001b[0mX\u001b[0m\u001b[0;34m,\u001b[0m \u001b[0mY\u001b[0m \u001b[0;34m=\u001b[0m \u001b[0mnp\u001b[0m\u001b[0;34m.\u001b[0m\u001b[0mmeshgrid\u001b[0m\u001b[0;34m(\u001b[0m\u001b[0mnp\u001b[0m\u001b[0;34m.\u001b[0m\u001b[0marange\u001b[0m\u001b[0;34m(\u001b[0m\u001b[0mnumCols\u001b[0m\u001b[0;34m)\u001b[0m\u001b[0;34m,\u001b[0m \u001b[0mnp\u001b[0m\u001b[0;34m.\u001b[0m\u001b[0marange\u001b[0m\u001b[0;34m(\u001b[0m\u001b[0mnumRows\u001b[0m\u001b[0;34m)\u001b[0m\u001b[0;34m)\u001b[0m\u001b[0;34m\u001b[0m\u001b[0;34m\u001b[0m\u001b[0m\n",
      "\u001b[0;31mValueError\u001b[0m: not enough values to unpack (expected 2, got 0)"
     ]
    },
    {
     "data": {
      "image/png": "[encoded data removed]",
      "text/plain": [
       "<Figure size 432x288 with 1 Axes>"
      ]
     },
     "metadata": {
      "image/png": {
       "height": 248,
       "width": 417
      },
      "needs_background": "light"
     },
     "output_type": "display_data"
    }
   ],
   "source": [
    "import matplotlib.pyplot as plt\n",
    "\n",
    "# with open(\"maze.txt\", \"w\") as output:\n",
    "#     output.dump(maze)\n",
    "# # #open and read the file after the appending:\n",
    "# # f = open(\"demofile3.txt\", \"r\")\n",
    "# # print(f.read())\n",
    "\n",
    "# # # maze = []\n",
    "# # with open(\"maze.txt\", 'r') as file:\n",
    "# for line in maze:\n",
    "#     line = line.rstrip()\n",
    "#     row = []\n",
    "#     for c in line:\n",
    "#         if c == ' ':\n",
    "#             row.append(1) # spaces are 1s\n",
    "#         else:\n",
    "#             row.append(0) # walls are 0s\n",
    "#     maze.append(row)\n",
    "\n",
    "plt.pcolormesh(maze)\n",
    "plt.axes().set_aspect('equal') #set the x and y axes to the same scale\n",
    "plt.xticks([]) # remove the tick marks by setting to an empty list\n",
    "plt.yticks([]) # remove the tick marks by setting to an empty list\n",
    "plt.axes().invert_yaxis() #invert the y-axis so the first row of data is at the top\n",
    "plt.show()"
   ]
  },
  {
   "cell_type": "code",
   "execution_count": 50,
   "metadata": {},
   "outputs": [],
   "source": [
    "from random import shuffle, randrange \n",
    "  \n",
    "def make_maze(w = 16, h = 16): \n",
    "    vis = [[0] * w + [1] for _ in range(h)] + [[1] * (w + 1)] \n",
    "    ver = [[100] * w + [1] for _ in range(h)] + [[]]\n",
    "    hor = [[111] * w + [1] for _ in range(h + 1)] \n",
    "  \n",
    "    def walk(x, y): \n",
    "        vis[y][x] = 1 \n",
    "  \n",
    "        d = [(x - 1, y), (x, y + 1), (x + 1, y), (x, y - 1)] \n",
    "        shuffle(d) \n",
    "        for (xx, yy) in d: \n",
    "            if vis[yy][xx]: continue \n",
    "            if xx == x: hor[max(y, yy)][x] = 100 \n",
    "            if yy == y: ver[y][max(x, xx)] = 000 \n",
    "            walk(xx, yy) \n",
    "  \n",
    "    walk(randrange(w), randrange(h)) \n",
    "  \n",
    "    s = []\n",
    "#     for (a, b) in zip(hor, ver): \n",
    "#         s += ''.join(a + ['\\n'] + b + ['\\n']) \n",
    "    for (a, b) in zip(hor, ver):\n",
    "        s.append(a + b)\n",
    "        \n",
    "    return s \n",
    "  \n",
    "if __name__ == '__main__': \n",
    "    maze = (make_maze()) "
   ]
  },
  {
   "cell_type": "code",
   "execution_count": 52,
   "metadata": {},
   "outputs": [
    {
     "name": "stdout",
     "output_type": "stream",
     "text": [
      "[[111, 111, 111, 111, 111, 111, 111, 111, 111, 111, 111, 111, 111, 111, 111, 111, 1, 100, 0, 0, 0, 0, 0, 0, 0, 0, 0, 0, 100, 0, 0, 100, 0, 1], [100, 111, 111, 111, 111, 111, 111, 111, 111, 100, 111, 100, 100, 111, 100, 111, 1, 100, 0, 0, 0, 0, 0, 100, 0, 100, 0, 100, 0, 100, 0, 100, 0, 1], [100, 111, 111, 111, 111, 100, 100, 100, 111, 111, 100, 111, 111, 100, 111, 100, 1, 100, 100, 0, 100, 0, 100, 0, 100, 0, 0, 0, 100, 100, 0, 0, 100, 1], [100, 100, 100, 111, 100, 111, 111, 111, 111, 111, 100, 100, 100, 111, 100, 100, 1, 100, 0, 100, 100, 0, 0, 100, 0, 100, 0, 100, 0, 100, 0, 100, 100, 1], [111, 111, 100, 100, 100, 111, 100, 100, 100, 100, 100, 111, 111, 100, 111, 100, 1, 100, 0, 100, 100, 100, 100, 0, 100, 0, 100, 100, 100, 0, 0, 100, 0, 1], [100, 111, 100, 100, 111, 100, 111, 111, 111, 100, 111, 100, 111, 100, 100, 111, 1, 100, 0, 0, 100, 0, 100, 0, 100, 100, 0, 0, 0, 100, 0, 100, 0, 1], [100, 111, 111, 111, 100, 111, 100, 100, 100, 111, 111, 111, 100, 111, 111, 100, 1, 100, 100, 0, 0, 0, 100, 100, 100, 100, 100, 0, 0, 100, 100, 0, 100, 1], [100, 100, 111, 111, 100, 100, 100, 100, 100, 100, 111, 100, 100, 100, 111, 100, 1, 100, 0, 100, 0, 100, 0, 100, 100, 0, 100, 100, 0, 100, 0, 100, 0, 1], [111, 111, 100, 100, 111, 100, 100, 111, 111, 100, 100, 100, 111, 111, 100, 111, 1, 100, 0, 0, 100, 100, 0, 100, 100, 0, 100, 100, 100, 100, 0, 100, 100, 1], [100, 111, 100, 100, 100, 111, 100, 100, 100, 100, 100, 111, 100, 100, 100, 100, 1, 100, 100, 0, 100, 100, 100, 0, 100, 100, 0, 100, 0, 0, 100, 0, 100, 1], [100, 100, 111, 100, 100, 100, 111, 100, 111, 111, 111, 111, 111, 111, 111, 100, 1, 100, 100, 0, 100, 100, 100, 0, 100, 0, 0, 0, 100, 0, 0, 0, 0, 1], [100, 111, 100, 111, 100, 111, 100, 111, 111, 111, 100, 100, 100, 111, 111, 100, 1, 100, 100, 100, 0, 0, 100, 100, 100, 0, 100, 0, 100, 100, 100, 0, 100, 1], [100, 100, 111, 111, 111, 100, 100, 100, 100, 100, 111, 111, 100, 100, 100, 100, 1, 100, 100, 0, 0, 0, 0, 100, 100, 100, 0, 100, 0, 0, 100, 100, 100, 1], [100, 111, 111, 100, 100, 100, 100, 100, 111, 111, 100, 100, 111, 100, 100, 100, 1, 100, 0, 0, 100, 100, 100, 100, 100, 0, 100, 0, 100, 0, 100, 100, 100, 1], [111, 111, 100, 100, 100, 111, 100, 111, 100, 100, 111, 111, 100, 100, 100, 100, 1, 100, 100, 0, 100, 100, 100, 0, 100, 0, 100, 0, 0, 100, 100, 100, 0, 1], [100, 100, 111, 111, 100, 100, 111, 100, 111, 111, 111, 111, 100, 100, 111, 111, 1, 100, 0, 0, 0, 0, 100, 0, 0, 0, 0, 0, 0, 0, 100, 0, 0, 1], [111, 111, 111, 111, 111, 111, 111, 111, 111, 111, 111, 111, 111, 111, 111, 111, 1]]\n"
     ]
    }
   ],
   "source": [
    "print(maze)"
   ]
  },
  {
   "cell_type": "code",
   "execution_count": 39,
   "metadata": {},
   "outputs": [
    {
     "ename": "NameError",
     "evalue": "name 'row' is not defined",
     "output_type": "error",
     "traceback": [
      "\u001b[0;31m---------------------------------------------------------------------------\u001b[0m",
      "\u001b[0;31mNameError\u001b[0m                                 Traceback (most recent call last)",
      "\u001b[0;32m<ipython-input-39-e57dcbe4319d>\u001b[0m in \u001b[0;36m<module>\u001b[0;34m\u001b[0m\n\u001b[1;32m      1\u001b[0m \u001b[0ma\u001b[0m\u001b[0;34m=\u001b[0m\u001b[0;34m[\u001b[0m\u001b[0;36m1\u001b[0m\u001b[0;34m,\u001b[0m\u001b[0;36m2\u001b[0m\u001b[0;34m,\u001b[0m\u001b[0;36m3\u001b[0m\u001b[0;34m,\u001b[0m\u001b[0;36m4\u001b[0m\u001b[0;34m]\u001b[0m\u001b[0;34m\u001b[0m\u001b[0;34m\u001b[0m\u001b[0m\n\u001b[1;32m      2\u001b[0m \u001b[0;34m\u001b[0m\u001b[0m\n\u001b[0;32m----> 3\u001b[0;31m \u001b[0mint\u001b[0m\u001b[0;34m(\u001b[0m\u001b[0;34m''\u001b[0m\u001b[0;34m.\u001b[0m\u001b[0mjoin\u001b[0m\u001b[0;34m(\u001b[0m\u001b[0mstr\u001b[0m\u001b[0;34m(\u001b[0m\u001b[0mi\u001b[0m\u001b[0;34m)\u001b[0m \u001b[0;32mfor\u001b[0m \u001b[0mi\u001b[0m \u001b[0;32min\u001b[0m \u001b[0mrow\u001b[0m \u001b[0;32mfor\u001b[0m \u001b[0mrow\u001b[0m \u001b[0;32min\u001b[0m \u001b[0mmaze\u001b[0m\u001b[0;34m)\u001b[0m\u001b[0;34m)\u001b[0m\u001b[0;34m\u001b[0m\u001b[0;34m\u001b[0m\u001b[0m\n\u001b[0m",
      "\u001b[0;31mNameError\u001b[0m: name 'row' is not defined"
     ]
    }
   ],
   "source": [
    "a=[1,2,3,4]\n",
    "\n",
    "int(''.join(str(i) for i in row for row in maze))"
   ]
  },
  {
   "cell_type": "code",
   "execution_count": 57,
   "metadata": {},
   "outputs": [],
   "source": [
    "for row in maze:\n",
    "#     for i in row:\n",
    "#         c += i\n",
    "    z = (int(''.join(str(i) for i in row)))"
   ]
  },
  {
   "cell_type": "code",
   "execution_count": 59,
   "metadata": {},
   "outputs": [
    {
     "data": {
      "text/plain": [
       "int"
      ]
     },
     "execution_count": 59,
     "metadata": {},
     "output_type": "execute_result"
    }
   ],
   "source": [
    "type(z)"
   ]
  },
  {
   "cell_type": "code",
   "execution_count": 10,
   "metadata": {},
   "outputs": [
    {
     "ename": "ValueError",
     "evalue": "not enough values to unpack (expected 2, got 0)",
     "output_type": "error",
     "traceback": [
      "\u001b[0;31m---------------------------------------------------------------------------\u001b[0m",
      "\u001b[0;31mValueError\u001b[0m                                Traceback (most recent call last)",
      "\u001b[0;32m<ipython-input-10-040aae8ba4ea>\u001b[0m in \u001b[0;36m<module>\u001b[0;34m\u001b[0m\n\u001b[0;32m----> 1\u001b[0;31m \u001b[0mplt\u001b[0m\u001b[0;34m.\u001b[0m\u001b[0mpcolormesh\u001b[0m\u001b[0;34m(\u001b[0m\u001b[0mmake_maze\u001b[0m\u001b[0;34m(\u001b[0m\u001b[0;34m)\u001b[0m\u001b[0;34m)\u001b[0m\u001b[0;34m\u001b[0m\u001b[0;34m\u001b[0m\u001b[0m\n\u001b[0m\u001b[1;32m      2\u001b[0m \u001b[0mplt\u001b[0m\u001b[0;34m.\u001b[0m\u001b[0maxes\u001b[0m\u001b[0;34m(\u001b[0m\u001b[0;34m)\u001b[0m\u001b[0;34m.\u001b[0m\u001b[0mset_aspect\u001b[0m\u001b[0;34m(\u001b[0m\u001b[0;34m'equal'\u001b[0m\u001b[0;34m)\u001b[0m \u001b[0;31m#set the x and y axes to the same scale\u001b[0m\u001b[0;34m\u001b[0m\u001b[0;34m\u001b[0m\u001b[0m\n\u001b[1;32m      3\u001b[0m \u001b[0mplt\u001b[0m\u001b[0;34m.\u001b[0m\u001b[0mxticks\u001b[0m\u001b[0;34m(\u001b[0m\u001b[0;34m[\u001b[0m\u001b[0;34m]\u001b[0m\u001b[0;34m)\u001b[0m \u001b[0;31m# remove the tick marks by setting to an empty list\u001b[0m\u001b[0;34m\u001b[0m\u001b[0;34m\u001b[0m\u001b[0m\n\u001b[1;32m      4\u001b[0m \u001b[0mplt\u001b[0m\u001b[0;34m.\u001b[0m\u001b[0myticks\u001b[0m\u001b[0;34m(\u001b[0m\u001b[0;34m[\u001b[0m\u001b[0;34m]\u001b[0m\u001b[0;34m)\u001b[0m \u001b[0;31m# remove the tick marks by setting to an empty list\u001b[0m\u001b[0;34m\u001b[0m\u001b[0;34m\u001b[0m\u001b[0m\n\u001b[1;32m      5\u001b[0m \u001b[0mplt\u001b[0m\u001b[0;34m.\u001b[0m\u001b[0maxes\u001b[0m\u001b[0;34m(\u001b[0m\u001b[0;34m)\u001b[0m\u001b[0;34m.\u001b[0m\u001b[0minvert_yaxis\u001b[0m\u001b[0;34m(\u001b[0m\u001b[0;34m)\u001b[0m \u001b[0;31m#invert the y-axis so the first row of data is at the top\u001b[0m\u001b[0;34m\u001b[0m\u001b[0;34m\u001b[0m\u001b[0m\n",
      "\u001b[0;32m/anaconda3/lib/python3.6/site-packages/matplotlib/pyplot.py\u001b[0m in \u001b[0;36mpcolormesh\u001b[0;34m(alpha, norm, cmap, vmin, vmax, shading, antialiased, data, *args, **kwargs)\u001b[0m\n\u001b[1;32m   2749\u001b[0m         \u001b[0;34m*\u001b[0m\u001b[0margs\u001b[0m\u001b[0;34m,\u001b[0m \u001b[0malpha\u001b[0m\u001b[0;34m=\u001b[0m\u001b[0malpha\u001b[0m\u001b[0;34m,\u001b[0m \u001b[0mnorm\u001b[0m\u001b[0;34m=\u001b[0m\u001b[0mnorm\u001b[0m\u001b[0;34m,\u001b[0m \u001b[0mcmap\u001b[0m\u001b[0;34m=\u001b[0m\u001b[0mcmap\u001b[0m\u001b[0;34m,\u001b[0m \u001b[0mvmin\u001b[0m\u001b[0;34m=\u001b[0m\u001b[0mvmin\u001b[0m\u001b[0;34m,\u001b[0m\u001b[0;34m\u001b[0m\u001b[0;34m\u001b[0m\u001b[0m\n\u001b[1;32m   2750\u001b[0m         \u001b[0mvmax\u001b[0m\u001b[0;34m=\u001b[0m\u001b[0mvmax\u001b[0m\u001b[0;34m,\u001b[0m \u001b[0mshading\u001b[0m\u001b[0;34m=\u001b[0m\u001b[0mshading\u001b[0m\u001b[0;34m,\u001b[0m \u001b[0mantialiased\u001b[0m\u001b[0;34m=\u001b[0m\u001b[0mantialiased\u001b[0m\u001b[0;34m,\u001b[0m\u001b[0;34m\u001b[0m\u001b[0;34m\u001b[0m\u001b[0m\n\u001b[0;32m-> 2751\u001b[0;31m         **({\"data\": data} if data is not None else {}), **kwargs)\n\u001b[0m\u001b[1;32m   2752\u001b[0m     \u001b[0msci\u001b[0m\u001b[0;34m(\u001b[0m\u001b[0m__ret\u001b[0m\u001b[0;34m)\u001b[0m\u001b[0;34m\u001b[0m\u001b[0;34m\u001b[0m\u001b[0m\n\u001b[1;32m   2753\u001b[0m     \u001b[0;32mreturn\u001b[0m \u001b[0m__ret\u001b[0m\u001b[0;34m\u001b[0m\u001b[0;34m\u001b[0m\u001b[0m\n",
      "\u001b[0;32m/anaconda3/lib/python3.6/site-packages/matplotlib/__init__.py\u001b[0m in \u001b[0;36minner\u001b[0;34m(ax, data, *args, **kwargs)\u001b[0m\n\u001b[1;32m   1587\u001b[0m     \u001b[0;32mdef\u001b[0m \u001b[0minner\u001b[0m\u001b[0;34m(\u001b[0m\u001b[0max\u001b[0m\u001b[0;34m,\u001b[0m \u001b[0;34m*\u001b[0m\u001b[0margs\u001b[0m\u001b[0;34m,\u001b[0m \u001b[0mdata\u001b[0m\u001b[0;34m=\u001b[0m\u001b[0;32mNone\u001b[0m\u001b[0;34m,\u001b[0m \u001b[0;34m**\u001b[0m\u001b[0mkwargs\u001b[0m\u001b[0;34m)\u001b[0m\u001b[0;34m:\u001b[0m\u001b[0;34m\u001b[0m\u001b[0;34m\u001b[0m\u001b[0m\n\u001b[1;32m   1588\u001b[0m         \u001b[0;32mif\u001b[0m \u001b[0mdata\u001b[0m \u001b[0;32mis\u001b[0m \u001b[0;32mNone\u001b[0m\u001b[0;34m:\u001b[0m\u001b[0;34m\u001b[0m\u001b[0;34m\u001b[0m\u001b[0m\n\u001b[0;32m-> 1589\u001b[0;31m             \u001b[0;32mreturn\u001b[0m \u001b[0mfunc\u001b[0m\u001b[0;34m(\u001b[0m\u001b[0max\u001b[0m\u001b[0;34m,\u001b[0m \u001b[0;34m*\u001b[0m\u001b[0mmap\u001b[0m\u001b[0;34m(\u001b[0m\u001b[0msanitize_sequence\u001b[0m\u001b[0;34m,\u001b[0m \u001b[0margs\u001b[0m\u001b[0;34m)\u001b[0m\u001b[0;34m,\u001b[0m \u001b[0;34m**\u001b[0m\u001b[0mkwargs\u001b[0m\u001b[0;34m)\u001b[0m\u001b[0;34m\u001b[0m\u001b[0;34m\u001b[0m\u001b[0m\n\u001b[0m\u001b[1;32m   1590\u001b[0m \u001b[0;34m\u001b[0m\u001b[0m\n\u001b[1;32m   1591\u001b[0m         \u001b[0mbound\u001b[0m \u001b[0;34m=\u001b[0m \u001b[0mnew_sig\u001b[0m\u001b[0;34m.\u001b[0m\u001b[0mbind\u001b[0m\u001b[0;34m(\u001b[0m\u001b[0max\u001b[0m\u001b[0;34m,\u001b[0m \u001b[0;34m*\u001b[0m\u001b[0margs\u001b[0m\u001b[0;34m,\u001b[0m \u001b[0;34m**\u001b[0m\u001b[0mkwargs\u001b[0m\u001b[0;34m)\u001b[0m\u001b[0;34m\u001b[0m\u001b[0;34m\u001b[0m\u001b[0m\n",
      "\u001b[0;32m/anaconda3/lib/python3.6/site-packages/matplotlib/axes/_axes.py\u001b[0m in \u001b[0;36mpcolormesh\u001b[0;34m(self, alpha, norm, cmap, vmin, vmax, shading, antialiased, *args, **kwargs)\u001b[0m\n\u001b[1;32m   6144\u001b[0m         \u001b[0mallmatch\u001b[0m \u001b[0;34m=\u001b[0m \u001b[0;34m(\u001b[0m\u001b[0mshading\u001b[0m \u001b[0;34m==\u001b[0m \u001b[0;34m'gouraud'\u001b[0m\u001b[0;34m)\u001b[0m\u001b[0;34m\u001b[0m\u001b[0;34m\u001b[0m\u001b[0m\n\u001b[1;32m   6145\u001b[0m \u001b[0;34m\u001b[0m\u001b[0m\n\u001b[0;32m-> 6146\u001b[0;31m         \u001b[0mX\u001b[0m\u001b[0;34m,\u001b[0m \u001b[0mY\u001b[0m\u001b[0;34m,\u001b[0m \u001b[0mC\u001b[0m \u001b[0;34m=\u001b[0m \u001b[0mself\u001b[0m\u001b[0;34m.\u001b[0m\u001b[0m_pcolorargs\u001b[0m\u001b[0;34m(\u001b[0m\u001b[0;34m'pcolormesh'\u001b[0m\u001b[0;34m,\u001b[0m \u001b[0;34m*\u001b[0m\u001b[0margs\u001b[0m\u001b[0;34m,\u001b[0m \u001b[0mallmatch\u001b[0m\u001b[0;34m=\u001b[0m\u001b[0mallmatch\u001b[0m\u001b[0;34m)\u001b[0m\u001b[0;34m\u001b[0m\u001b[0;34m\u001b[0m\u001b[0m\n\u001b[0m\u001b[1;32m   6147\u001b[0m         \u001b[0mNy\u001b[0m\u001b[0;34m,\u001b[0m \u001b[0mNx\u001b[0m \u001b[0;34m=\u001b[0m \u001b[0mX\u001b[0m\u001b[0;34m.\u001b[0m\u001b[0mshape\u001b[0m\u001b[0;34m\u001b[0m\u001b[0;34m\u001b[0m\u001b[0m\n\u001b[1;32m   6148\u001b[0m         \u001b[0mX\u001b[0m \u001b[0;34m=\u001b[0m \u001b[0mX\u001b[0m\u001b[0;34m.\u001b[0m\u001b[0mravel\u001b[0m\u001b[0;34m(\u001b[0m\u001b[0;34m)\u001b[0m\u001b[0;34m\u001b[0m\u001b[0;34m\u001b[0m\u001b[0m\n",
      "\u001b[0;32m/anaconda3/lib/python3.6/site-packages/matplotlib/axes/_axes.py\u001b[0m in \u001b[0;36m_pcolorargs\u001b[0;34m(funcname, allmatch, *args)\u001b[0m\n\u001b[1;32m   5688\u001b[0m         \u001b[0;32mif\u001b[0m \u001b[0mlen\u001b[0m\u001b[0;34m(\u001b[0m\u001b[0margs\u001b[0m\u001b[0;34m)\u001b[0m \u001b[0;34m==\u001b[0m \u001b[0;36m1\u001b[0m\u001b[0;34m:\u001b[0m\u001b[0;34m\u001b[0m\u001b[0;34m\u001b[0m\u001b[0m\n\u001b[1;32m   5689\u001b[0m             \u001b[0mC\u001b[0m \u001b[0;34m=\u001b[0m \u001b[0mnp\u001b[0m\u001b[0;34m.\u001b[0m\u001b[0masanyarray\u001b[0m\u001b[0;34m(\u001b[0m\u001b[0margs\u001b[0m\u001b[0;34m[\u001b[0m\u001b[0;36m0\u001b[0m\u001b[0;34m]\u001b[0m\u001b[0;34m)\u001b[0m\u001b[0;34m\u001b[0m\u001b[0;34m\u001b[0m\u001b[0m\n\u001b[0;32m-> 5690\u001b[0;31m             \u001b[0mnumRows\u001b[0m\u001b[0;34m,\u001b[0m \u001b[0mnumCols\u001b[0m \u001b[0;34m=\u001b[0m \u001b[0mC\u001b[0m\u001b[0;34m.\u001b[0m\u001b[0mshape\u001b[0m\u001b[0;34m\u001b[0m\u001b[0;34m\u001b[0m\u001b[0m\n\u001b[0m\u001b[1;32m   5691\u001b[0m             \u001b[0;32mif\u001b[0m \u001b[0mallmatch\u001b[0m\u001b[0;34m:\u001b[0m\u001b[0;34m\u001b[0m\u001b[0;34m\u001b[0m\u001b[0m\n\u001b[1;32m   5692\u001b[0m                 \u001b[0mX\u001b[0m\u001b[0;34m,\u001b[0m \u001b[0mY\u001b[0m \u001b[0;34m=\u001b[0m \u001b[0mnp\u001b[0m\u001b[0;34m.\u001b[0m\u001b[0mmeshgrid\u001b[0m\u001b[0;34m(\u001b[0m\u001b[0mnp\u001b[0m\u001b[0;34m.\u001b[0m\u001b[0marange\u001b[0m\u001b[0;34m(\u001b[0m\u001b[0mnumCols\u001b[0m\u001b[0;34m)\u001b[0m\u001b[0;34m,\u001b[0m \u001b[0mnp\u001b[0m\u001b[0;34m.\u001b[0m\u001b[0marange\u001b[0m\u001b[0;34m(\u001b[0m\u001b[0mnumRows\u001b[0m\u001b[0;34m)\u001b[0m\u001b[0;34m)\u001b[0m\u001b[0;34m\u001b[0m\u001b[0;34m\u001b[0m\u001b[0m\n",
      "\u001b[0;31mValueError\u001b[0m: not enough values to unpack (expected 2, got 0)"
     ]
    },
    {
     "data": {
      "image/png": "[encoded data removed]",
      "text/plain": [
       "<Figure size 432x288 with 1 Axes>"
      ]
     },
     "metadata": {
      "image/png": {
       "height": 248,
       "width": 417
      },
      "needs_background": "light"
     },
     "output_type": "display_data"
    }
   ],
   "source": [
    "plt.pcolormesh(make_maze())\n",
    "plt.axes().set_aspect('equal') #set the x and y axes to the same scale\n",
    "plt.xticks([]) # remove the tick marks by setting to an empty list\n",
    "plt.yticks([]) # remove the tick marks by setting to an empty list\n",
    "plt.axes().invert_yaxis() #invert the y-axis so the first row of data is at the top\n",
    "plt.show()"
   ]
  },
  {
   "cell_type": "code",
   "execution_count": 27,
   "metadata": {},
   "outputs": [
    {
     "data": {
      "image/png": "[encoded data removed]",
      "text/plain": [
       "<Figure size 432x288 with 2 Axes>"
      ]
     },
     "metadata": {
      "image/png": {
       "height": 280,
       "width": 424
      },
      "needs_background": "light"
     },
     "output_type": "display_data"
    }
   ],
   "source": [
    "Z = np.random.rand(6, 10)\n",
    "\n",
    "fig, (ax0, ax1) = plt.subplots(2, 1)\n",
    "\n",
    "c = ax0.pcolor(Z)\n",
    "ax0.set_title('default: no edges')\n",
    "\n",
    "c = ax1.pcolor(Z, edgecolors='k', linewidths=4)\n",
    "ax1.set_title('thick edges')\n",
    "\n",
    "fig.tight_layout()\n",
    "plt.show()"
   ]
  },
  {
   "cell_type": "code",
   "execution_count": 28,
   "metadata": {},
   "outputs": [
    {
     "data": {
      "text/plain": [
       "array([[3.41854276e-01, 8.11006344e-02, 3.56307452e-01, 7.40185625e-01,\n",
       "        4.68572002e-01, 9.25424097e-01, 8.21918123e-01, 5.15879234e-01,\n",
       "        2.02434835e-01, 2.25006770e-01],\n",
       "       [4.19198894e-01, 3.12174190e-01, 9.20441844e-01, 5.95204565e-01,\n",
       "        3.38887055e-01, 2.95937565e-03, 9.33881453e-01, 5.95768101e-01,\n",
       "        5.57604075e-01, 3.04262217e-01],\n",
       "       [3.65313530e-01, 7.93914612e-01, 1.21363299e-03, 5.38280640e-01,\n",
       "        4.83499981e-01, 3.18638578e-01, 2.11779680e-01, 8.35057597e-02,\n",
       "        9.46209265e-01, 1.63156352e-01],\n",
       "       [9.35667308e-01, 4.44643452e-01, 5.64209463e-01, 7.11341629e-01,\n",
       "        7.66065887e-01, 9.23855821e-01, 5.66168911e-03, 9.30301944e-01,\n",
       "        9.63631549e-01, 2.71502866e-01],\n",
       "       [8.13711163e-01, 6.48312768e-01, 1.77655073e-01, 1.74335162e-01,\n",
       "        4.04940712e-01, 9.02148265e-01, 6.36204919e-01, 8.03074009e-01,\n",
       "        8.93832783e-05, 3.89691507e-01],\n",
       "       [4.41933859e-01, 3.60305065e-01, 9.51207010e-01, 1.41324036e-01,\n",
       "        5.68492688e-01, 7.35010393e-02, 4.81063961e-01, 9.48362177e-01,\n",
       "        7.06163867e-01, 8.45321848e-01]])"
      ]
     },
     "execution_count": 28,
     "metadata": {},
     "output_type": "execute_result"
    }
   ],
   "source": [
    "Z"
   ]
  },
  {
   "cell_type": "code",
   "execution_count": null,
   "metadata": {},
   "outputs": [],
   "source": []
  }
 ],
 "metadata": {
  "hide_input": false,
  "kernelspec": {
   "display_name": "Python 3",
   "language": "python",
   "name": "python3"
  },
  "language_info": {
   "codemirror_mode": {
    "name": "ipython",
    "version": 3
   },
   "file_extension": ".py",
   "mimetype": "text/x-python",
   "name": "python",
   "nbconvert_exporter": "python",
   "pygments_lexer": "ipython3",
   "version": "3.6.8"
  },
  "toc": {
   "nav_menu": {},
   "number_sections": true,
   "sideBar": true,
   "skip_h1_title": true,
   "title_cell": "Table of Contents",
   "title_sidebar": "Contents",
   "toc_cell": true,
   "toc_position": {},
   "toc_section_display": true,
   "toc_window_display": true
  }
 },
 "nbformat": 4,
 "nbformat_minor": 2
}
