{
 "cells": [
  {
   "cell_type": "code",
   "execution_count": 2,
   "metadata": {},
   "outputs": [],
   "source": [
    "import pandas as pd\n",
    "import numpy as np\n",
    "import matplotlib.pyplot as plt\n",
    "import seaborn as sns\n",
    " \n",
    "plt.style.use('ggplot')\n",
    "sns.set(font_scale=1.5)\n",
    "%config InlineBackend.figure_format = 'retina'\n",
    "%matplotlib inline"
   ]
  },
  {
   "cell_type": "code",
   "execution_count": 3,
   "metadata": {},
   "outputs": [],
   "source": [
    "import pandas_datareader.data as web\n",
    "try:\n",
    "    ff = web.DataReader('F-F_Research_Data_Factors', 'famafrench')\n",
    "except:\n",
    "    ff = web.DataReader('F-F_Research_Data_Factors_TXT', 'famafrench')\n",
    "ff = ff[0]\n"
   ]
  },
  {
   "cell_type": "code",
   "execution_count": 4,
   "metadata": {},
   "outputs": [
    {
     "name": "stdout",
     "output_type": "stream",
     "text": [
      "           Mkt-RF         SMB         HML          RF\n",
      "count  108.000000  108.000000  108.000000  108.000000\n",
      "mean     0.975556    0.018148   -0.157222    0.027778\n",
      "std      3.714048    2.296717    2.180455    0.048920\n",
      "min     -9.550000   -4.680000   -4.500000    0.000000\n",
      "25%     -1.140000   -1.860000   -1.525000    0.000000\n",
      "50%      1.135000    0.290000   -0.300000    0.010000\n",
      "75%      3.137500    1.222500    0.982500    0.020000\n",
      "max     11.350000    5.490000    8.270000    0.190000\n"
     ]
    }
   ],
   "source": [
    "excess_market = ff.iloc[:,0]\n",
    "print(ff.describe())"
   ]
  },
  {
   "cell_type": "code",
   "execution_count": 5,
   "metadata": {},
   "outputs": [],
   "source": [
    "def sharpe_ratio(x):\n",
    "    mu, sigma = 12 * x.mean(), np.sqrt(12 * x.var())\n",
    "    values = np.array([mu, sigma, mu / sigma ]).squeeze()\n",
    "    index = ['mu', 'sigma', 'SR']\n",
    "    return pd.Series(values, index=index)"
   ]
  },
  {
   "cell_type": "code",
   "execution_count": 6,
   "metadata": {},
   "outputs": [
    {
     "data": {
      "text/plain": [
       "mu       11.706667\n",
       "sigma    12.865839\n",
       "SR        0.909903\n",
       "dtype: float64"
      ]
     },
     "execution_count": 6,
     "metadata": {},
     "output_type": "execute_result"
    }
   ],
   "source": [
    "params = sharpe_ratio(excess_market)\n",
    "params"
   ]
  },
  {
   "cell_type": "code",
   "execution_count": 7,
   "metadata": {},
   "outputs": [
    {
     "data": {
      "image/png": "[encoded data removed]",
      "text/plain": [
       "<Figure size 432x288 with 1 Axes>"
      ]
     },
     "metadata": {
      "image/png": {
       "height": 275,
       "width": 389
      },
      "needs_background": "light"
     },
     "output_type": "display_data"
    }
   ],
   "source": [
    "from arch.bootstrap import StationaryBootstrap\n",
    "bs = StationaryBootstrap(12, excess_market)\n",
    "results = bs.apply(sharpe_ratio, 2500)\n",
    "SR = pd.DataFrame(results[:,-1:], columns=['SR'])\n",
    "fig = SR.hist(bins=40)"
   ]
  },
  {
   "cell_type": "code",
   "execution_count": 8,
   "metadata": {},
   "outputs": [
    {
     "name": "stdout",
     "output_type": "stream",
     "text": [
      "             mu     sigma        SR\n",
      "mu     9.271014 -2.272662  0.904113\n",
      "sigma -2.272662  2.187563 -0.345787\n",
      "SR     0.904113 -0.345787  0.099783\n",
      "\n",
      "\n",
      "mu       3.044834\n",
      "sigma    1.479041\n",
      "SR       0.315884\n",
      "Name: Std Errors, dtype: float64\n"
     ]
    }
   ],
   "source": [
    "cov = bs.cov(sharpe_ratio, 1000)\n",
    "cov = pd.DataFrame(cov, index=params.index, columns=params.index)\n",
    "print(cov)\n",
    "se = pd.Series(np.sqrt(np.diag(cov)), index=params.index)\n",
    "se.name = 'Std Errors'\n",
    "print('\\n')\n",
    "print(se)"
   ]
  },
  {
   "cell_type": "code",
   "execution_count": 9,
   "metadata": {},
   "outputs": [
    {
     "name": "stdout",
     "output_type": "stream",
     "text": [
      "              mu      sigma        SR\n",
      "Lower   5.485639  10.088349  0.124384\n",
      "Upper  17.683500  15.847645  1.419796\n"
     ]
    }
   ],
   "source": [
    "ci = bs.conf_int(sharpe_ratio, 1000, method='basic')\n",
    "ci = pd.DataFrame(ci, index=['Lower','Upper'], columns=params.index)\n",
    "print(ci)"
   ]
  },
  {
   "cell_type": "code",
   "execution_count": 10,
   "metadata": {},
   "outputs": [
    {
     "name": "stdout",
     "output_type": "stream",
     "text": [
      "              mu      sigma        SR\n",
      "Lower   5.729833   9.884032  0.400010\n",
      "Upper  17.927694  15.643328  1.695422\n"
     ]
    }
   ],
   "source": [
    "ci = bs.conf_int(sharpe_ratio, 1000, method='percentile', reuse=True)\n",
    "ci = pd.DataFrame(ci, index=['Lower','Upper'], columns=params.index)\n",
    "print(ci)"
   ]
  },
  {
   "cell_type": "code",
   "execution_count": 11,
   "metadata": {},
   "outputs": [
    {
     "name": "stdout",
     "output_type": "stream",
     "text": [
      "            admit         gre         gpa        rank\n",
      "count  400.000000  400.000000  400.000000  400.000000\n",
      "mean     0.317500  587.700012    3.389901    2.485000\n",
      "std      0.466087  115.516663    0.380567    0.944462\n",
      "min      0.000000  220.000000    2.260000    1.000000\n",
      "25%      0.000000  520.000000    3.130000    2.000000\n",
      "50%      0.000000  580.000000    3.395000    2.000000\n",
      "75%      1.000000  660.000000    3.670000    3.000000\n",
      "max      1.000000  800.000000    4.000000    4.000000\n"
     ]
    }
   ],
   "source": [
    "import numpy as np\n",
    "import pandas as pd\n",
    "try:\n",
    "    import urllib2\n",
    "    import StringIO\n",
    "except ImportError:\n",
    "    import urllib.request as urllib2\n",
    "    from io import StringIO\n",
    "\n",
    "url = 'https://stats.idre.ucla.edu/stat/stata/dae/binary.dta'\n",
    "binary = pd.read_stata(url)\n",
    "binary = binary.dropna()\n",
    "print(binary.describe())"
   ]
  },
  {
   "cell_type": "code",
   "execution_count": 12,
   "metadata": {},
   "outputs": [
    {
     "name": "stdout",
     "output_type": "stream",
     "text": [
      "Const   -3.003536\n",
      "gre      0.001643\n",
      "gpa      0.454575\n",
      "dtype: float64\n"
     ]
    }
   ],
   "source": [
    "endog = binary[['admit']]\n",
    "exog = binary[['gre','gpa']]\n",
    "const = pd.Series(np.ones(exog.shape[0]), index=endog.index)\n",
    "const.name = 'Const'\n",
    "exog = pd.DataFrame([const, exog.gre, exog.gpa]).T\n",
    "# Estimate the model\n",
    "import statsmodels.api as sm\n",
    "mod = sm.Probit(endog, exog)\n",
    "fit = mod.fit(disp=0)\n",
    "params = fit.params\n",
    "print(params)"
   ]
  },
  {
   "cell_type": "code",
   "execution_count": 13,
   "metadata": {},
   "outputs": [],
   "source": [
    "def probit_wrap(endog, exog):\n",
    "    return sm.Probit(endog, exog).fit(disp=0).params"
   ]
  },
  {
   "cell_type": "code",
   "execution_count": 14,
   "metadata": {},
   "outputs": [
    {
     "data": {
      "text/plain": [
       "Const   -3.003536\n",
       "gre      0.001643\n",
       "gpa      0.454575\n",
       "dtype: float64"
      ]
     },
     "execution_count": 14,
     "metadata": {},
     "output_type": "execute_result"
    }
   ],
   "source": [
    "probit_wrap(endog, exog)"
   ]
  },
  {
   "cell_type": "code",
   "execution_count": 15,
   "metadata": {},
   "outputs": [
    {
     "name": "stdout",
     "output_type": "stream",
     "text": [
      "          Const           gre       gpa\n",
      "Const  0.427327 -8.058391e-05 -0.109577\n",
      "gre   -0.000081  4.281429e-07 -0.000051\n",
      "gpa   -0.109577 -5.147280e-05  0.041089\n"
     ]
    }
   ],
   "source": [
    "from arch.bootstrap import IIDBootstrap\n",
    "bs = IIDBootstrap(endog=endog, exog=exog)\n",
    "cov = bs.cov(probit_wrap, 1000)\n",
    "cov = pd.DataFrame(cov, index=exog.columns, columns=exog.columns)\n",
    "print(cov)"
   ]
  },
  {
   "cell_type": "code",
   "execution_count": 16,
   "metadata": {},
   "outputs": [
    {
     "name": "stdout",
     "output_type": "stream",
     "text": [
      "Const    0.653703\n",
      "gre      0.000654\n",
      "gpa      0.202704\n",
      "dtype: float64\n",
      "T-stats\n",
      "Const   -4.594652\n",
      "gre      2.510271\n",
      "gpa      2.242550\n",
      "dtype: float64\n"
     ]
    }
   ],
   "source": [
    "se = pd.Series(np.sqrt(np.diag(cov)), index=exog.columns)\n",
    "print(se)\n",
    "print('T-stats')\n",
    "print(params / se)"
   ]
  },
  {
   "cell_type": "code",
   "execution_count": 17,
   "metadata": {},
   "outputs": [
    {
     "name": "stdout",
     "output_type": "stream",
     "text": [
      "          Const       gre       gpa\n",
      "Lower -4.138028  0.000416  0.064008\n",
      "Upper -1.744707  0.002840  0.819951\n"
     ]
    }
   ],
   "source": [
    "ci = bs.conf_int(probit_wrap, 1000, method='basic')\n",
    "ci = pd.DataFrame(ci, index=['Lower','Upper'], columns=exog.columns)\n",
    "print(ci)"
   ]
  },
  {
   "cell_type": "code",
   "execution_count": 18,
   "metadata": {},
   "outputs": [],
   "source": [
    "def probit_wrap_start_params(endog, exog, start_params=None):\n",
    "    return sm.Probit(endog, exog).fit(start_params=start_params, disp=0).params"
   ]
  },
  {
   "cell_type": "code",
   "execution_count": 19,
   "metadata": {},
   "outputs": [
    {
     "name": "stdout",
     "output_type": "stream",
     "text": [
      "          Const           gre       gpa\n",
      "Const  0.427327 -8.058391e-05 -0.109577\n",
      "gre   -0.000081  4.281429e-07 -0.000051\n",
      "gpa   -0.109577 -5.147280e-05  0.041089\n"
     ]
    }
   ],
   "source": [
    "bs.reset()  # Reset to original state for comparability\n",
    "cov = bs.cov(probit_wrap_start_params, 1000, extra_kwargs={'start_params': params.values})\n",
    "cov = pd.DataFrame(cov, index=exog.columns, columns=exog.columns)\n",
    "print(cov)"
   ]
  },
  {
   "cell_type": "code",
   "execution_count": 20,
   "metadata": {},
   "outputs": [
    {
     "name": "stdout",
     "output_type": "stream",
     "text": [
      "Const   -4.949378\n",
      "gre      0.002691\n",
      "gpa      0.754687\n",
      "dtype: float64\n"
     ]
    }
   ],
   "source": [
    "endog = binary[['admit']]\n",
    "exog = binary[['gre','gpa']]\n",
    "const = pd.Series(np.ones(exog.shape[0]), index=endog.index)\n",
    "const.name = 'Const'\n",
    "exog = pd.DataFrame([const, exog.gre, exog.gpa]).T\n",
    "# Estimate the model\n",
    "import statsmodels.api as sm\n",
    "mod = sm.Logit(endog, exog)\n",
    "fit = mod.fit(disp=0)\n",
    "params = fit.params\n",
    "print(params)"
   ]
  },
  {
   "cell_type": "code",
   "execution_count": 21,
   "metadata": {},
   "outputs": [],
   "source": [
    "def logit_wrap(endog, exog):\n",
    "    return sm.Logit(endog, exog).fit(disp=0).params"
   ]
  },
  {
   "cell_type": "code",
   "execution_count": 22,
   "metadata": {},
   "outputs": [
    {
     "data": {
      "text/plain": [
       "Const   -4.949378\n",
       "gre      0.002691\n",
       "gpa      0.754687\n",
       "dtype: float64"
      ]
     },
     "execution_count": 22,
     "metadata": {},
     "output_type": "execute_result"
    }
   ],
   "source": [
    "logit_wrap(endog, exog)"
   ]
  },
  {
   "cell_type": "code",
   "execution_count": 23,
   "metadata": {},
   "outputs": [
    {
     "name": "stdout",
     "output_type": "stream",
     "text": [
      "          Const       gre       gpa\n",
      "Const  1.116549 -0.000165 -0.291274\n",
      "gre   -0.000165  0.000001 -0.000162\n",
      "gpa   -0.291274 -0.000162  0.112681\n"
     ]
    }
   ],
   "source": [
    "bs = IIDBootstrap(endog=endog, exog=exog)\n",
    "cov = bs.cov(logit_wrap, 1000)\n",
    "cov = pd.DataFrame(cov, index=exog.columns, columns=exog.columns)\n",
    "print(cov)"
   ]
  },
  {
   "cell_type": "code",
   "execution_count": 24,
   "metadata": {},
   "outputs": [
    {
     "name": "stdout",
     "output_type": "stream",
     "text": [
      "Const    1.056669\n",
      "gre      0.001095\n",
      "gpa      0.335680\n",
      "dtype: float64\n",
      "T-stats\n",
      "Const   -4.683944\n",
      "gre      2.456222\n",
      "gpa      2.248234\n",
      "dtype: float64\n"
     ]
    }
   ],
   "source": [
    "se = pd.Series(np.sqrt(np.diag(cov)), index=exog.columns)\n",
    "print(se)\n",
    "print('T-stats')\n",
    "print(params / se)"
   ]
  },
  {
   "cell_type": "code",
   "execution_count": 25,
   "metadata": {},
   "outputs": [
    {
     "name": "stdout",
     "output_type": "stream",
     "text": [
      "          Const       gre       gpa\n",
      "Lower -6.968712  0.000482  0.072474\n",
      "Upper -2.648390  0.004791  1.390186\n"
     ]
    }
   ],
   "source": [
    "ci = bs.conf_int(logit_wrap, 10000, method='basic')\n",
    "ci = pd.DataFrame(ci, index=['Lower','Upper'], columns=exog.columns)\n",
    "print(ci)"
   ]
  },
  {
   "cell_type": "code",
   "execution_count": 26,
   "metadata": {},
   "outputs": [
    {
     "name": "stdout",
     "output_type": "stream",
     "text": [
      "          Const      gre       gpa\n",
      "Lower -7.190313  0.00054  0.119468\n",
      "Upper -2.884812  0.00486  1.438139\n"
     ]
    }
   ],
   "source": [
    "ci = bs.conf_int(logit_wrap, 10000, method='bca', reuse=True)\n",
    "ci = pd.DataFrame(ci, index=['Lower','Upper'], columns=exog.columns)\n",
    "print(ci)"
   ]
  },
  {
   "cell_type": "code",
   "execution_count": 27,
   "metadata": {},
   "outputs": [],
   "source": [
    "starcraft = '../GA_files/DSI-LDN-2/DSI7-lessons/week05/day3_bootstrapping_pipelines/statistics-bootstrapping-lesson/datasets/Starcraft_sample.csv'"
   ]
  },
  {
   "cell_type": "code",
   "execution_count": 28,
   "metadata": {},
   "outputs": [
    {
     "name": "stdout",
     "output_type": "stream",
     "text": [
      "(200, 20)\n"
     ]
    }
   ],
   "source": [
    "star = pd.read_csv(starcraft)\n",
    "print(star.shape)"
   ]
  },
  {
   "cell_type": "code",
   "execution_count": 29,
   "metadata": {},
   "outputs": [],
   "source": [
    "apm = star['APM']"
   ]
  },
  {
   "cell_type": "code",
   "execution_count": 30,
   "metadata": {},
   "outputs": [
    {
     "data": {
      "text/html": [
       "<div>\n",
       "<style scoped>\n",
       "    .dataframe tbody tr th:only-of-type {\n",
       "        vertical-align: middle;\n",
       "    }\n",
       "\n",
       "    .dataframe tbody tr th {\n",
       "        vertical-align: top;\n",
       "    }\n",
       "\n",
       "    .dataframe thead th {\n",
       "        text-align: right;\n",
       "    }\n",
       "</style>\n",
       "<table border=\"1\" class=\"dataframe\">\n",
       "  <thead>\n",
       "    <tr style=\"text-align: right;\">\n",
       "      <th></th>\n",
       "      <th>0</th>\n",
       "    </tr>\n",
       "  </thead>\n",
       "  <tbody>\n",
       "    <tr>\n",
       "      <th>Lower</th>\n",
       "      <td>107.201511</td>\n",
       "    </tr>\n",
       "    <tr>\n",
       "      <th>Upper</th>\n",
       "      <td>122.033419</td>\n",
       "    </tr>\n",
       "  </tbody>\n",
       "</table>\n",
       "</div>"
      ],
      "text/plain": [
       "                0\n",
       "Lower  107.201511\n",
       "Upper  122.033419"
      ]
     },
     "execution_count": 30,
     "metadata": {},
     "output_type": "execute_result"
    }
   ],
   "source": [
    "def mean_wrap(endog, exog):\n",
    "    return np.mean(endog)\n",
    "\n",
    "bs = IIDBootstrap(endog=apm,exog=apm)\n",
    "bs.seed(1)\n",
    "ci = bs.conf_int(mean_wrap, 10000, method='percentile')\n",
    "ci = pd.DataFrame(ci, index=['Lower','Upper'])\n",
    "ci"
   ]
  },
  {
   "cell_type": "code",
   "execution_count": 31,
   "metadata": {
    "scrolled": false
   },
   "outputs": [],
   "source": [
    "estimates = bs.apply(mean_wrap, 10000)"
   ]
  },
  {
   "cell_type": "code",
   "execution_count": 32,
   "metadata": {},
   "outputs": [
    {
     "data": {
      "text/plain": [
       "(10000, 1)"
      ]
     },
     "execution_count": 32,
     "metadata": {},
     "output_type": "execute_result"
    }
   ],
   "source": [
    "estimates.shape"
   ]
  },
  {
   "cell_type": "code",
   "execution_count": 33,
   "metadata": {},
   "outputs": [
    {
     "data": {
      "image/png": "[encoded data removed]",
      "text/plain": [
       "<Figure size 432x288 with 1 Axes>"
      ]
     },
     "metadata": {
      "image/png": {
       "height": 259,
       "width": 406
      },
      "needs_background": "light"
     },
     "output_type": "display_data"
    }
   ],
   "source": [
    "plt.hist(estimates);"
   ]
  },
  {
   "cell_type": "code",
   "execution_count": 34,
   "metadata": {},
   "outputs": [
    {
     "name": "stdout",
     "output_type": "stream",
     "text": [
      "106.90215704246647 114.323439 121.74472095753352\n"
     ]
    }
   ],
   "source": [
    "import scipy.stats as stats\n",
    "std = np.std(apm)\n",
    "sqrtn = np.sqrt(len(apm))\n",
    "\n",
    "apm_lower = np.mean(apm) + stats.norm().ppf(0.025)*(std/sqrtn)\n",
    "apm_upper = np.mean(apm) + stats.norm().ppf(0.975)*(std/sqrtn)\n",
    "\n",
    "print(apm_lower, np.mean(apm), apm_upper)"
   ]
  },
  {
   "cell_type": "code",
   "execution_count": 35,
   "metadata": {},
   "outputs": [
    {
     "data": {
      "text/html": [
       "<div>\n",
       "<style scoped>\n",
       "    .dataframe tbody tr th:only-of-type {\n",
       "        vertical-align: middle;\n",
       "    }\n",
       "\n",
       "    .dataframe tbody tr th {\n",
       "        vertical-align: top;\n",
       "    }\n",
       "\n",
       "    .dataframe thead th {\n",
       "        text-align: right;\n",
       "    }\n",
       "</style>\n",
       "<table border=\"1\" class=\"dataframe\">\n",
       "  <thead>\n",
       "    <tr style=\"text-align: right;\">\n",
       "      <th></th>\n",
       "      <th>0</th>\n",
       "    </tr>\n",
       "  </thead>\n",
       "  <tbody>\n",
       "    <tr>\n",
       "      <th>Lower</th>\n",
       "      <td>97.4820</td>\n",
       "    </tr>\n",
       "    <tr>\n",
       "      <th>Upper</th>\n",
       "      <td>112.9947</td>\n",
       "    </tr>\n",
       "  </tbody>\n",
       "</table>\n",
       "</div>"
      ],
      "text/plain": [
       "              0\n",
       "Lower   97.4820\n",
       "Upper  112.9947"
      ]
     },
     "execution_count": 35,
     "metadata": {},
     "output_type": "execute_result"
    }
   ],
   "source": [
    "def median_wrap(endog, exog):\n",
    "    return np.median(endog)\n",
    "\n",
    "bs = IIDBootstrap(endog=apm,exog=apm)\n",
    "bs.seed(10)\n",
    "ci = bs.conf_int(median_wrap, 10000, method='bca')\n",
    "ci = pd.DataFrame(ci, index=['Lower','Upper'])\n",
    "ci"
   ]
  },
  {
   "cell_type": "code",
   "execution_count": 36,
   "metadata": {},
   "outputs": [],
   "source": [
    "age = star.Age"
   ]
  },
  {
   "cell_type": "code",
   "execution_count": 37,
   "metadata": {
    "scrolled": false
   },
   "outputs": [
    {
     "data": {
      "text/html": [
       "<div>\n",
       "<style scoped>\n",
       "    .dataframe tbody tr th:only-of-type {\n",
       "        vertical-align: middle;\n",
       "    }\n",
       "\n",
       "    .dataframe tbody tr th {\n",
       "        vertical-align: top;\n",
       "    }\n",
       "\n",
       "    .dataframe thead th {\n",
       "        text-align: right;\n",
       "    }\n",
       "</style>\n",
       "<table border=\"1\" class=\"dataframe\">\n",
       "  <thead>\n",
       "    <tr style=\"text-align: right;\">\n",
       "      <th></th>\n",
       "      <th>0</th>\n",
       "    </tr>\n",
       "  </thead>\n",
       "  <tbody>\n",
       "    <tr>\n",
       "      <th>Lower</th>\n",
       "      <td>-0.341811</td>\n",
       "    </tr>\n",
       "    <tr>\n",
       "      <th>Upper</th>\n",
       "      <td>0.028999</td>\n",
       "    </tr>\n",
       "  </tbody>\n",
       "</table>\n",
       "</div>"
      ],
      "text/plain": [
       "              0\n",
       "Lower -0.341811\n",
       "Upper  0.028999"
      ]
     },
     "execution_count": 37,
     "metadata": {},
     "output_type": "execute_result"
    }
   ],
   "source": [
    "def corr_wrap(endog, exog):\n",
    "    return endog.corr().iloc[0,1]\n",
    "\n",
    "bs = IIDBootstrap(endog=star[['APM','Age']], exog=star[['APM','Age']])\n",
    "bs.seed(10)\n",
    "ci = bs.conf_int(corr_wrap, 10000, method='percentile')\n",
    "ci = pd.DataFrame(ci, index=['Lower','Upper'])\n",
    "ci"
   ]
  },
  {
   "cell_type": "markdown",
   "metadata": {},
   "source": [
    "## Linear regression with nonparametric bootstrap"
   ]
  },
  {
   "cell_type": "code",
   "execution_count": 38,
   "metadata": {},
   "outputs": [],
   "source": [
    "from sklearn.linear_model import LinearRegression\n",
    "def linreg_wrap(endog, exog):\n",
    "    model = LinearRegression()\n",
    "    model.fit(exog, endog)\n",
    "    return np.array([model.intercept_]+list(model.coef_.ravel())+[model.score(exog,endog)])\n",
    "bs = IIDBootstrap(endog=star['APM'], exog=star[['ActionLatency','Age']])\n",
    "bs.seed(10)"
   ]
  },
  {
   "cell_type": "code",
   "execution_count": 39,
   "metadata": {},
   "outputs": [
    {
     "data": {
      "text/plain": [
       "array([ 2.34866006e+02, -1.89766237e+00,  1.55501801e-01,  5.11601005e-01])"
      ]
     },
     "execution_count": 39,
     "metadata": {},
     "output_type": "execute_result"
    }
   ],
   "source": [
    "linreg_wrap(star['APM'], star[['ActionLatency','Age']])"
   ]
  },
  {
   "cell_type": "code",
   "execution_count": 40,
   "metadata": {},
   "outputs": [],
   "source": [
    "ci = bs.conf_int(linreg_wrap, 10000, method='percentile')"
   ]
  },
  {
   "cell_type": "code",
   "execution_count": 41,
   "metadata": {},
   "outputs": [
    {
     "data": {
      "text/html": [
       "<div>\n",
       "<style scoped>\n",
       "    .dataframe tbody tr th:only-of-type {\n",
       "        vertical-align: middle;\n",
       "    }\n",
       "\n",
       "    .dataframe tbody tr th {\n",
       "        vertical-align: top;\n",
       "    }\n",
       "\n",
       "    .dataframe thead th {\n",
       "        text-align: right;\n",
       "    }\n",
       "</style>\n",
       "<table border=\"1\" class=\"dataframe\">\n",
       "  <thead>\n",
       "    <tr style=\"text-align: right;\">\n",
       "      <th></th>\n",
       "      <th>0</th>\n",
       "      <th>1</th>\n",
       "      <th>2</th>\n",
       "      <th>3</th>\n",
       "    </tr>\n",
       "  </thead>\n",
       "  <tbody>\n",
       "    <tr>\n",
       "      <th>Lower</th>\n",
       "      <td>198.038172</td>\n",
       "      <td>-2.289802</td>\n",
       "      <td>-1.370639</td>\n",
       "      <td>0.442116</td>\n",
       "    </tr>\n",
       "    <tr>\n",
       "      <th>Upper</th>\n",
       "      <td>272.398396</td>\n",
       "      <td>-1.584727</td>\n",
       "      <td>1.990136</td>\n",
       "      <td>0.613044</td>\n",
       "    </tr>\n",
       "  </tbody>\n",
       "</table>\n",
       "</div>"
      ],
      "text/plain": [
       "                0         1         2         3\n",
       "Lower  198.038172 -2.289802 -1.370639  0.442116\n",
       "Upper  272.398396 -1.584727  1.990136  0.613044"
      ]
     },
     "execution_count": 41,
     "metadata": {},
     "output_type": "execute_result"
    }
   ],
   "source": [
    "ci = pd.DataFrame(ci, index=['Lower','Upper'])\n",
    "ci"
   ]
  },
  {
   "cell_type": "markdown",
   "metadata": {},
   "source": [
    "## Linear regression with semi-parametric bootstrap "
   ]
  },
  {
   "cell_type": "code",
   "execution_count": 42,
   "metadata": {},
   "outputs": [],
   "source": [
    "def ols(endog, exog, model=None, x_orig=None, columns=[]):\n",
    "    y = endog#.copy()\n",
    "    x = exog#.copy()\n",
    "    yhat = model.predict(x)\n",
    "    # bootstrap residuals\n",
    "    residuals = y - yhat\n",
    "    \n",
    "    # simulated data\n",
    "    y_star = model.predict(x_orig) + residuals\n",
    "    \n",
    "    # Parameter estimates\n",
    "    parameters = linreg_wrap(y_star, x_orig)\n",
    "    return parameters[:-1]"
   ]
  },
  {
   "cell_type": "code",
   "execution_count": 43,
   "metadata": {},
   "outputs": [
    {
     "data": {
      "text/plain": [
       "array([ 2.34866006e+02, -1.89766237e+00,  1.55501801e-01])"
      ]
     },
     "execution_count": 43,
     "metadata": {},
     "output_type": "execute_result"
    }
   ],
   "source": [
    "columns = ['ActionLatency','Age']\n",
    "\n",
    "\n",
    "model = LinearRegression()\n",
    "model.fit(star[columns],star['APM'])\n",
    "ols(star['APM'], star[columns], x_orig=star[columns], model=model, columns=columns)"
   ]
  },
  {
   "cell_type": "code",
   "execution_count": 44,
   "metadata": {},
   "outputs": [
    {
     "data": {
      "text/html": [
       "<div>\n",
       "<style scoped>\n",
       "    .dataframe tbody tr th:only-of-type {\n",
       "        vertical-align: middle;\n",
       "    }\n",
       "\n",
       "    .dataframe tbody tr th {\n",
       "        vertical-align: top;\n",
       "    }\n",
       "\n",
       "    .dataframe thead th {\n",
       "        text-align: right;\n",
       "    }\n",
       "</style>\n",
       "<table border=\"1\" class=\"dataframe\">\n",
       "  <thead>\n",
       "    <tr style=\"text-align: right;\">\n",
       "      <th></th>\n",
       "      <th>0</th>\n",
       "      <th>1</th>\n",
       "      <th>2</th>\n",
       "    </tr>\n",
       "  </thead>\n",
       "  <tbody>\n",
       "    <tr>\n",
       "      <th>Lower</th>\n",
       "      <td>205.508785</td>\n",
       "      <td>-2.14386</td>\n",
       "      <td>-0.931812</td>\n",
       "    </tr>\n",
       "    <tr>\n",
       "      <th>Upper</th>\n",
       "      <td>262.938078</td>\n",
       "      <td>-1.62636</td>\n",
       "      <td>1.343907</td>\n",
       "    </tr>\n",
       "  </tbody>\n",
       "</table>\n",
       "</div>"
      ],
      "text/plain": [
       "                0        1         2\n",
       "Lower  205.508785 -2.14386 -0.931812\n",
       "Upper  262.938078 -1.62636  1.343907"
      ]
     },
     "execution_count": 44,
     "metadata": {},
     "output_type": "execute_result"
    }
   ],
   "source": [
    "bs = IIDBootstrap(endog=star['APM'], exog=star[columns])\n",
    "ci = bs.conf_int(ols, 1000, method='percentile',\n",
    "                 sampling='semi', \n",
    "                 extra_kwargs={'columns': columns, 'model':model ,'x_orig': star[columns]})\n",
    "\n",
    "ci = pd.DataFrame(ci, index=['Lower','Upper'])\n",
    "ci"
   ]
  },
  {
   "cell_type": "code",
   "execution_count": 45,
   "metadata": {},
   "outputs": [
    {
     "data": {
      "text/plain": [
       "37.422536402874535"
      ]
     },
     "execution_count": 45,
     "metadata": {},
     "output_type": "execute_result"
    }
   ],
   "source": [
    "predictions = model.predict(star[columns])\n",
    "residuals = star['APM'] - predictions\n",
    "sigma = residuals.std(ddof=0)\n",
    "sigma"
   ]
  },
  {
   "cell_type": "code",
   "execution_count": 46,
   "metadata": {},
   "outputs": [],
   "source": [
    "normal = stats.norm()"
   ]
  },
  {
   "cell_type": "code",
   "execution_count": 47,
   "metadata": {},
   "outputs": [
    {
     "data": {
      "text/plain": [
       "array([-0.47523581])"
      ]
     },
     "execution_count": 47,
     "metadata": {},
     "output_type": "execute_result"
    }
   ],
   "source": [
    "stats.norm().rvs(size=1)"
   ]
  },
  {
   "cell_type": "code",
   "execution_count": 48,
   "metadata": {},
   "outputs": [],
   "source": [
    "def ols_np(endog, exog, model=None, x_orig=None, sigma=0):\n",
    "    \n",
    "    yhat = model.predict(x_orig)\n",
    "    # bootstrap residuals\n",
    "    #residuals = y - yhat\n",
    "    \n",
    "    # simulated data\n",
    "    epsilon = sigma*stats.norm().rvs(size=len(x_orig))\n",
    "    \n",
    "    y_star = yhat + epsilon \n",
    "    \n",
    "    # Parameter estimates\n",
    "    parameters = linreg_wrap(y_star, x_orig)\n",
    "    return parameters[:-1]"
   ]
  },
  {
   "cell_type": "code",
   "execution_count": 49,
   "metadata": {},
   "outputs": [
    {
     "data": {
      "text/plain": [
       "array([247.5618542 ,  -1.90502269,  -0.51028835])"
      ]
     },
     "execution_count": 49,
     "metadata": {},
     "output_type": "execute_result"
    }
   ],
   "source": [
    "ols_np(star['APM'], star[columns], x_orig=star[columns], model=model, sigma=sigma)"
   ]
  },
  {
   "cell_type": "code",
   "execution_count": 50,
   "metadata": {},
   "outputs": [],
   "source": [
    "bs_np = IIDBootstrap(endog=star['APM'], exog=star[columns])"
   ]
  },
  {
   "cell_type": "code",
   "execution_count": 51,
   "metadata": {},
   "outputs": [
    {
     "data": {
      "text/plain": [
       "array([[ 2.27814430e+02, -1.85645477e+00,  2.00618804e-01],\n",
       "       [ 2.39772039e+02, -1.92493722e+00, -9.68445957e-02],\n",
       "       [ 2.22640208e+02, -1.88402201e+00,  4.64561041e-01]])"
      ]
     },
     "execution_count": 51,
     "metadata": {},
     "output_type": "execute_result"
    }
   ],
   "source": [
    "bs_np.apply(ols_np,3,extra_kwargs={'model':model ,'x_orig': star[columns], 'sigma': sigma})"
   ]
  },
  {
   "cell_type": "code",
   "execution_count": 52,
   "metadata": {},
   "outputs": [
    {
     "ename": "TypeError",
     "evalue": "ols_np() got an unexpected keyword argument 'state'",
     "output_type": "error",
     "traceback": [
      "\u001b[0;31m---------------------------------------------------------------------------\u001b[0m",
      "\u001b[0;31mTypeError\u001b[0m                                 Traceback (most recent call last)",
      "\u001b[0;32m<ipython-input-52-8a724c26c570>\u001b[0m in \u001b[0;36m<module>\u001b[0;34m\u001b[0m\n\u001b[1;32m      1\u001b[0m ci = bs_np.conf_int(ols_np, 10, method='percentile',\n\u001b[1;32m      2\u001b[0m                  \u001b[0msampling\u001b[0m\u001b[0;34m=\u001b[0m\u001b[0;34m'parametric'\u001b[0m\u001b[0;34m,\u001b[0m\u001b[0;34m\u001b[0m\u001b[0;34m\u001b[0m\u001b[0m\n\u001b[0;32m----> 3\u001b[0;31m                  extra_kwargs={'model':model ,'x_orig': star[columns], 'sigma': sigma})\n\u001b[0m",
      "\u001b[0;32m/anaconda3/lib/python3.7/site-packages/arch/bootstrap/base.py\u001b[0m in \u001b[0;36mconf_int\u001b[0;34m(self, func, reps, method, size, tail, extra_kwargs, reuse, sampling, std_err_func, studentize_reps)\u001b[0m\n\u001b[1;32m    419\u001b[0m                                                 \u001b[0mstd_err_func\u001b[0m\u001b[0;34m=\u001b[0m\u001b[0mstd_err_func\u001b[0m\u001b[0;34m,\u001b[0m\u001b[0;34m\u001b[0m\u001b[0;34m\u001b[0m\u001b[0m\n\u001b[1;32m    420\u001b[0m                                                 \u001b[0mstudentize_reps\u001b[0m\u001b[0;34m=\u001b[0m\u001b[0mstudentize_reps\u001b[0m\u001b[0;34m,\u001b[0m  \u001b[0;31m# noqa\u001b[0m\u001b[0;34m\u001b[0m\u001b[0;34m\u001b[0m\u001b[0m\n\u001b[0;32m--> 421\u001b[0;31m                                                 sampling=sampling)\n\u001b[0m\u001b[1;32m    422\u001b[0m \u001b[0;34m\u001b[0m\u001b[0m\n\u001b[1;32m    423\u001b[0m         \u001b[0mbase\u001b[0m\u001b[0;34m,\u001b[0m \u001b[0mresults\u001b[0m \u001b[0;34m=\u001b[0m \u001b[0mself\u001b[0m\u001b[0;34m.\u001b[0m\u001b[0m_base\u001b[0m\u001b[0;34m,\u001b[0m \u001b[0mself\u001b[0m\u001b[0;34m.\u001b[0m\u001b[0m_results\u001b[0m\u001b[0;34m\u001b[0m\u001b[0;34m\u001b[0m\u001b[0m\n",
      "\u001b[0;32m/anaconda3/lib/python3.7/site-packages/arch/bootstrap/base.py\u001b[0m in \u001b[0;36m_construct_bootstrap_estimates\u001b[0;34m(self, func, reps, extra_kwargs, std_err_func, studentize_reps, sampling)\u001b[0m\n\u001b[1;32m    623\u001b[0m             \u001b[0;32melif\u001b[0m \u001b[0msemi\u001b[0m\u001b[0;34m:\u001b[0m\u001b[0;34m\u001b[0m\u001b[0;34m\u001b[0m\u001b[0m\n\u001b[1;32m    624\u001b[0m                 \u001b[0mkwargs\u001b[0m\u001b[0;34m[\u001b[0m\u001b[0;34m'params'\u001b[0m\u001b[0;34m]\u001b[0m \u001b[0;34m=\u001b[0m \u001b[0mbase\u001b[0m\u001b[0;34m\u001b[0m\u001b[0;34m\u001b[0m\u001b[0m\n\u001b[0;32m--> 625\u001b[0;31m             \u001b[0mresults\u001b[0m\u001b[0;34m[\u001b[0m\u001b[0mcount\u001b[0m\u001b[0;34m]\u001b[0m \u001b[0;34m=\u001b[0m \u001b[0mfunc\u001b[0m\u001b[0;34m(\u001b[0m\u001b[0;34m*\u001b[0m\u001b[0mpos_data\u001b[0m\u001b[0;34m,\u001b[0m \u001b[0;34m**\u001b[0m\u001b[0mkwargs\u001b[0m\u001b[0;34m)\u001b[0m\u001b[0;34m\u001b[0m\u001b[0;34m\u001b[0m\u001b[0m\n\u001b[0m\u001b[1;32m    626\u001b[0m             \u001b[0;32mif\u001b[0m \u001b[0mstd_err_func\u001b[0m \u001b[0;32mis\u001b[0m \u001b[0;32mnot\u001b[0m \u001b[0;32mNone\u001b[0m\u001b[0;34m:\u001b[0m\u001b[0;34m\u001b[0m\u001b[0;34m\u001b[0m\u001b[0m\n\u001b[1;32m    627\u001b[0m                 \u001b[0mstd_err\u001b[0m \u001b[0;34m=\u001b[0m \u001b[0mstd_err_func\u001b[0m\u001b[0;34m(\u001b[0m\u001b[0mresults\u001b[0m\u001b[0;34m[\u001b[0m\u001b[0mcount\u001b[0m\u001b[0;34m]\u001b[0m\u001b[0;34m,\u001b[0m \u001b[0;34m*\u001b[0m\u001b[0mpos_data\u001b[0m\u001b[0;34m,\u001b[0m \u001b[0;34m**\u001b[0m\u001b[0mkwargs\u001b[0m\u001b[0;34m)\u001b[0m\u001b[0;34m\u001b[0m\u001b[0;34m\u001b[0m\u001b[0m\n",
      "\u001b[0;31mTypeError\u001b[0m: ols_np() got an unexpected keyword argument 'state'"
     ]
    }
   ],
   "source": [
    "ci = bs_np.conf_int(ols_np, 10, method='percentile',\n",
    "                 sampling='parametric', \n",
    "                 extra_kwargs={'model':model ,'x_orig': star[columns], 'sigma': sigma})"
   ]
  },
  {
   "cell_type": "code",
   "execution_count": 253,
   "metadata": {},
   "outputs": [
    {
     "ename": "TypeError",
     "evalue": "ols_np() got an unexpected keyword argument 'state'",
     "output_type": "error",
     "traceback": [
      "\u001b[0;31m---------------------------------------------------------------------------\u001b[0m",
      "\u001b[0;31mTypeError\u001b[0m                                 Traceback (most recent call last)",
      "\u001b[0;32m<ipython-input-253-9c9092d8d813>\u001b[0m in \u001b[0;36m<module>\u001b[0;34m()\u001b[0m\n\u001b[1;32m      1\u001b[0m ci = bs_np.conf_int(ols_np, 10, method='percentile',\n\u001b[1;32m      2\u001b[0m                  \u001b[0msampling\u001b[0m\u001b[0;34m=\u001b[0m\u001b[0;34m'parametric'\u001b[0m\u001b[0;34m,\u001b[0m\u001b[0;34m\u001b[0m\u001b[0m\n\u001b[0;32m----> 3\u001b[0;31m                  extra_kwargs={'model':model ,'x_orig': star[columns], 'sigma': sigma})\n\u001b[0m\u001b[1;32m      4\u001b[0m \u001b[0;34m\u001b[0m\u001b[0m\n\u001b[1;32m      5\u001b[0m \u001b[0mci\u001b[0m \u001b[0;34m=\u001b[0m \u001b[0mpd\u001b[0m\u001b[0;34m.\u001b[0m\u001b[0mDataFrame\u001b[0m\u001b[0;34m(\u001b[0m\u001b[0mci\u001b[0m\u001b[0;34m,\u001b[0m \u001b[0mindex\u001b[0m\u001b[0;34m=\u001b[0m\u001b[0;34m[\u001b[0m\u001b[0;34m'Lower'\u001b[0m\u001b[0;34m,\u001b[0m\u001b[0;34m'Upper'\u001b[0m\u001b[0;34m]\u001b[0m\u001b[0;34m)\u001b[0m\u001b[0;34m\u001b[0m\u001b[0m\n",
      "\u001b[0;32m/anaconda3/lib/python3.7/site-packages/arch/bootstrap/base.py\u001b[0m in \u001b[0;36mconf_int\u001b[0;34m(self, func, reps, method, size, tail, extra_kwargs, reuse, sampling, std_err_func, studentize_reps)\u001b[0m\n\u001b[1;32m    419\u001b[0m                                                 \u001b[0mstd_err_func\u001b[0m\u001b[0;34m=\u001b[0m\u001b[0mstd_err_func\u001b[0m\u001b[0;34m,\u001b[0m\u001b[0;34m\u001b[0m\u001b[0m\n\u001b[1;32m    420\u001b[0m                                                 \u001b[0mstudentize_reps\u001b[0m\u001b[0;34m=\u001b[0m\u001b[0mstudentize_reps\u001b[0m\u001b[0;34m,\u001b[0m  \u001b[0;31m# noqa\u001b[0m\u001b[0;34m\u001b[0m\u001b[0m\n\u001b[0;32m--> 421\u001b[0;31m                                                 sampling=sampling)\n\u001b[0m\u001b[1;32m    422\u001b[0m \u001b[0;34m\u001b[0m\u001b[0m\n\u001b[1;32m    423\u001b[0m         \u001b[0mbase\u001b[0m\u001b[0;34m,\u001b[0m \u001b[0mresults\u001b[0m \u001b[0;34m=\u001b[0m \u001b[0mself\u001b[0m\u001b[0;34m.\u001b[0m\u001b[0m_base\u001b[0m\u001b[0;34m,\u001b[0m \u001b[0mself\u001b[0m\u001b[0;34m.\u001b[0m\u001b[0m_results\u001b[0m\u001b[0;34m\u001b[0m\u001b[0m\n",
      "\u001b[0;32m/anaconda3/lib/python3.7/site-packages/arch/bootstrap/base.py\u001b[0m in \u001b[0;36m_construct_bootstrap_estimates\u001b[0;34m(self, func, reps, extra_kwargs, std_err_func, studentize_reps, sampling)\u001b[0m\n\u001b[1;32m    623\u001b[0m             \u001b[0;32melif\u001b[0m \u001b[0msemi\u001b[0m\u001b[0;34m:\u001b[0m\u001b[0;34m\u001b[0m\u001b[0m\n\u001b[1;32m    624\u001b[0m                 \u001b[0mkwargs\u001b[0m\u001b[0;34m[\u001b[0m\u001b[0;34m'params'\u001b[0m\u001b[0;34m]\u001b[0m \u001b[0;34m=\u001b[0m \u001b[0mbase\u001b[0m\u001b[0;34m\u001b[0m\u001b[0m\n\u001b[0;32m--> 625\u001b[0;31m             \u001b[0mresults\u001b[0m\u001b[0;34m[\u001b[0m\u001b[0mcount\u001b[0m\u001b[0;34m]\u001b[0m \u001b[0;34m=\u001b[0m \u001b[0mfunc\u001b[0m\u001b[0;34m(\u001b[0m\u001b[0;34m*\u001b[0m\u001b[0mpos_data\u001b[0m\u001b[0;34m,\u001b[0m \u001b[0;34m**\u001b[0m\u001b[0mkwargs\u001b[0m\u001b[0;34m)\u001b[0m\u001b[0;34m\u001b[0m\u001b[0m\n\u001b[0m\u001b[1;32m    626\u001b[0m             \u001b[0;32mif\u001b[0m \u001b[0mstd_err_func\u001b[0m \u001b[0;32mis\u001b[0m \u001b[0;32mnot\u001b[0m \u001b[0;32mNone\u001b[0m\u001b[0;34m:\u001b[0m\u001b[0;34m\u001b[0m\u001b[0m\n\u001b[1;32m    627\u001b[0m                 \u001b[0mstd_err\u001b[0m \u001b[0;34m=\u001b[0m \u001b[0mstd_err_func\u001b[0m\u001b[0;34m(\u001b[0m\u001b[0mresults\u001b[0m\u001b[0;34m[\u001b[0m\u001b[0mcount\u001b[0m\u001b[0;34m]\u001b[0m\u001b[0;34m,\u001b[0m \u001b[0;34m*\u001b[0m\u001b[0mpos_data\u001b[0m\u001b[0;34m,\u001b[0m \u001b[0;34m**\u001b[0m\u001b[0mkwargs\u001b[0m\u001b[0;34m)\u001b[0m\u001b[0;34m\u001b[0m\u001b[0m\n",
      "\u001b[0;31mTypeError\u001b[0m: ols_np() got an unexpected keyword argument 'state'"
     ]
    }
   ],
   "source": [
    "ci = pd.DataFrame(ci, index=['Lower','Upper'])\n",
    "ci"
   ]
  },
  {
   "cell_type": "code",
   "execution_count": null,
   "metadata": {},
   "outputs": [],
   "source": []
  }
 ],
 "metadata": {
  "kernelspec": {
   "display_name": "Python 3",
   "language": "python",
   "name": "python3"
  },
  "language_info": {
   "codemirror_mode": {
    "name": "ipython",
    "version": 3
   },
   "file_extension": ".py",
   "mimetype": "text/x-python",
   "name": "python",
   "nbconvert_exporter": "python",
   "pygments_lexer": "ipython3",
   "version": "3.7.1"
  },
  "toc": {
   "base_numbering": 1,
   "nav_menu": {},
   "number_sections": true,
   "sideBar": true,
   "skip_h1_title": false,
   "title_cell": "Table of Contents",
   "title_sidebar": "Contents",
   "toc_cell": false,
   "toc_position": {},
   "toc_section_display": true,
   "toc_window_display": false
  }
 },
 "nbformat": 4,
 "nbformat_minor": 2
}
