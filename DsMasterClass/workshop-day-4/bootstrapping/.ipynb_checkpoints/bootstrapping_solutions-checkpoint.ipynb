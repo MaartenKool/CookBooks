{
 "cells": [
  {
   "cell_type": "markdown",
   "metadata": {},
   "source": [
    "# Bootstrap solutions \n",
    "\n",
    "_Author: Christoph Rahmede_"
   ]
  },
  {
   "cell_type": "code",
   "execution_count": 1,
   "metadata": {},
   "outputs": [],
   "source": [
    "import pandas as pd\n",
    "import numpy as np\n",
    "import matplotlib.pyplot as plt\n",
    "import seaborn as sns\n",
    "sns.set(font_scale=1.5)\n",
    "\n",
    "%config InlineBackend.figure_format = 'retina'\n",
    "%matplotlib inline\n",
    "\n",
    "import warnings\n",
    "warnings.simplefilter('ignore')"
   ]
  },
  {
   "cell_type": "code",
   "execution_count": 2,
   "metadata": {},
   "outputs": [
    {
     "name": "stdout",
     "output_type": "stream",
     "text": [
      "<class 'pandas.core.frame.DataFrame'>\n",
      "RangeIndex: 392 entries, 0 to 391\n",
      "Data columns (total 11 columns):\n",
      "index           392 non-null int64\n",
      "mpg             392 non-null float64\n",
      "cylinders       392 non-null int64\n",
      "displacement    392 non-null float64\n",
      "horsepower      392 non-null float64\n",
      "weight          392 non-null float64\n",
      "acceleration    392 non-null float64\n",
      "year            392 non-null int64\n",
      "origin          392 non-null int64\n",
      "name            392 non-null object\n",
      "brand           392 non-null object\n",
      "dtypes: float64(5), int64(4), object(2)\n",
      "memory usage: 33.8+ KB\n"
     ]
    }
   ],
   "source": [
    "df = pd.read_csv(\n",
    "    '../../../dataset-collection/auto-mpg/auto-mpg.csv', sep='\\s+', header=None)\n",
    "df.columns = ['mpg', 'cylinders', 'displacement', 'horsepower',\n",
    "              'weight', 'acceleration', 'year', 'origin', 'name']\n",
    "df.drop(df[df.horsepower == '?'].index, inplace=True)\n",
    "df['horsepower'] = df.horsepower.astype(float)\n",
    "df['brand'] = df.name.map(lambda x: x.split(' ')[0]\n",
    "                          ).replace(\n",
    "    {'toyouta': 'toyota',\n",
    "     'maxda': 'mazda',\n",
    "     'chevroelt': 'chevrolet',\n",
    "     'vw': 'volkswagen',\n",
    "     'vokswagen': 'volkswagen',\n",
    "     'mercedes-benz': 'mercedes'})\n",
    "# this time we reset the index - this is important\n",
    "df.reset_index(inplace=True)\n",
    "df.info()"
   ]
  },
  {
   "cell_type": "code",
   "execution_count": 3,
   "metadata": {},
   "outputs": [],
   "source": [
    "import statsmodels.api as sm\n",
    "from arch.bootstrap import IIDBootstrap"
   ]
  },
  {
   "cell_type": "markdown",
   "metadata": {},
   "source": [
    "#### Write a new wrapper which allows to determine confidence intervals when using the Lasso"
   ]
  },
  {
   "cell_type": "code",
   "execution_count": 4,
   "metadata": {},
   "outputs": [
    {
     "data": {
      "text/plain": [
       "array([39.86516803, -0.15716805,  0.60593712])"
      ]
     },
     "execution_count": 4,
     "metadata": {},
     "output_type": "execute_result"
    }
   ],
   "source": [
    "from sklearn.linear_model import Lasso\n",
    "def lasso_wrap(endog, exog, alpha=1):\n",
    "    model = Lasso(alpha=alpha)\n",
    "    model.fit(exog, endog)\n",
    "\n",
    "    return np.array([model.intercept_]+list(model.coef_.ravel())+[model.score(exog,endog)])\n",
    "\n",
    "lasso_wrap(df['mpg'], df[['horsepower']])"
   ]
  },
  {
   "cell_type": "code",
   "execution_count": 5,
   "metadata": {},
   "outputs": [
    {
     "data": {
      "text/html": [
       "<div>\n",
       "<style scoped>\n",
       "    .dataframe tbody tr th:only-of-type {\n",
       "        vertical-align: middle;\n",
       "    }\n",
       "\n",
       "    .dataframe tbody tr th {\n",
       "        vertical-align: top;\n",
       "    }\n",
       "\n",
       "    .dataframe thead th {\n",
       "        text-align: right;\n",
       "    }\n",
       "</style>\n",
       "<table border=\"1\" class=\"dataframe\">\n",
       "  <thead>\n",
       "    <tr style=\"text-align: right;\">\n",
       "      <th></th>\n",
       "      <th>0</th>\n",
       "      <th>1</th>\n",
       "      <th>2</th>\n",
       "    </tr>\n",
       "  </thead>\n",
       "  <tbody>\n",
       "    <tr>\n",
       "      <th>Lower</th>\n",
       "      <td>36.310036</td>\n",
       "      <td>-0.150327</td>\n",
       "      <td>0.550093</td>\n",
       "    </tr>\n",
       "    <tr>\n",
       "      <th>Upper</th>\n",
       "      <td>39.353966</td>\n",
       "      <td>-0.125720</td>\n",
       "      <td>0.644238</td>\n",
       "    </tr>\n",
       "  </tbody>\n",
       "</table>\n",
       "</div>"
      ],
      "text/plain": [
       "               0         1         2\n",
       "Lower  36.310036 -0.150327  0.550093\n",
       "Upper  39.353966 -0.125720  0.644238"
      ]
     },
     "execution_count": 5,
     "metadata": {},
     "output_type": "execute_result"
    }
   ],
   "source": [
    "bs = IIDBootstrap(endog=df['mpg'], exog=df[['horsepower']])\n",
    "bs.seed(10)\n",
    "ci = bs.conf_int(lasso_wrap, 1000, method='percentile', extra_kwargs={'alpha':30})\n",
    "ci = pd.DataFrame(ci, index=['Lower','Upper'])\n",
    "ci"
   ]
  },
  {
   "cell_type": "markdown",
   "metadata": {},
   "source": [
    "#### Write a new wrapper which allows to use Logistic Regression\n",
    "\n",
    "- Predict `origin` as the outcome variable. \n",
    "- You will have to use binary logistic regression to compare to statsmodels' `sm.Logit` (e.g. by setting `df['origin']==1`).\n",
    "- If you want to make your wrapper work for multiple classes, you will have to flatten the array of coefficients."
   ]
  },
  {
   "cell_type": "code",
   "execution_count": 6,
   "metadata": {},
   "outputs": [
    {
     "name": "stdout",
     "output_type": "stream",
     "text": [
      "Optimization terminated successfully.\n",
      "         Current function value: 0.467744\n",
      "         Iterations 7\n"
     ]
    },
    {
     "data": {
      "text/html": [
       "<table class=\"simpletable\">\n",
       "<caption>Logit Regression Results</caption>\n",
       "<tr>\n",
       "  <th>Dep. Variable:</th>      <td>origin</td>      <th>  No. Observations:  </th>  <td>   392</td>  \n",
       "</tr>\n",
       "<tr>\n",
       "  <th>Model:</th>               <td>Logit</td>      <th>  Df Residuals:      </th>  <td>   389</td>  \n",
       "</tr>\n",
       "<tr>\n",
       "  <th>Method:</th>               <td>MLE</td>       <th>  Df Model:          </th>  <td>     2</td>  \n",
       "</tr>\n",
       "<tr>\n",
       "  <th>Date:</th>          <td>Sun, 10 Feb 2019</td> <th>  Pseudo R-squ.:     </th>  <td>0.2930</td>  \n",
       "</tr>\n",
       "<tr>\n",
       "  <th>Time:</th>              <td>20:44:54</td>     <th>  Log-Likelihood:    </th> <td> -183.36</td> \n",
       "</tr>\n",
       "<tr>\n",
       "  <th>converged:</th>           <td>True</td>       <th>  LL-Null:           </th> <td> -259.33</td> \n",
       "</tr>\n",
       "<tr>\n",
       "  <th> </th>                      <td> </td>        <th>  LLR p-value:       </th> <td>1.008e-33</td>\n",
       "</tr>\n",
       "</table>\n",
       "<table class=\"simpletable\">\n",
       "<tr>\n",
       "       <td></td>         <th>coef</th>     <th>std err</th>      <th>z</th>      <th>P>|z|</th>  <th>[0.025</th>    <th>0.975]</th>  \n",
       "</tr>\n",
       "<tr>\n",
       "  <th>const</th>      <td>    1.2542</td> <td>    1.284</td> <td>    0.977</td> <td> 0.329</td> <td>   -1.262</td> <td>    3.770</td>\n",
       "</tr>\n",
       "<tr>\n",
       "  <th>mpg</th>        <td>   -0.1250</td> <td>    0.028</td> <td>   -4.459</td> <td> 0.000</td> <td>   -0.180</td> <td>   -0.070</td>\n",
       "</tr>\n",
       "<tr>\n",
       "  <th>horsepower</th> <td>    0.0244</td> <td>    0.008</td> <td>    3.175</td> <td> 0.001</td> <td>    0.009</td> <td>    0.040</td>\n",
       "</tr>\n",
       "</table>"
      ],
      "text/plain": [
       "<class 'statsmodels.iolib.summary.Summary'>\n",
       "\"\"\"\n",
       "                           Logit Regression Results                           \n",
       "==============================================================================\n",
       "Dep. Variable:                 origin   No. Observations:                  392\n",
       "Model:                          Logit   Df Residuals:                      389\n",
       "Method:                           MLE   Df Model:                            2\n",
       "Date:                Sun, 10 Feb 2019   Pseudo R-squ.:                  0.2930\n",
       "Time:                        20:44:54   Log-Likelihood:                -183.36\n",
       "converged:                       True   LL-Null:                       -259.33\n",
       "                                        LLR p-value:                 1.008e-33\n",
       "==============================================================================\n",
       "                 coef    std err          z      P>|z|      [0.025      0.975]\n",
       "------------------------------------------------------------------------------\n",
       "const          1.2542      1.284      0.977      0.329      -1.262       3.770\n",
       "mpg           -0.1250      0.028     -4.459      0.000      -0.180      -0.070\n",
       "horsepower     0.0244      0.008      3.175      0.001       0.009       0.040\n",
       "==============================================================================\n",
       "\"\"\""
      ]
     },
     "execution_count": 6,
     "metadata": {},
     "output_type": "execute_result"
    }
   ],
   "source": [
    "results_1 = sm.Logit(df.origin==1,sm.add_constant(df[['mpg','horsepower']])).fit()\n",
    "results_1.summary()"
   ]
  },
  {
   "cell_type": "code",
   "execution_count": 7,
   "metadata": {},
   "outputs": [],
   "source": [
    "from sklearn.linear_model import LogisticRegression"
   ]
  },
  {
   "cell_type": "code",
   "execution_count": 8,
   "metadata": {},
   "outputs": [],
   "source": [
    "def logreg_wrap(endog, exog):\n",
    "    model = LogisticRegression(C=10**10)\n",
    "    model.fit(exog, endog)\n",
    "    return np.array(list(model.intercept_)+list(model.coef_.ravel())+[model.score(exog,endog)])"
   ]
  },
  {
   "cell_type": "markdown",
   "metadata": {},
   "source": [
    "Binary classification:"
   ]
  },
  {
   "cell_type": "code",
   "execution_count": 9,
   "metadata": {},
   "outputs": [
    {
     "data": {
      "text/html": [
       "<div>\n",
       "<style scoped>\n",
       "    .dataframe tbody tr th:only-of-type {\n",
       "        vertical-align: middle;\n",
       "    }\n",
       "\n",
       "    .dataframe tbody tr th {\n",
       "        vertical-align: top;\n",
       "    }\n",
       "\n",
       "    .dataframe thead th {\n",
       "        text-align: right;\n",
       "    }\n",
       "</style>\n",
       "<table border=\"1\" class=\"dataframe\">\n",
       "  <thead>\n",
       "    <tr style=\"text-align: right;\">\n",
       "      <th></th>\n",
       "      <th>0</th>\n",
       "      <th>1</th>\n",
       "      <th>2</th>\n",
       "      <th>3</th>\n",
       "    </tr>\n",
       "  </thead>\n",
       "  <tbody>\n",
       "    <tr>\n",
       "      <th>Lower</th>\n",
       "      <td>-1.093500</td>\n",
       "      <td>-0.186748</td>\n",
       "      <td>0.012917</td>\n",
       "      <td>0.716837</td>\n",
       "    </tr>\n",
       "    <tr>\n",
       "      <th>Upper</th>\n",
       "      <td>3.657869</td>\n",
       "      <td>-0.076508</td>\n",
       "      <td>0.038427</td>\n",
       "      <td>0.806122</td>\n",
       "    </tr>\n",
       "  </tbody>\n",
       "</table>\n",
       "</div>"
      ],
      "text/plain": [
       "              0         1         2         3\n",
       "Lower -1.093500 -0.186748  0.012917  0.716837\n",
       "Upper  3.657869 -0.076508  0.038427  0.806122"
      ]
     },
     "execution_count": 9,
     "metadata": {},
     "output_type": "execute_result"
    }
   ],
   "source": [
    "bs = IIDBootstrap(endog=df['origin']==1, exog=df[['mpg','horsepower']])\n",
    "bs.seed(10)\n",
    "ci = bs.conf_int(logreg_wrap, 1000, method='percentile')\n",
    "ci = pd.DataFrame(ci, index=['Lower','Upper'])\n",
    "ci"
   ]
  },
  {
   "cell_type": "markdown",
   "metadata": {},
   "source": [
    "Multiclass classification:"
   ]
  },
  {
   "cell_type": "code",
   "execution_count": 10,
   "metadata": {},
   "outputs": [
    {
     "data": {
      "text/html": [
       "<div>\n",
       "<style scoped>\n",
       "    .dataframe tbody tr th:only-of-type {\n",
       "        vertical-align: middle;\n",
       "    }\n",
       "\n",
       "    .dataframe tbody tr th {\n",
       "        vertical-align: top;\n",
       "    }\n",
       "\n",
       "    .dataframe thead th {\n",
       "        text-align: right;\n",
       "    }\n",
       "</style>\n",
       "<table border=\"1\" class=\"dataframe\">\n",
       "  <thead>\n",
       "    <tr style=\"text-align: right;\">\n",
       "      <th></th>\n",
       "      <th>0</th>\n",
       "      <th>1</th>\n",
       "      <th>2</th>\n",
       "      <th>3</th>\n",
       "      <th>4</th>\n",
       "      <th>5</th>\n",
       "      <th>6</th>\n",
       "      <th>7</th>\n",
       "      <th>8</th>\n",
       "      <th>9</th>\n",
       "    </tr>\n",
       "  </thead>\n",
       "  <tbody>\n",
       "    <tr>\n",
       "      <th>Lower</th>\n",
       "      <td>-1.093500</td>\n",
       "      <td>0.000221</td>\n",
       "      <td>-6.804149</td>\n",
       "      <td>-0.186748</td>\n",
       "      <td>0.012917</td>\n",
       "      <td>-0.065109</td>\n",
       "      <td>-0.056782</td>\n",
       "      <td>0.090394</td>\n",
       "      <td>-0.020255</td>\n",
       "      <td>0.647895</td>\n",
       "    </tr>\n",
       "    <tr>\n",
       "      <th>Upper</th>\n",
       "      <td>3.657869</td>\n",
       "      <td>4.884507</td>\n",
       "      <td>-2.188779</td>\n",
       "      <td>-0.076508</td>\n",
       "      <td>0.038427</td>\n",
       "      <td>0.032687</td>\n",
       "      <td>-0.022628</td>\n",
       "      <td>0.202965</td>\n",
       "      <td>0.003759</td>\n",
       "      <td>0.742411</td>\n",
       "    </tr>\n",
       "  </tbody>\n",
       "</table>\n",
       "</div>"
      ],
      "text/plain": [
       "              0         1         2         3         4         5         6  \\\n",
       "Lower -1.093500  0.000221 -6.804149 -0.186748  0.012917 -0.065109 -0.056782   \n",
       "Upper  3.657869  4.884507 -2.188779 -0.076508  0.038427  0.032687 -0.022628   \n",
       "\n",
       "              7         8         9  \n",
       "Lower  0.090394 -0.020255  0.647895  \n",
       "Upper  0.202965  0.003759  0.742411  "
      ]
     },
     "execution_count": 10,
     "metadata": {},
     "output_type": "execute_result"
    }
   ],
   "source": [
    "bs = IIDBootstrap(endog=df['origin'], exog=df[['mpg','horsepower']])\n",
    "bs.seed(10)\n",
    "ci = bs.conf_int(logreg_wrap, 1000, method='percentile')\n",
    "ci = pd.DataFrame(ci, index=['Lower','Upper'])\n",
    "ci"
   ]
  },
  {
   "cell_type": "code",
   "execution_count": null,
   "metadata": {},
   "outputs": [],
   "source": []
  }
 ],
 "metadata": {
  "kernelspec": {
   "display_name": "Python 3",
   "language": "python",
   "name": "python3"
  },
  "language_info": {
   "codemirror_mode": {
    "name": "ipython",
    "version": 3
   },
   "file_extension": ".py",
   "mimetype": "text/x-python",
   "name": "python",
   "nbconvert_exporter": "python",
   "pygments_lexer": "ipython3",
   "version": "3.7.1"
  },
  "toc": {
   "base_numbering": 1,
   "nav_menu": {},
   "number_sections": false,
   "sideBar": true,
   "skip_h1_title": true,
   "title_cell": "Table of Contents",
   "title_sidebar": "Contents",
   "toc_cell": false,
   "toc_position": {},
   "toc_section_display": true,
   "toc_window_display": false
  }
 },
 "nbformat": 4,
 "nbformat_minor": 2
}
