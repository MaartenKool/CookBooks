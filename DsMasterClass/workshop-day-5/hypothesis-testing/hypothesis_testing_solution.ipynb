{
 "cells": [
  {
   "cell_type": "markdown",
   "metadata": {},
   "source": [
    "## Compare the differences across different variables"
   ]
  },
  {
   "cell_type": "code",
   "execution_count": 1,
   "metadata": {},
   "outputs": [],
   "source": [
    "import pandas as pd\n",
    "import numpy as np\n",
    "import matplotlib.pyplot as plt\n",
    "import seaborn as sns\n",
    "sns.set(font_scale=1.5)\n",
    "\n",
    "%config InlineBackend.figure_format = 'retina'\n",
    "%matplotlib inline\n",
    "\n",
    "from scipy import stats\n",
    "import warnings\n",
    "warnings.simplefilter('ignore')"
   ]
  },
  {
   "cell_type": "code",
   "execution_count": 2,
   "metadata": {},
   "outputs": [],
   "source": [
    "import statsmodels.api as sm"
   ]
  },
  {
   "cell_type": "code",
   "execution_count": 3,
   "metadata": {},
   "outputs": [
    {
     "name": "stdout",
     "output_type": "stream",
     "text": [
      "<class 'pandas.core.frame.DataFrame'>\n",
      "Int64Index: 392 entries, 0 to 397\n",
      "Data columns (total 10 columns):\n",
      "mpg             392 non-null float64\n",
      "cylinders       392 non-null int64\n",
      "displacement    392 non-null float64\n",
      "horsepower      392 non-null float64\n",
      "weight          392 non-null float64\n",
      "acceleration    392 non-null float64\n",
      "year            392 non-null int64\n",
      "origin          392 non-null int64\n",
      "name            392 non-null object\n",
      "brand           392 non-null object\n",
      "dtypes: float64(5), int64(3), object(2)\n",
      "memory usage: 33.7+ KB\n"
     ]
    }
   ],
   "source": [
    "df = pd.read_csv(\n",
    "    '../../../dataset-collection/auto-mpg/auto-mpg.csv', sep='\\s+', header=None)\n",
    "df.columns = ['mpg', 'cylinders', 'displacement', 'horsepower',\n",
    "              'weight', 'acceleration', 'year', 'origin', 'name']\n",
    "df.drop(df[df.horsepower == '?'].index, inplace=True)\n",
    "df['horsepower'] = df.horsepower.astype(float)\n",
    "df['brand'] = df.name.map(lambda x: x.split(' ')[0]\n",
    "                          ).replace(\n",
    "    {'toyouta': 'toyota',\n",
    "     'maxda': 'mazda',\n",
    "     'chevroelt': 'chevrolet',\n",
    "     'vw': 'volkswagen',\n",
    "     'vokswagen': 'volkswagen',\n",
    "     'mercedes-benz': 'mercedes'})\n",
    "df.info()"
   ]
  },
  {
   "cell_type": "code",
   "execution_count": 4,
   "metadata": {},
   "outputs": [],
   "source": [
    "cols = [col for col in df.columns if col not in ['origin','brand','name']]"
   ]
  },
  {
   "cell_type": "code",
   "execution_count": 5,
   "metadata": {},
   "outputs": [
    {
     "data": {
      "text/html": [
       "<div>\n",
       "<style scoped>\n",
       "    .dataframe tbody tr th:only-of-type {\n",
       "        vertical-align: middle;\n",
       "    }\n",
       "\n",
       "    .dataframe tbody tr th {\n",
       "        vertical-align: top;\n",
       "    }\n",
       "\n",
       "    .dataframe thead th {\n",
       "        text-align: right;\n",
       "    }\n",
       "</style>\n",
       "<table border=\"1\" class=\"dataframe\">\n",
       "  <thead>\n",
       "    <tr style=\"text-align: right;\">\n",
       "      <th></th>\n",
       "      <th>mpg</th>\n",
       "      <th>cylinders</th>\n",
       "      <th>displacement</th>\n",
       "      <th>horsepower</th>\n",
       "      <th>weight</th>\n",
       "      <th>acceleration</th>\n",
       "      <th>year</th>\n",
       "    </tr>\n",
       "    <tr>\n",
       "      <th>origin</th>\n",
       "      <th></th>\n",
       "      <th></th>\n",
       "      <th></th>\n",
       "      <th></th>\n",
       "      <th></th>\n",
       "      <th></th>\n",
       "      <th></th>\n",
       "    </tr>\n",
       "  </thead>\n",
       "  <tbody>\n",
       "    <tr>\n",
       "      <th>1</th>\n",
       "      <td>20.033469</td>\n",
       "      <td>6.277551</td>\n",
       "      <td>247.512245</td>\n",
       "      <td>119.048980</td>\n",
       "      <td>3372.489796</td>\n",
       "      <td>14.990204</td>\n",
       "      <td>75.591837</td>\n",
       "    </tr>\n",
       "    <tr>\n",
       "      <th>2</th>\n",
       "      <td>27.602941</td>\n",
       "      <td>4.161765</td>\n",
       "      <td>109.632353</td>\n",
       "      <td>80.558824</td>\n",
       "      <td>2433.470588</td>\n",
       "      <td>16.794118</td>\n",
       "      <td>75.676471</td>\n",
       "    </tr>\n",
       "    <tr>\n",
       "      <th>3</th>\n",
       "      <td>30.450633</td>\n",
       "      <td>4.101266</td>\n",
       "      <td>102.708861</td>\n",
       "      <td>79.835443</td>\n",
       "      <td>2221.227848</td>\n",
       "      <td>16.172152</td>\n",
       "      <td>77.443038</td>\n",
       "    </tr>\n",
       "  </tbody>\n",
       "</table>\n",
       "</div>"
      ],
      "text/plain": [
       "              mpg  cylinders  displacement  horsepower       weight  \\\n",
       "origin                                                                \n",
       "1       20.033469   6.277551    247.512245  119.048980  3372.489796   \n",
       "2       27.602941   4.161765    109.632353   80.558824  2433.470588   \n",
       "3       30.450633   4.101266    102.708861   79.835443  2221.227848   \n",
       "\n",
       "        acceleration       year  \n",
       "origin                           \n",
       "1          14.990204  75.591837  \n",
       "2          16.794118  75.676471  \n",
       "3          16.172152  77.443038  "
      ]
     },
     "execution_count": 5,
     "metadata": {},
     "output_type": "execute_result"
    }
   ],
   "source": [
    "grouped = df.groupby('origin')[cols].agg(np.mean)\n",
    "grouped"
   ]
  },
  {
   "cell_type": "code",
   "execution_count": 6,
   "metadata": {},
   "outputs": [],
   "source": [
    "statistic_12, pvalue_12 = (stats.ttest_ind(df[cols][df.origin==1], df[cols][df.origin==2]))\n",
    "statistic_13, pvalue_13 = (stats.ttest_ind(df[cols][df.origin==1], df[cols][df.origin==3]))\n",
    "statistic_23, pvalue_23 = (stats.ttest_ind(df[cols][df.origin==2], df[cols][df.origin==3]))"
   ]
  },
  {
   "cell_type": "code",
   "execution_count": 7,
   "metadata": {},
   "outputs": [
    {
     "data": {
      "text/html": [
       "<div>\n",
       "<style scoped>\n",
       "    .dataframe tbody tr th:only-of-type {\n",
       "        vertical-align: middle;\n",
       "    }\n",
       "\n",
       "    .dataframe tbody tr th {\n",
       "        vertical-align: top;\n",
       "    }\n",
       "\n",
       "    .dataframe thead th {\n",
       "        text-align: right;\n",
       "    }\n",
       "</style>\n",
       "<table border=\"1\" class=\"dataframe\">\n",
       "  <thead>\n",
       "    <tr style=\"text-align: right;\">\n",
       "      <th></th>\n",
       "      <th>statistic_12</th>\n",
       "      <th>pvalue_12</th>\n",
       "      <th>statistic_13</th>\n",
       "      <th>pvalue_13</th>\n",
       "      <th>statistic_23</th>\n",
       "      <th>pvalue_23</th>\n",
       "    </tr>\n",
       "  </thead>\n",
       "  <tbody>\n",
       "    <tr>\n",
       "      <th>mpg</th>\n",
       "      <td>-8.534456</td>\n",
       "      <td>6.306532e-16</td>\n",
       "      <td>-12.664889</td>\n",
       "      <td>4.172837e-30</td>\n",
       "      <td>-2.723325</td>\n",
       "      <td>0.007257</td>\n",
       "    </tr>\n",
       "    <tr>\n",
       "      <th>cylinders</th>\n",
       "      <td>10.390715</td>\n",
       "      <td>6.622661e-22</td>\n",
       "      <td>11.438380</td>\n",
       "      <td>1.181036e-25</td>\n",
       "      <td>0.660843</td>\n",
       "      <td>0.509762</td>\n",
       "    </tr>\n",
       "    <tr>\n",
       "      <th>displacement</th>\n",
       "      <td>11.460695</td>\n",
       "      <td>1.329399e-25</td>\n",
       "      <td>12.955018</td>\n",
       "      <td>3.506394e-31</td>\n",
       "      <td>1.824910</td>\n",
       "      <td>0.070073</td>\n",
       "    </tr>\n",
       "    <tr>\n",
       "      <th>horsepower</th>\n",
       "      <td>7.681404</td>\n",
       "      <td>2.065337e-13</td>\n",
       "      <td>8.460994</td>\n",
       "      <td>9.438940e-16</td>\n",
       "      <td>0.230937</td>\n",
       "      <td>0.817689</td>\n",
       "    </tr>\n",
       "    <tr>\n",
       "      <th>weight</th>\n",
       "      <td>9.250990</td>\n",
       "      <td>3.689302e-18</td>\n",
       "      <td>12.531001</td>\n",
       "      <td>1.300614e-29</td>\n",
       "      <td>3.139471</td>\n",
       "      <td>0.002051</td>\n",
       "    </tr>\n",
       "    <tr>\n",
       "      <th>acceleration</th>\n",
       "      <td>-4.674354</td>\n",
       "      <td>4.399322e-06</td>\n",
       "      <td>-3.556380</td>\n",
       "      <td>4.324324e-04</td>\n",
       "      <td>1.479140</td>\n",
       "      <td>0.141272</td>\n",
       "    </tr>\n",
       "    <tr>\n",
       "      <th>year</th>\n",
       "      <td>-0.171019</td>\n",
       "      <td>8.643201e-01</td>\n",
       "      <td>-3.911413</td>\n",
       "      <td>1.119470e-04</td>\n",
       "      <td>-3.010692</td>\n",
       "      <td>0.003076</td>\n",
       "    </tr>\n",
       "  </tbody>\n",
       "</table>\n",
       "</div>"
      ],
      "text/plain": [
       "              statistic_12     pvalue_12  statistic_13     pvalue_13  \\\n",
       "mpg              -8.534456  6.306532e-16    -12.664889  4.172837e-30   \n",
       "cylinders        10.390715  6.622661e-22     11.438380  1.181036e-25   \n",
       "displacement     11.460695  1.329399e-25     12.955018  3.506394e-31   \n",
       "horsepower        7.681404  2.065337e-13      8.460994  9.438940e-16   \n",
       "weight            9.250990  3.689302e-18     12.531001  1.300614e-29   \n",
       "acceleration     -4.674354  4.399322e-06     -3.556380  4.324324e-04   \n",
       "year             -0.171019  8.643201e-01     -3.911413  1.119470e-04   \n",
       "\n",
       "              statistic_23  pvalue_23  \n",
       "mpg              -2.723325   0.007257  \n",
       "cylinders         0.660843   0.509762  \n",
       "displacement      1.824910   0.070073  \n",
       "horsepower        0.230937   0.817689  \n",
       "weight            3.139471   0.002051  \n",
       "acceleration      1.479140   0.141272  \n",
       "year             -3.010692   0.003076  "
      ]
     },
     "execution_count": 7,
     "metadata": {},
     "output_type": "execute_result"
    }
   ],
   "source": [
    "pd.DataFrame([statistic_12, pvalue_12, statistic_13, pvalue_13, statistic_23, pvalue_23],columns=cols, index=['statistic_12', 'pvalue_12', 'statistic_13', 'pvalue_13', 'statistic_23', 'pvalue_23']).T"
   ]
  },
  {
   "cell_type": "markdown",
   "metadata": {},
   "source": [
    "Note that as long as we keep these tests independent, that works fine, but when we are looking for group differences across many variables until we find some, we might run into trouble. Therefore it is advisable to adjust for treating with multiple comparisons. In general, one will scale down the p-values of the individual tests which should lead to a \"discovery\". "
   ]
  },
  {
   "cell_type": "markdown",
   "metadata": {},
   "source": [
    "This can be done straight-forwardly with a variety of frequently used methods with statsmodels. We just pass a list of p-values. We obtain boolean values which are `True` for those hypotheses which can be rejected, the corrected p-values, and corrected significance level values."
   ]
  },
  {
   "cell_type": "code",
   "execution_count": 8,
   "metadata": {},
   "outputs": [
    {
     "data": {
      "text/plain": [
       "(array([ True,  True,  True,  True,  True,  True, False]),\n",
       " array([2.66453526e-15, 0.00000000e+00, 0.00000000e+00, 6.19504448e-13,\n",
       "        0.00000000e+00, 8.79862494e-06, 8.64320079e-01]),\n",
       " 0.007300831979014655,\n",
       " 0.0071428571428571435)"
      ]
     },
     "execution_count": 8,
     "metadata": {},
     "output_type": "execute_result"
    }
   ],
   "source": [
    "sm.stats.multipletests(pvalue_12)"
   ]
  },
  {
   "cell_type": "markdown",
   "metadata": {},
   "source": [
    "The last Bonferroni corrected alpha is scaled down by the number of comparisons:"
   ]
  },
  {
   "cell_type": "code",
   "execution_count": 9,
   "metadata": {},
   "outputs": [
    {
     "data": {
      "text/plain": [
       "0.0071428571428571435"
      ]
     },
     "execution_count": 9,
     "metadata": {},
     "output_type": "execute_result"
    }
   ],
   "source": [
    "0.05/7"
   ]
  },
  {
   "cell_type": "markdown",
   "metadata": {},
   "source": [
    "The Sidak corrected alpha is given by the following expression:"
   ]
  },
  {
   "cell_type": "code",
   "execution_count": 10,
   "metadata": {},
   "outputs": [
    {
     "data": {
      "text/plain": [
       "0.007300831979014655"
      ]
     },
     "execution_count": 10,
     "metadata": {},
     "output_type": "execute_result"
    }
   ],
   "source": [
    "1-(1-0.05)**(1/7)"
   ]
  },
  {
   "cell_type": "code",
   "execution_count": null,
   "metadata": {},
   "outputs": [],
   "source": []
  }
 ],
 "metadata": {
  "kernelspec": {
   "display_name": "Python 3",
   "language": "python",
   "name": "python3"
  },
  "language_info": {
   "codemirror_mode": {
    "name": "ipython",
    "version": 3
   },
   "file_extension": ".py",
   "mimetype": "text/x-python",
   "name": "python",
   "nbconvert_exporter": "python",
   "pygments_lexer": "ipython3",
   "version": "3.7.1"
  },
  "toc": {
   "base_numbering": 1,
   "nav_menu": {},
   "number_sections": false,
   "sideBar": true,
   "skip_h1_title": true,
   "title_cell": "Table of Contents",
   "title_sidebar": "Contents",
   "toc_cell": false,
   "toc_position": {},
   "toc_section_display": true,
   "toc_window_display": false
  }
 },
 "nbformat": 4,
 "nbformat_minor": 2
}
