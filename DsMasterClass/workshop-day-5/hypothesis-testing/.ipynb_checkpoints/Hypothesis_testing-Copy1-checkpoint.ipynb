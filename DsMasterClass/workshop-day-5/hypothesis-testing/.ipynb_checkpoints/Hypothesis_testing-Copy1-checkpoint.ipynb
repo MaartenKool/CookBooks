{
 "cells": [
  {
   "cell_type": "markdown",
   "metadata": {},
   "source": [
    "# Hypothesis testing"
   ]
  },
  {
   "cell_type": "code",
   "execution_count": 1,
   "metadata": {},
   "outputs": [],
   "source": [
    "import pandas as pd\n",
    "import numpy as np\n",
    "import matplotlib.pyplot as plt\n",
    "import seaborn as sns\n",
    "sns.set(font_scale=1.5)\n",
    "\n",
    "%config InlineBackend.figure_format = 'retina'\n",
    "%matplotlib inline\n",
    "\n",
    "from scipy import stats"
   ]
  },
  {
   "cell_type": "code",
   "execution_count": 2,
   "metadata": {},
   "outputs": [
    {
     "name": "stdout",
     "output_type": "stream",
     "text": [
      "<class 'pandas.core.frame.DataFrame'>\n",
      "RangeIndex: 392 entries, 0 to 391\n",
      "Data columns (total 11 columns):\n",
      "index           392 non-null int64\n",
      "mpg             392 non-null float64\n",
      "cylinders       392 non-null int64\n",
      "displacement    392 non-null float64\n",
      "horsepower      392 non-null float64\n",
      "weight          392 non-null float64\n",
      "acceleration    392 non-null float64\n",
      "year            392 non-null int64\n",
      "origin          392 non-null int64\n",
      "name            392 non-null object\n",
      "brand           392 non-null object\n",
      "dtypes: float64(5), int64(4), object(2)\n",
      "memory usage: 33.8+ KB\n"
     ]
    }
   ],
   "source": [
    "df = pd.read_csv(\n",
    "    '../../../dataset-collection/auto-mpg/auto-mpg.csv', sep='\\s+', header=None)\n",
    "df.columns = ['mpg', 'cylinders', 'displacement', 'horsepower',\n",
    "              'weight', 'acceleration', 'year', 'origin', 'name']\n",
    "df.drop(df[df.horsepower == '?'].index, inplace=True)\n",
    "df['horsepower'] = df.horsepower.astype(float)\n",
    "df['brand'] = df.name.map(lambda x: x.split(' ')[0]\n",
    "                          ).replace(\n",
    "    {'toyouta': 'toyota',\n",
    "     'maxda': 'mazda',\n",
    "     'chevroelt': 'chevrolet',\n",
    "     'vw': 'volkswagen',\n",
    "     'vokswagen': 'volkswagen',\n",
    "     'mercedes-benz': 'mercedes'})\n",
    "# this time we reset the index - this is important\n",
    "df.reset_index(inplace=True)\n",
    "df.info()"
   ]
  },
  {
   "cell_type": "markdown",
   "metadata": {},
   "source": [
    "### Statistical Hypotheses\n",
    "\n",
    "To come to decisions based on sample evidence it is useful to formulate hypotheses about the data. Looking at data samples we will be able to determine if there is enough support for our original hypothesis (the so-called null hypothesis $H_0$). If there is we will accept it, otherwise we may reject it and accept the alternative hypothesis $H_1$. Whether we accept or reject the null hypothesis will depend on a predefined significance level that we have to reach before rejecting it.\n",
    "\n",
    "\n",
    "Examples of hypotheses:\n",
    "\n",
    "- Mean mpg is larger for cars with origin 1 than with origin 2\n",
    "- There is a correlation between mpg and horsepower\n",
    "- Adding acceleration as a predictor to our model predicting mpg based on horsepower will improve our model\n",
    "\n",
    "If we come to reject the null hypothesis that still does not necessarily mean that the null was wrong. The same holds if we come to accept the null hypothesis.\n",
    "\n",
    "- Type I error: We reject a hypothesis even though it is true.\n",
    "- Type II error: We accept a hypothesis even though it is false.\n",
    "\n",
    "We would like to avoid both of these errors. That is often not possible. Then we face similar problems as with false positives and false negatives which might have different costs. We can adjust the decision process taking into account that doing so might bring to for example the type I error down but at the cost of a higher type II error.\n",
    "Increasing the sample size might help to reduce both types of errors."
   ]
  },
  {
   "cell_type": "markdown",
   "metadata": {},
   "source": [
    "#### Significance level\n",
    "\n",
    "The significance level of a test is the maximum probability of making a type I error which we would be willing to accept. In practice this level might be chosen as 0.1, 0.05 or 0.01."
   ]
  },
  {
   "cell_type": "markdown",
   "metadata": {},
   "source": [
    "### P-values\n",
    "\n",
    "In the hypothesis test we asked if the sample statistic has a more extreme value than a critical threshold. If instead we ask for the probability of obtaining a sample statistic at least as extreme as the one found we obtain the p-value. High (absolute) values of the statistic and correspondingly small p-values lead to the rejection of the null hypothesis in favor of the alternative hypothesis."
   ]
  },
  {
   "cell_type": "markdown",
   "metadata": {},
   "source": [
    "#### Example\n",
    "\n",
    "We draw a sample of size $n$ from some population which we assume to be normally distributed with hypothesized mean $\\mu$ and given standard deviation $\\sigma$. We determine the mean of the sample and expect to find it with 95 % chance in the range \n",
    "\n",
    "$$\n",
    "\\mu\\pm1.96\\frac{\\sigma}{\\sqrt{n}}\n",
    "$$\n",
    "\n",
    "There is only a 5 % chance of finding the sample mean outside this range. If the found the mean is within the range, our null hypothesis is accepted, otherwise it is rejected (we would say at an 0.05 level of significance).\n",
    "\n",
    "This kind of test is called a two-tailed or two-sided test. In this case we are testing for equality. For unequalities (larger or smaller), we would use a one-sided test."
   ]
  },
  {
   "cell_type": "code",
   "execution_count": 6,
   "metadata": {},
   "outputs": [
    {
     "data": {
      "text/plain": [
       "23.44591836734694"
      ]
     },
     "execution_count": 6,
     "metadata": {},
     "output_type": "execute_result"
    }
   ],
   "source": [
    "df.mpg.mean()"
   ]
  },
  {
   "cell_type": "code",
   "execution_count": 7,
   "metadata": {},
   "outputs": [
    {
     "data": {
      "text/plain": [
       "Ttest_1sampResult(statistic=1.131162686848895, pvalue=0.25867993970359504)"
      ]
     },
     "execution_count": 7,
     "metadata": {},
     "output_type": "execute_result"
    }
   ],
   "source": [
    "ttest = stats.ttest_1samp(df.mpg,23)\n",
    "ttest"
   ]
  },
  {
   "cell_type": "code",
   "execution_count": 8,
   "metadata": {},
   "outputs": [
    {
     "name": "stdout",
     "output_type": "stream",
     "text": [
      "1.131162686848895\n",
      "0.25867993970359504\n"
     ]
    }
   ],
   "source": [
    "print(ttest.statistic)\n",
    "print(ttest.pvalue)"
   ]
  },
  {
   "cell_type": "markdown",
   "metadata": {},
   "source": [
    "### Differences of means\n",
    "\n",
    "Two random samples with sizes $n_1$, $n_2$ are drawn from normally distributed populations with equal standard deviations $\\sigma$.\n",
    "The samples have means $\\bar{X}_1$, $\\bar{X}_2$ and standard deviations $\\sigma_1$, $\\sigma_2$.\n",
    "\n",
    "The estimate of the population standard deviation based on the pooled sample standard deviations is \n",
    "\n",
    "$$\n",
    "\\sigma = \\sqrt{\\frac{(n_1-1) S_1^2+(n_2-1)S_2^2}{n_1+n_2-2}}\n",
    "$$\n",
    "\n",
    "The test statistic is the t-distributed variable\n",
    "\n",
    "$$\n",
    "T = \\frac{\\bar{X}_1-\\bar{X}_2}{\\sigma\\sqrt{\\frac{1}{n_1}+\\frac{1}{n_2}}}\n",
    "$$\n",
    "\n",
    "This statistic will define a critical value which translates into a p-value."
   ]
  },
  {
   "cell_type": "markdown",
   "metadata": {},
   "source": [
    "#### Groupwise means and standard deviations"
   ]
  },
  {
   "cell_type": "code",
   "execution_count": 9,
   "metadata": {},
   "outputs": [
    {
     "data": {
      "text/html": [
       "<div>\n",
       "<style scoped>\n",
       "    .dataframe tbody tr th:only-of-type {\n",
       "        vertical-align: middle;\n",
       "    }\n",
       "\n",
       "    .dataframe tbody tr th {\n",
       "        vertical-align: top;\n",
       "    }\n",
       "\n",
       "    .dataframe thead th {\n",
       "        text-align: right;\n",
       "    }\n",
       "</style>\n",
       "<table border=\"1\" class=\"dataframe\">\n",
       "  <thead>\n",
       "    <tr style=\"text-align: right;\">\n",
       "      <th></th>\n",
       "      <th>mean</th>\n",
       "      <th>std</th>\n",
       "    </tr>\n",
       "    <tr>\n",
       "      <th>origin</th>\n",
       "      <th></th>\n",
       "      <th></th>\n",
       "    </tr>\n",
       "  </thead>\n",
       "  <tbody>\n",
       "    <tr>\n",
       "      <th>1</th>\n",
       "      <td>20.033469</td>\n",
       "      <td>6.440384</td>\n",
       "    </tr>\n",
       "    <tr>\n",
       "      <th>2</th>\n",
       "      <td>27.602941</td>\n",
       "      <td>6.580182</td>\n",
       "    </tr>\n",
       "    <tr>\n",
       "      <th>3</th>\n",
       "      <td>30.450633</td>\n",
       "      <td>6.090048</td>\n",
       "    </tr>\n",
       "  </tbody>\n",
       "</table>\n",
       "</div>"
      ],
      "text/plain": [
       "             mean       std\n",
       "origin                     \n",
       "1       20.033469  6.440384\n",
       "2       27.602941  6.580182\n",
       "3       30.450633  6.090048"
      ]
     },
     "execution_count": 9,
     "metadata": {},
     "output_type": "execute_result"
    }
   ],
   "source": [
    "df.groupby('origin')['mpg'].agg([np.mean,np.std])"
   ]
  },
  {
   "cell_type": "markdown",
   "metadata": {},
   "source": [
    "#### T-test for differences"
   ]
  },
  {
   "cell_type": "code",
   "execution_count": 4,
   "metadata": {},
   "outputs": [
    {
     "data": {
      "text/plain": [
       "Ttest_indResult(statistic=-8.534455914399228, pvalue=6.306531719750568e-16)"
      ]
     },
     "execution_count": 4,
     "metadata": {},
     "output_type": "execute_result"
    }
   ],
   "source": [
    "stats.ttest_ind(df.mpg[df.origin==1], df.mpg[df.origin==2])"
   ]
  },
  {
   "cell_type": "code",
   "execution_count": 10,
   "metadata": {},
   "outputs": [
    {
     "data": {
      "text/plain": [
       "Ttest_indResult(statistic=-8.534455914399231, pvalue=6.306531719750342e-16)"
      ]
     },
     "execution_count": 10,
     "metadata": {},
     "output_type": "execute_result"
    }
   ],
   "source": [
    "# the same result can be inferred from the already measure values\n",
    "stats.ttest_ind_from_stats(\n",
    "    df.mpg[df.origin==1].mean(), df.mpg[df.origin==1].std(), len(df.mpg[df.origin==1]), \n",
    "    df.mpg[df.origin==2].mean(), df.mpg[df.origin==2].std(), len(df.mpg[df.origin==2]))"
   ]
  },
  {
   "cell_type": "markdown",
   "metadata": {},
   "source": [
    "Let's look at the three groups:"
   ]
  },
  {
   "cell_type": "code",
   "execution_count": 11,
   "metadata": {},
   "outputs": [],
   "source": [
    "from itertools import combinations"
   ]
  },
  {
   "cell_type": "code",
   "execution_count": 12,
   "metadata": {},
   "outputs": [
    {
     "data": {
      "text/plain": [
       "[(1, 3), (1, 2), (3, 2)]"
      ]
     },
     "execution_count": 12,
     "metadata": {},
     "output_type": "execute_result"
    }
   ],
   "source": [
    "list(combinations(df.origin.unique(),2))"
   ]
  },
  {
   "cell_type": "code",
   "execution_count": 14,
   "metadata": {},
   "outputs": [
    {
     "name": "stdout",
     "output_type": "stream",
     "text": [
      "(1, 3) -12.664889006229084 4.17283714676552e-30\n",
      "(1, 2) -8.534455914399228 6.306531719750568e-16\n",
      "(3, 2) 2.723324735392516 0.007256875026960007\n"
     ]
    }
   ],
   "source": [
    "for comb in combinations(df.origin.unique(),2):\n",
    "    t_test_result = stats.ttest_ind(df.mpg[df.origin==comb[0]], df.mpg[df.origin==comb[1]])\n",
    "    print(comb, t_test_result.statistic, t_test_result.pvalue)"
   ]
  },
  {
   "cell_type": "code",
   "execution_count": 16,
   "metadata": {},
   "outputs": [],
   "source": [
    "import statsmodels.api as sm"
   ]
  },
  {
   "cell_type": "code",
   "execution_count": 18,
   "metadata": {},
   "outputs": [
    {
     "data": {
      "text/plain": [
       "(-8.534455914399228, 6.306531719750568e-16, 311.0)"
      ]
     },
     "execution_count": 18,
     "metadata": {},
     "output_type": "execute_result"
    }
   ],
   "source": [
    "sm.stats.ttest_ind(df.mpg[df.origin==1],df.mpg[df.origin==2])"
   ]
  },
  {
   "cell_type": "markdown",
   "metadata": {},
   "source": [
    "The one-way ANOVA tests the null hypothesis that two or more groups have\n",
    "the same population mean.  The test is applied to samples from two or\n",
    "more groups, possibly with differing sizes.\n",
    "\n",
    "This test however makes important assumptions. Which of these assumptions do you think are fulfilled?\n",
    "\n",
    "- The samples are independent.\n",
    "- Each sample is from a normally distributed population.\n",
    "- The population standard deviations of the groups are all equal. This property is known as homoscedasticity."
   ]
  },
  {
   "cell_type": "code",
   "execution_count": 27,
   "metadata": {},
   "outputs": [
    {
     "data": {
      "text/plain": [
       "F_onewayResult(statistic=72.83693775482395, pvalue=6.306531719750571e-16)"
      ]
     },
     "execution_count": 27,
     "metadata": {},
     "output_type": "execute_result"
    }
   ],
   "source": [
    "stats.f_oneway(df.mpg[df.origin==1], df.mpg[df.origin==2])"
   ]
  },
  {
   "cell_type": "code",
   "execution_count": 24,
   "metadata": {},
   "outputs": [
    {
     "data": {
      "text/plain": [
       "F_onewayResult(statistic=72.83693775482395, pvalue=6.306531719750571e-16)"
      ]
     },
     "execution_count": 24,
     "metadata": {},
     "output_type": "execute_result"
    }
   ],
   "source": [
    "stats.f_oneway(df.mpg[df.origin==1], df.mpg[df.origin==2], df.mpg[df.origin==3])"
   ]
  },
  {
   "cell_type": "code",
   "execution_count": 40,
   "metadata": {},
   "outputs": [
    {
     "data": {
      "image/png": "[encoded data removed]",
      "text/plain": [
       "<Figure size 432x288 with 1 Axes>"
      ]
     },
     "metadata": {
      "image/png": {
       "height": 259,
       "width": 380
      },
      "needs_background": "light"
     },
     "output_type": "display_data"
    }
   ],
   "source": [
    "y, lmax = stats.boxcox(df.mpg)\n",
    "plt.hist(y)\n",
    "plt.show()"
   ]
  },
  {
   "cell_type": "code",
   "execution_count": 51,
   "metadata": {},
   "outputs": [
    {
     "data": {
      "text/plain": [
       "<matplotlib.axes._subplots.AxesSubplot at 0x1c162a4128>"
      ]
     },
     "execution_count": 51,
     "metadata": {},
     "output_type": "execute_result"
    },
    {
     "data": {
      "image/png": "[encoded data removed]",
      "text/plain": [
       "<Figure size 432x288 with 1 Axes>"
      ]
     },
     "metadata": {
      "image/png": {
       "height": 259,
       "width": 370
      },
      "needs_background": "light"
     },
     "output_type": "display_data"
    }
   ],
   "source": [
    "df.mpg[df.year==77].hist()"
   ]
  },
  {
   "cell_type": "code",
   "execution_count": 42,
   "metadata": {},
   "outputs": [
    {
     "data": {
      "image/png": "[encoded data removed]",
      "text/plain": [
       "<Figure size 432x288 with 1 Axes>"
      ]
     },
     "metadata": {
      "image/png": {
       "height": 296,
       "width": 405
      },
      "needs_background": "light"
     },
     "output_type": "display_data"
    }
   ],
   "source": [
    "fig = plt.figure()\n",
    "ax = fig.add_subplot(111)\n",
    "prob = stats.boxcox_normplot(y, -10, 10, plot=ax)\n",
    "ax.axvline(lmax, color='r')\n",
    "plt.show()"
   ]
  },
  {
   "cell_type": "markdown",
   "metadata": {},
   "source": [
    "Similarly we could use the the $\\chi^2$-distribution to test if the variance of a normally distributed population has a certain value or the Fisher-distribution to test if two sample variances stem from normally distributed populations with the same standard deviation."
   ]
  },
  {
   "cell_type": "markdown",
   "metadata": {},
   "source": [
    "### $\\chi^2$-test for goodness of fit\n",
    "\n",
    "In the case of discrete random variables we might want to test if the observed sample frequencies of each of the $k$ possible outcomes agrees with the expected frequencies.\n",
    "\n",
    "We can create contingency tables for observed and expected frequencies.\n",
    "\n",
    "The sum of the standardized variable will be (approximately) $\\chi^2$-distributed:\n",
    "\n",
    "$$\n",
    "\\chi^2 = \n",
    "\\frac{(X_1-n p_1)^2}{n p_1}\n",
    "+\\frac{(X_2-n p_2)^2}{n p_2}\n",
    "+\\ldots\n",
    "+\\frac{(X_k-n p_k)^2}{n p_k}\n",
    "$$\n",
    "\n",
    "Note that correction factors for discrete variables might be necessary (though often negligible).\n",
    "\n",
    "If no further population parameters have to be estimated, the number of degrees of freedom for the $\\chi^2$-distribution is $k-1$.\n",
    "\n",
    "The expected frequencies should be at least 5 to obtain valid results, otherwise the sample size should be increased."
   ]
  },
  {
   "cell_type": "code",
   "execution_count": 52,
   "metadata": {},
   "outputs": [
    {
     "data": {
      "text/html": [
       "<div>\n",
       "<style scoped>\n",
       "    .dataframe tbody tr th:only-of-type {\n",
       "        vertical-align: middle;\n",
       "    }\n",
       "\n",
       "    .dataframe tbody tr th {\n",
       "        vertical-align: top;\n",
       "    }\n",
       "\n",
       "    .dataframe thead th {\n",
       "        text-align: right;\n",
       "    }\n",
       "</style>\n",
       "<table border=\"1\" class=\"dataframe\">\n",
       "  <thead>\n",
       "    <tr style=\"text-align: right;\">\n",
       "      <th></th>\n",
       "      <th>season</th>\n",
       "      <th>yr</th>\n",
       "      <th>mnth</th>\n",
       "      <th>hr</th>\n",
       "      <th>holiday</th>\n",
       "      <th>weekday</th>\n",
       "      <th>workingday</th>\n",
       "      <th>weathersit</th>\n",
       "      <th>temp</th>\n",
       "      <th>atemp</th>\n",
       "      <th>hum</th>\n",
       "      <th>windspeed</th>\n",
       "      <th>casual</th>\n",
       "      <th>registered</th>\n",
       "      <th>cnt</th>\n",
       "    </tr>\n",
       "  </thead>\n",
       "  <tbody>\n",
       "    <tr>\n",
       "      <th>0</th>\n",
       "      <td>1</td>\n",
       "      <td>0</td>\n",
       "      <td>1</td>\n",
       "      <td>0</td>\n",
       "      <td>0</td>\n",
       "      <td>6</td>\n",
       "      <td>0</td>\n",
       "      <td>1</td>\n",
       "      <td>0.24</td>\n",
       "      <td>0.2879</td>\n",
       "      <td>0.81</td>\n",
       "      <td>0.0</td>\n",
       "      <td>3</td>\n",
       "      <td>13</td>\n",
       "      <td>16</td>\n",
       "    </tr>\n",
       "    <tr>\n",
       "      <th>1</th>\n",
       "      <td>1</td>\n",
       "      <td>0</td>\n",
       "      <td>1</td>\n",
       "      <td>1</td>\n",
       "      <td>0</td>\n",
       "      <td>6</td>\n",
       "      <td>0</td>\n",
       "      <td>1</td>\n",
       "      <td>0.22</td>\n",
       "      <td>0.2727</td>\n",
       "      <td>0.80</td>\n",
       "      <td>0.0</td>\n",
       "      <td>8</td>\n",
       "      <td>32</td>\n",
       "      <td>40</td>\n",
       "    </tr>\n",
       "    <tr>\n",
       "      <th>2</th>\n",
       "      <td>1</td>\n",
       "      <td>0</td>\n",
       "      <td>1</td>\n",
       "      <td>2</td>\n",
       "      <td>0</td>\n",
       "      <td>6</td>\n",
       "      <td>0</td>\n",
       "      <td>1</td>\n",
       "      <td>0.22</td>\n",
       "      <td>0.2727</td>\n",
       "      <td>0.80</td>\n",
       "      <td>0.0</td>\n",
       "      <td>5</td>\n",
       "      <td>27</td>\n",
       "      <td>32</td>\n",
       "    </tr>\n",
       "    <tr>\n",
       "      <th>3</th>\n",
       "      <td>1</td>\n",
       "      <td>0</td>\n",
       "      <td>1</td>\n",
       "      <td>3</td>\n",
       "      <td>0</td>\n",
       "      <td>6</td>\n",
       "      <td>0</td>\n",
       "      <td>1</td>\n",
       "      <td>0.24</td>\n",
       "      <td>0.2879</td>\n",
       "      <td>0.75</td>\n",
       "      <td>0.0</td>\n",
       "      <td>3</td>\n",
       "      <td>10</td>\n",
       "      <td>13</td>\n",
       "    </tr>\n",
       "    <tr>\n",
       "      <th>4</th>\n",
       "      <td>1</td>\n",
       "      <td>0</td>\n",
       "      <td>1</td>\n",
       "      <td>4</td>\n",
       "      <td>0</td>\n",
       "      <td>6</td>\n",
       "      <td>0</td>\n",
       "      <td>1</td>\n",
       "      <td>0.24</td>\n",
       "      <td>0.2879</td>\n",
       "      <td>0.75</td>\n",
       "      <td>0.0</td>\n",
       "      <td>0</td>\n",
       "      <td>1</td>\n",
       "      <td>1</td>\n",
       "    </tr>\n",
       "  </tbody>\n",
       "</table>\n",
       "</div>"
      ],
      "text/plain": [
       "   season  yr  mnth  hr  holiday  weekday  workingday  weathersit  temp  \\\n",
       "0       1   0     1   0        0        6           0           1  0.24   \n",
       "1       1   0     1   1        0        6           0           1  0.22   \n",
       "2       1   0     1   2        0        6           0           1  0.22   \n",
       "3       1   0     1   3        0        6           0           1  0.24   \n",
       "4       1   0     1   4        0        6           0           1  0.24   \n",
       "\n",
       "    atemp   hum  windspeed  casual  registered  cnt  \n",
       "0  0.2879  0.81        0.0       3          13   16  \n",
       "1  0.2727  0.80        0.0       8          32   40  \n",
       "2  0.2727  0.80        0.0       5          27   32  \n",
       "3  0.2879  0.75        0.0       3          10   13  \n",
       "4  0.2879  0.75        0.0       0           1    1  "
      ]
     },
     "execution_count": 52,
     "metadata": {},
     "output_type": "execute_result"
    }
   ],
   "source": [
    "df_1 = pd.read_csv(\n",
    "    '../../../dataset-collection/Bike-Sharing-Dataset/hour.csv')\n",
    "df_1.drop(['instant', 'dteday'], axis=1, inplace=True)\n",
    "df_1.head()"
   ]
  },
  {
   "cell_type": "code",
   "execution_count": 57,
   "metadata": {},
   "outputs": [
    {
     "data": {
      "text/plain": [
       "cnt    470382.714286\n",
       "dtype: float64"
      ]
     },
     "execution_count": 57,
     "metadata": {},
     "output_type": "execute_result"
    }
   ],
   "source": [
    "df_1.groupby(['weekday'])[['cnt']].sum().mean()"
   ]
  },
  {
   "cell_type": "code",
   "execution_count": 56,
   "metadata": {},
   "outputs": [
    {
     "data": {
      "text/html": [
       "<div>\n",
       "<style scoped>\n",
       "    .dataframe tbody tr th:only-of-type {\n",
       "        vertical-align: middle;\n",
       "    }\n",
       "\n",
       "    .dataframe tbody tr th {\n",
       "        vertical-align: top;\n",
       "    }\n",
       "\n",
       "    .dataframe thead th {\n",
       "        text-align: right;\n",
       "    }\n",
       "</style>\n",
       "<table border=\"1\" class=\"dataframe\">\n",
       "  <thead>\n",
       "    <tr style=\"text-align: right;\">\n",
       "      <th></th>\n",
       "      <th>cnt</th>\n",
       "    </tr>\n",
       "    <tr>\n",
       "      <th>weekday</th>\n",
       "      <th></th>\n",
       "    </tr>\n",
       "  </thead>\n",
       "  <tbody>\n",
       "    <tr>\n",
       "      <th>0</th>\n",
       "      <td>444027</td>\n",
       "    </tr>\n",
       "    <tr>\n",
       "      <th>1</th>\n",
       "      <td>455503</td>\n",
       "    </tr>\n",
       "    <tr>\n",
       "      <th>2</th>\n",
       "      <td>469109</td>\n",
       "    </tr>\n",
       "    <tr>\n",
       "      <th>3</th>\n",
       "      <td>473048</td>\n",
       "    </tr>\n",
       "    <tr>\n",
       "      <th>4</th>\n",
       "      <td>485395</td>\n",
       "    </tr>\n",
       "    <tr>\n",
       "      <th>5</th>\n",
       "      <td>487790</td>\n",
       "    </tr>\n",
       "    <tr>\n",
       "      <th>6</th>\n",
       "      <td>477807</td>\n",
       "    </tr>\n",
       "  </tbody>\n",
       "</table>\n",
       "</div>"
      ],
      "text/plain": [
       "            cnt\n",
       "weekday        \n",
       "0        444027\n",
       "1        455503\n",
       "2        469109\n",
       "3        473048\n",
       "4        485395\n",
       "5        487790\n",
       "6        477807"
      ]
     },
     "execution_count": 56,
     "metadata": {},
     "output_type": "execute_result"
    }
   ],
   "source": [
    "df_1.groupby(['weekday'])[['cnt']].sum()"
   ]
  },
  {
   "cell_type": "code",
   "execution_count": 59,
   "metadata": {},
   "outputs": [
    {
     "data": {
      "text/plain": [
       "Power_divergenceResult(statistic=array([3206.44862071]), pvalue=array([0.]))"
      ]
     },
     "execution_count": 59,
     "metadata": {},
     "output_type": "execute_result"
    }
   ],
   "source": [
    "stats.chisquare(df_1.groupby(['weekday'])[['cnt']].sum().values,[df_1.groupby(['weekday'])[['cnt']].sum().mean()]*7)"
   ]
  },
  {
   "cell_type": "code",
   "execution_count": 3,
   "metadata": {},
   "outputs": [
    {
     "data": {
      "text/plain": [
       "(0.0, 1.0, 1, array([[2.5, 2.5],\n",
       "        [2.5, 2.5]]))"
      ]
     },
     "execution_count": 3,
     "metadata": {},
     "output_type": "execute_result"
    }
   ],
   "source": [
    "stats.chi2_contingency([[2,3],[3,2]])"
   ]
  },
  {
   "cell_type": "markdown",
   "metadata": {},
   "source": [
    "### $R^2$ score\n",
    "\n",
    "$$\n",
    "R^2 = 1-\\frac{\\sum_{i=1}^n(y_i-\\hat{y}_i)^2}{\\sum_{i=1}^n(y_i-\\bar{y})^2}\n",
    "$$\n",
    "\n",
    "Total variance = unexplained variance + explained variance\n",
    "\n",
    "$$\n",
    "\\sum_{i=1}^n(y_i-\\bar{y})^2 \n",
    "= \\sum_{i=1}^n(y_i-\\hat{y}_i)^2 + \\sum_{i=1}^n(\\hat{y}_i-\\bar{y})^2\n",
    "$$\n",
    "\n",
    "### Regression theory hypothesis tests\n",
    "\n",
    "Test that $\\hat{\\beta}=\\beta$:\n",
    "\n",
    "$$\n",
    "t = \\frac{\\hat{\\beta}-\\beta}{{\\rm RMSE}/s_x}\\sqrt{n-2}\n",
    "$$\n",
    "\n",
    "\n",
    "Confidence limits for predicted population values:\n",
    "\n",
    "$$\n",
    "t = \\frac{(\\hat{y}|x-y|x)\\sqrt{n-2}}{{\\rm RMSE}\\sqrt{n+1+(n(x-\\bar{x})^2/s_x^2)}}\n",
    "$$"
   ]
  },
  {
   "cell_type": "markdown",
   "metadata": {},
   "source": [
    "### Tests for correlation\n",
    "\n",
    "#### Test for $\\rho=0$\n",
    "\n",
    "$$\n",
    "t=\\frac{r\\sqrt{n-2}}{\\sqrt{1-r^2}}\n",
    "$$\n",
    "\n",
    "for student distribution with $n-2$ degrees of freedom\n",
    "\n",
    "#### Test for $\\rho=\\rho_0\\neq 0$\n",
    "\n",
    "$$\n",
    "Z = \\frac{1}{2}\\ln\\left(\\frac{1+r}{1-r}\\right)\n",
    "$$\n",
    "\n",
    "is approximately normally distributed with mean\n",
    "\n",
    "$$\n",
    "\\mu_Z = \\frac{1}{2}\\ln\\left(\\frac{1+\\rho_0}{1-\\rho_0}\\right)\n",
    "$$\n",
    "\n",
    "and standard deviation\n",
    "\n",
    "$$\n",
    "\\sigma_Z = \\frac{1}{\\sqrt{n-3}}\n",
    "$$"
   ]
  },
  {
   "cell_type": "markdown",
   "metadata": {},
   "source": [
    "## Non-parametric tests\n",
    "\n",
    "### The sign test\n",
    "\n",
    "Take difference between associated observations of two samples (e.g. for observations of same days) and record the sign. These would follow a binomial distribution."
   ]
  },
  {
   "cell_type": "code",
   "execution_count": 4,
   "metadata": {},
   "outputs": [],
   "source": [
    "data = [[1,2,3],[0.8,1.5,3.2]]"
   ]
  },
  {
   "cell_type": "code",
   "execution_count": 5,
   "metadata": {},
   "outputs": [
    {
     "name": "stderr",
     "output_type": "stream",
     "text": [
      "/anaconda3/lib/python3.7/site-packages/scipy/stats/morestats.py:2388: UserWarning: Warning: sample size too small for normal approximation.\n",
      "  warnings.warn(\"Warning: sample size too small for normal approximation.\")\n"
     ]
    },
    {
     "data": {
      "text/plain": [
       "WilcoxonResult(statistic=2.0, pvalue=0.5929800980174267)"
      ]
     },
     "execution_count": 5,
     "metadata": {},
     "output_type": "execute_result"
    }
   ],
   "source": [
    "stats.wilcoxon(data[0],data[1])"
   ]
  },
  {
   "cell_type": "markdown",
   "metadata": {},
   "source": [
    "### The Mann-Whitney U Test\n",
    "\n",
    "Consider observations from two different samples with $N_1$ and $N_2$ observations. Rank all the observations. Summing the ranks for the samples gives $R_1$ and $R_2$ respectively.\n",
    "\n",
    "To test the for the difference in rank sums, the test statistic\n",
    "\n",
    "$$\n",
    "U = N_1 N_2+\\frac{N_1(N_1+1)}{2}-R_1\n",
    "$$\n",
    "\n",
    "is used.\n",
    "\n",
    "For large enough sample sizes (more than 8), the variable \n",
    "\n",
    "$$\n",
    "Z = \\frac{U-\\mu_U}{\\sigma_U}\n",
    "$$\n",
    "\n",
    "is approximately normally distributed with mean \n",
    "\n",
    "$$\n",
    "\\mu_U = \\frac{N_1 N_2}{2}\n",
    "$$\n",
    "\n",
    "and variance\n",
    "\n",
    "$$\n",
    "\\sigma_U^2 = \\frac{N_1N_2(N_1+N_2+1)}{12}\n",
    "$$"
   ]
  },
  {
   "cell_type": "code",
   "execution_count": 6,
   "metadata": {},
   "outputs": [
    {
     "data": {
      "text/plain": [
       "MannwhitneyuResult(statistic=28.0, pvalue=0.06420603922076581)"
      ]
     },
     "execution_count": 6,
     "metadata": {},
     "output_type": "execute_result"
    }
   ],
   "source": [
    "A = ([[73,87,79,75,82,66,95,75,70],[86,81,84,88,90,85,84,92,83,91,53,84]])\n",
    "stats.mannwhitneyu(A[0],A[1],use_continuity=False,alternative='two-sided')\n"
   ]
  },
  {
   "cell_type": "code",
   "execution_count": 7,
   "metadata": {},
   "outputs": [
    {
     "data": {
      "text/plain": [
       "0.9967532467532467"
      ]
     },
     "execution_count": 7,
     "metadata": {},
     "output_type": "execute_result"
    }
   ],
   "source": [
    "\n",
    "stats.tiecorrect(stats.rankdata(A[0]+A[1]))"
   ]
  },
  {
   "cell_type": "markdown",
   "metadata": {},
   "source": [
    "### The Kruskal-Wallis H test\n",
    "\n",
    "The U-test is used for deciding if two samples stem from the same population. The Kruskal-Wallis H test is a generalization for $k$ samples.\n",
    "The principle is the same. The different samples have sizes $N_i$, all observations are ranked and the rank sum $R_i$ is obtained for each sample.\n",
    "\n",
    "Then the statistic\n",
    "\n",
    "$$\n",
    "H = \\frac{12}{N(N+1)}\\sum_{j=1}^k\\frac{R_j^2}{N_j}-3(N+1)\n",
    "$$\n",
    "\n",
    "follows (nearly) a $\\chi^2$-distribution with $k-1$ degrees of freedom.\n",
    "The different samples should have at least size 5.\n",
    "\n",
    "Note that correction factors for ties in the ranking might be useful even though they are often considered to be negligible in the sense of leading to the same conclusion."
   ]
  },
  {
   "cell_type": "code",
   "execution_count": 8,
   "metadata": {},
   "outputs": [
    {
     "data": {
      "text/plain": [
       "KruskalResult(statistic=3.4252623959464326, pvalue=0.06420603922076587)"
      ]
     },
     "execution_count": 8,
     "metadata": {},
     "output_type": "execute_result"
    }
   ],
   "source": [
    "stats.kruskal(A[0],A[1])"
   ]
  },
  {
   "cell_type": "code",
   "execution_count": null,
   "metadata": {},
   "outputs": [],
   "source": []
  }
 ],
 "metadata": {
  "kernelspec": {
   "display_name": "Python 3",
   "language": "python",
   "name": "python3"
  },
  "language_info": {
   "codemirror_mode": {
    "name": "ipython",
    "version": 3
   },
   "file_extension": ".py",
   "mimetype": "text/x-python",
   "name": "python",
   "nbconvert_exporter": "python",
   "pygments_lexer": "ipython3",
   "version": "3.7.1"
  },
  "toc": {
   "base_numbering": 1,
   "nav_menu": {},
   "number_sections": false,
   "sideBar": true,
   "skip_h1_title": true,
   "title_cell": "Table of Contents",
   "title_sidebar": "Contents",
   "toc_cell": false,
   "toc_position": {},
   "toc_section_display": true,
   "toc_window_display": false
  }
 },
 "nbformat": 4,
 "nbformat_minor": 2
}
