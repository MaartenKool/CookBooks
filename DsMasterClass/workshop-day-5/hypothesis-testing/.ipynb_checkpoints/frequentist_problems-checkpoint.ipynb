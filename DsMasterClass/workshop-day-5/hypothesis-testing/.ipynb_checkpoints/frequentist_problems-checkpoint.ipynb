{
 "cells": [
  {
   "cell_type": "markdown",
   "metadata": {},
   "source": [
    "# Some problems\n",
    "\n"
   ]
  },
  {
   "cell_type": "markdown",
   "metadata": {},
   "source": [
    "## Sampling distributions and stopping rules\n",
    "\n",
    "When trying to obtain confidence intervals or running hypothesis tests, one needs to know about the population one is sampling from, but additionally also how or better to say until when one is sampling.\n",
    "\n",
    "One could say\n",
    "\n",
    "- sample until a certain number of observations have been collected\n",
    "- sample a certain amount of time\n",
    "- sample until having seen a certain number of distinguished samples (e.g. 5 cases of a rare disease)\n",
    "\n",
    "The same data could be recorded in each of these cases. The problem is however that the underlying sampling distributions are very different. \n",
    "\n",
    "For example the number of successes in $n$ binary outcomes would be described by the binomial distribution. If instead one were asking for the probability of having to complete a certain number of trials before having $k$ successes, one needs the negative binomial distribution.\n",
    "\n",
    "Prevent dependence of such a stopping rule could be addressed by fixing the number of desired trials before an experiment which then however makes it impossible to react to experimental findings."
   ]
  },
  {
   "cell_type": "markdown",
   "metadata": {},
   "source": [
    "Note also that hypothesis testing can reject a null hypothesis, but in general it has no confirmative power."
   ]
  },
  {
   "cell_type": "markdown",
   "metadata": {},
   "source": [
    "## Counter-intuitive confidence interval"
   ]
  },
  {
   "cell_type": "markdown",
   "metadata": {},
   "source": [
    "$$\n",
    "p(x|\\theta) = 0.5\\ \\text{if}\\ x=\\theta, 0.5\\ \\text{if}\\ x=\\theta+1\\, ,\\ 0 \\ \\text{otherwise}\n",
    "$$\n",
    "\n",
    "For $\\theta=39$, there are four possible outcomes with probability 0.25:\n",
    "\n",
    "$$(39,39),(39,40),(40,39),(40,40)$$\n",
    "\n",
    "That gives us confidence intervals of $[39,39]$ in the first three cases, but $[40,40]$ in the last case. Apparently 75 % of the confidence intervals cover the true value, but actually we can be 100 % sure that $\\theta=39$."
   ]
  },
  {
   "cell_type": "markdown",
   "metadata": {},
   "source": [
    "See _K. P. Murphy: \n",
    "Machine Learning - A Probabilistic Perspective, \n",
    "MIT Press, 2012_ for a related discussion and the last example."
   ]
  }
 ],
 "metadata": {
  "kernelspec": {
   "display_name": "Python 3",
   "language": "python",
   "name": "python3"
  },
  "language_info": {
   "codemirror_mode": {
    "name": "ipython",
    "version": 3
   },
   "file_extension": ".py",
   "mimetype": "text/x-python",
   "name": "python",
   "nbconvert_exporter": "python",
   "pygments_lexer": "ipython3",
   "version": "3.7.1"
  },
  "toc": {
   "base_numbering": 1,
   "nav_menu": {},
   "number_sections": false,
   "sideBar": true,
   "skip_h1_title": true,
   "title_cell": "Table of Contents",
   "title_sidebar": "Contents",
   "toc_cell": false,
   "toc_position": {},
   "toc_section_display": true,
   "toc_window_display": false
  }
 },
 "nbformat": 4,
 "nbformat_minor": 2
}
