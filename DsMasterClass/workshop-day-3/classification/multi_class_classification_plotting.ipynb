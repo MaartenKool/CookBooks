{
 "cells": [
  {
   "cell_type": "markdown",
   "metadata": {},
   "source": [
    "# Classification plots\n",
    "\n",
    "_Author: Christoph Rahmede_"
   ]
  },
  {
   "cell_type": "markdown",
   "metadata": {
    "toc": true
   },
   "source": [
    "<h1>Table of Contents<span class=\"tocSkip\"></span></h1>\n",
    "<div class=\"toc\"><ul class=\"toc-item\"><li><span><a href=\"#Load-the-data\" data-toc-modified-id=\"Load-the-data-1\">Load the data</a></span></li><li><span><a href=\"#Determine-the-baseline\" data-toc-modified-id=\"Determine-the-baseline-2\">Determine the baseline</a></span></li><li><span><a href=\"#Standardize-and-create-a-train-test-split\" data-toc-modified-id=\"Standardize-and-create-a-train-test-split-3\">Standardize and create a train-test split</a></span></li><li><span><a href=\"#Grid-search-a-logistic-regression-model\" data-toc-modified-id=\"Grid-search-a-logistic-regression-model-4\">Grid search a logistic regression model</a></span></li><li><span><a href=\"#Illustrate-score-dependence-on-tuning-parameters\" data-toc-modified-id=\"Illustrate-score-dependence-on-tuning-parameters-5\">Illustrate score dependence on tuning parameters</a></span></li><li><span><a href=\"#Learning-curve\" data-toc-modified-id=\"Learning-curve-6\">Learning curve</a></span></li><li><span><a href=\"#Distribution-of-predicted-probabilities\" data-toc-modified-id=\"Distribution-of-predicted-probabilities-7\">Distribution of predicted probabilities</a></span></li><li><span><a href=\"#Confusion-matrix\" data-toc-modified-id=\"Confusion-matrix-8\">Confusion matrix</a></span></li><li><span><a href=\"#Class-prediction-error\" data-toc-modified-id=\"Class-prediction-error-9\">Class prediction error</a></span></li><li><span><a href=\"#Classification-report\" data-toc-modified-id=\"Classification-report-10\">Classification report</a></span></li><li><span><a href=\"#ROC-curve\" data-toc-modified-id=\"ROC-curve-11\">ROC curve</a></span></li><li><span><a href=\"#Precision-recall-curve\" data-toc-modified-id=\"Precision-recall-curve-12\">Precision-recall curve</a></span></li><li><span><a href=\"#Cumulative-gain-and-lift-curves\" data-toc-modified-id=\"Cumulative-gain-and-lift-curves-13\">Cumulative gain and lift curves</a></span></li></ul></div>"
   ]
  },
  {
   "cell_type": "code",
   "execution_count": 1,
   "metadata": {},
   "outputs": [],
   "source": [
    "import warnings\n",
    "import pandas as pd\n",
    "import numpy as np\n",
    "import matplotlib.pyplot as plt\n",
    "import seaborn as sns\n",
    "sns.set(font_scale=1.5)\n",
    "\n",
    "%config InlineBackend.figure_format = 'retina'\n",
    "%matplotlib inline\n",
    "\n",
    "warnings.simplefilter('ignore')"
   ]
  },
  {
   "cell_type": "code",
   "execution_count": 2,
   "metadata": {},
   "outputs": [],
   "source": [
    "from sklearn import datasets, metrics\n",
    "from sklearn.preprocessing import StandardScaler\n",
    "from sklearn.linear_model import LogisticRegression, LogisticRegressionCV\n",
    "from sklearn.model_selection import train_test_split, cross_val_score, GridSearchCV"
   ]
  },
  {
   "cell_type": "markdown",
   "metadata": {},
   "source": [
    "## Load the data\n",
    "\n",
    "In this notebook, the only change is the choice of dataset. Here we have three class labels.\n",
    "From the following code, not all the pieces will run. Check which ones can be carried out. If not, is it possible to still generalize the approach?"
   ]
  },
  {
   "cell_type": "code",
   "execution_count": 3,
   "metadata": {},
   "outputs": [],
   "source": [
    "data = datasets.load_iris()"
   ]
  },
  {
   "cell_type": "code",
   "execution_count": 4,
   "metadata": {},
   "outputs": [
    {
     "data": {
      "text/plain": [
       "dict_keys(['data', 'target', 'target_names', 'DESCR', 'feature_names', 'filename'])"
      ]
     },
     "execution_count": 4,
     "metadata": {},
     "output_type": "execute_result"
    }
   ],
   "source": [
    "data.keys()"
   ]
  },
  {
   "cell_type": "code",
   "execution_count": 5,
   "metadata": {
    "scrolled": false
   },
   "outputs": [
    {
     "name": "stdout",
     "output_type": "stream",
     "text": [
      ".. _iris_dataset:\n",
      "\n",
      "Iris plants dataset\n",
      "--------------------\n",
      "\n",
      "**Data Set Characteristics:**\n",
      "\n",
      "    :Number of Instances: 150 (50 in each of three classes)\n",
      "    :Number of Attributes: 4 numeric, predictive attributes and the class\n",
      "    :Attribute Information:\n",
      "        - sepal length in cm\n",
      "        - sepal width in cm\n",
      "        - petal length in cm\n",
      "        - petal width in cm\n",
      "        - class:\n",
      "                - Iris-Setosa\n",
      "                - Iris-Versicolour\n",
      "                - Iris-Virginica\n",
      "                \n",
      "    :Summary Statistics:\n",
      "\n",
      "    ============== ==== ==== ======= ===== ====================\n",
      "                    Min  Max   Mean    SD   Class Correlation\n",
      "    ============== ==== ==== ======= ===== ====================\n",
      "    sepal length:   4.3  7.9   5.84   0.83    0.7826\n",
      "    sepal width:    2.0  4.4   3.05   0.43   -0.4194\n",
      "    petal length:   1.0  6.9   3.76   1.76    0.9490  (high!)\n",
      "    petal width:    0.1  2.5   1.20   0.76    0.9565  (high!)\n",
      "    ============== ==== ==== ======= ===== ====================\n",
      "\n",
      "    :Missing Attribute Values: None\n",
      "    :Class Distribution: 33.3% for each of 3 classes.\n",
      "    :Creator: R.A. Fisher\n",
      "    :Donor: Michael Marshall (MARSHALL%PLU@io.arc.nasa.gov)\n",
      "    :Date: July, 1988\n",
      "\n",
      "The famous Iris database, first used by Sir R.A. Fisher. The dataset is taken\n",
      "from Fisher's paper. Note that it's the same as in R, but not as in the UCI\n",
      "Machine Learning Repository, which has two wrong data points.\n",
      "\n",
      "This is perhaps the best known database to be found in the\n",
      "pattern recognition literature.  Fisher's paper is a classic in the field and\n",
      "is referenced frequently to this day.  (See Duda & Hart, for example.)  The\n",
      "data set contains 3 classes of 50 instances each, where each class refers to a\n",
      "type of iris plant.  One class is linearly separable from the other 2; the\n",
      "latter are NOT linearly separable from each other.\n",
      "\n",
      ".. topic:: References\n",
      "\n",
      "   - Fisher, R.A. \"The use of multiple measurements in taxonomic problems\"\n",
      "     Annual Eugenics, 7, Part II, 179-188 (1936); also in \"Contributions to\n",
      "     Mathematical Statistics\" (John Wiley, NY, 1950).\n",
      "   - Duda, R.O., & Hart, P.E. (1973) Pattern Classification and Scene Analysis.\n",
      "     (Q327.D83) John Wiley & Sons.  ISBN 0-471-22361-1.  See page 218.\n",
      "   - Dasarathy, B.V. (1980) \"Nosing Around the Neighborhood: A New System\n",
      "     Structure and Classification Rule for Recognition in Partially Exposed\n",
      "     Environments\".  IEEE Transactions on Pattern Analysis and Machine\n",
      "     Intelligence, Vol. PAMI-2, No. 1, 67-71.\n",
      "   - Gates, G.W. (1972) \"The Reduced Nearest Neighbor Rule\".  IEEE Transactions\n",
      "     on Information Theory, May 1972, 431-433.\n",
      "   - See also: 1988 MLC Proceedings, 54-64.  Cheeseman et al\"s AUTOCLASS II\n",
      "     conceptual clustering system finds 3 classes in the data.\n",
      "   - Many, many more ...\n"
     ]
    }
   ],
   "source": [
    "print(data.DESCR)"
   ]
  },
  {
   "cell_type": "code",
   "execution_count": 6,
   "metadata": {},
   "outputs": [
    {
     "data": {
      "text/html": [
       "<div>\n",
       "<style scoped>\n",
       "    .dataframe tbody tr th:only-of-type {\n",
       "        vertical-align: middle;\n",
       "    }\n",
       "\n",
       "    .dataframe tbody tr th {\n",
       "        vertical-align: top;\n",
       "    }\n",
       "\n",
       "    .dataframe thead th {\n",
       "        text-align: right;\n",
       "    }\n",
       "</style>\n",
       "<table border=\"1\" class=\"dataframe\">\n",
       "  <thead>\n",
       "    <tr style=\"text-align: right;\">\n",
       "      <th></th>\n",
       "      <th>sepal length (cm)</th>\n",
       "      <th>sepal width (cm)</th>\n",
       "      <th>petal length (cm)</th>\n",
       "      <th>petal width (cm)</th>\n",
       "    </tr>\n",
       "  </thead>\n",
       "  <tbody>\n",
       "    <tr>\n",
       "      <th>0</th>\n",
       "      <td>5.1</td>\n",
       "      <td>3.5</td>\n",
       "      <td>1.4</td>\n",
       "      <td>0.2</td>\n",
       "    </tr>\n",
       "    <tr>\n",
       "      <th>1</th>\n",
       "      <td>4.9</td>\n",
       "      <td>3.0</td>\n",
       "      <td>1.4</td>\n",
       "      <td>0.2</td>\n",
       "    </tr>\n",
       "    <tr>\n",
       "      <th>2</th>\n",
       "      <td>4.7</td>\n",
       "      <td>3.2</td>\n",
       "      <td>1.3</td>\n",
       "      <td>0.2</td>\n",
       "    </tr>\n",
       "    <tr>\n",
       "      <th>3</th>\n",
       "      <td>4.6</td>\n",
       "      <td>3.1</td>\n",
       "      <td>1.5</td>\n",
       "      <td>0.2</td>\n",
       "    </tr>\n",
       "    <tr>\n",
       "      <th>4</th>\n",
       "      <td>5.0</td>\n",
       "      <td>3.6</td>\n",
       "      <td>1.4</td>\n",
       "      <td>0.2</td>\n",
       "    </tr>\n",
       "  </tbody>\n",
       "</table>\n",
       "</div>"
      ],
      "text/plain": [
       "   sepal length (cm)  sepal width (cm)  petal length (cm)  petal width (cm)\n",
       "0                5.1               3.5                1.4               0.2\n",
       "1                4.9               3.0                1.4               0.2\n",
       "2                4.7               3.2                1.3               0.2\n",
       "3                4.6               3.1                1.5               0.2\n",
       "4                5.0               3.6                1.4               0.2"
      ]
     },
     "execution_count": 6,
     "metadata": {},
     "output_type": "execute_result"
    }
   ],
   "source": [
    "X = pd.DataFrame(data.data, columns=data.feature_names)\n",
    "X.head()"
   ]
  },
  {
   "cell_type": "markdown",
   "metadata": {},
   "source": [
    "## Determine the baseline"
   ]
  },
  {
   "cell_type": "code",
   "execution_count": null,
   "metadata": {},
   "outputs": [],
   "source": [
    "y = pd.Series(data.target)\n",
    "y.value_counts(normalize=True)"
   ]
  },
  {
   "cell_type": "markdown",
   "metadata": {},
   "source": [
    "## Standardize and create a train-test split"
   ]
  },
  {
   "cell_type": "code",
   "execution_count": null,
   "metadata": {},
   "outputs": [],
   "source": [
    "from sklearn.model_selection import train_test_split\n",
    "from sklearn.preprocessing import StandardScaler\n",
    "\n",
    "X_train, X_test, y_train, y_test = train_test_split(\n",
    "    X, y, stratify=y, test_size=0.2, random_state=1)\n",
    "\n",
    "scaler = StandardScaler()\n",
    "\n",
    "X_train = scaler.fit_transform(X_train)\n",
    "X_test = scaler.transform(X_test)\n",
    "\n",
    "X_train = pd.DataFrame(X_train, columns=X.columns)\n",
    "X_test = pd.DataFrame(X_test, columns=X.columns)"
   ]
  },
  {
   "cell_type": "markdown",
   "metadata": {},
   "source": [
    "## Grid search a logistic regression model"
   ]
  },
  {
   "cell_type": "code",
   "execution_count": null,
   "metadata": {},
   "outputs": [],
   "source": [
    "from sklearn.linear_model import LogisticRegression, LogisticRegressionCV\n",
    "estimator = LogisticRegression(solver='liblinear')"
   ]
  },
  {
   "cell_type": "code",
   "execution_count": null,
   "metadata": {
    "scrolled": false
   },
   "outputs": [],
   "source": [
    "from sklearn.model_selection import cross_val_score, GridSearchCV\n",
    "\n",
    "params = {'C': np.logspace(-4, 4, 30), \n",
    "          'penalty': ['l1', 'l2'], \n",
    "          'fit_intercept': [True, False]}\n",
    "\n",
    "model = GridSearchCV(estimator=estimator, param_grid=params,\n",
    "                  cv=5, return_train_score=True)\n",
    "\n",
    "model.fit(X_train, y_train)\n",
    "\n",
    "print('Best Parameters:')\n",
    "print(model.best_params_)\n",
    "print('Best estimator C:')\n",
    "print(model.best_estimator_.C)\n",
    "print('Best estimator mean cross validated training score:')\n",
    "print(model.best_score_)\n",
    "print('Best estimator score on the full training set:')\n",
    "print(model.score(X_train, y_train))\n",
    "print('Best estimator score on the test set:')\n",
    "print(model.score(X_test, y_test))\n",
    "print('Best estimator coefficients:')\n",
    "print(model.best_estimator_.coef_)"
   ]
  },
  {
   "cell_type": "markdown",
   "metadata": {},
   "source": [
    "## Illustrate score dependence on tuning parameters"
   ]
  },
  {
   "cell_type": "code",
   "execution_count": null,
   "metadata": {},
   "outputs": [],
   "source": [
    "results = pd.DataFrame(model.cv_results_)\n",
    "grouped = results.groupby(['param_penalty', 'param_fit_intercept'])\n",
    "groups = list(grouped.groups.keys())\n",
    "\n",
    "fig, ax = plt.subplots(figsize=(12, 6))\n",
    "for i, group in enumerate(groups):\n",
    "    grouped.get_group(group).plot(\n",
    "        x='param_C', y='mean_test_score', logx=True, lw=3,\n",
    "        label='Penalty: {} , Intercept: {}'.format(group[0], group[1]), ax=ax)\n",
    "    ax.set_label('Penalty: {} , Intercept: {}'.format(group[0], group[1]))\n",
    "\n",
    "ax.legend(loc=[1.1, 0])\n",
    "plt.show()"
   ]
  },
  {
   "cell_type": "markdown",
   "metadata": {},
   "source": [
    "> **Note:** Here you might have to modify some code."
   ]
  },
  {
   "cell_type": "code",
   "execution_count": null,
   "metadata": {},
   "outputs": [],
   "source": [
    "df_coef = pd.DataFrame({'coef': model.best_estimator_.coef_.ravel(), \n",
    "                        'coef_abs': np.abs(model.best_estimator_.coef_.ravel())}, index=X.columns\n",
    "                       ).sort_values(by='coef_abs')\n",
    "df_coef.plot(y='coef_abs', kind='barh', color=(df_coef.coef.map(\n",
    "    lambda x: 'darkorange' if x > 0 else 'b')).values, figsize=(12, 12))\n",
    "plt.xlabel('abs(coef)')\n",
    "plt.show()"
   ]
  },
  {
   "cell_type": "markdown",
   "metadata": {},
   "source": [
    "## Learning curve\n",
    "\n",
    "The learning curve is constructed in the same way as for regression, only that now we are looking at the chosen classification score."
   ]
  },
  {
   "cell_type": "code",
   "execution_count": null,
   "metadata": {},
   "outputs": [],
   "source": [
    "import scikitplot as skplt"
   ]
  },
  {
   "cell_type": "code",
   "execution_count": null,
   "metadata": {},
   "outputs": [],
   "source": [
    "fig, ax = plt.subplots(figsize=(12, 4))\n",
    "ax.grid()\n",
    "skplt.estimators.plot_learning_curve(model.best_estimator_, X_train, y_train, shuffle=True, cv=5, ax=ax,\n",
    "                                     title_fontsize=20, text_fontsize=20)\n",
    "plt.show()"
   ]
  },
  {
   "cell_type": "markdown",
   "metadata": {},
   "source": [
    "## Distribution of predicted probabilities\n",
    "\n",
    "It can be informative to look at the distribution of predicted probabilities. Ideally we would like to see that the predicted probabilities for one class are very low and for the other very high so that we can clearly distinguish."
   ]
  },
  {
   "cell_type": "code",
   "execution_count": null,
   "metadata": {},
   "outputs": [],
   "source": [
    "plt.hist(model.predict_proba(X_train), density=True, label=[0, 1],cumulative=False)\n",
    "plt.yscale('log')\n",
    "plt.legend(loc=[1.1,0])\n",
    "plt.show()"
   ]
  },
  {
   "cell_type": "code",
   "execution_count": null,
   "metadata": {},
   "outputs": [],
   "source": [
    "plt.hist(model.predict_proba(X_test), density=True, label=[0, 1])\n",
    "plt.yscale('log')\n",
    "plt.legend(loc=[1.1,0])\n",
    "plt.show()"
   ]
  },
  {
   "cell_type": "markdown",
   "metadata": {},
   "source": [
    "## Confusion matrix\n",
    "\n",
    "The confusion matrix informs us about how many observations from each class have been predicted to belong to any of the classes."
   ]
  },
  {
   "cell_type": "code",
   "execution_count": null,
   "metadata": {},
   "outputs": [],
   "source": [
    "print(metrics.confusion_matrix(y_train, model.predict(X_train)))\n",
    "print(metrics.confusion_matrix(y_test, model.predict(X_test)))"
   ]
  },
  {
   "cell_type": "markdown",
   "metadata": {},
   "source": [
    "A nicer visualization is obtained with scikit-plot."
   ]
  },
  {
   "cell_type": "code",
   "execution_count": null,
   "metadata": {},
   "outputs": [],
   "source": [
    "from matplotlib.colors import ListedColormap\n",
    "cmap = ListedColormap(sns.color_palette(\"husl\", 3))"
   ]
  },
  {
   "cell_type": "code",
   "execution_count": null,
   "metadata": {},
   "outputs": [],
   "source": [
    "skplt.metrics.plot_confusion_matrix(y_train, model.predict(\n",
    "    X_train), labels=model.classes_, text_fontsize=16, \n",
    "    title_fontsize=20, figsize=(6, 6))\n",
    "plt.show()"
   ]
  },
  {
   "cell_type": "markdown",
   "metadata": {},
   "source": [
    "## Class prediction error\n",
    "\n",
    "We can summarize the results from the confusion matrix also in the following way which can be useful in particular for more than two classes."
   ]
  },
  {
   "cell_type": "code",
   "execution_count": null,
   "metadata": {},
   "outputs": [],
   "source": [
    "pd.DataFrame(metrics.confusion_matrix(y_train, model.predict(X_train)), \n",
    "             index=model.classes_\n",
    "             ).plot(kind='bar', stacked=True, rot=0, title='Class prediction error')\n",
    "plt.xlabel('actual class')\n",
    "plt.ylabel('number of predicted class')\n",
    "plt.show()"
   ]
  },
  {
   "cell_type": "markdown",
   "metadata": {},
   "source": [
    "## Classification report\n",
    "\n",
    "The classification report gives us a nice summary about a variety of classification scores.\n",
    "The class scores have to be read from the perspective of taking the respective class as the positive class. Support indicates the number of observations in each class.\n",
    "\n",
    "The scores are defined in the following way:\n",
    "\n",
    "\n",
    "$$\n",
    "\\begin{eqnarray*}\n",
    "{\\rm precision} &=&\\frac{\\rm TP}{\\rm TP+FP}\\\\\n",
    "{\\rm recall} &=&\\frac{\\rm TP}{\\rm TP+FN}\\\\\n",
    "{\\rm F}_1 &=& \\frac{2}{\\frac{1}{\\rm precision}+\\frac{1}{\\rm recall}}\n",
    "\\end{eqnarray*}\n",
    "$$\n",
    "\n",
    "\n",
    "The micro average here is identical to accuracy, \n",
    "the macro average is the unweighted average across all classes, the weighted average\n",
    "weighs each class score by the fraction of observations in each class.\n",
    "\n",
    "We will also need the false positive rate (FPR) which is\n",
    "\n",
    "$$\n",
    "{\\rm FPR} =\\frac{\\rm FP}{\\rm FP+TN}\\\\\n",
    "$$"
   ]
  },
  {
   "cell_type": "code",
   "execution_count": null,
   "metadata": {},
   "outputs": [],
   "source": [
    "print(metrics.classification_report(y_train, model.predict(X_train)))"
   ]
  },
  {
   "cell_type": "code",
   "execution_count": null,
   "metadata": {},
   "outputs": [],
   "source": [
    "print(metrics.classification_report(y_test, model.predict(X_test)))"
   ]
  },
  {
   "cell_type": "markdown",
   "metadata": {},
   "source": [
    "## ROC curve\n",
    "\n",
    "We can plot the true positive rate (which is synonymous with recall) versus the \n",
    "False Positive Rate depending on the threshold."
   ]
  },
  {
   "cell_type": "code",
   "execution_count": null,
   "metadata": {},
   "outputs": [],
   "source": [
    "skplt.metrics.plot_roc(y_train, model.predict_proba(X_train), plot_micro=False, plot_macro=False,\n",
    "                       title_fontsize=20, text_fontsize=16, figsize=(8, 6), cmap=cmap)\n",
    "plt.show()"
   ]
  },
  {
   "cell_type": "markdown",
   "metadata": {},
   "source": [
    "## Precision-recall curve\n",
    "\n",
    "Also the change of precision and recall with the threshold is informative. Usually there will be a trade-off between the two. \n",
    "\n",
    "Different combinations of precision and recall can lead to the same ${\\rm F}_1$-score, which defines level lines in this plot."
   ]
  },
  {
   "cell_type": "code",
   "execution_count": null,
   "metadata": {},
   "outputs": [],
   "source": [
    "def plot_f1_lines(figsize=(8, 6), fontsize=16):\n",
    "    '''Create f1-score level lines to be added to the precison-recall plot'''\n",
    "\n",
    "    fig, ax = plt.subplots(figsize=figsize)\n",
    "\n",
    "    # add lines of constant F1 scores\n",
    "\n",
    "    for const in np.linspace(0.2, 0.9, 8):\n",
    "        x_vals = np.linspace(0.001, 0.999, 100)\n",
    "        y_vals = 1./(2./const-1./x_vals)\n",
    "        ax.plot(x_vals[y_vals > 0], y_vals[y_vals > 0],\n",
    "                color='lightblue', ls='--', alpha=0.9)\n",
    "        ax.set_ylim([0, 1])\n",
    "        ax.annotate('f1={0:0.1f}'.format(const),\n",
    "                    xy=(x_vals[-10], y_vals[-2]+0.0), fontsize=fontsize)\n",
    "\n",
    "    return fig, ax"
   ]
  },
  {
   "cell_type": "code",
   "execution_count": null,
   "metadata": {},
   "outputs": [],
   "source": [
    "fig, ax = plot_f1_lines()\n",
    "skplt.metrics.plot_precision_recall(\n",
    "    y_train,\n",
    "    model.predict_proba(X_train),\n",
    "    plot_micro=False,\n",
    "    title_fontsize=20,\n",
    "    text_fontsize=16,\n",
    "    cmap=cmap, ax=ax)\n",
    "ax.legend(loc=[1.1, 0])\n",
    "plt.show()"
   ]
  },
  {
   "cell_type": "markdown",
   "metadata": {},
   "source": [
    "## Cumulative gain and lift curves\n",
    "\n",
    "To obtain the cumulative gain, we sort the predicted probabilities for one of the classes, determine the fraction of the corresponding class labels seen in any of the entries up to a given probability threshold, and plot those versus the predicted probabilities.\n",
    "\n",
    "For the lift, we divide the fraction of correct class labels seen by the number of observations seen so far.\n",
    "\n",
    "In case of random order of the labels, we obtain the baseline curves."
   ]
  },
  {
   "cell_type": "code",
   "execution_count": null,
   "metadata": {},
   "outputs": [],
   "source": [
    "def cumulative_gain(probabilities, labels):\n",
    "    df = pd.DataFrame({'prob': probabilities, 'label': labels})\n",
    "    df = df.sort_values(by='prob', ascending=False)\n",
    "    df['label'] = df.label.cumsum()/df.label.sum()\n",
    "    df['fraction'] = np.arange(1, len(df)+1)/len(df)\n",
    "    df['lift'] = df.label/df.fraction\n",
    "    return df"
   ]
  },
  {
   "cell_type": "code",
   "execution_count": null,
   "metadata": {},
   "outputs": [],
   "source": [
    "y.value_counts(normalize=True)"
   ]
  },
  {
   "cell_type": "markdown",
   "metadata": {},
   "source": [
    "> **Note:** Here you might have to modify some code."
   ]
  },
  {
   "cell_type": "code",
   "execution_count": null,
   "metadata": {},
   "outputs": [],
   "source": [
    "fig, ax = plt.subplots()\n",
    "skplt.metrics.plot_cumulative_gain(y_train, model.predict_proba(X_train), ax=ax, title_fontsize=20, text_fontsize=16)\n",
    "cumulative_gain(model.predict_proba(X_train)[:, 1], y_train).plot(\n",
    "    x='fraction', y='label', lw=2, linestyle='--', c='k', ax=ax, label='Class 1')\n",
    "cumulative_gain(model.predict_proba(X_train)[:, 0], (y_train == 0)*1).plot(\n",
    "    x='fraction', y='label', lw=2, linestyle=':', c='k', ax=ax, label='Class 0')\n",
    "ax.vlines(y.value_counts(normalize=True)[0], 0, 1, lw=2, linestyle='-.', label= 'Proportion Class 0')\n",
    "ax.vlines(y.value_counts(normalize=True)[1], 0, 1, lw=2, linestyle='-.', label='Proportion Class 1')\n",
    "ax.legend(loc=[1.1,0])\n",
    "plt.show()"
   ]
  },
  {
   "cell_type": "code",
   "execution_count": null,
   "metadata": {
    "scrolled": true
   },
   "outputs": [],
   "source": [
    "fig, ax = plt.subplots()\n",
    "skplt.metrics.plot_lift_curve(y_train, model.predict_proba(\n",
    "    X_train), ax=ax, title_fontsize=20, text_fontsize=16)\n",
    "cumulative_gain(model.predict_proba(X_train)[:, 1], y_train).plot(\n",
    "    x='fraction', y='lift', lw=2, linestyle='--', c='k', ax=ax, label='Class 1')\n",
    "cumulative_gain(model.predict_proba(X_train)[:, 0], (y_train == 0)*1).plot(\n",
    "    x='fraction', y='lift', lw=2, linestyle=':', c='k', ax=ax, label='Class 0')\n",
    "ax.legend(loc=[1.1,0])\n",
    "plt.show()"
   ]
  },
  {
   "cell_type": "code",
   "execution_count": null,
   "metadata": {},
   "outputs": [],
   "source": [
    "1/y.value_counts(normalize=True)"
   ]
  },
  {
   "cell_type": "code",
   "execution_count": null,
   "metadata": {},
   "outputs": [],
   "source": []
  }
 ],
 "metadata": {
  "kernelspec": {
   "display_name": "Python 3",
   "language": "python",
   "name": "python3"
  },
  "language_info": {
   "codemirror_mode": {
    "name": "ipython",
    "version": 3
   },
   "file_extension": ".py",
   "mimetype": "text/x-python",
   "name": "python",
   "nbconvert_exporter": "python",
   "pygments_lexer": "ipython3",
   "version": "3.7.1"
  },
  "toc": {
   "base_numbering": 1,
   "nav_menu": {},
   "number_sections": false,
   "sideBar": true,
   "skip_h1_title": true,
   "title_cell": "Table of Contents",
   "title_sidebar": "Contents",
   "toc_cell": true,
   "toc_position": {
    "height": "calc(100% - 180px)",
    "left": "10px",
    "top": "150px",
    "width": "168.667px"
   },
   "toc_section_display": true,
   "toc_window_display": false
  }
 },
 "nbformat": 4,
 "nbformat_minor": 2
}
