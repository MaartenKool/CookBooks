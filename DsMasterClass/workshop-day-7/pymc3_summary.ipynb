{
 "cells": [
  {
   "cell_type": "markdown",
   "metadata": {},
   "source": [
    "# MCMC in a nutshell\n",
    "\n",
    "_Author: Christoph Rahmede_"
   ]
  },
  {
   "cell_type": "markdown",
   "metadata": {},
   "source": [
    "## Formulate priors and likelihood\n",
    "\n",
    "- Bayes rule for model and data\n",
    "\n",
    "$$P\\left({\\rm model}|{\\rm data}\\right) = \\frac{P\\left({\\rm data}|{\\rm model}\\right)}{P({\\rm data})}\\; P\\left({\\rm model}\\right)$$\n",
    "\n",
    "- For model parameters $\\theta$, $\\omega$:\n",
    "\n",
    "$$P\\left(\\theta,\\omega|{\\rm data}\\right) \n",
    "= \\frac{P\\left({\\rm data}|\\theta,\\omega\\right)}{P({\\rm data})}\\; P\\left(\\theta,\\omega\\right)$$\n",
    "\n",
    "- For hierarchical model with parameters $\\theta$, $\\omega$:\n",
    "\n",
    "$$P\\left(\\theta,\\omega|{\\rm data}\\right) \n",
    "= \\frac{P\\left({\\rm data}|\\theta\\right)}{P({\\rm data})}\\; P\\left(\\theta,\\omega\\right)\n",
    "= \\frac{P\\left({\\rm data}|\\theta\\right)}{P({\\rm data})}\\; P\\left(\\theta|\\omega\\right)P\\left(\\omega\\right)\n",
    "$$\n",
    "\n",
    "\n",
    "- Formulate prior believes, goal is to obtain the posterior taking the data into account\n",
    "    - Priors should have support on the range of allowed parameter values\n",
    "    - Taking existing/founded information into account through the priors\n",
    "    - If unsure, choose vague priors \n",
    "\n",
    "## Model setup and sampling\n",
    "\n",
    "- Create pymc3 model containing priors and likelihood\n",
    "    - `with pm.Model() as model:`\n",
    "    \n",
    "- Sampling gives the trace as a representation of the posterior\n",
    "    - `trace = pm.sample(draws=5000)`\n",
    "    \n",
    "- Sampling is done in multiple chains\n",
    "\n",
    "- Create trace summary with \n",
    "\n",
    "    - `pm.summary(trace)`\n",
    "\n",
    "## Trace diagnostics\n",
    "\n",
    "- Check for \n",
    "\n",
    "    - enough tuning steps (pymc3 will warn you)\n",
    "    - enough samples ($n_{\\rm eff}$ high, ${\\rm mc}_{\\rm error}$ low, pymc3 will warn you)\n",
    "    - good mixing of chains ($\\hat{R}$ close to one, pymc3 will warn you)\n",
    "    - if using the default NUTS sampler, you may have to increase the target acceptance during sampling (pymc3 will warn you)\n",
    "        - `trace = pm.sample(draws=5000, nuts_kwargs={'target_accept':0.95}})`\n",
    "\n",
    "- Inspect trace through \n",
    "\n",
    "    - `pm.plot_posterior(trace)`\n",
    "    - `pm.traceplot(trace)`\n",
    "    - `pm.autocorrplot(trace)`\n",
    "    - `pm.forestplot(trace)`\n",
    "\n",
    "## Predictions\n",
    "\n",
    "- Obtain predictions with \n",
    "\n",
    "    - `pm.sample_posterior_predictive(trace, samples=1000, model=model)`\n",
    "    \n",
    "## Reference values and goals\n",
    "\n",
    "- If there is a reference value check for probability mass below and above the reference value\n",
    "- Define precision goals through ROPE"
   ]
  }
 ],
 "metadata": {
  "kernelspec": {
   "display_name": "Python 3",
   "language": "python",
   "name": "python3"
  },
  "language_info": {
   "codemirror_mode": {
    "name": "ipython",
    "version": 3
   },
   "file_extension": ".py",
   "mimetype": "text/x-python",
   "name": "python",
   "nbconvert_exporter": "python",
   "pygments_lexer": "ipython3",
   "version": "3.6.8"
  },
  "toc": {
   "nav_menu": {},
   "number_sections": false,
   "sideBar": true,
   "skip_h1_title": true,
   "title_cell": "Table of Contents",
   "title_sidebar": "Contents",
   "toc_cell": false,
   "toc_position": {},
   "toc_section_display": true,
   "toc_window_display": false
  }
 },
 "nbformat": 4,
 "nbformat_minor": 2
}
