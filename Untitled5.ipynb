{
 "cells": [
  {
   "cell_type": "markdown",
   "metadata": {
    "toc": true
   },
   "source": [
    "<h1>Table of Contents<span class=\"tocSkip\"></span></h1>\n",
    "<div class=\"toc\"><ul class=\"toc-item\"></ul></div>"
   ]
  },
  {
   "cell_type": "code",
   "execution_count": 3,
   "metadata": {},
   "outputs": [
    {
     "ename": "TypeError",
     "evalue": "'tuple' object does not support item assignment",
     "output_type": "error",
     "traceback": [
      "\u001b[0;31m---------------------------------------------------------------------------\u001b[0m",
      "\u001b[0;31mTypeError\u001b[0m                                 Traceback (most recent call last)",
      "\u001b[0;32m<ipython-input-3-08066bafc8b1>\u001b[0m in \u001b[0;36m<module>\u001b[0;34m\u001b[0m\n\u001b[1;32m     12\u001b[0m         \u001b[0;32mreturn\u001b[0m \u001b[0mlat_long\u001b[0m\u001b[0;34m\u001b[0m\u001b[0;34m\u001b[0m\u001b[0m\n\u001b[1;32m     13\u001b[0m \u001b[0;34m\u001b[0m\u001b[0m\n\u001b[0;32m---> 14\u001b[0;31m \u001b[0mc1\u001b[0m \u001b[0;34m=\u001b[0m \u001b[0mto_rad\u001b[0m\u001b[0;34m(\u001b[0m\u001b[0mc1\u001b[0m\u001b[0;34m)\u001b[0m\u001b[0;34m\u001b[0m\u001b[0;34m\u001b[0m\u001b[0m\n\u001b[0m\u001b[1;32m     15\u001b[0m \u001b[0mc2\u001b[0m \u001b[0;34m=\u001b[0m \u001b[0mto_rad\u001b[0m\u001b[0;34m(\u001b[0m\u001b[0mc2\u001b[0m\u001b[0;34m)\u001b[0m\u001b[0;34m\u001b[0m\u001b[0;34m\u001b[0m\u001b[0m\n\u001b[1;32m     16\u001b[0m \u001b[0;34m\u001b[0m\u001b[0m\n",
      "\u001b[0;32m<ipython-input-3-08066bafc8b1>\u001b[0m in \u001b[0;36mto_rad\u001b[0;34m(lat_long)\u001b[0m\n\u001b[1;32m      9\u001b[0m \u001b[0;32mdef\u001b[0m \u001b[0mto_rad\u001b[0m\u001b[0;34m(\u001b[0m\u001b[0mlat_long\u001b[0m\u001b[0;34m)\u001b[0m\u001b[0;34m:\u001b[0m\u001b[0;34m\u001b[0m\u001b[0;34m\u001b[0m\u001b[0m\n\u001b[1;32m     10\u001b[0m         \u001b[0;32mfor\u001b[0m \u001b[0mx\u001b[0m\u001b[0;34m,\u001b[0m \u001b[0my\u001b[0m \u001b[0;32min\u001b[0m \u001b[0menumerate\u001b[0m\u001b[0;34m(\u001b[0m\u001b[0mlat_long\u001b[0m\u001b[0;34m)\u001b[0m\u001b[0;34m:\u001b[0m\u001b[0;34m\u001b[0m\u001b[0;34m\u001b[0m\u001b[0m\n\u001b[0;32m---> 11\u001b[0;31m                 \u001b[0mlat_long\u001b[0m\u001b[0;34m[\u001b[0m\u001b[0mx\u001b[0m\u001b[0;34m]\u001b[0m \u001b[0;34m=\u001b[0m \u001b[0;34m(\u001b[0m\u001b[0mnp\u001b[0m\u001b[0;34m.\u001b[0m\u001b[0mfloat64\u001b[0m\u001b[0;34m(\u001b[0m\u001b[0my\u001b[0m\u001b[0;34m)\u001b[0m \u001b[0;34m*\u001b[0m \u001b[0mnp\u001b[0m\u001b[0;34m.\u001b[0m\u001b[0mpi\u001b[0m\u001b[0;34m)\u001b[0m \u001b[0;34m/\u001b[0m \u001b[0;36m180\u001b[0m\u001b[0;34m\u001b[0m\u001b[0;34m\u001b[0m\u001b[0m\n\u001b[0m\u001b[1;32m     12\u001b[0m         \u001b[0;32mreturn\u001b[0m \u001b[0mlat_long\u001b[0m\u001b[0;34m\u001b[0m\u001b[0;34m\u001b[0m\u001b[0m\n\u001b[1;32m     13\u001b[0m \u001b[0;34m\u001b[0m\u001b[0m\n",
      "\u001b[0;31mTypeError\u001b[0m: 'tuple' object does not support item assignment"
     ]
    }
   ],
   "source": [
    "https://github.com/callum-ryan/vincentyPy/blob/master/vincenty.py\n",
    "    \n",
    "    \n",
    "import numpy as np\n",
    "import sys\n",
    "\n",
    "c1 = (155000,463000) \n",
    "c2 = (257415, 471042)\n",
    "# c1 = sys.argv[1].split(',')\n",
    "# c2 = sys.argv[2].split(',')\n",
    "\n",
    "def to_rad(lat_long):\n",
    "\tfor x, y in enumerate(lat_long):\n",
    "\t\tlat_long[x] = (np.float64(y) * np.pi) / 180\n",
    "\treturn lat_long\n",
    "\n",
    "c1 = to_rad(c1)\n",
    "c2 = to_rad(c2)\n",
    "\n",
    "a = 6378.137\n",
    "f = 1/298.257223563\n",
    "b = 6356.7523142\n",
    "\n",
    "L = c1[1] - c2[1]\n",
    "u1 = np.arctan((1-f)*np.tan(c1[0]))\n",
    "u2 = np.arctan((1-f)*np.tan(c2[0]))\n",
    "\n",
    "lmd = L\n",
    "lmdd = 0\n",
    "count = 0\n",
    "\n",
    "while abs(lmd-lmdd) > 1e-12 and count <= 100:\n",
    "\tsinSqsig = (np.cos(u2)*np.sin(lmd))*(np.cos(u2)*np.sin(lmd)) + (np.cos(u1)*np.sin(u2) - np.sin(u1)*np.cos(u2)*np.cos(lmd))*(np.cos(u1)*np.sin(u2) - np.sin(u1)*np.cos(u2)*np.cos(lmd))\n",
    "\tsinsig = np.sqrt(sinSqsig)\n",
    "\tcossig = np.sin(u1)*np.sin(u2) + np.cos(u1)*np.cos(u2)*np.cos(lmd)\n",
    "\tsig = np.arctan2(sinsig,cossig)\n",
    "\tsina = np.cos(u1)*np.cos(u2)*np.sin(lmd) / sinsig\n",
    "\tcosSqa = 1 - sina * sina\n",
    "\tcos2sigM = cossig - 2*np.sin(u1)*np.sin(u2)/cosSqa\n",
    "\tC = f/16*cosSqa*(4+f*(4-3*cosSqa))\n",
    "\tlmdd = lmd\n",
    "\tlmd = L + (1-C) * f * sina * (sig + C*sinsig*(cos2sigM+C*cossig*(-1+2*cos2sigM*cos2sigM)))\n",
    "\tcount += 1\n",
    "\n",
    "uSq = cosSqa * (a*a - b*b) / (b*b)\n",
    "A = 1 + uSq/16384. * (4096 + uSq * (-768 + uSq * (320 - 175 * uSq)))\n",
    "B = uSq / 1024. * (256 + uSq * (-128 + uSq * (74 - 47 * uSq)))\n",
    "dsig = B * sinsig * (cos2sigM + B/4. * (cossig * (-1 + 2 * cos2sigM*cos2sigM) - B / 6. * cos2sigM * (-3 + 4 * sinsig * sinsig) * (-3 + 4 * cos2sigM * cos2sigM)))\n",
    "\n",
    "s = b * A * (sig-dsig)\n",
    "a1 = np.arctan2(np.cos(u2)*np.sin(lmd), np.cos(u1)*np.sin(u2)-np.sin(u1)*np.cos(u2)*np.cos(lmd))\n",
    "a2 = np.arctan2(np.cos(u1)*np.sin(lmd), -np.sin(u1)*np.cos(u2)+np.cos(u1)*np.sin(u2)*np.cos(lmd))\n",
    "\n",
    "print('distance        : '+'{0:.2f}'.format(s)+' km')\n",
    "print('initial bearing : '+'{0:.2f}'.format(np.degrees(a1))+' °')\n",
    "print('final bearing   : '+'{0:.2f}'.format(np.degrees(a2))+' °')"
   ]
  },
  {
   "cell_type": "code",
   "execution_count": null,
   "metadata": {},
   "outputs": [],
   "source": []
  }
 ],
 "metadata": {
  "hide_input": false,
  "kernelspec": {
   "display_name": "Python 3",
   "language": "python",
   "name": "python3"
  },
  "language_info": {
   "codemirror_mode": {
    "name": "ipython",
    "version": 3
   },
   "file_extension": ".py",
   "mimetype": "text/x-python",
   "name": "python",
   "nbconvert_exporter": "python",
   "pygments_lexer": "ipython3",
   "version": "3.6.8"
  },
  "toc": {
   "nav_menu": {},
   "number_sections": true,
   "sideBar": true,
   "skip_h1_title": true,
   "title_cell": "Table of Contents",
   "title_sidebar": "Contents",
   "toc_cell": true,
   "toc_position": {},
   "toc_section_display": true,
   "toc_window_display": true
  }
 },
 "nbformat": 4,
 "nbformat_minor": 2
}
