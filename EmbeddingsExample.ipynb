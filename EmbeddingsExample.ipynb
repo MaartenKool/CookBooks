{
 "cells": [
  {
   "cell_type": "markdown",
   "metadata": {
    "toc": true
   },
   "source": [
    "<h1>Table of Contents<span class=\"tocSkip\"></span></h1>\n",
    "<div class=\"toc\"><ul class=\"toc-item\"><li><span><a href=\"#Embeddings\" data-toc-modified-id=\"Embeddings-1\"><span class=\"toc-item-num\">1&nbsp;&nbsp;</span>Embeddings</a></span><ul class=\"toc-item\"><li><span><a href=\"#PCA-illustration-of-getting-embeddings\" data-toc-modified-id=\"PCA-illustration-of-getting-embeddings-1.1\"><span class=\"toc-item-num\">1.1&nbsp;&nbsp;</span>PCA illustration of getting embeddings</a></span><ul class=\"toc-item\"><li><span><a href=\"#Unique-embeddings-for-hair-color\" data-toc-modified-id=\"Unique-embeddings-for-hair-color-1.1.1\"><span class=\"toc-item-num\">1.1.1&nbsp;&nbsp;</span>Unique embeddings for hair color</a></span></li></ul></li><li><span><a href=\"#Supervised-example\" data-toc-modified-id=\"Supervised-example-1.2\"><span class=\"toc-item-num\">1.2&nbsp;&nbsp;</span>Supervised example</a></span></li><li><span><a href=\"#Deep-learning-example\" data-toc-modified-id=\"Deep-learning-example-1.3\"><span class=\"toc-item-num\">1.3&nbsp;&nbsp;</span>Deep learning example</a></span></li><li><span><a href=\"#Word-embeddings\" data-toc-modified-id=\"Word-embeddings-1.4\"><span class=\"toc-item-num\">1.4&nbsp;&nbsp;</span>Word embeddings</a></span><ul class=\"toc-item\"><li><span><a href=\"#Target-based-embedding\" data-toc-modified-id=\"Target-based-embedding-1.4.1\"><span class=\"toc-item-num\">1.4.1&nbsp;&nbsp;</span>Target based embedding</a></span><ul class=\"toc-item\"><li><span><a href=\"#Explainability-NO-consideration:-One-Hot-Encoding\" data-toc-modified-id=\"Explainability-NO-consideration:-One-Hot-Encoding-1.4.1.1\"><span class=\"toc-item-num\">1.4.1.1&nbsp;&nbsp;</span>Explainability <em>NO</em> consideration: One Hot Encoding</a></span></li><li><span><a href=\"#Connection-with-original-words-IS-important:-Tokenizer\" data-toc-modified-id=\"Connection-with-original-words-IS-important:-Tokenizer-1.4.1.2\"><span class=\"toc-item-num\">1.4.1.2&nbsp;&nbsp;</span>Connection with original words <em>IS</em> important: Tokenizer</a></span></li><li><span><a href=\"#Difference-in-encoding\" data-toc-modified-id=\"Difference-in-encoding-1.4.1.3\"><span class=\"toc-item-num\">1.4.1.3&nbsp;&nbsp;</span>Difference in encoding</a></span></li><li><span><a href=\"#Encoding-con't---Getting-the-embedding\" data-toc-modified-id=\"Encoding-con't---Getting-the-embedding-1.4.1.4\"><span class=\"toc-item-num\">1.4.1.4&nbsp;&nbsp;</span>Encoding con't - Getting the embedding</a></span></li></ul></li><li><span><a href=\"#Corpus-context-based-embeddings\" data-toc-modified-id=\"Corpus-context-based-embeddings-1.4.2\"><span class=\"toc-item-num\">1.4.2&nbsp;&nbsp;</span>Corpus context based embeddings</a></span><ul class=\"toc-item\"><li><span><a href=\"#DIY\" data-toc-modified-id=\"DIY-1.4.2.1\"><span class=\"toc-item-num\">1.4.2.1&nbsp;&nbsp;</span>DIY</a></span></li><li><span><a href=\"#Pre-trained-Embedding\" data-toc-modified-id=\"Pre-trained-Embedding-1.4.2.2\"><span class=\"toc-item-num\">1.4.2.2&nbsp;&nbsp;</span>Pre-trained Embedding</a></span></li></ul></li></ul></li></ul></li><li><span><a href=\"#Word-vector-'Magic'\" data-toc-modified-id=\"Word-vector-'Magic'-2\"><span class=\"toc-item-num\">2&nbsp;&nbsp;</span>Word vector 'Magic'</a></span></li><li><span><a href=\"#Appendix\" data-toc-modified-id=\"Appendix-3\"><span class=\"toc-item-num\">3&nbsp;&nbsp;</span>Appendix</a></span></li></ul></div>"
   ]
  },
  {
   "cell_type": "markdown",
   "metadata": {},
   "source": [
    "## Embeddings\n",
    "\n",
    "*In this context* an embedding is a numerical representation of non-numerical data. The purpose is primarily for 'mathematical convenience' i.e. it enables computations to be made. For example: One Hot encoder encodes a categorical variable with 6 possible values for its value '3' to 0 0 1 0 0 0. In real life this may mean hair color 'blond'. For the complete picture:\n",
    "\n",
    "Color  |  encoding\n",
    ":--- |:--- |\n",
    "Black | 1 0 0 0 0\n",
    "Fair | 0 1 0 0 0\n",
    "Blonde | 0 0 1 0 0\n",
    "Red | 0 0 0 1 0\n",
    "Gray | 0 0 0 0 1\n",
    "None | 0 0 0 0 0\n",
    "\n",
    "In traditional ML one hot encoding worked fine for most cases. However with the appearance of 'Big Data' some problems arose:  \n",
    "    - The number of categories can be huge. E.g. consider the number of titles in the IMDB move database\n",
    "    - The number of observations can be enormous\n",
    "In this 'Big Data' environment One-hot encoding often results in extremely sparse matrices which any, machine or deep, learning algorithm  has problems dealing with.\n",
    "\n",
    "Traditionally PCA would be applied to reduce the number of dimensions. But the disadvantage is that a inverse of the matrix is needed. For enormous data sets this is actually a memory/computational problem: Enter Embeddings/embedding layers.\n",
    "\n",
    "Embedding is in that sense a dimensionality reduction technique to make large categorical data points computationally manageable. There are 2 types of reduction:\n",
    "\n",
    "1. 'Unsupervised' in the sense that it takes the features at face-value  \n",
    "PCA could serve as an example from the ML world. PCA tries to minimize the variation   \n",
    "2. 'Supervised' in the sense it learns from a 'target', also called a 'learned' embedding.\n",
    "LDA (Linear Discriminant Analysis) is an example. It tries to maximize the separation of known target categories.  \n",
    "\n",
    "Since Bayes we know that the use of prior information will lead to better predictions. Therefore a 'supervised' embedding is preferred if possible, i.e. when the target is known. In practice a learned embedding if often more meaningful than the 'raw' feature itself.\n",
    "\n",
    "When to use embeddings rather than One_hot?\n",
    "\n",
    "It depends on the number of categories:\n",
    "\n",
    "General rules of thumb:\n",
    "\n",
    "- Under 10 : one hot  \n",
    "- 10-50: use formula embedding_size = min(50, (NumberOfCats+1)/2) \n",
    "- over 50: 50 max.  \n",
    "\n"
   ]
  },
  {
   "cell_type": "markdown",
   "metadata": {},
   "source": [
    "### PCA illustration of getting embeddings\n",
    "\n",
    "Purely to illustrate what goes on under the hood."
   ]
  },
  {
   "cell_type": "code",
   "execution_count": 283,
   "metadata": {},
   "outputs": [],
   "source": [
    "from random import choice\n",
    "import pandas as pd\n",
    "\n",
    "#create categories\n",
    "haircolor = ['black', 'blond', 'fair', 'red', 'grey', 'none', 'marron']\n",
    "\n",
    "df = pd.DataFrame()\n",
    "\n",
    "#create data\n",
    "se = []\n",
    "for i in range(100):\n",
    "    se.append(choice(haircolor))\n",
    "df['haircolor'] = se \n",
    "\n",
    "#get the One hot\n",
    "df_ = pd.get_dummies(df[['haircolor']])"
   ]
  },
  {
   "cell_type": "code",
   "execution_count": 284,
   "metadata": {},
   "outputs": [
    {
     "data": {
      "text/html": [
       "<div>\n",
       "<style scoped>\n",
       "    .dataframe tbody tr th:only-of-type {\n",
       "        vertical-align: middle;\n",
       "    }\n",
       "\n",
       "    .dataframe tbody tr th {\n",
       "        vertical-align: top;\n",
       "    }\n",
       "\n",
       "    .dataframe thead th {\n",
       "        text-align: right;\n",
       "    }\n",
       "</style>\n",
       "<table border=\"1\" class=\"dataframe\">\n",
       "  <thead>\n",
       "    <tr style=\"text-align: right;\">\n",
       "      <th></th>\n",
       "      <th>haircolor</th>\n",
       "    </tr>\n",
       "  </thead>\n",
       "  <tbody>\n",
       "    <tr>\n",
       "      <th>41</th>\n",
       "      <td>blond</td>\n",
       "    </tr>\n",
       "    <tr>\n",
       "      <th>93</th>\n",
       "      <td>marron</td>\n",
       "    </tr>\n",
       "    <tr>\n",
       "      <th>30</th>\n",
       "      <td>marron</td>\n",
       "    </tr>\n",
       "    <tr>\n",
       "      <th>80</th>\n",
       "      <td>grey</td>\n",
       "    </tr>\n",
       "    <tr>\n",
       "      <th>26</th>\n",
       "      <td>red</td>\n",
       "    </tr>\n",
       "    <tr>\n",
       "      <th>12</th>\n",
       "      <td>marron</td>\n",
       "    </tr>\n",
       "    <tr>\n",
       "      <th>96</th>\n",
       "      <td>red</td>\n",
       "    </tr>\n",
       "    <tr>\n",
       "      <th>89</th>\n",
       "      <td>fair</td>\n",
       "    </tr>\n",
       "    <tr>\n",
       "      <th>63</th>\n",
       "      <td>blond</td>\n",
       "    </tr>\n",
       "    <tr>\n",
       "      <th>9</th>\n",
       "      <td>grey</td>\n",
       "    </tr>\n",
       "  </tbody>\n",
       "</table>\n",
       "</div>"
      ],
      "text/plain": [
       "   haircolor\n",
       "41     blond\n",
       "93    marron\n",
       "30    marron\n",
       "80      grey\n",
       "26       red\n",
       "12    marron\n",
       "96       red\n",
       "89      fair\n",
       "63     blond\n",
       "9       grey"
      ]
     },
     "execution_count": 284,
     "metadata": {},
     "output_type": "execute_result"
    }
   ],
   "source": [
    "df.sample(10, random_state=1999)"
   ]
  },
  {
   "cell_type": "code",
   "execution_count": 285,
   "metadata": {},
   "outputs": [
    {
     "data": {
      "text/html": [
       "<div>\n",
       "<style scoped>\n",
       "    .dataframe tbody tr th:only-of-type {\n",
       "        vertical-align: middle;\n",
       "    }\n",
       "\n",
       "    .dataframe tbody tr th {\n",
       "        vertical-align: top;\n",
       "    }\n",
       "\n",
       "    .dataframe thead th {\n",
       "        text-align: right;\n",
       "    }\n",
       "</style>\n",
       "<table border=\"1\" class=\"dataframe\">\n",
       "  <thead>\n",
       "    <tr style=\"text-align: right;\">\n",
       "      <th></th>\n",
       "      <th>haircolor_black</th>\n",
       "      <th>haircolor_blond</th>\n",
       "      <th>haircolor_fair</th>\n",
       "      <th>haircolor_grey</th>\n",
       "      <th>haircolor_marron</th>\n",
       "      <th>haircolor_none</th>\n",
       "      <th>haircolor_red</th>\n",
       "    </tr>\n",
       "  </thead>\n",
       "  <tbody>\n",
       "    <tr>\n",
       "      <th>41</th>\n",
       "      <td>0</td>\n",
       "      <td>1</td>\n",
       "      <td>0</td>\n",
       "      <td>0</td>\n",
       "      <td>0</td>\n",
       "      <td>0</td>\n",
       "      <td>0</td>\n",
       "    </tr>\n",
       "    <tr>\n",
       "      <th>93</th>\n",
       "      <td>0</td>\n",
       "      <td>0</td>\n",
       "      <td>0</td>\n",
       "      <td>0</td>\n",
       "      <td>1</td>\n",
       "      <td>0</td>\n",
       "      <td>0</td>\n",
       "    </tr>\n",
       "    <tr>\n",
       "      <th>30</th>\n",
       "      <td>0</td>\n",
       "      <td>0</td>\n",
       "      <td>0</td>\n",
       "      <td>0</td>\n",
       "      <td>1</td>\n",
       "      <td>0</td>\n",
       "      <td>0</td>\n",
       "    </tr>\n",
       "    <tr>\n",
       "      <th>80</th>\n",
       "      <td>0</td>\n",
       "      <td>0</td>\n",
       "      <td>0</td>\n",
       "      <td>1</td>\n",
       "      <td>0</td>\n",
       "      <td>0</td>\n",
       "      <td>0</td>\n",
       "    </tr>\n",
       "    <tr>\n",
       "      <th>26</th>\n",
       "      <td>0</td>\n",
       "      <td>0</td>\n",
       "      <td>0</td>\n",
       "      <td>0</td>\n",
       "      <td>0</td>\n",
       "      <td>0</td>\n",
       "      <td>1</td>\n",
       "    </tr>\n",
       "    <tr>\n",
       "      <th>12</th>\n",
       "      <td>0</td>\n",
       "      <td>0</td>\n",
       "      <td>0</td>\n",
       "      <td>0</td>\n",
       "      <td>1</td>\n",
       "      <td>0</td>\n",
       "      <td>0</td>\n",
       "    </tr>\n",
       "    <tr>\n",
       "      <th>96</th>\n",
       "      <td>0</td>\n",
       "      <td>0</td>\n",
       "      <td>0</td>\n",
       "      <td>0</td>\n",
       "      <td>0</td>\n",
       "      <td>0</td>\n",
       "      <td>1</td>\n",
       "    </tr>\n",
       "    <tr>\n",
       "      <th>89</th>\n",
       "      <td>0</td>\n",
       "      <td>0</td>\n",
       "      <td>1</td>\n",
       "      <td>0</td>\n",
       "      <td>0</td>\n",
       "      <td>0</td>\n",
       "      <td>0</td>\n",
       "    </tr>\n",
       "    <tr>\n",
       "      <th>63</th>\n",
       "      <td>0</td>\n",
       "      <td>1</td>\n",
       "      <td>0</td>\n",
       "      <td>0</td>\n",
       "      <td>0</td>\n",
       "      <td>0</td>\n",
       "      <td>0</td>\n",
       "    </tr>\n",
       "    <tr>\n",
       "      <th>9</th>\n",
       "      <td>0</td>\n",
       "      <td>0</td>\n",
       "      <td>0</td>\n",
       "      <td>1</td>\n",
       "      <td>0</td>\n",
       "      <td>0</td>\n",
       "      <td>0</td>\n",
       "    </tr>\n",
       "  </tbody>\n",
       "</table>\n",
       "</div>"
      ],
      "text/plain": [
       "    haircolor_black  haircolor_blond  haircolor_fair  haircolor_grey  \\\n",
       "41                0                1               0               0   \n",
       "93                0                0               0               0   \n",
       "30                0                0               0               0   \n",
       "80                0                0               0               1   \n",
       "26                0                0               0               0   \n",
       "12                0                0               0               0   \n",
       "96                0                0               0               0   \n",
       "89                0                0               1               0   \n",
       "63                0                1               0               0   \n",
       "9                 0                0               0               1   \n",
       "\n",
       "    haircolor_marron  haircolor_none  haircolor_red  \n",
       "41                 0               0              0  \n",
       "93                 1               0              0  \n",
       "30                 1               0              0  \n",
       "80                 0               0              0  \n",
       "26                 0               0              1  \n",
       "12                 1               0              0  \n",
       "96                 0               0              1  \n",
       "89                 0               0              0  \n",
       "63                 0               0              0  \n",
       "9                  0               0              0  "
      ]
     },
     "execution_count": 285,
     "metadata": {},
     "output_type": "execute_result"
    }
   ],
   "source": [
    "df_.sample(10, random_state=1999)"
   ]
  },
  {
   "cell_type": "code",
   "execution_count": 286,
   "metadata": {},
   "outputs": [
    {
     "data": {
      "text/plain": [
       "PCA(copy=True, iterated_power='auto', n_components=3, random_state=None,\n",
       "    svd_solver='auto', tol=0.0, whiten=False)"
      ]
     },
     "execution_count": 286,
     "metadata": {},
     "output_type": "execute_result"
    }
   ],
   "source": [
    "from sklearn.decomposition import PCA\n",
    "\n",
    "#pca \n",
    "pca = PCA(n_components=3)\n",
    "\n",
    "pca.fit(df_)"
   ]
  },
  {
   "cell_type": "markdown",
   "metadata": {},
   "source": [
    "Instead of 7 columns/vectors the feature space as been reduced to 3"
   ]
  },
  {
   "cell_type": "code",
   "execution_count": 287,
   "metadata": {},
   "outputs": [
    {
     "data": {
      "text/html": [
       "<div>\n",
       "<style scoped>\n",
       "    .dataframe tbody tr th:only-of-type {\n",
       "        vertical-align: middle;\n",
       "    }\n",
       "\n",
       "    .dataframe tbody tr th {\n",
       "        vertical-align: top;\n",
       "    }\n",
       "\n",
       "    .dataframe thead th {\n",
       "        text-align: right;\n",
       "    }\n",
       "</style>\n",
       "<table border=\"1\" class=\"dataframe\">\n",
       "  <thead>\n",
       "    <tr style=\"text-align: right;\">\n",
       "      <th></th>\n",
       "      <th>Embed_1</th>\n",
       "      <th>Embed_2</th>\n",
       "      <th>Embed_3</th>\n",
       "      <th>haircolor</th>\n",
       "    </tr>\n",
       "  </thead>\n",
       "  <tbody>\n",
       "    <tr>\n",
       "      <th>41</th>\n",
       "      <td>-0.360728</td>\n",
       "      <td>-7.071068e-01</td>\n",
       "      <td>-0.391375</td>\n",
       "      <td>blond</td>\n",
       "    </tr>\n",
       "    <tr>\n",
       "      <th>93</th>\n",
       "      <td>-0.360728</td>\n",
       "      <td>7.071068e-01</td>\n",
       "      <td>-0.391375</td>\n",
       "      <td>marron</td>\n",
       "    </tr>\n",
       "    <tr>\n",
       "      <th>30</th>\n",
       "      <td>-0.360728</td>\n",
       "      <td>7.071068e-01</td>\n",
       "      <td>-0.391375</td>\n",
       "      <td>marron</td>\n",
       "    </tr>\n",
       "    <tr>\n",
       "      <th>80</th>\n",
       "      <td>0.851572</td>\n",
       "      <td>2.898549e-15</td>\n",
       "      <td>-0.221542</td>\n",
       "      <td>grey</td>\n",
       "    </tr>\n",
       "    <tr>\n",
       "      <th>26</th>\n",
       "      <td>-0.044435</td>\n",
       "      <td>-1.225753e-15</td>\n",
       "      <td>0.138149</td>\n",
       "      <td>red</td>\n",
       "    </tr>\n",
       "    <tr>\n",
       "      <th>12</th>\n",
       "      <td>-0.360728</td>\n",
       "      <td>7.071068e-01</td>\n",
       "      <td>-0.391375</td>\n",
       "      <td>marron</td>\n",
       "    </tr>\n",
       "    <tr>\n",
       "      <th>96</th>\n",
       "      <td>-0.044435</td>\n",
       "      <td>-1.225753e-15</td>\n",
       "      <td>0.138149</td>\n",
       "      <td>red</td>\n",
       "    </tr>\n",
       "    <tr>\n",
       "      <th>89</th>\n",
       "      <td>-0.093764</td>\n",
       "      <td>-9.317203e-16</td>\n",
       "      <td>0.734017</td>\n",
       "      <td>fair</td>\n",
       "    </tr>\n",
       "    <tr>\n",
       "      <th>63</th>\n",
       "      <td>-0.360728</td>\n",
       "      <td>-7.071068e-01</td>\n",
       "      <td>-0.391375</td>\n",
       "      <td>blond</td>\n",
       "    </tr>\n",
       "    <tr>\n",
       "      <th>9</th>\n",
       "      <td>0.851572</td>\n",
       "      <td>2.898549e-15</td>\n",
       "      <td>-0.221542</td>\n",
       "      <td>grey</td>\n",
       "    </tr>\n",
       "  </tbody>\n",
       "</table>\n",
       "</div>"
      ],
      "text/plain": [
       "     Embed_1       Embed_2   Embed_3 haircolor\n",
       "41 -0.360728 -7.071068e-01 -0.391375     blond\n",
       "93 -0.360728  7.071068e-01 -0.391375    marron\n",
       "30 -0.360728  7.071068e-01 -0.391375    marron\n",
       "80  0.851572  2.898549e-15 -0.221542      grey\n",
       "26 -0.044435 -1.225753e-15  0.138149       red\n",
       "12 -0.360728  7.071068e-01 -0.391375    marron\n",
       "96 -0.044435 -1.225753e-15  0.138149       red\n",
       "89 -0.093764 -9.317203e-16  0.734017      fair\n",
       "63 -0.360728 -7.071068e-01 -0.391375     blond\n",
       "9   0.851572  2.898549e-15 -0.221542      grey"
      ]
     },
     "execution_count": 287,
     "metadata": {},
     "output_type": "execute_result"
    }
   ],
   "source": [
    "df__ = pd.DataFrame(pca.transform(df_), columns=['Embed_1', 'Embed_2', 'Embed_3' ])\n",
    "df__['haircolor'] = df['haircolor']\n",
    "df__.sample(10,random_state=1999)"
   ]
  },
  {
   "cell_type": "markdown",
   "metadata": {},
   "source": [
    "#### Unique embeddings for hair color\n",
    "\n",
    "'haircolor' may be represented by columns 0,1 and 2 as feature."
   ]
  },
  {
   "cell_type": "code",
   "execution_count": 288,
   "metadata": {},
   "outputs": [
    {
     "data": {
      "text/html": [
       "<div>\n",
       "<style scoped>\n",
       "    .dataframe tbody tr th:only-of-type {\n",
       "        vertical-align: middle;\n",
       "    }\n",
       "\n",
       "    .dataframe tbody tr th {\n",
       "        vertical-align: top;\n",
       "    }\n",
       "\n",
       "    .dataframe thead th {\n",
       "        text-align: right;\n",
       "    }\n",
       "</style>\n",
       "<table border=\"1\" class=\"dataframe\">\n",
       "  <thead>\n",
       "    <tr style=\"text-align: right;\">\n",
       "      <th></th>\n",
       "      <th>Embed_1</th>\n",
       "      <th>Embed_2</th>\n",
       "      <th>Embed_3</th>\n",
       "      <th>haircolor</th>\n",
       "    </tr>\n",
       "  </thead>\n",
       "  <tbody>\n",
       "    <tr>\n",
       "      <th>0</th>\n",
       "      <td>-0.023676</td>\n",
       "      <td>-8.517528e-17</td>\n",
       "      <td>0.058712</td>\n",
       "      <td>black</td>\n",
       "    </tr>\n",
       "    <tr>\n",
       "      <th>1</th>\n",
       "      <td>0.851572</td>\n",
       "      <td>2.898549e-15</td>\n",
       "      <td>-0.221542</td>\n",
       "      <td>grey</td>\n",
       "    </tr>\n",
       "    <tr>\n",
       "      <th>2</th>\n",
       "      <td>-0.068439</td>\n",
       "      <td>-1.306421e-15</td>\n",
       "      <td>0.301105</td>\n",
       "      <td>none</td>\n",
       "    </tr>\n",
       "    <tr>\n",
       "      <th>5</th>\n",
       "      <td>-0.044435</td>\n",
       "      <td>-1.225753e-15</td>\n",
       "      <td>0.138149</td>\n",
       "      <td>red</td>\n",
       "    </tr>\n",
       "    <tr>\n",
       "      <th>6</th>\n",
       "      <td>-0.093764</td>\n",
       "      <td>-9.317203e-16</td>\n",
       "      <td>0.734017</td>\n",
       "      <td>fair</td>\n",
       "    </tr>\n",
       "    <tr>\n",
       "      <th>7</th>\n",
       "      <td>-0.360728</td>\n",
       "      <td>7.071068e-01</td>\n",
       "      <td>-0.391375</td>\n",
       "      <td>marron</td>\n",
       "    </tr>\n",
       "    <tr>\n",
       "      <th>20</th>\n",
       "      <td>-0.360728</td>\n",
       "      <td>-7.071068e-01</td>\n",
       "      <td>-0.391375</td>\n",
       "      <td>blond</td>\n",
       "    </tr>\n",
       "  </tbody>\n",
       "</table>\n",
       "</div>"
      ],
      "text/plain": [
       "     Embed_1       Embed_2   Embed_3 haircolor\n",
       "0  -0.023676 -8.517528e-17  0.058712     black\n",
       "1   0.851572  2.898549e-15 -0.221542      grey\n",
       "2  -0.068439 -1.306421e-15  0.301105      none\n",
       "5  -0.044435 -1.225753e-15  0.138149       red\n",
       "6  -0.093764 -9.317203e-16  0.734017      fair\n",
       "7  -0.360728  7.071068e-01 -0.391375    marron\n",
       "20 -0.360728 -7.071068e-01 -0.391375     blond"
      ]
     },
     "execution_count": 288,
     "metadata": {},
     "output_type": "execute_result"
    }
   ],
   "source": [
    "df__.drop_duplicates()"
   ]
  },
  {
   "cell_type": "markdown",
   "metadata": {},
   "source": [
    "### Supervised example\n",
    "\n",
    "**Just illustrating the mechanics** \n",
    "\n",
    "Suppose this s part of marketing survey to see how likely people are to buy suntan lotion.\n",
    "\n",
    "If possible supervised embedding is preferred over unsupervised, but only if it makes sense. I.e. there is a causal relationship between the 2 variables. In this case: hair color(o.k....sigh... *natural* hair color) has a causal relationship to the susceptibility of sunburn and therefore the likelihood to need, and therefore buy, suntan lotion."
   ]
  },
  {
   "cell_type": "code",
   "execution_count": 7,
   "metadata": {},
   "outputs": [],
   "source": [
    "# create categorical target with 5 values\n",
    "df_['buy_suntan?'] = 'likely'\n",
    "\n",
    "df_.loc[(df_['haircolor_black'] == 1) | (df_['haircolor_marron'] == 1), 'buy_suntan?'] = 'unlikely'\n",
    "df_.loc[(df_['haircolor_grey'] == 1), 'buy_suntan?'] = 'possible'\n",
    "df_.loc[(df_['haircolor_none'] == 1), 'buy_suntan?'] = 'undetermined'\n",
    "df_.loc[(df_['haircolor_red'] == 1), 'buy_suntan?'] = 'very likely'"
   ]
  },
  {
   "cell_type": "code",
   "execution_count": 8,
   "metadata": {},
   "outputs": [
    {
     "data": {
      "text/html": [
       "<div>\n",
       "<style scoped>\n",
       "    .dataframe tbody tr th:only-of-type {\n",
       "        vertical-align: middle;\n",
       "    }\n",
       "\n",
       "    .dataframe tbody tr th {\n",
       "        vertical-align: top;\n",
       "    }\n",
       "\n",
       "    .dataframe thead th {\n",
       "        text-align: right;\n",
       "    }\n",
       "</style>\n",
       "<table border=\"1\" class=\"dataframe\">\n",
       "  <thead>\n",
       "    <tr style=\"text-align: right;\">\n",
       "      <th></th>\n",
       "      <th>haircolor_black</th>\n",
       "      <th>haircolor_blond</th>\n",
       "      <th>haircolor_fair</th>\n",
       "      <th>haircolor_grey</th>\n",
       "      <th>haircolor_marron</th>\n",
       "      <th>haircolor_none</th>\n",
       "      <th>haircolor_red</th>\n",
       "      <th>buy_suntan?</th>\n",
       "    </tr>\n",
       "  </thead>\n",
       "  <tbody>\n",
       "    <tr>\n",
       "      <th>41</th>\n",
       "      <td>0</td>\n",
       "      <td>1</td>\n",
       "      <td>0</td>\n",
       "      <td>0</td>\n",
       "      <td>0</td>\n",
       "      <td>0</td>\n",
       "      <td>0</td>\n",
       "      <td>likely</td>\n",
       "    </tr>\n",
       "    <tr>\n",
       "      <th>93</th>\n",
       "      <td>0</td>\n",
       "      <td>0</td>\n",
       "      <td>0</td>\n",
       "      <td>1</td>\n",
       "      <td>0</td>\n",
       "      <td>0</td>\n",
       "      <td>0</td>\n",
       "      <td>possible</td>\n",
       "    </tr>\n",
       "    <tr>\n",
       "      <th>30</th>\n",
       "      <td>0</td>\n",
       "      <td>0</td>\n",
       "      <td>0</td>\n",
       "      <td>0</td>\n",
       "      <td>1</td>\n",
       "      <td>0</td>\n",
       "      <td>0</td>\n",
       "      <td>unlikely</td>\n",
       "    </tr>\n",
       "    <tr>\n",
       "      <th>80</th>\n",
       "      <td>0</td>\n",
       "      <td>1</td>\n",
       "      <td>0</td>\n",
       "      <td>0</td>\n",
       "      <td>0</td>\n",
       "      <td>0</td>\n",
       "      <td>0</td>\n",
       "      <td>likely</td>\n",
       "    </tr>\n",
       "    <tr>\n",
       "      <th>26</th>\n",
       "      <td>0</td>\n",
       "      <td>1</td>\n",
       "      <td>0</td>\n",
       "      <td>0</td>\n",
       "      <td>0</td>\n",
       "      <td>0</td>\n",
       "      <td>0</td>\n",
       "      <td>likely</td>\n",
       "    </tr>\n",
       "    <tr>\n",
       "      <th>12</th>\n",
       "      <td>1</td>\n",
       "      <td>0</td>\n",
       "      <td>0</td>\n",
       "      <td>0</td>\n",
       "      <td>0</td>\n",
       "      <td>0</td>\n",
       "      <td>0</td>\n",
       "      <td>unlikely</td>\n",
       "    </tr>\n",
       "    <tr>\n",
       "      <th>96</th>\n",
       "      <td>0</td>\n",
       "      <td>0</td>\n",
       "      <td>0</td>\n",
       "      <td>0</td>\n",
       "      <td>0</td>\n",
       "      <td>1</td>\n",
       "      <td>0</td>\n",
       "      <td>undetermined</td>\n",
       "    </tr>\n",
       "    <tr>\n",
       "      <th>89</th>\n",
       "      <td>0</td>\n",
       "      <td>0</td>\n",
       "      <td>0</td>\n",
       "      <td>0</td>\n",
       "      <td>0</td>\n",
       "      <td>1</td>\n",
       "      <td>0</td>\n",
       "      <td>undetermined</td>\n",
       "    </tr>\n",
       "    <tr>\n",
       "      <th>63</th>\n",
       "      <td>0</td>\n",
       "      <td>0</td>\n",
       "      <td>0</td>\n",
       "      <td>0</td>\n",
       "      <td>1</td>\n",
       "      <td>0</td>\n",
       "      <td>0</td>\n",
       "      <td>unlikely</td>\n",
       "    </tr>\n",
       "    <tr>\n",
       "      <th>9</th>\n",
       "      <td>0</td>\n",
       "      <td>0</td>\n",
       "      <td>0</td>\n",
       "      <td>0</td>\n",
       "      <td>1</td>\n",
       "      <td>0</td>\n",
       "      <td>0</td>\n",
       "      <td>unlikely</td>\n",
       "    </tr>\n",
       "  </tbody>\n",
       "</table>\n",
       "</div>"
      ],
      "text/plain": [
       "    haircolor_black  haircolor_blond  haircolor_fair  haircolor_grey  \\\n",
       "41                0                1               0               0   \n",
       "93                0                0               0               1   \n",
       "30                0                0               0               0   \n",
       "80                0                1               0               0   \n",
       "26                0                1               0               0   \n",
       "12                1                0               0               0   \n",
       "96                0                0               0               0   \n",
       "89                0                0               0               0   \n",
       "63                0                0               0               0   \n",
       "9                 0                0               0               0   \n",
       "\n",
       "    haircolor_marron  haircolor_none  haircolor_red   buy_suntan?  \n",
       "41                 0               0              0        likely  \n",
       "93                 0               0              0      possible  \n",
       "30                 1               0              0      unlikely  \n",
       "80                 0               0              0        likely  \n",
       "26                 0               0              0        likely  \n",
       "12                 0               0              0      unlikely  \n",
       "96                 0               1              0  undetermined  \n",
       "89                 0               1              0  undetermined  \n",
       "63                 1               0              0      unlikely  \n",
       "9                  1               0              0      unlikely  "
      ]
     },
     "execution_count": 8,
     "metadata": {},
     "output_type": "execute_result"
    }
   ],
   "source": [
    "df_.sample(10, random_state=1999)"
   ]
  },
  {
   "cell_type": "code",
   "execution_count": 9,
   "metadata": {},
   "outputs": [],
   "source": [
    "X = df_[['haircolor_black', 'haircolor_blond', 'haircolor_fair',\n",
    "       'haircolor_grey', 'haircolor_marron', 'haircolor_none', 'haircolor_red']]\n",
    "y = df_['buy_suntan?']\n",
    "\n",
    "from sklearn.preprocessing import StandardScaler\n",
    "\n",
    "ss = StandardScaler()\n",
    "\n",
    "X = ss.fit_transform(X)"
   ]
  },
  {
   "cell_type": "code",
   "execution_count": 10,
   "metadata": {},
   "outputs": [
    {
     "name": "stderr",
     "output_type": "stream",
     "text": [
      "/anaconda3/lib/python3.6/site-packages/sklearn/discriminant_analysis.py:388: UserWarning: Variables are collinear.\n",
      "  warnings.warn(\"Variables are collinear.\")\n"
     ]
    },
    {
     "data": {
      "text/html": [
       "<div>\n",
       "<style scoped>\n",
       "    .dataframe tbody tr th:only-of-type {\n",
       "        vertical-align: middle;\n",
       "    }\n",
       "\n",
       "    .dataframe tbody tr th {\n",
       "        vertical-align: top;\n",
       "    }\n",
       "\n",
       "    .dataframe thead th {\n",
       "        text-align: right;\n",
       "    }\n",
       "</style>\n",
       "<table border=\"1\" class=\"dataframe\">\n",
       "  <thead>\n",
       "    <tr style=\"text-align: right;\">\n",
       "      <th></th>\n",
       "      <th>Embed_1</th>\n",
       "      <th>Embed_2</th>\n",
       "      <th>Embed_3</th>\n",
       "      <th>buy_suntan?</th>\n",
       "      <th>haircolor</th>\n",
       "    </tr>\n",
       "  </thead>\n",
       "  <tbody>\n",
       "    <tr>\n",
       "      <th>79</th>\n",
       "      <td>-1.455589e+15</td>\n",
       "      <td>1.842936e+15</td>\n",
       "      <td>-1.705045e+15</td>\n",
       "      <td>likely</td>\n",
       "      <td>fair</td>\n",
       "    </tr>\n",
       "    <tr>\n",
       "      <th>14</th>\n",
       "      <td>-4.042643e+15</td>\n",
       "      <td>-1.171476e+16</td>\n",
       "      <td>1.353165e+15</td>\n",
       "      <td>possible</td>\n",
       "      <td>grey</td>\n",
       "    </tr>\n",
       "    <tr>\n",
       "      <th>68</th>\n",
       "      <td>-1.455589e+15</td>\n",
       "      <td>1.842936e+15</td>\n",
       "      <td>-1.705045e+15</td>\n",
       "      <td>likely</td>\n",
       "      <td>fair</td>\n",
       "    </tr>\n",
       "    <tr>\n",
       "      <th>12</th>\n",
       "      <td>-1.455589e+15</td>\n",
       "      <td>1.842936e+15</td>\n",
       "      <td>-1.705045e+15</td>\n",
       "      <td>unlikely</td>\n",
       "      <td>black</td>\n",
       "    </tr>\n",
       "    <tr>\n",
       "      <th>85</th>\n",
       "      <td>-1.455589e+15</td>\n",
       "      <td>1.842936e+15</td>\n",
       "      <td>-1.705045e+15</td>\n",
       "      <td>likely</td>\n",
       "      <td>blond</td>\n",
       "    </tr>\n",
       "    <tr>\n",
       "      <th>54</th>\n",
       "      <td>-1.455589e+15</td>\n",
       "      <td>1.842936e+15</td>\n",
       "      <td>-1.705045e+15</td>\n",
       "      <td>unlikely</td>\n",
       "      <td>black</td>\n",
       "    </tr>\n",
       "    <tr>\n",
       "      <th>84</th>\n",
       "      <td>-4.042643e+15</td>\n",
       "      <td>-1.171476e+16</td>\n",
       "      <td>1.353165e+15</td>\n",
       "      <td>possible</td>\n",
       "      <td>grey</td>\n",
       "    </tr>\n",
       "    <tr>\n",
       "      <th>70</th>\n",
       "      <td>-1.455589e+15</td>\n",
       "      <td>1.842936e+15</td>\n",
       "      <td>-1.705045e+15</td>\n",
       "      <td>likely</td>\n",
       "      <td>fair</td>\n",
       "    </tr>\n",
       "    <tr>\n",
       "      <th>28</th>\n",
       "      <td>-1.455589e+15</td>\n",
       "      <td>1.842936e+15</td>\n",
       "      <td>-1.705045e+15</td>\n",
       "      <td>likely</td>\n",
       "      <td>fair</td>\n",
       "    </tr>\n",
       "    <tr>\n",
       "      <th>29</th>\n",
       "      <td>-1.455589e+15</td>\n",
       "      <td>1.842936e+15</td>\n",
       "      <td>-1.705045e+15</td>\n",
       "      <td>likely</td>\n",
       "      <td>blond</td>\n",
       "    </tr>\n",
       "  </tbody>\n",
       "</table>\n",
       "</div>"
      ],
      "text/plain": [
       "         Embed_1       Embed_2       Embed_3 buy_suntan? haircolor\n",
       "79 -1.455589e+15  1.842936e+15 -1.705045e+15      likely      fair\n",
       "14 -4.042643e+15 -1.171476e+16  1.353165e+15    possible      grey\n",
       "68 -1.455589e+15  1.842936e+15 -1.705045e+15      likely      fair\n",
       "12 -1.455589e+15  1.842936e+15 -1.705045e+15    unlikely     black\n",
       "85 -1.455589e+15  1.842936e+15 -1.705045e+15      likely     blond\n",
       "54 -1.455589e+15  1.842936e+15 -1.705045e+15    unlikely     black\n",
       "84 -4.042643e+15 -1.171476e+16  1.353165e+15    possible      grey\n",
       "70 -1.455589e+15  1.842936e+15 -1.705045e+15      likely      fair\n",
       "28 -1.455589e+15  1.842936e+15 -1.705045e+15      likely      fair\n",
       "29 -1.455589e+15  1.842936e+15 -1.705045e+15      likely     blond"
      ]
     },
     "execution_count": 10,
     "metadata": {},
     "output_type": "execute_result"
    }
   ],
   "source": [
    "from sklearn.discriminant_analysis import LinearDiscriminantAnalysis as LDA\n",
    "\n",
    "lda = LDA(n_components=3)\n",
    "ldX = pd.DataFrame(lda.fit(X,y).transform(X), columns=['Embed_1', 'Embed_2', 'Embed_3' ])\n",
    "ldX['buy_suntan?'] = df_['buy_suntan?']\n",
    "ldX['haircolor'] = df['haircolor']\n",
    "ldX.sample(10)"
   ]
  },
  {
   "cell_type": "markdown",
   "metadata": {},
   "source": [
    "In this case there are 5 unique embeddings, not 7. This reflects the grouping (only 5) that was coded. E.g. 'blond' and 'fair' have the same embedding."
   ]
  },
  {
   "cell_type": "code",
   "execution_count": 11,
   "metadata": {},
   "outputs": [
    {
     "data": {
      "text/html": [
       "<div>\n",
       "<style scoped>\n",
       "    .dataframe tbody tr th:only-of-type {\n",
       "        vertical-align: middle;\n",
       "    }\n",
       "\n",
       "    .dataframe tbody tr th {\n",
       "        vertical-align: top;\n",
       "    }\n",
       "\n",
       "    .dataframe thead th {\n",
       "        text-align: right;\n",
       "    }\n",
       "</style>\n",
       "<table border=\"1\" class=\"dataframe\">\n",
       "  <thead>\n",
       "    <tr style=\"text-align: right;\">\n",
       "      <th></th>\n",
       "      <th>Embed_1</th>\n",
       "      <th>Embed_2</th>\n",
       "      <th>Embed_3</th>\n",
       "      <th>buy_suntan?</th>\n",
       "      <th>haircolor</th>\n",
       "    </tr>\n",
       "  </thead>\n",
       "  <tbody>\n",
       "    <tr>\n",
       "      <th>0</th>\n",
       "      <td>-1.455589e+15</td>\n",
       "      <td>1.842936e+15</td>\n",
       "      <td>-1.705045e+15</td>\n",
       "      <td>unlikely</td>\n",
       "      <td>black</td>\n",
       "    </tr>\n",
       "    <tr>\n",
       "      <th>1</th>\n",
       "      <td>2.512062e+16</td>\n",
       "      <td>-1.395416e+15</td>\n",
       "      <td>1.147582e+15</td>\n",
       "      <td>undetermined</td>\n",
       "      <td>none</td>\n",
       "    </tr>\n",
       "    <tr>\n",
       "      <th>3</th>\n",
       "      <td>-1.455589e+15</td>\n",
       "      <td>1.842936e+15</td>\n",
       "      <td>-1.705045e+15</td>\n",
       "      <td>likely</td>\n",
       "      <td>blond</td>\n",
       "    </tr>\n",
       "    <tr>\n",
       "      <th>4</th>\n",
       "      <td>-1.455589e+15</td>\n",
       "      <td>1.842936e+15</td>\n",
       "      <td>-1.705045e+15</td>\n",
       "      <td>unlikely</td>\n",
       "      <td>marron</td>\n",
       "    </tr>\n",
       "    <tr>\n",
       "      <th>5</th>\n",
       "      <td>-4.042643e+15</td>\n",
       "      <td>-1.171476e+16</td>\n",
       "      <td>1.353165e+15</td>\n",
       "      <td>possible</td>\n",
       "      <td>grey</td>\n",
       "    </tr>\n",
       "    <tr>\n",
       "      <th>8</th>\n",
       "      <td>-1.455589e+15</td>\n",
       "      <td>1.842936e+15</td>\n",
       "      <td>-1.705045e+15</td>\n",
       "      <td>likely</td>\n",
       "      <td>fair</td>\n",
       "    </tr>\n",
       "    <tr>\n",
       "      <th>10</th>\n",
       "      <td>-3.809332e+15</td>\n",
       "      <td>5.591162e+15</td>\n",
       "      <td>6.779147e+15</td>\n",
       "      <td>very likely</td>\n",
       "      <td>red</td>\n",
       "    </tr>\n",
       "  </tbody>\n",
       "</table>\n",
       "</div>"
      ],
      "text/plain": [
       "         Embed_1       Embed_2       Embed_3   buy_suntan? haircolor\n",
       "0  -1.455589e+15  1.842936e+15 -1.705045e+15      unlikely     black\n",
       "1   2.512062e+16 -1.395416e+15  1.147582e+15  undetermined      none\n",
       "3  -1.455589e+15  1.842936e+15 -1.705045e+15        likely     blond\n",
       "4  -1.455589e+15  1.842936e+15 -1.705045e+15      unlikely    marron\n",
       "5  -4.042643e+15 -1.171476e+16  1.353165e+15      possible      grey\n",
       "8  -1.455589e+15  1.842936e+15 -1.705045e+15        likely      fair\n",
       "10 -3.809332e+15  5.591162e+15  6.779147e+15   very likely       red"
      ]
     },
     "execution_count": 11,
     "metadata": {},
     "output_type": "execute_result"
    }
   ],
   "source": [
    "ldX.drop_duplicates()"
   ]
  },
  {
   "cell_type": "markdown",
   "metadata": {},
   "source": [
    "### Deep learning example\n",
    "\n",
    "forthcoming\n"
   ]
  },
  {
   "cell_type": "markdown",
   "metadata": {},
   "source": [
    "### Word embeddings\n",
    "\n",
    "In a sense words can be regarded as nominal categorical variables. Therefore embeddings logic applies here as well. So, in very simplistic terms, Word Embeddings are the texts converted into numbers and there may be different numerical representations of the same text.\n",
    "\n",
    "Different types of Word Embeddings:\n",
    "\n",
    "1. Frequency based Embedding (unsupervised)\n",
    "    1. Count Vectors\n",
    "    - TF-IDF\n",
    "    - Co-Occurrence Matrix\n",
    "\n",
    "2. Prediction based Embedding (supervised)\n",
    "    1. Target variable based  \n",
    "    The embedding is trained on the model's target y\n",
    "    2. Word2Vec  \n",
    "    Word2vec was created and published in 2013 by a team of researchers led by Tomas Mikolov at Google and patented.[https://en.wikipedia.org/wiki/Word2vec]\n",
    "    The embedding is trained on neighboring words. I.e. the context of a word is considered. The (validated) underlying assumption is that similar words are used in similar contexts and are thus srrounded by similar words.  \n",
    "    2 Main techniques:\n",
    "        1. CBOW  \n",
    "        Continuous Bag Of Words predicts the next word given surrounding words.\n",
    "        - Skip-Gram  \n",
    "        Skip-gram predicts surrounding words given the current word  \n",
    "        According to the authors' note, CBOW is faster while skip-gram is slower but does a better job for infrequent words[https://en.wikipedia.org/wiki/Word2vec].\n",
    "    \n",
    "\n",
    "<img src=\"https://3qeqpr26caki16dnhd19sv6by6v-wpengine.netdna-ssl.com/wp-content/uploads/2017/08/Word2Vec-Training-Models.png\" />\n",
    "https://hackernoon.com/hn-images/1*TTPHUemZjeOjALy9k3KX2w.png\n",
    "<img src=\"https://hackernoon.com/hn-images/1*d47v_FGYKsNT_QRpCNZlfA.png\" />\n",
    "#https://hackernoon.com/hn-images/1*d47v_FGYKsNT_QRpCNZlfA.png"
   ]
  },
  {
   "cell_type": "markdown",
   "metadata": {},
   "source": [
    "#### Target based embedding\n",
    "\n",
    "##### Explainability *NO* consideration: One Hot Encoding\n",
    "\n",
    "One hot encoding uses the Hash-vectorizer under the hood. As different words can have the same hash the original words cannot be retrieved/reconstructed using this method. This can be inconvenient if an embedding dict needs to be made. \n",
    "\n",
    "In the example comments are coded as positive (1) or not (0). So the 'prediction' entails the probability of a class given a word. The intuition is that some words will be more likely to occur in positive comments and, hence, have 'neighboring' meanings.  \n",
    "\n",
    "The Embedding is the weights matrix for the hidden layer.  This means that the number of cells in the hidden layer determine the size of the embedding. Although word vectors with 50, 300 or 800 dimensions are very common, in fact they can be *any* number."
   ]
  },
  {
   "cell_type": "code",
   "execution_count": 149,
   "metadata": {},
   "outputs": [
    {
     "name": "stdout",
     "output_type": "stream",
     "text": [
      "[[28, 25], [38, 26], [36, 45], [37, 26], [35], [47], [23, 45], [1, 38], [23, 26], [23, 46, 25, 6]]\n",
      "[[28 25  0  0]\n",
      " [38 26  0  0]\n",
      " [36 45  0  0]\n",
      " [37 26  0  0]\n",
      " [35  0  0  0]\n",
      " [47  0  0  0]\n",
      " [23 45  0  0]\n",
      " [ 1 38  0  0]\n",
      " [23 26  0  0]\n",
      " [23 46 25  6]]\n",
      "Model: \"sequential\"\n",
      "_________________________________________________________________\n",
      "Layer (type)                 Output Shape              Param #   \n",
      "=================================================================\n",
      "embedding (Embedding)        (None, 4, 8)              400       \n",
      "_________________________________________________________________\n",
      "flatten (Flatten)            (None, 32)                0         \n",
      "_________________________________________________________________\n",
      "dense (Dense)                (None, 1)                 33        \n",
      "=================================================================\n",
      "Total params: 433\n",
      "Trainable params: 433\n",
      "Non-trainable params: 0\n",
      "_________________________________________________________________\n",
      "None\n",
      "Accuracy: 89.999998\n"
     ]
    }
   ],
   "source": [
    "#https://machinelearningmastery.com/use-word-embedding-layers-deep-learning-keras/\n",
    "\n",
    "\n",
    "from numpy import array\n",
    "import tensorflow as tf\n",
    "from tensorflow import keras\n",
    "import tensorflow.keras as keras\n",
    "from tensorflow.keras.preprocessing.text import one_hot\n",
    "from tensorflow.keras.preprocessing.sequence import pad_sequences\n",
    "from tensorflow.keras.models import Sequential\n",
    "from tensorflow.keras.layers import Dense\n",
    "from tensorflow.keras.layers import Flatten\n",
    "\n",
    "keras.backend.clear_session()\n",
    "np.random.seed(1999)\n",
    "tf.random.set_seed(1999)\n",
    "\n",
    "\n",
    "# from keras.layers.embeddings import Embedding\n",
    "# define documents\n",
    "docs = ['Well done!',\n",
    "\t\t'Good work',\n",
    "\t\t'Great effort',\n",
    "\t\t'nice work',\n",
    "\t\t'Excellent!',\n",
    "\t\t'Weak',\n",
    "\t\t'Poor effort!',\n",
    "\t\t'not good',\n",
    "\t\t'poor work',\n",
    "\t\t'Could have done better.']\n",
    "# define class labels; i.e. the target\n",
    "labels = array([1,1,1,1,1,0,0,0,0,0])\n",
    "# integer encode the documents\n",
    "vocab_size = 50\n",
    "\n",
    "#this transforms the texts in to sequences of indices\n",
    "\n",
    "encoded_docs = [one_hot(d, vocab_size) for d in docs]\n",
    "print(encoded_docs)\n",
    "# pad documents to a max length of 4 words\n",
    "max_length = 4\n",
    "padded_docs = pad_sequences(encoded_docs, maxlen=max_length, padding='post')\n",
    "print(padded_docs)\n",
    "# define the model\n",
    "model = Sequential()\n",
    "model.add(keras.layers.Embedding(vocab_size, 8, input_length=max_length)) # 8 vectors\n",
    "model.add(Flatten())\n",
    "model.add(Dense(1, activation='sigmoid'))\n",
    "# compile the model\n",
    "model.compile(optimizer='adam', loss='binary_crossentropy', metrics=['accuracy'])\n",
    "# summarize the model\n",
    "print(model.summary())\n",
    "# fit the model\n",
    "model.fit(padded_docs, labels, epochs=50, verbose=0)\n",
    "# evaluate the model\n",
    "loss, accuracy = model.evaluate(padded_docs, labels, verbose=0)\n",
    "print('Accuracy: %f' % (accuracy*100))"
   ]
  },
  {
   "cell_type": "markdown",
   "metadata": {},
   "source": [
    "##### Connection with original words *IS* important: Tokenizer\n",
    "\n",
    "i.e. use this one.\n",
    "\n",
    "It assumes that the corpus is a list of strings. "
   ]
  },
  {
   "cell_type": "code",
   "execution_count": 150,
   "metadata": {},
   "outputs": [
    {
     "name": "stdout",
     "output_type": "stream",
     "text": [
      "#unique words == vocab_size 14\n",
      "[[6, 2], [3, 1], [7, 4], [8, 1], [9], [10], [5, 4], [11, 3], [5, 1], [12, 13, 2, 14]]\n",
      "length_long_sentence 4\n",
      "[[ 6  2  0  0]\n",
      " [ 3  1  0  0]\n",
      " [ 7  4  0  0]\n",
      " [ 8  1  0  0]\n",
      " [ 9  0  0  0]\n",
      " [10  0  0  0]\n",
      " [ 5  4  0  0]\n",
      " [11  3  0  0]\n",
      " [ 5  1  0  0]\n",
      " [12 13  2 14]]\n",
      "Model: \"sequential\"\n",
      "_________________________________________________________________\n",
      "Layer (type)                 Output Shape              Param #   \n",
      "=================================================================\n",
      "embedding (Embedding)        (None, 4, 8)              120       \n",
      "_________________________________________________________________\n",
      "flatten (Flatten)            (None, 32)                0         \n",
      "_________________________________________________________________\n",
      "dense (Dense)                (None, 1)                 33        \n",
      "=================================================================\n",
      "Total params: 153\n",
      "Trainable params: 153\n",
      "Non-trainable params: 0\n",
      "_________________________________________________________________\n",
      "None\n",
      "Accuracy: 89.999998\n"
     ]
    }
   ],
   "source": [
    "#https://machinelearningmastery.com/use-word-embedding-layers-deep-learning-keras/\n",
    "\n",
    "\n",
    "from numpy import array\n",
    "import tensorflow as tf\n",
    "from tensorflow import keras\n",
    "import tensorflow.keras as keras\n",
    "from tensorflow.keras.preprocessing.text import one_hot\n",
    "from tensorflow.keras.preprocessing.sequence import pad_sequences\n",
    "from tensorflow.keras.models import Sequential\n",
    "from tensorflow.keras.layers import Dense\n",
    "from tensorflow.keras.layers import Flatten\n",
    "\n",
    "keras.backend.clear_session()\n",
    "np.random.seed(1999)\n",
    "tf.random.set_seed(1999)\n",
    "\n",
    "\n",
    "# from keras.layers.embeddings import Embedding\n",
    "# define documents\n",
    "docs = ['Well done!',\n",
    "\t\t'Good work',\n",
    "\t\t'Great effort',\n",
    "\t\t'nice work',\n",
    "\t\t'Excellent!',\n",
    "\t\t'Weak',\n",
    "\t\t'Poor effort!',\n",
    "\t\t'not good',\n",
    "\t\t'poor work',\n",
    "\t\t'Could have done better']\n",
    "# define class labels; i.e. the target\n",
    "labels = array([1,1,1,1,1,0,0,0,0,0])\n",
    "# integer encode the documents\n",
    "\n",
    "\n",
    "# https://stackoverflow.com/questions/54836522/keras-understanding-word-embedding-layer\n",
    "from tensorflow.keras.preprocessing.text import Tokenizer\n",
    "\n",
    "tokenizer = Tokenizer()\n",
    "\n",
    "#this creates the dictionary\n",
    "#IMPORTANT: MUST HAVE ALL DATA - including Test data\n",
    "#IMPORTANT2: This method should be called only once for every new data set!!!\n",
    "tokenizer.fit_on_texts(docs)\n",
    "\n",
    "#this transforms the texts in to sequences of indices (aka transformer)\n",
    "encoded_docs2 = tokenizer.texts_to_sequences(docs)\n",
    "\n",
    "#Retrieve Vocab size from corpus\n",
    "vocab_size=len(tokenizer.word_index.keys())+1 #allow for '0' for padding\n",
    "print(f'#unique words == vocab_size {len(tokenizer.word_index.keys())}')\n",
    "print(encoded_docs2)\n",
    "\n",
    "# Determine longest sentence to determine padding\n",
    "from nltk.tokenize import word_tokenize\n",
    "word_count = lambda sentence: len(word_tokenize(sentence)) #can recognize punctuation\n",
    "# word_count = lambda sentence: len(sentence.split(' ')) #\n",
    "longest_sentence = max(docs, key=word_count)\n",
    "length_long_sentence = len(word_tokenize(longest_sentence))\n",
    "print(f'length_long_sentence {length_long_sentence}')\n",
    "max_length = length_long_sentence\n",
    "\n",
    "# Padding of the docs\n",
    "padded_docs2 = pad_sequences(encoded_docs2, maxlen=max_length, padding='post')\n",
    "print(padded_docs2)\n",
    "\n",
    "# define the model\n",
    "model2 = Sequential()\n",
    "model2.add(keras.layers.Embedding(vocab_size, 8, input_length=max_length))\n",
    "model2.add(Flatten()) #comment out en using GlobalMaxPool1D layer)\n",
    "# model2.add(keras.layers.GlobalMaxPool1D())\n",
    "model2.add(Dense(1, activation='sigmoid')) # <== binary, adjust for number of classes\n",
    "\n",
    "# compile the model\n",
    "model2.compile(optimizer='adam', loss='binary_crossentropy', metrics=['accuracy'])\n",
    "\n",
    "# summarize the model\n",
    "print(model2.summary())\n",
    "\n",
    "# fit the model\n",
    "model2.fit(padded_docs2, labels, epochs=50, verbose=0)\n",
    "\n",
    "# evaluate the model\n",
    "loss, accuracy = model2.evaluate(padded_docs2, labels, verbose=0)\n",
    "print('Accuracy: %f' % (accuracy*100))"
   ]
  },
  {
   "cell_type": "markdown",
   "metadata": {},
   "source": [
    "##### Difference in encoding\n",
    "###### One Hot\n",
    "\n",
    "Number 23 illustrates the issue: 'poor' and 'Could' end up with the same encoding"
   ]
  },
  {
   "cell_type": "code",
   "execution_count": 161,
   "metadata": {},
   "outputs": [
    {
     "name": "stdout",
     "output_type": "stream",
     "text": [
      "[28, 25] \t Well done!\n",
      "[38, 26] \t Good work\n",
      "[36, 45] \t Great effort\n",
      "[37, 26] \t nice work\n",
      "[35] \t \t Excellent!\n",
      "[47] \t \t Weak\n",
      "[23, 45] \t Poor effort!\n",
      "[1, 38] \t not good\n",
      "[23, 26] \t poor work\n",
      "[23, 46, 25, 6] \t Could have done better\n"
     ]
    }
   ],
   "source": [
    "for i in range(len(docs)):\n",
    "    if len(encoded_docs[i]) == 1:\n",
    "        print(encoded_docs[i],'\\t','\\t', docs[i])\n",
    "    else:\n",
    "       print(encoded_docs[i],'\\t' ,docs[i])"
   ]
  },
  {
   "cell_type": "markdown",
   "metadata": {},
   "source": [
    "###### Tokenizer"
   ]
  },
  {
   "cell_type": "code",
   "execution_count": 162,
   "metadata": {},
   "outputs": [
    {
     "name": "stdout",
     "output_type": "stream",
     "text": [
      "[6, 2] \t Well done!\n",
      "[3, 1] \t Good work\n",
      "[7, 4] \t Great effort\n",
      "[8, 1] \t nice work\n",
      "[9] \t \t Excellent!\n",
      "[10] \t \t Weak\n",
      "[5, 4] \t Poor effort!\n",
      "[11, 3] \t not good\n",
      "[5, 1] \t poor work\n",
      "[12, 13, 2, 14] \t Could have done better\n"
     ]
    }
   ],
   "source": [
    "for i in range(len(docs)):\n",
    "    if len(encoded_docs[i]) == 1:\n",
    "        print(encoded_docs2[i], '\\t','\\t',docs[i])\n",
    "    else:\n",
    "       print(encoded_docs2[i], '\\t',docs[i])"
   ]
  },
  {
   "cell_type": "markdown",
   "metadata": {},
   "source": [
    "##### Encoding con't - Getting the embedding"
   ]
  },
  {
   "cell_type": "markdown",
   "metadata": {},
   "source": [
    "Encoding result"
   ]
  },
  {
   "cell_type": "code",
   "execution_count": 32,
   "metadata": {},
   "outputs": [
    {
     "data": {
      "text/plain": [
       "{1: 'work',\n",
       " 2: 'done',\n",
       " 3: 'good',\n",
       " 4: 'effort',\n",
       " 5: 'poor',\n",
       " 6: 'well',\n",
       " 7: 'great',\n",
       " 8: 'nice',\n",
       " 9: 'excellent',\n",
       " 10: 'weak',\n",
       " 11: 'not',\n",
       " 12: 'could',\n",
       " 13: 'have',\n",
       " 14: 'better'}"
      ]
     },
     "execution_count": 32,
     "metadata": {},
     "output_type": "execute_result"
    }
   ],
   "source": [
    "reverse_word_map = dict(map(reversed, tokenizer.word_index.items()))\n",
    "reverse_word_map"
   ]
  },
  {
   "cell_type": "markdown",
   "metadata": {},
   "source": [
    "Shape of the embedding: 14 + 1(for space) words with 8 embeddings"
   ]
  },
  {
   "cell_type": "code",
   "execution_count": 33,
   "metadata": {},
   "outputs": [
    {
     "data": {
      "text/plain": [
       "(15, 8)"
      ]
     },
     "execution_count": 33,
     "metadata": {},
     "output_type": "execute_result"
    }
   ],
   "source": [
    "model2.layers[0].get_weights()[0].shape"
   ]
  },
  {
   "cell_type": "markdown",
   "metadata": {},
   "source": [
    "Embeddings matrix"
   ]
  },
  {
   "cell_type": "markdown",
   "metadata": {},
   "source": [
    "embeddings = model2.layers[0].get_weights()[0]"
   ]
  },
  {
   "cell_type": "markdown",
   "metadata": {},
   "source": [
    "What does it look like?"
   ]
  },
  {
   "cell_type": "code",
   "execution_count": 35,
   "metadata": {},
   "outputs": [
    {
     "data": {
      "text/html": [
       "<div>\n",
       "<style scoped>\n",
       "    .dataframe tbody tr th:only-of-type {\n",
       "        vertical-align: middle;\n",
       "    }\n",
       "\n",
       "    .dataframe tbody tr th {\n",
       "        vertical-align: top;\n",
       "    }\n",
       "\n",
       "    .dataframe thead th {\n",
       "        text-align: right;\n",
       "    }\n",
       "</style>\n",
       "<table border=\"1\" class=\"dataframe\">\n",
       "  <thead>\n",
       "    <tr style=\"text-align: right;\">\n",
       "      <th></th>\n",
       "      <th>0</th>\n",
       "      <th>0</th>\n",
       "      <th>1</th>\n",
       "      <th>2</th>\n",
       "      <th>3</th>\n",
       "      <th>4</th>\n",
       "      <th>5</th>\n",
       "      <th>6</th>\n",
       "      <th>7</th>\n",
       "    </tr>\n",
       "  </thead>\n",
       "  <tbody>\n",
       "    <tr>\n",
       "      <th>0</th>\n",
       "      <td>NaN</td>\n",
       "      <td>0.005104</td>\n",
       "      <td>-0.091474</td>\n",
       "      <td>0.056546</td>\n",
       "      <td>0.033382</td>\n",
       "      <td>-0.031592</td>\n",
       "      <td>0.009875</td>\n",
       "      <td>0.093768</td>\n",
       "      <td>0.099018</td>\n",
       "    </tr>\n",
       "    <tr>\n",
       "      <th>1</th>\n",
       "      <td>work</td>\n",
       "      <td>0.012157</td>\n",
       "      <td>-0.048473</td>\n",
       "      <td>-0.060757</td>\n",
       "      <td>-0.069719</td>\n",
       "      <td>-0.096626</td>\n",
       "      <td>0.075920</td>\n",
       "      <td>-0.097345</td>\n",
       "      <td>0.093008</td>\n",
       "    </tr>\n",
       "    <tr>\n",
       "      <th>2</th>\n",
       "      <td>done</td>\n",
       "      <td>0.031231</td>\n",
       "      <td>-0.018269</td>\n",
       "      <td>-0.081133</td>\n",
       "      <td>-0.012675</td>\n",
       "      <td>-0.011171</td>\n",
       "      <td>0.075244</td>\n",
       "      <td>-0.034972</td>\n",
       "      <td>-0.078955</td>\n",
       "    </tr>\n",
       "    <tr>\n",
       "      <th>3</th>\n",
       "      <td>good</td>\n",
       "      <td>0.001083</td>\n",
       "      <td>0.000182</td>\n",
       "      <td>0.094942</td>\n",
       "      <td>0.057902</td>\n",
       "      <td>0.042518</td>\n",
       "      <td>-0.084367</td>\n",
       "      <td>0.064010</td>\n",
       "      <td>-0.082583</td>\n",
       "    </tr>\n",
       "    <tr>\n",
       "      <th>4</th>\n",
       "      <td>effort</td>\n",
       "      <td>-0.024135</td>\n",
       "      <td>0.087178</td>\n",
       "      <td>0.004909</td>\n",
       "      <td>0.062697</td>\n",
       "      <td>0.093684</td>\n",
       "      <td>-0.057316</td>\n",
       "      <td>0.069480</td>\n",
       "      <td>0.004347</td>\n",
       "    </tr>\n",
       "    <tr>\n",
       "      <th>5</th>\n",
       "      <td>poor</td>\n",
       "      <td>-0.037190</td>\n",
       "      <td>-0.078268</td>\n",
       "      <td>-0.085165</td>\n",
       "      <td>-0.006504</td>\n",
       "      <td>0.040269</td>\n",
       "      <td>0.051170</td>\n",
       "      <td>-0.015642</td>\n",
       "      <td>0.098759</td>\n",
       "    </tr>\n",
       "    <tr>\n",
       "      <th>6</th>\n",
       "      <td>well</td>\n",
       "      <td>0.079426</td>\n",
       "      <td>0.082255</td>\n",
       "      <td>0.064336</td>\n",
       "      <td>0.017975</td>\n",
       "      <td>-0.095145</td>\n",
       "      <td>-0.056427</td>\n",
       "      <td>0.008076</td>\n",
       "      <td>-0.054495</td>\n",
       "    </tr>\n",
       "    <tr>\n",
       "      <th>7</th>\n",
       "      <td>great</td>\n",
       "      <td>0.079785</td>\n",
       "      <td>0.024851</td>\n",
       "      <td>0.029915</td>\n",
       "      <td>0.059481</td>\n",
       "      <td>-0.013340</td>\n",
       "      <td>-0.101985</td>\n",
       "      <td>0.089219</td>\n",
       "      <td>-0.040026</td>\n",
       "    </tr>\n",
       "    <tr>\n",
       "      <th>8</th>\n",
       "      <td>nice</td>\n",
       "      <td>0.094104</td>\n",
       "      <td>0.071999</td>\n",
       "      <td>0.029981</td>\n",
       "      <td>0.022791</td>\n",
       "      <td>-0.098274</td>\n",
       "      <td>-0.048114</td>\n",
       "      <td>0.048524</td>\n",
       "      <td>-0.070325</td>\n",
       "    </tr>\n",
       "    <tr>\n",
       "      <th>9</th>\n",
       "      <td>excellent</td>\n",
       "      <td>0.062333</td>\n",
       "      <td>0.044538</td>\n",
       "      <td>0.038080</td>\n",
       "      <td>0.029196</td>\n",
       "      <td>-0.093700</td>\n",
       "      <td>-0.052801</td>\n",
       "      <td>0.022940</td>\n",
       "      <td>-0.038999</td>\n",
       "    </tr>\n",
       "    <tr>\n",
       "      <th>10</th>\n",
       "      <td>weak</td>\n",
       "      <td>-0.025933</td>\n",
       "      <td>-0.046717</td>\n",
       "      <td>-0.047508</td>\n",
       "      <td>-0.038916</td>\n",
       "      <td>0.021463</td>\n",
       "      <td>0.008064</td>\n",
       "      <td>-0.096730</td>\n",
       "      <td>0.049304</td>\n",
       "    </tr>\n",
       "    <tr>\n",
       "      <th>11</th>\n",
       "      <td>not</td>\n",
       "      <td>-0.034321</td>\n",
       "      <td>-0.081455</td>\n",
       "      <td>-0.060782</td>\n",
       "      <td>-0.089605</td>\n",
       "      <td>0.006809</td>\n",
       "      <td>0.061089</td>\n",
       "      <td>-0.052578</td>\n",
       "      <td>0.098138</td>\n",
       "    </tr>\n",
       "    <tr>\n",
       "      <th>12</th>\n",
       "      <td>could</td>\n",
       "      <td>-0.063080</td>\n",
       "      <td>-0.044117</td>\n",
       "      <td>-0.005669</td>\n",
       "      <td>-0.078706</td>\n",
       "      <td>0.055978</td>\n",
       "      <td>0.095529</td>\n",
       "      <td>-0.019378</td>\n",
       "      <td>0.026861</td>\n",
       "    </tr>\n",
       "    <tr>\n",
       "      <th>13</th>\n",
       "      <td>have</td>\n",
       "      <td>-0.096405</td>\n",
       "      <td>0.000709</td>\n",
       "      <td>0.067342</td>\n",
       "      <td>0.024498</td>\n",
       "      <td>0.064454</td>\n",
       "      <td>-0.095430</td>\n",
       "      <td>0.035856</td>\n",
       "      <td>-0.077044</td>\n",
       "    </tr>\n",
       "    <tr>\n",
       "      <th>14</th>\n",
       "      <td>better</td>\n",
       "      <td>0.024493</td>\n",
       "      <td>-0.070384</td>\n",
       "      <td>-0.044711</td>\n",
       "      <td>0.099948</td>\n",
       "      <td>0.006251</td>\n",
       "      <td>-0.077575</td>\n",
       "      <td>-0.071884</td>\n",
       "      <td>0.046175</td>\n",
       "    </tr>\n",
       "  </tbody>\n",
       "</table>\n",
       "</div>"
      ],
      "text/plain": [
       "            0         0         1         2         3         4         5  \\\n",
       "0         NaN  0.005104 -0.091474  0.056546  0.033382 -0.031592  0.009875   \n",
       "1        work  0.012157 -0.048473 -0.060757 -0.069719 -0.096626  0.075920   \n",
       "2        done  0.031231 -0.018269 -0.081133 -0.012675 -0.011171  0.075244   \n",
       "3        good  0.001083  0.000182  0.094942  0.057902  0.042518 -0.084367   \n",
       "4      effort -0.024135  0.087178  0.004909  0.062697  0.093684 -0.057316   \n",
       "5        poor -0.037190 -0.078268 -0.085165 -0.006504  0.040269  0.051170   \n",
       "6        well  0.079426  0.082255  0.064336  0.017975 -0.095145 -0.056427   \n",
       "7       great  0.079785  0.024851  0.029915  0.059481 -0.013340 -0.101985   \n",
       "8        nice  0.094104  0.071999  0.029981  0.022791 -0.098274 -0.048114   \n",
       "9   excellent  0.062333  0.044538  0.038080  0.029196 -0.093700 -0.052801   \n",
       "10       weak -0.025933 -0.046717 -0.047508 -0.038916  0.021463  0.008064   \n",
       "11        not -0.034321 -0.081455 -0.060782 -0.089605  0.006809  0.061089   \n",
       "12      could -0.063080 -0.044117 -0.005669 -0.078706  0.055978  0.095529   \n",
       "13       have -0.096405  0.000709  0.067342  0.024498  0.064454 -0.095430   \n",
       "14     better  0.024493 -0.070384 -0.044711  0.099948  0.006251 -0.077575   \n",
       "\n",
       "           6         7  \n",
       "0   0.093768  0.099018  \n",
       "1  -0.097345  0.093008  \n",
       "2  -0.034972 -0.078955  \n",
       "3   0.064010 -0.082583  \n",
       "4   0.069480  0.004347  \n",
       "5  -0.015642  0.098759  \n",
       "6   0.008076 -0.054495  \n",
       "7   0.089219 -0.040026  \n",
       "8   0.048524 -0.070325  \n",
       "9   0.022940 -0.038999  \n",
       "10 -0.096730  0.049304  \n",
       "11 -0.052578  0.098138  \n",
       "12 -0.019378  0.026861  \n",
       "13  0.035856 -0.077044  \n",
       "14 -0.071884  0.046175  "
      ]
     },
     "execution_count": 35,
     "metadata": {},
     "output_type": "execute_result"
    }
   ],
   "source": [
    "pd.concat([pd.DataFrame.from_dict(reverse_word_map,orient='index')\n",
    "           ,pd.DataFrame(embeddings)], axis=1)"
   ]
  },
  {
   "cell_type": "markdown",
   "metadata": {},
   "source": [
    "Plot"
   ]
  },
  {
   "cell_type": "code",
   "execution_count": 12,
   "metadata": {},
   "outputs": [
    {
     "data": {
      "image/png": "[encoded data removed]",
      "text/plain": [
       "<Figure size 576x576 with 1 Axes>"
      ]
     },
     "metadata": {
      "image/png": {
       "height": 462,
       "width": 550
      },
      "needs_background": "light"
     },
     "output_type": "display_data"
    }
   ],
   "source": [
    "\n",
    "from sklearn.manifold import TSNE\n",
    "tsne = TSNE(n_components=2, random_state=0)\n",
    "\n",
    "words =  list(tokenizer.word_index.keys())\n",
    "vectors = embeddings\n",
    "\n",
    "Y = tsne.fit_transform(vectors)\n",
    "\n",
    "fig,ax= plt.subplots(figsize=(8,8))\n",
    "plt.scatter(Y[:, 0], Y[:, 1])\n",
    "for label, x, y in zip(words, Y[:, 0], Y[:, 1]):\n",
    "#     print(label,x,y)\n",
    "    plt.annotate(label, xy=(x, y), clip_on=True, xytext=(2,2), textcoords=\"offset points\")\n",
    "plt.show()"
   ]
  },
  {
   "cell_type": "markdown",
   "metadata": {},
   "source": [
    "#### Corpus context based embeddings\n",
    "\n",
    "##### DIY"
   ]
  },
  {
   "cell_type": "markdown",
   "metadata": {},
   "source": [
    "According to the authors' note, the recommended value is 10 for skip-gram and 5 for CBOW.[6]\n",
    "\n",
    "In the continuous bag-of-words architecture, the model predicts the current word from a window of surrounding context words. The order of context words does not influence prediction (bag-of-words assumption). In the continuous skip-gram architecture, the model uses the current word to predict the surrounding window of context words. The skip-gram architecture weighs nearby context words more heavily than more distant context words.[1][5] According to the authors' note,[6] CBOW is faster while skip-gram is slower but does a better job for infrequent words."
   ]
  },
  {
   "cell_type": "code",
   "execution_count": 69,
   "metadata": {},
   "outputs": [],
   "source": [
    "# https://stackabuse.com/python-for-nlp-working-with-facebook-fasttext-library/\n",
    "from tensorflow.keras.preprocessing.text import Tokenizer\n",
    "from gensim.models.fasttext import FastText\n",
    "import numpy as np\n",
    "import matplotlib.pyplot as plt\n",
    "import nltk\n",
    "from string import punctuation\n",
    "from nltk.corpus import stopwords\n",
    "from nltk.tokenize import word_tokenize\n",
    "from nltk.stem import WordNetLemmatizer\n",
    "from nltk.tokenize import sent_tokenize\n",
    "from nltk import WordPunctTokenizer"
   ]
  },
  {
   "cell_type": "code",
   "execution_count": 289,
   "metadata": {},
   "outputs": [],
   "source": [
    "#getting a slightly larger vocab, works better\n",
    "docs = ['Well done! Much better than last time',\n",
    "\t\t'Good work. Keep it up',\n",
    "\t\t'Great effort. Keep it Going',\n",
    "\t\t'nice work. Better late than never',\n",
    "\t\t'Excellent! Good job',\n",
    "\t\t'Weak, not enough effort',\n",
    "\t\t'Poor effort! Even worse than last time',\n",
    "\t\t'not good. It needs to be better',\n",
    "\t\t'poor work. A bad assignment',\n",
    "\t\t'Could have done better, next time better']\n",
    "# define class labels; i.e. the target\n",
    "labels = array([1,1,1,1,1,0,0,0,0,0])"
   ]
  },
  {
   "cell_type": "code",
   "execution_count": 323,
   "metadata": {},
   "outputs": [],
   "source": [
    "word_punctuation_tokenizer = nltk.WordPunctTokenizer()\n",
    "word_tokenized_docs = [word_punctuation_tokenizer.tokenize(sent) for sent in docs]\n",
    "word_tokenized_docs = [[word.lower() for word in sent] for sent in word_tokenized_docs]"
   ]
  },
  {
   "cell_type": "code",
   "execution_count": null,
   "metadata": {},
   "outputs": [],
   "source": []
  },
  {
   "cell_type": "markdown",
   "metadata": {},
   "source": [
    "###### Word 2 vec"
   ]
  },
  {
   "cell_type": "code",
   "execution_count": 324,
   "metadata": {},
   "outputs": [],
   "source": [
    "from gensim.models import Word2Vec"
   ]
  },
  {
   "cell_type": "code",
   "execution_count": 325,
   "metadata": {},
   "outputs": [],
   "source": [
    "\n",
    "model = Word2Vec(word_tokenized_docs, min_count=0,size=8,workers=4)"
   ]
  },
  {
   "cell_type": "code",
   "execution_count": null,
   "metadata": {},
   "outputs": [],
   "source": []
  },
  {
   "cell_type": "code",
   "execution_count": 326,
   "metadata": {},
   "outputs": [
    {
     "data": {
      "text/plain": [
       "[('going', 0.8649475574493408),\n",
       " ('better', 0.6015321016311646),\n",
       " ('job', 0.5443168878555298),\n",
       " ('good', 0.3830000162124634),\n",
       " ('keep', 0.3812030553817749),\n",
       " ('have', 0.33606404066085815),\n",
       " ('could', 0.29058462381362915),\n",
       " ('nice', 0.275199294090271),\n",
       " ('even', 0.26634979248046875),\n",
       " ('weak', 0.1952977478504181)]"
      ]
     },
     "execution_count": 326,
     "metadata": {},
     "output_type": "execute_result"
    }
   ],
   "source": [
    "model.wv.most_similar('poor')"
   ]
  },
  {
   "cell_type": "code",
   "execution_count": 327,
   "metadata": {},
   "outputs": [
    {
     "data": {
      "text/plain": [
       "5"
      ]
     },
     "execution_count": 327,
     "metadata": {},
     "output_type": "execute_result"
    }
   ],
   "source": [
    "model.wv.vocab['good'].index"
   ]
  },
  {
   "cell_type": "code",
   "execution_count": 328,
   "metadata": {},
   "outputs": [
    {
     "name": "stderr",
     "output_type": "stream",
     "text": [
      "/anaconda3/lib/python3.6/site-packages/ipykernel_launcher.py:1: DeprecationWarning: Call to deprecated `__getitem__` (Method will be removed in 4.0.0, use self.wv.__getitem__() instead).\n",
      "  \"\"\"Entry point for launching an IPython kernel.\n"
     ]
    },
    {
     "data": {
      "text/plain": [
       "array([-0.01013248, -0.02764511, -0.01559362, -0.02348706,  0.00445385,\n",
       "        0.03129455,  0.0227429 , -0.02418214], dtype=float32)"
      ]
     },
     "execution_count": 328,
     "metadata": {},
     "output_type": "execute_result"
    }
   ],
   "source": [
    "model['good']"
   ]
  },
  {
   "cell_type": "code",
   "execution_count": 329,
   "metadata": {},
   "outputs": [],
   "source": [
    "#Getting the word count\n",
    "w2c = dict()\n",
    "for item in model.wv.vocab:\n",
    "    w2c[item]=model.wv.vocab[item].count"
   ]
  },
  {
   "cell_type": "code",
   "execution_count": 330,
   "metadata": {},
   "outputs": [
    {
     "data": {
      "text/plain": [
       "{'well': 1,\n",
       " 'done': 2,\n",
       " '!': 3,\n",
       " 'much': 1,\n",
       " 'better': 5,\n",
       " 'than': 3,\n",
       " 'last': 2,\n",
       " 'time': 3,\n",
       " 'good': 3,\n",
       " 'work': 3,\n",
       " '.': 5,\n",
       " 'keep': 2,\n",
       " 'it': 3,\n",
       " 'up': 1,\n",
       " 'great': 1,\n",
       " 'effort': 3,\n",
       " 'going': 1,\n",
       " 'nice': 1,\n",
       " 'late': 1,\n",
       " 'never': 1,\n",
       " 'excellent': 1,\n",
       " 'job': 1,\n",
       " 'weak': 1,\n",
       " ',': 2,\n",
       " 'not': 2,\n",
       " 'enough': 1,\n",
       " 'poor': 2,\n",
       " 'even': 1,\n",
       " 'worse': 1,\n",
       " 'needs': 1,\n",
       " 'to': 1,\n",
       " 'be': 1,\n",
       " 'a': 1,\n",
       " 'bad': 1,\n",
       " 'assignment': 1,\n",
       " 'could': 1,\n",
       " 'have': 1,\n",
       " 'next': 1}"
      ]
     },
     "execution_count": 330,
     "metadata": {},
     "output_type": "execute_result"
    }
   ],
   "source": [
    "w2c"
   ]
  },
  {
   "cell_type": "code",
   "execution_count": 331,
   "metadata": {},
   "outputs": [],
   "source": [
    "w2cSorted=dict(sorted(w2c.items(), key=lambda x: x[1],reverse=True))"
   ]
  },
  {
   "cell_type": "code",
   "execution_count": 332,
   "metadata": {},
   "outputs": [
    {
     "data": {
      "text/plain": [
       "{'better': 5,\n",
       " '.': 5,\n",
       " '!': 3,\n",
       " 'than': 3,\n",
       " 'time': 3,\n",
       " 'good': 3,\n",
       " 'work': 3,\n",
       " 'it': 3,\n",
       " 'effort': 3,\n",
       " 'done': 2,\n",
       " 'last': 2,\n",
       " 'keep': 2,\n",
       " ',': 2,\n",
       " 'not': 2,\n",
       " 'poor': 2,\n",
       " 'well': 1,\n",
       " 'much': 1,\n",
       " 'up': 1,\n",
       " 'great': 1,\n",
       " 'going': 1,\n",
       " 'nice': 1,\n",
       " 'late': 1,\n",
       " 'never': 1,\n",
       " 'excellent': 1,\n",
       " 'job': 1,\n",
       " 'weak': 1,\n",
       " 'enough': 1,\n",
       " 'even': 1,\n",
       " 'worse': 1,\n",
       " 'needs': 1,\n",
       " 'to': 1,\n",
       " 'be': 1,\n",
       " 'a': 1,\n",
       " 'bad': 1,\n",
       " 'assignment': 1,\n",
       " 'could': 1,\n",
       " 'have': 1,\n",
       " 'next': 1}"
      ]
     },
     "execution_count": 332,
     "metadata": {},
     "output_type": "execute_result"
    }
   ],
   "source": [
    "w2cSorted"
   ]
  },
  {
   "cell_type": "code",
   "execution_count": 333,
   "metadata": {},
   "outputs": [
    {
     "name": "stdout",
     "output_type": "stream",
     "text": [
      "Good work. Keep it up\n",
      "Could have done better, next time better\n",
      "Similarity of two sentences are equal to  78.19 %\n"
     ]
    }
   ],
   "source": [
    "\n",
    "from scipy.spatial import distance\n",
    "\n",
    "\n",
    "# distance of similarity\n",
    "cosine = distance.cosine(padded_docs[1].tolist(), padded_docs[9].tolist())\n",
    "print (docs[1])\n",
    "print (docs[9])\n",
    "print('Similarity of two sentences are equal to ',round((1-cosine)*100,2),'%')\n"
   ]
  },
  {
   "cell_type": "code",
   "execution_count": 334,
   "metadata": {},
   "outputs": [
    {
     "name": "stdout",
     "output_type": "stream",
     "text": [
      "Word Embedding method with a cosine distance asses that our two sentences are similar to 55.17 %\n"
     ]
    },
    {
     "name": "stderr",
     "output_type": "stream",
     "text": [
      "/anaconda3/lib/python3.6/site-packages/ipykernel_launcher.py:3: DeprecationWarning: Call to deprecated `__getitem__` (Method will be removed in 4.0.0, use self.wv.__getitem__() instead).\n",
      "  This is separate from the ipykernel package so we can avoid doing imports until\n",
      "/anaconda3/lib/python3.6/site-packages/ipykernel_launcher.py:4: DeprecationWarning: Call to deprecated `__getitem__` (Method will be removed in 4.0.0, use self.wv.__getitem__() instead).\n",
      "  after removing the cwd from sys.path.\n"
     ]
    }
   ],
   "source": [
    "def cosine_distance_wordembedding_method(s1, s2):\n",
    "    import scipy\n",
    "    vector_1 = np.mean([model[word] for word in s1],axis=0)\n",
    "    vector_2 = np.mean([model[word] for word in s2],axis=0)\n",
    "    cosine = scipy.spatial.distance.cosine(vector_1, vector_2)\n",
    "    print('Word Embedding method with a cosine distance asses that our two sentences are similar to',round((1-cosine)*100,2),'%')\n",
    "    \n",
    "cosine_distance_wordembedding_method(word_tokenized_docs[1], word_tokenized_docs[9])  "
   ]
  },
  {
   "cell_type": "markdown",
   "metadata": {},
   "source": [
    "###### Fast text"
   ]
  },
  {
   "cell_type": "code",
   "execution_count": 335,
   "metadata": {},
   "outputs": [
    {
     "name": "stdout",
     "output_type": "stream",
     "text": [
      "CPU times: user 2 µs, sys: 1 µs, total: 3 µs\n",
      "Wall time: 6.91 µs\n"
     ]
    }
   ],
   "source": [
    "embedding_size = 8\n",
    "window_size = 2\n",
    "min_word = 1\n",
    "down_sampling = 1e-2\n",
    "\n",
    "%time\n",
    "\n",
    "ft_model = FastText(sentences=word_tokenized_docs,\n",
    "                      size=embedding_size,\n",
    "                      window=window_size,\n",
    "                      min_count=min_word,\n",
    "                      sample=down_sampling,\n",
    "                      sg=1,\n",
    "                      iter=10)"
   ]
  },
  {
   "cell_type": "code",
   "execution_count": 336,
   "metadata": {},
   "outputs": [
    {
     "name": "stdout",
     "output_type": "stream",
     "text": [
      "work:['going', 'excellent', '!', 'better', 'could']\n",
      "done:['not', 'going', 'needs', 'better', 'worse']\n",
      "good:['than', 'last', 'job', 'have', 'excellent']\n",
      "effort:['never', 'nice', 'well', 'bad', 'to']\n",
      "poor:['a', ',', 'bad', 'excellent', '!']\n",
      "well:['next', 'even', 'effort', 'work', 'bad']\n",
      "great:['much', 'even', 'worse', 'could', 'weak']\n",
      "nice:['to', 'effort', 'much', 'worse', '.']\n",
      "excellent:[',', 'work', 'have', 'poor', 'going']\n",
      "weak:['even', 'needs', 'assignment', 'time', 'great']\n",
      "not:['better', 'last', 'keep', '!', 'going']\n",
      "could:['work', 'next', 'going', 'excellent', 'have']\n",
      "have:['late', 'up', 'than', 'excellent', 'good']\n",
      "better:['!', 'not', 'it', 'last', 'work']\n"
     ]
    }
   ],
   "source": [
    "semantically_similar_words = {words: [item[0] for item in ft_model.wv.most_similar([words], topn=5)]\n",
    "                  for words in list(tokenizer.word_index.keys())}\n",
    "\n",
    "for k,v in semantically_similar_words.items():\n",
    "    print(k+\":\"+str(v))"
   ]
  },
  {
   "cell_type": "code",
   "execution_count": 337,
   "metadata": {},
   "outputs": [
    {
     "name": "stdout",
     "output_type": "stream",
     "text": [
      "-0.06640558\n"
     ]
    }
   ],
   "source": [
    "print(ft_model.wv.similarity(w1='good', w2='poor'))"
   ]
  },
  {
   "cell_type": "code",
   "execution_count": 338,
   "metadata": {},
   "outputs": [
    {
     "name": "stdout",
     "output_type": "stream",
     "text": [
      "-0.57138026\n"
     ]
    }
   ],
   "source": [
    "print(ft_model.wv.similarity(w1='excellent', w2='great'))"
   ]
  },
  {
   "cell_type": "code",
   "execution_count": 339,
   "metadata": {},
   "outputs": [
    {
     "name": "stdout",
     "output_type": "stream",
     "text": [
      "[ 0.02263279  0.00422932  0.00094134  0.00434059  0.00893053  0.00987839\n",
      "  0.00869684 -0.00598806]\n"
     ]
    }
   ],
   "source": [
    "print(ft_model.wv['excellent'])"
   ]
  },
  {
   "cell_type": "code",
   "execution_count": 340,
   "metadata": {},
   "outputs": [
    {
     "data": {
      "text/plain": [
       "True"
      ]
     },
     "execution_count": 340,
     "metadata": {},
     "output_type": "execute_result"
    }
   ],
   "source": []
  },
  {
   "cell_type": "code",
   "execution_count": null,
   "metadata": {},
   "outputs": [],
   "source": []
  },
  {
   "cell_type": "code",
   "execution_count": null,
   "metadata": {},
   "outputs": [],
   "source": []
  },
  {
   "cell_type": "markdown",
   "metadata": {},
   "source": [
    "##### Pre-trained Embedding\n",
    "\n",
    "Pre-trained embedding matrices are available for many languages, trained on different corpuses (e.g. all Wikipedia pages, Google Newsgroups, Facebook posts) and with different size embeddings.  Depending on the task at hand it might pay off to be specific and verify what the embedding was trained on. Google Newsgroup based embeddings may perform better for a news topic classification problem, where Facebook posts based embeddings will for a more colloquial language oriented task.\n",
    "\n",
    "###### Sources:\n",
    "\n",
    "https://fasttext.cc/docs/en/crawl-vectors.html (by Facebook)  \n",
    "These models were trained using CBOW with position-weights, in dimension 300, with character n-grams of length 5, a window of size 5 and 10 negatives.\n",
    "\n",
    ">FastText\n",
    "FastText is an extension to Word2Vec proposed by Facebook in 2016. Instead of feeding individual words into the Neural Network, FastText breaks words into several n-grams (sub-words). For instance, the tri-grams for the word apple is app, ppl, and ple (ignoring the starting and ending of boundaries of words). The word embedding vector for apple will be the sum of all these n-grams. After training the Neural Network, we will have word embeddings for all the n-grams given the training dataset. Rare words can now be properly represented since it is highly likely that some of their n-grams also appears in other words.\n",
    "\n",
    "https://nlp.stanford.edu/projects/glove/ (by Stanford)  \n",
    "GloVe is an unsupervised learning algorithm for obtaining vector representations for words. Training is performed on aggregated global word-word co-occurrence statistics from a corpus, and the resulting representations showcase interesting linear substructures of the word vector space.\n",
    "\n",
    "https://www.kaggle.com/crawford/20-newsgroups (by Google)\n",
    "\n",
    "###### Which embedding size to take ?\n",
    "\n",
    "The pre-trained models often come with different sizes of embeddings. Make sure the embedding size is fit for purpose. With the 10 sentence, 14 words, example used in this notebook using a 300 vector embedding is an obvious overkill. Reversely a 8 vector embedding on the Wikipedia corpus will have little discretionary power."
   ]
  },
  {
   "cell_type": "code",
   "execution_count": 140,
   "metadata": {},
   "outputs": [],
   "source": [
    "glove_file = open('/Users/maartenk/Documents/git/CookBooks/Sources/glove.6B.50d.txt', encoding=\"utf8\")"
   ]
  },
  {
   "cell_type": "code",
   "execution_count": 17,
   "metadata": {},
   "outputs": [],
   "source": [
    "from numpy import array\n",
    "from numpy import asarray\n",
    "from numpy import zeros\n",
    "\n",
    "embeddings_dictionary = dict()\n",
    "\n",
    "for line in glove_file:\n",
    "    records = line.split()\n",
    "    word = records[0]\n",
    "    vector_dimensions = np.asarray(records[1:], dtype='float32')\n",
    "    embeddings_dictionary [word] = vector_dimensions\n",
    "\n",
    "glove_file.close()"
   ]
  },
  {
   "cell_type": "code",
   "execution_count": 341,
   "metadata": {},
   "outputs": [
    {
     "data": {
      "text/plain": [
       "[('the',\n",
       "  array([ 4.1800e-01,  2.4968e-01, -4.1242e-01,  1.2170e-01,  3.4527e-01,\n",
       "         -4.4457e-02, -4.9688e-01, -1.7862e-01, -6.6023e-04, -6.5660e-01,\n",
       "          2.7843e-01, -1.4767e-01, -5.5677e-01,  1.4658e-01, -9.5095e-03,\n",
       "          1.1658e-02,  1.0204e-01, -1.2792e-01, -8.4430e-01, -1.2181e-01,\n",
       "         -1.6801e-02, -3.3279e-01, -1.5520e-01, -2.3131e-01, -1.9181e-01,\n",
       "         -1.8823e+00, -7.6746e-01,  9.9051e-02, -4.2125e-01, -1.9526e-01,\n",
       "          4.0071e+00, -1.8594e-01, -5.2287e-01, -3.1681e-01,  5.9213e-04,\n",
       "          7.4449e-03,  1.7778e-01, -1.5897e-01,  1.2041e-02, -5.4223e-02,\n",
       "         -2.9871e-01, -1.5749e-01, -3.4758e-01, -4.5637e-02, -4.4251e-01,\n",
       "          1.8785e-01,  2.7849e-03, -1.8411e-01, -1.1514e-01, -7.8581e-01],\n",
       "        dtype=float32)),\n",
       " (',', array([ 0.013441,  0.23682 , -0.16899 ,  0.40951 ,  0.63812 ,  0.47709 ,\n",
       "         -0.42852 , -0.55641 , -0.364   , -0.23938 ,  0.13001 , -0.063734,\n",
       "         -0.39575 , -0.48162 ,  0.23291 ,  0.090201, -0.13324 ,  0.078639,\n",
       "         -0.41634 , -0.15428 ,  0.10068 ,  0.48891 ,  0.31226 , -0.1252  ,\n",
       "         -0.037512, -1.5179  ,  0.12612 , -0.02442 , -0.042961, -0.28351 ,\n",
       "          3.5416  , -0.11956 , -0.014533, -0.1499  ,  0.21864 , -0.33412 ,\n",
       "         -0.13872 ,  0.31806 ,  0.70358 ,  0.44858 , -0.080262,  0.63003 ,\n",
       "          0.32111 , -0.46765 ,  0.22786 ,  0.36034 , -0.37818 , -0.56657 ,\n",
       "          0.044691,  0.30392 ], dtype=float32)),\n",
       " ('.', array([ 1.5164e-01,  3.0177e-01, -1.6763e-01,  1.7684e-01,  3.1719e-01,\n",
       "          3.3973e-01, -4.3478e-01, -3.1086e-01, -4.4999e-01, -2.9486e-01,\n",
       "          1.6608e-01,  1.1963e-01, -4.1328e-01, -4.2353e-01,  5.9868e-01,\n",
       "          2.8825e-01, -1.1547e-01, -4.1848e-02, -6.7989e-01, -2.5063e-01,\n",
       "          1.8472e-01,  8.6876e-02,  4.6582e-01,  1.5035e-02,  4.3474e-02,\n",
       "         -1.4671e+00, -3.0384e-01, -2.3441e-02,  3.0589e-01, -2.1785e-01,\n",
       "          3.7460e+00,  4.2284e-03, -1.8436e-01, -4.6209e-01,  9.8329e-02,\n",
       "         -1.1907e-01,  2.3919e-01,  1.1610e-01,  4.1705e-01,  5.6763e-02,\n",
       "         -6.3681e-05,  6.8987e-02,  8.7939e-02, -1.0285e-01, -1.3931e-01,\n",
       "          2.2314e-01, -8.0803e-02, -3.5652e-01,  1.6413e-02,  1.0216e-01],\n",
       "        dtype=float32)),\n",
       " ('of', array([ 0.70853  ,  0.57088  , -0.4716   ,  0.18048  ,  0.54449  ,\n",
       "          0.72603  ,  0.18157  , -0.52393  ,  0.10381  , -0.17566  ,\n",
       "          0.078852 , -0.36216  , -0.11829  , -0.83336  ,  0.11917  ,\n",
       "         -0.16605  ,  0.061555 , -0.012719 , -0.56623  ,  0.013616 ,\n",
       "          0.22851  , -0.14396  , -0.067549 , -0.38157  , -0.23698  ,\n",
       "         -1.7037   , -0.86692  , -0.26704  , -0.2589   ,  0.1767   ,\n",
       "          3.8676   , -0.1613   , -0.13273  , -0.68881  ,  0.18444  ,\n",
       "          0.0052464, -0.33874  , -0.078956 ,  0.24185  ,  0.36576  ,\n",
       "         -0.34727  ,  0.28483  ,  0.075693 , -0.062178 , -0.38988  ,\n",
       "          0.22902  , -0.21617  , -0.22562  , -0.093918 , -0.80375  ],\n",
       "        dtype=float32))]"
      ]
     },
     "execution_count": 341,
     "metadata": {},
     "output_type": "execute_result"
    }
   ],
   "source": [
    "list(embeddings_dictionary.items())[:4]"
   ]
  },
  {
   "cell_type": "markdown",
   "metadata": {},
   "source": [
    "Limiting the embedding matrix to those words in the corpus, this may speed up the process"
   ]
  },
  {
   "cell_type": "code",
   "execution_count": 342,
   "metadata": {},
   "outputs": [],
   "source": [
    "embedding_matrix = zeros((vocab_size, 50))\n",
    "for word, index in tokenizer.word_index.items():\n",
    "    embedding_vector = embeddings_dictionary.get(word)\n",
    "    if embedding_vector is not None:\n",
    "        embedding_matrix[index] = embedding_vector"
   ]
  },
  {
   "cell_type": "markdown",
   "metadata": {},
   "source": [
    "###### Using the pre-trained embedding \n",
    "\n",
    "An embedding is the weights of the hidden layer in the NN. 'Using a pre-trained model' is inserting the pre-trained weights in the embedding layer. With trainable=False the embeddings will say as inserted."
   ]
  },
  {
   "cell_type": "code",
   "execution_count": 354,
   "metadata": {},
   "outputs": [],
   "source": [
    "from tensorflow.keras.models import Model\n",
    "from tensorflow.keras.layers import Input\n",
    "from tensorflow.keras.layers import Embedding\n",
    "\n",
    "keras.backend.clear_session()\n",
    "np.random.seed(1999)\n",
    "tf.random.set_seed(1999)\n",
    "\n",
    "\n",
    "deep_inputs = Input(shape=(length_long_sentence,))\n",
    "embedding = Embedding(vocab_size, 50, weights=[embedding_matrix], input_length=length_long_sentence, \n",
    "                      trainable=False)(deep_inputs) \n",
    "flatten = Flatten()(embedding)\n",
    "hidden = Dense(1, activation='sigmoid')(flatten)\n",
    "model3 = Model(inputs=deep_inputs, outputs=hidden)"
   ]
  },
  {
   "cell_type": "code",
   "execution_count": 348,
   "metadata": {},
   "outputs": [
    {
     "name": "stdout",
     "output_type": "stream",
     "text": [
      "Model: \"model\"\n",
      "_________________________________________________________________\n",
      "Layer (type)                 Output Shape              Param #   \n",
      "=================================================================\n",
      "input_1 (InputLayer)         [(None, 4)]               0         \n",
      "_________________________________________________________________\n",
      "embedding (Embedding)        (None, 4, 50)             750       \n",
      "_________________________________________________________________\n",
      "flatten (Flatten)            (None, 200)               0         \n",
      "_________________________________________________________________\n",
      "dense (Dense)                (None, 1)                 201       \n",
      "=================================================================\n",
      "Total params: 951\n",
      "Trainable params: 201\n",
      "Non-trainable params: 750\n",
      "_________________________________________________________________\n",
      "None\n"
     ]
    }
   ],
   "source": [
    "model3.compile(optimizer='adam', loss='binary_crossentropy', metrics=['acc'])\n",
    "print(model3.summary())"
   ]
  },
  {
   "cell_type": "code",
   "execution_count": 349,
   "metadata": {},
   "outputs": [
    {
     "name": "stdout",
     "output_type": "stream",
     "text": [
      "Accuracy: 89.999998\n"
     ]
    }
   ],
   "source": [
    "model3.fit(padded_docs2, labels, epochs=50, verbose=0)\n",
    "# evaluate the model\n",
    "loss, accuracy = model2.evaluate(padded_docs2, labels, verbose=0)\n",
    "print('Accuracy: %f' % (accuracy*100))"
   ]
  },
  {
   "cell_type": "code",
   "execution_count": 350,
   "metadata": {},
   "outputs": [],
   "source": [
    "embeddings_ = model3.layers[1].get_weights()[0]"
   ]
  },
  {
   "cell_type": "code",
   "execution_count": 353,
   "metadata": {},
   "outputs": [
    {
     "data": {
      "text/plain": [
       "array([ True,  True,  True,  True,  True,  True,  True,  True,  True,\n",
       "        True,  True,  True,  True,  True,  True,  True,  True,  True,\n",
       "        True,  True,  True,  True,  True,  True,  True,  True,  True,\n",
       "        True,  True,  True,  True,  True,  True,  True,  True,  True,\n",
       "        True,  True,  True,  True,  True,  True,  True,  True,  True,\n",
       "        True,  True,  True,  True,  True])"
      ]
     },
     "execution_count": 353,
     "metadata": {},
     "output_type": "execute_result"
    }
   ],
   "source": [
    "embedding_matrix[3] == embeddings_[3]"
   ]
  },
  {
   "cell_type": "code",
   "execution_count": 352,
   "metadata": {},
   "outputs": [
    {
     "data": {
      "text/plain": [
       "array([-3.5586e-01,  5.2130e-01, -6.1070e-01, -3.0131e-01,  9.4862e-01,\n",
       "       -3.1539e-01, -5.9831e-01,  1.2188e-01, -3.1943e-02,  5.5695e-01,\n",
       "       -1.0621e-01,  6.3399e-01, -4.7340e-01, -7.5895e-02,  3.8247e-01,\n",
       "        8.1569e-02,  8.2214e-01,  2.2220e-01, -8.3764e-03, -7.6620e-01,\n",
       "       -5.6253e-01,  6.1759e-01,  2.0292e-01, -4.8598e-02,  8.7815e-01,\n",
       "       -1.6549e+00, -7.7418e-01,  1.5435e-01,  9.4823e-01, -3.9520e-01,\n",
       "        3.7302e+00,  8.2855e-01, -1.4104e-01,  1.6395e-02,  2.1115e-01,\n",
       "       -3.6085e-02, -1.5587e-01,  8.6583e-01,  2.6309e-01, -7.1015e-01,\n",
       "       -3.6770e-02,  1.8282e-03, -1.7704e-01,  2.7032e-01,  1.1026e-01,\n",
       "        1.4133e-01, -5.7322e-02,  2.7207e-01,  3.1305e-01,  9.2771e-01],\n",
       "      dtype=float32)"
      ]
     },
     "execution_count": 352,
     "metadata": {},
     "output_type": "execute_result"
    }
   ],
   "source": [
    "embeddings_[3]"
   ]
  },
  {
   "cell_type": "code",
   "execution_count": 52,
   "metadata": {},
   "outputs": [
    {
     "data": {
      "image/png": "[encoded data removed]",
      "text/plain": [
       "<Figure size 576x576 with 1 Axes>"
      ]
     },
     "metadata": {
      "image/png": {
       "height": 462,
       "width": 546
      },
      "needs_background": "light"
     },
     "output_type": "display_data"
    }
   ],
   "source": [
    "\n",
    "from sklearn.manifold import TSNE\n",
    "tsne = TSNE(n_components=2, random_state=0)\n",
    "\n",
    "words =  list(tokenizer.word_index.keys())\n",
    "vectors = embeddings\n",
    "\n",
    "Y = tsne.fit_transform(vectors)\n",
    "\n",
    "fig,ax= plt.subplots(figsize=(8,8))\n",
    "plt.scatter(Y[:, 0], Y[:, 1])\n",
    "for label, x, y in zip(words, Y[:, 0], Y[:, 1]):\n",
    "#     print(label,x,y)\n",
    "    plt.annotate(label, xy=(x, y), clip_on=True, xytext=(2,2), textcoords=\"offset points\")\n",
    "plt.show()"
   ]
  },
  {
   "cell_type": "markdown",
   "metadata": {},
   "source": [
    "with trainable=True the NN weights will be initialized with the pre-trained and then trained on the target "
   ]
  },
  {
   "cell_type": "code",
   "execution_count": 355,
   "metadata": {},
   "outputs": [],
   "source": [
    "from tensorflow.keras.models import Model\n",
    "from tensorflow.keras.layers import Input\n",
    "from tensorflow.keras.layers import Embedding\n",
    "\n",
    "keras.backend.clear_session()\n",
    "np.random.seed(1999)\n",
    "tf.random.set_seed(1999)\n",
    "\n",
    "\n",
    "deep_inputs = Input(shape=(length_long_sentence,))\n",
    "embedding = Embedding(vocab_size, 50, weights=[embedding_matrix], input_length=length_long_sentence, \n",
    "                      trainable=True)(deep_inputs) \n",
    "flatten = Flatten()(embedding)\n",
    "hidden = Dense(1, activation='sigmoid')(flatten)\n",
    "model3 = Model(inputs=deep_inputs, outputs=hidden)"
   ]
  },
  {
   "cell_type": "code",
   "execution_count": 356,
   "metadata": {},
   "outputs": [
    {
     "name": "stdout",
     "output_type": "stream",
     "text": [
      "Model: \"model\"\n",
      "_________________________________________________________________\n",
      "Layer (type)                 Output Shape              Param #   \n",
      "=================================================================\n",
      "input_1 (InputLayer)         [(None, 4)]               0         \n",
      "_________________________________________________________________\n",
      "embedding (Embedding)        (None, 4, 50)             750       \n",
      "_________________________________________________________________\n",
      "flatten (Flatten)            (None, 200)               0         \n",
      "_________________________________________________________________\n",
      "dense (Dense)                (None, 1)                 201       \n",
      "=================================================================\n",
      "Total params: 951\n",
      "Trainable params: 951\n",
      "Non-trainable params: 0\n",
      "_________________________________________________________________\n",
      "None\n"
     ]
    }
   ],
   "source": [
    "model3.compile(optimizer='adam', loss='binary_crossentropy', metrics=['acc'])\n",
    "print(model3.summary())"
   ]
  },
  {
   "cell_type": "code",
   "execution_count": 357,
   "metadata": {},
   "outputs": [
    {
     "name": "stdout",
     "output_type": "stream",
     "text": [
      "Accuracy: 89.999998\n"
     ]
    }
   ],
   "source": [
    "model3.fit(padded_docs2, labels, epochs=50, verbose=0)\n",
    "# evaluate the model\n",
    "loss, accuracy = model2.evaluate(padded_docs2, labels, verbose=0)\n",
    "print('Accuracy: %f' % (accuracy*100))"
   ]
  },
  {
   "cell_type": "code",
   "execution_count": 358,
   "metadata": {},
   "outputs": [],
   "source": [
    "embeddings_ = model3.layers[1].get_weights()[0]"
   ]
  },
  {
   "cell_type": "code",
   "execution_count": 359,
   "metadata": {},
   "outputs": [
    {
     "data": {
      "text/plain": [
       "array([False, False, False, False, False, False, False, False, False,\n",
       "       False, False, False, False, False, False, False, False, False,\n",
       "       False, False, False, False, False, False, False, False, False,\n",
       "       False, False, False, False, False, False, False, False, False,\n",
       "       False, False, False, False, False, False, False, False, False,\n",
       "       False, False, False, False, False])"
      ]
     },
     "execution_count": 359,
     "metadata": {},
     "output_type": "execute_result"
    }
   ],
   "source": [
    "embedding_matrix[3] == embeddings_[3]"
   ]
  },
  {
   "cell_type": "code",
   "execution_count": null,
   "metadata": {},
   "outputs": [],
   "source": []
  },
  {
   "cell_type": "code",
   "execution_count": 360,
   "metadata": {},
   "outputs": [
    {
     "data": {
      "image/png": "[encoded data removed]",
      "text/plain": [
       "<Figure size 576x576 with 1 Axes>"
      ]
     },
     "metadata": {
      "image/png": {
       "height": 462,
       "width": 546
      },
      "needs_background": "light"
     },
     "output_type": "display_data"
    }
   ],
   "source": [
    "\n",
    "from sklearn.manifold import TSNE\n",
    "tsne = TSNE(n_components=2, random_state=0)\n",
    "\n",
    "words =  list(tokenizer.word_index.keys())\n",
    "vectors = embeddings\n",
    "\n",
    "Y = tsne.fit_transform(vectors)\n",
    "\n",
    "fig,ax= plt.subplots(figsize=(8,8))\n",
    "plt.scatter(Y[:, 0], Y[:, 1])\n",
    "for label, x, y in zip(words, Y[:, 0], Y[:, 1]):\n",
    "#     print(label,x,y)\n",
    "    plt.annotate(label, xy=(x, y), clip_on=True, xytext=(2,2), textcoords=\"offset points\")\n",
    "plt.show()"
   ]
  },
  {
   "cell_type": "markdown",
   "metadata": {},
   "source": [
    "## Word vector 'Magic'\n",
    "\n",
    "Some famous examples "
   ]
  },
  {
   "cell_type": "code",
   "execution_count": 246,
   "metadata": {},
   "outputs": [],
   "source": [
    "# https://www.kaggle.com/ankitswarnkar/word-embedding-using-glove-vector\n",
    "def read_data(file_name):\n",
    "    with open(file_name,'r') as f:\n",
    "        word_vocab = set() # not using list to avoid duplicate entry\n",
    "        word2vector = {}\n",
    "        for line in f:\n",
    "            line_ = line.strip() #Remove white space\n",
    "            words_Vec = line_.split()\n",
    "            word_vocab.add(words_Vec[0])\n",
    "            word2vector[words_Vec[0]] = np.array(words_Vec[1:],dtype=float)\n",
    "    print(\"Total Words in DataSet:\",len(word_vocab))\n",
    "    return word_vocab,word2vector"
   ]
  },
  {
   "cell_type": "code",
   "execution_count": 248,
   "metadata": {},
   "outputs": [
    {
     "name": "stdout",
     "output_type": "stream",
     "text": [
      "Total Words in DataSet: 400000\n"
     ]
    }
   ],
   "source": [
    "vocab, w2v = read_data('/Users/maartenk/Documents/git/CookBooks/Sources/glove.6B.50d.txt')\n"
   ]
  },
  {
   "cell_type": "code",
   "execution_count": 249,
   "metadata": {},
   "outputs": [],
   "source": [
    "def cos_sim(u,v):\n",
    "    \"\"\"\n",
    "    u: vector of 1st word\n",
    "    v: vector of 2nd Word\n",
    "    \"\"\"\n",
    "    numerator_ = u.dot(v)\n",
    "    denominator_= np.sqrt(np.sum(np.square(u))) * np.sqrt(np.sum(np.square(v)))\n",
    "    return numerator_/denominator_"
   ]
  },
  {
   "cell_type": "code",
   "execution_count": 250,
   "metadata": {},
   "outputs": [],
   "source": [
    "all_words = w2v.keys()"
   ]
  },
  {
   "cell_type": "code",
   "execution_count": 258,
   "metadata": {},
   "outputs": [
    {
     "name": "stdout",
     "output_type": "stream",
     "text": [
      "Similarity Score of King and Queen 0.7839043010964117\n",
      "Similarity Score of Mother and Pizza 0.25570543401374873\n",
      "Similarity Score of Man and Pizza 0.3399827858775285\n",
      "Similarity Score of Mother and baby 0.7502298772361725\n"
     ]
    }
   ],
   "source": [
    "print(\"Similarity Score of King and Queen\",cos_sim(w2v['king'],w2v['queen']))\n",
    "print(\"Similarity Score of Mother and Pizza\",cos_sim(w2v['mother'],w2v['pizza']))\n",
    "print(\"Similarity Score of Man and Pizza\",cos_sim(w2v['man'],w2v['pizza']))\n",
    "print(\"Similarity Score of Mother and baby\",cos_sim(w2v['mother'],w2v['baby']))"
   ]
  },
  {
   "cell_type": "code",
   "execution_count": 267,
   "metadata": {},
   "outputs": [],
   "source": [
    "def return_matrix(random_words,dim =50):\n",
    "    word_matrix = np.random.randn(len(random_words),dim)\n",
    "    i = 0\n",
    "    for word in random_words:\n",
    "        word_matrix[i] = w2v[word]\n",
    "        i +=1\n",
    "    return word_matrix"
   ]
  },
  {
   "cell_type": "code",
   "execution_count": 268,
   "metadata": {},
   "outputs": [],
   "source": [
    "from sklearn.decomposition import PCA\n",
    "import matplotlib.pyplot as plt\n",
    "from pylab import rcParams\n",
    "rcParams['figure.figsize'] = 15, 10"
   ]
  },
  {
   "cell_type": "code",
   "execution_count": 369,
   "metadata": {},
   "outputs": [],
   "source": [
    "random_words = ['man','woman','king','queen','microwave','baby','boy','girl','pizza','royal',\n",
    "                'mother','father','doctor', 'nurse' ,'cook','throne']\n",
    "return_matrix_ = return_matrix(random_words)\n",
    "pca_ = PCA(n_components=2)\n",
    "viz_data = pca_.fit_transform(return_matrix_) "
   ]
  },
  {
   "cell_type": "code",
   "execution_count": 370,
   "metadata": {},
   "outputs": [
    {
     "data": {
      "text/plain": [
       "(-5, 6)"
      ]
     },
     "execution_count": 370,
     "metadata": {},
     "output_type": "execute_result"
    },
    {
     "data": {
      "image/png": "[encoded data removed]",
      "text/plain": [
       "<Figure size 1080x720 with 1 Axes>"
      ]
     },
     "metadata": {
      "image/png": {
       "height": 604,
       "width": 999
      },
      "needs_background": "light"
     },
     "output_type": "display_data"
    }
   ],
   "source": [
    "plt.scatter(viz_data[:,0],viz_data[:,1],cmap=plt.get_cmap('Spectral'))\n",
    "for label,x,y in zip(random_words,viz_data[:,0],viz_data[:,1]):\n",
    "    plt.annotate(\n",
    "        label,\n",
    "        xy=(x,y),\n",
    "        xytext=(-14, 14),\n",
    "        textcoords='offset points',\n",
    "        bbox=dict(boxstyle='round,pad=0.5', fc='yellow', alpha=0.5),\n",
    "        arrowprops=dict(arrowstyle = '->', connectionstyle='arc3,rad=0')\n",
    "    )\n",
    "plt.xlabel('PCA Component 1 ')\n",
    "plt.ylabel('PCA Component 2')\n",
    "plt.title('PCA representation for Word Embedding')\n",
    "plt.xlim(-10,10)\n",
    "plt.ylim(-5,6)"
   ]
  },
  {
   "cell_type": "code",
   "execution_count": 371,
   "metadata": {},
   "outputs": [
    {
     "name": "stdout",
     "output_type": "stream",
     "text": [
      "[t-SNE] Computing pairwise distances...\n",
      "[t-SNE] Computed conditional probabilities for sample 16 / 16\n",
      "[t-SNE] Mean sigma: 1.427605\n",
      "[t-SNE] KL divergence after 250 iterations with early exaggeration: 57.098209\n",
      "[t-SNE] KL divergence after 1000 iterations: 0.116696\n"
     ]
    }
   ],
   "source": [
    "from sklearn.manifold import TSNE\n",
    "tsne = TSNE(n_components=2, verbose=1,perplexity=3,method='exact')\n",
    "tsne_results = tsne.fit_transform(return_matrix_)"
   ]
  },
  {
   "cell_type": "code",
   "execution_count": 372,
   "metadata": {},
   "outputs": [
    {
     "data": {
      "text/plain": [
       "Text(0.5, 1.0, 'TSNE representation for Word Embedding')"
      ]
     },
     "execution_count": 372,
     "metadata": {},
     "output_type": "execute_result"
    },
    {
     "data": {
      "image/png": "[encoded data removed]",
      "text/plain": [
       "<Figure size 1080x720 with 1 Axes>"
      ]
     },
     "metadata": {
      "image/png": {
       "height": 604,
       "width": 1001
      },
      "needs_background": "light"
     },
     "output_type": "display_data"
    }
   ],
   "source": [
    "plt.scatter(tsne_results[:,0],tsne_results[:,1],cmap=plt.get_cmap('Spectral'))\n",
    "for label,x,y in zip(random_words,tsne_results[:,0],tsne_results[:,1]):\n",
    "    plt.annotate(\n",
    "        label,\n",
    "        xy=(x,y),\n",
    "        xytext=(-14, 14),\n",
    "        textcoords='offset points',\n",
    "        bbox=dict(boxstyle='round,pad=0.5', fc='yellow', alpha=0.5),\n",
    "        arrowprops=dict(arrowstyle = '->', connectionstyle='arc3,rad=0')\n",
    "    )\n",
    "plt.xlabel('TSNE Component 1 ')\n",
    "plt.ylabel('TSNE Component 2')\n",
    "plt.title('TSNE representation for Word Embedding')"
   ]
  },
  {
   "cell_type": "code",
   "execution_count": 274,
   "metadata": {},
   "outputs": [],
   "source": [
    "def find_w4(word1,word2,word3, w2v):\n",
    "    \"\"\"\n",
    "    \"\"\"\n",
    "    word_list = w2v.keys()\n",
    "    max_sim = -1000\n",
    "    #Make Sure they are lower\n",
    "    word1,word2,word3 = word1.lower(),word2.lower(),word3.lower()\n",
    "    diff_vec = w2v[word3] - (w2v[word1]-w2v[word2]) #word3 - (word1 - word2)\n",
    "    for word in word_list:\n",
    "        vec = w2v[word]\n",
    "        sim_ = cos_sim(u=diff_vec,v=vec)\n",
    "        if sim_ > max_sim:\n",
    "            max_sim = sim_\n",
    "            word_selected =  word\n",
    "            \n",
    "    return word_selected"
   ]
  },
  {
   "cell_type": "code",
   "execution_count": 278,
   "metadata": {},
   "outputs": [
    {
     "name": "stdout",
     "output_type": "stream",
     "text": [
      "King is to Queen as Man is to  woman\n",
      "Cook is to Pizza as Doctor is to  pizza\n",
      "India is to Delhi as Netherlands is to  amsterdam\n",
      "kid is to toy as doctor is to  medical\n"
     ]
    }
   ],
   "source": [
    "print(\"King is to Queen as Man is to \",find_w4('king','queen','man',w2v))\n",
    "print(\"Cook is to Pizza as Doctor is to \",find_w4('cook','pizza','doctor',w2v))\n",
    "print(\"India is to Delhi as Netherlands is to \",find_w4('india','delhi','netherlands',w2v))\n",
    "print(\"kid is to toy as doctor is to \",find_w4('kid','toy','doctor',w2v))"
   ]
  },
  {
   "cell_type": "code",
   "execution_count": 280,
   "metadata": {},
   "outputs": [
    {
     "data": {
      "text/plain": [
       "'doctor'"
      ]
     },
     "execution_count": 280,
     "metadata": {},
     "output_type": "execute_result"
    }
   ],
   "source": [
    "find_w4('man','doctor','woman',w2v)"
   ]
  },
  {
   "cell_type": "code",
   "execution_count": 281,
   "metadata": {},
   "outputs": [
    {
     "data": {
      "text/plain": [
       "'woman'"
      ]
     },
     "execution_count": 281,
     "metadata": {},
     "output_type": "execute_result"
    }
   ],
   "source": [
    "find_w4('doctor','man','nurse',w2v)"
   ]
  },
  {
   "cell_type": "markdown",
   "metadata": {},
   "source": [
    "## Appendix"
   ]
  },
  {
   "cell_type": "code",
   "execution_count": 107,
   "metadata": {},
   "outputs": [],
   "source": [
    "import re\n",
    "from nltk.stem import WordNetLemmatizer\n",
    "\n",
    "stemmer = WordNetLemmatizer()\n",
    "\n",
    "def preprocess_text(document):\n",
    "        # Remove all the special characters\n",
    "        document = re.sub(r'\\W', ' ', str(document))\n",
    "\n",
    "        # remove all single characters\n",
    "        document = re.sub(r'\\s+[a-zA-Z]\\s+', ' ', document)\n",
    "\n",
    "        # Remove single characters from the start\n",
    "        document = re.sub(r'\\^[a-zA-Z]\\s+', ' ', document)\n",
    "\n",
    "        # Substituting multiple spaces with single space\n",
    "        document = re.sub(r'\\s+', ' ', document, flags=re.I)\n",
    "\n",
    "        # Removing prefixed 'b'\n",
    "        document = re.sub(r'^b\\s+', '', document)\n",
    "\n",
    "        # Converting to Lowercase\n",
    "        document = document.lower()\n",
    "\n",
    "        # Lemmatization\n",
    "        tokens = document.split()\n",
    "        tokens = [stemmer.lemmatize(word) for word in tokens]\n",
    "        tokens = [word for word in tokens if word not in en_stop]\n",
    "        tokens = [word for word in tokens if len(word) > 3]\n",
    "\n",
    "        preprocessed_text = ' '.join(tokens)\n",
    "\n",
    "        return preprocessed_text"
   ]
  },
  {
   "cell_type": "code",
   "execution_count": 131,
   "metadata": {},
   "outputs": [
    {
     "name": "stdout",
     "output_type": "stream",
     "text": [
      "artificial intelligence advanced technology present\n"
     ]
    }
   ],
   "source": [
    "en_stop = set(nltk.corpus.stopwords.words('english'))\n",
    "\n",
    "sent = preprocess_text(\"Artificial intelligence, is the most advanced technology of the present era\")\n",
    "print(sent)\n",
    "\n",
    "\n",
    "final_corpus = [preprocess_text(sentence) for sentence in docs if sentence.strip() !='']\n",
    "\n",
    "word_punctuation_tokenizer = nltk.WordPunctTokenizer()\n",
    "word_tokenized_corpus = [word_punctuation_tokenizer.tokenize(sent) for sent in final_corpus]"
   ]
  },
  {
   "cell_type": "code",
   "execution_count": 132,
   "metadata": {},
   "outputs": [
    {
     "data": {
      "text/plain": [
       "['well done much better last time',\n",
       " 'good work keep',\n",
       " 'great effort keep going',\n",
       " 'nice work better late never',\n",
       " 'excellent good',\n",
       " 'weak enough effort',\n",
       " 'poor effort even worse last time',\n",
       " 'good need better',\n",
       " 'poor work assignment',\n",
       " 'could done better next time better']"
      ]
     },
     "execution_count": 132,
     "metadata": {},
     "output_type": "execute_result"
    }
   ],
   "source": [
    "final_corpus"
   ]
  },
  {
   "cell_type": "code",
   "execution_count": null,
   "metadata": {},
   "outputs": [],
   "source": []
  },
  {
   "cell_type": "markdown",
   "metadata": {},
   "source": [
    "https://medium.com/@adriensieg/text-similarities-da019229c894\n",
    "\n",
    "https://www.machinelearningplus.com/nlp/cosine-similarity/\n",
    "\n",
    "https://realpython.com/python-keras-text-classification/"
   ]
  }
 ],
 "metadata": {
  "hide_input": false,
  "kernelspec": {
   "display_name": "Python 3",
   "language": "python",
   "name": "python3"
  },
  "language_info": {
   "codemirror_mode": {
    "name": "ipython",
    "version": 3
   },
   "file_extension": ".py",
   "mimetype": "text/x-python",
   "name": "python",
   "nbconvert_exporter": "python",
   "pygments_lexer": "ipython3",
   "version": "3.6.8"
  },
  "toc": {
   "nav_menu": {},
   "number_sections": true,
   "sideBar": true,
   "skip_h1_title": true,
   "title_cell": "Table of Contents",
   "title_sidebar": "Contents",
   "toc_cell": true,
   "toc_position": {},
   "toc_section_display": true,
   "toc_window_display": true
  }
 },
 "nbformat": 4,
 "nbformat_minor": 2
}
