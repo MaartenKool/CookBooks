{
 "cells": [
  {
   "cell_type": "markdown",
   "metadata": {},
   "source": [
    "# Python\n",
    "\n",
    "#  Data cleaning/EDA\n",
    "## Linear\n",
    "## Non-linear\n",
    "\n",
    "# Modelling\n",
    "## Model selection\n",
    "## Preprocessing\n",
    "### Numericals\n",
    "#### Scaling\n",
    "#### Normalising\n",
    "#### Train test split\n",
    "### Categoricals\n",
    "#### Encoding\n",
    "#### Under sampling\n",
    "#### Oversampling\n",
    "### Train test split\n",
    "## Processing\n",
    "### Regressors\n",
    "### Classifiers\n",
    "#### Supervised\n",
    "##### Single\n",
    "##### Ensembles\n",
    "#### Unsupervised\n",
    "### Time series\n",
    "## Model tuning\n",
    "### Feature selection\n",
    "### Feature reduction/extraction\n",
    "https://elitedatascience.com/dimensionality-reduction-algorithms\n",
    "#### Genetic Algorithms (GA)\n",
    "#### LDA\n",
    "#### PCA\n",
    "### Gridsearch\n",
    "## Autolearners\n",
    "### Auto SKLearn\n",
    "### AutoML\n",
    "### H2O\n",
    "### PyMC3\n",
    "## Model evaluation\n",
    "\n",
    "###\n",
    "## Plotting\n",
    "#### SNS Numerical plots,\n",
    "\n",
    "## Production\n",
    "### Rerun on full test set\n",
    "### Predictions\n",
    "### Pipelines\n",
    "### Websites\n",
    "\n",
    "# Maths\n",
    "## Combinations/Permutations\n",
    "## Probabilities\n",
    "### Frequentsis (counters)\n",
    "### Bayes(believers)\n",
    "## Matrices\n",
    "\n",
    "\n"
   ]
  },
  {
   "cell_type": "code",
   "execution_count": 43,
   "metadata": {},
   "outputs": [
    {
     "name": "stdout",
     "output_type": "stream",
     "text": [
      "abcdefghij\n",
      "e\n",
      "abcd\n",
      "efghij\n",
      "cd\n",
      "cegi\n",
      "ghij\n",
      "abcdefghij\n",
      "abcdefghij\n",
      "abcdefghij\n",
      "abcdefghij\n",
      "abcdefghij\n",
      "abcdefghij\n",
      "abcdefghij\n",
      "abcdefghij\n",
      "abcdefghij\n",
      "abcdefghij\n",
      "a\n",
      "b\n",
      "c\n",
      "d\n",
      "e\n",
      "f\n",
      "g\n",
      "h\n",
      "i\n",
      "j\n",
      "a\n",
      "b\n",
      "c\n",
      "d\n",
      "e\n",
      "f\n",
      "g\n",
      "h\n",
      "i\n",
      "j\n",
      "c\n",
      "d\n",
      "e\n",
      "yes\n",
      "a\n",
      "b\n",
      "yes\n",
      "yes\n",
      "yes\n",
      "f\n",
      "g\n",
      "h\n",
      "i\n",
      "j\n",
      "['a', 'b', 'c', 'd', 'e', 'f', 'g', 'h', 'i', 'j']\n"
     ]
    }
   ],
   "source": [
    "word = 'abcdefghij'\n",
    "print(word)\n",
    "print(word[4])\n",
    "print(word[:4])\n",
    "print(word[4:])\n",
    "print(word[2:4])\n",
    "print(word[2:9:2])\n",
    "print(word[-4:])\n",
    "[print(word) for i in word]\n",
    "[print(i) for i in word]\n",
    "[print(i[:4]) for i in word]\n",
    "[print(i) for i in word if i in['c', 'd', 'e']]\n",
    "[print('yes') for i in word if i in['c', 'd', 'e'] if i in ['c']]\n",
    "[print('yes') if i in['c', 'd', 'e'] else print(i) for i in word]\n",
    "lijst = list(word)\n",
    "print(lijst)"
   ]
  },
  {
   "cell_type": "code",
   "execution_count": null,
   "metadata": {},
   "outputs": [],
   "source": []
  },
  {
   "cell_type": "code",
   "execution_count": 44,
   "metadata": {},
   "outputs": [
    {
     "name": "stdout",
     "output_type": "stream",
     "text": [
      "['a', 'b', 'c', 'd', 'e', 'f', 'g', 'h', 'i', 'j']\n",
      "e\n",
      "['a', 'b', 'c', 'd']\n",
      "['e', 'f', 'g', 'h', 'i', 'j']\n",
      "['c', 'd']\n",
      "['c', 'e', 'g', 'i']\n",
      "['g', 'h', 'i', 'j']\n",
      "['a', 'b', 'c', 'd', 'e', 'f', 'g', 'h', 'i', 'j']\n",
      "['a', 'b', 'c', 'd', 'e', 'f', 'g', 'h', 'i', 'j']\n",
      "['a', 'b', 'c', 'd', 'e', 'f', 'g', 'h', 'i', 'j']\n",
      "['a', 'b', 'c', 'd', 'e', 'f', 'g', 'h', 'i', 'j']\n",
      "['a', 'b', 'c', 'd', 'e', 'f', 'g', 'h', 'i', 'j']\n",
      "['a', 'b', 'c', 'd', 'e', 'f', 'g', 'h', 'i', 'j']\n",
      "['a', 'b', 'c', 'd', 'e', 'f', 'g', 'h', 'i', 'j']\n",
      "['a', 'b', 'c', 'd', 'e', 'f', 'g', 'h', 'i', 'j']\n",
      "['a', 'b', 'c', 'd', 'e', 'f', 'g', 'h', 'i', 'j']\n",
      "['a', 'b', 'c', 'd', 'e', 'f', 'g', 'h', 'i', 'j']\n",
      "a\n",
      "b\n",
      "c\n",
      "d\n",
      "e\n",
      "f\n",
      "g\n",
      "h\n",
      "i\n",
      "j\n",
      "a\n",
      "b\n",
      "c\n",
      "d\n",
      "e\n",
      "f\n",
      "g\n",
      "h\n",
      "i\n",
      "j\n",
      "c\n",
      "d\n",
      "e\n",
      "yes\n",
      "a\n",
      "b\n",
      "yes\n",
      "yes\n",
      "yes\n",
      "f\n",
      "g\n",
      "h\n",
      "i\n",
      "j\n",
      "[['a', 'b', 'c', 'd', 'e', 'f', 'g', 'h', 'i', 'j'], ['a', 'b', 'c', 'd', 'e', 'f', 'g', 'h', 'i', 'j'], ['a', 'b', 'c', 'd', 'e', 'f', 'g', 'h', 'i', 'j']]\n"
     ]
    }
   ],
   "source": [
    "print(lijst)\n",
    "lijst.index('g')\n",
    "print(lijst[4])\n",
    "print(lijst[:4])\n",
    "print(lijst[4:])\n",
    "print(lijst[2:4])\n",
    "print(lijst[2:9:2])\n",
    "print(lijst[-4:])\n",
    "[print(lijst) for i in lijst]\n",
    "[print(i) for i in lijst]\n",
    "[print(i[:4]) for i in lijst]\n",
    "[print(i) for i in lijst if i in['c', 'd', 'e']]\n",
    "[print('yes') for i in lijst if i in['c', 'd', 'e'] if i in ['c']]\n",
    "[print('yes') if i in['c', 'd', 'e'] else print(i) for i in lijst]\n",
    "lol = list(lijst for i in range(3))\n",
    "lol\n",
    "print(lol)\n",
    "\n",
    "\n",
    "\n"
   ]
  },
  {
   "cell_type": "code",
   "execution_count": 38,
   "metadata": {},
   "outputs": [
    {
     "name": "stdout",
     "output_type": "stream",
     "text": [
      "['a', 'b', 'c', 'd', 'e', 'f', 'g', 'h', 'i', 'j']\n",
      "c\n",
      "6\n",
      "['a', 'c', 'e', 'g', 'i']\n",
      "['j', 'h', 'f', 'd', 'b']\n",
      "['a', 'b', 'c', 'd', 'e', 'f', 'g', 'h', 'i', 'j']\n",
      "['a', 'b', 'c', 'd', 'e', 'f', 'g', 'h', 'i', 'j']\n",
      "['a', 'b', 'c', 'd', 'e', 'f', 'g', 'h', 'i', 'j']\n",
      "['a', 'b', 'c', 'd', 'e', 'f', 'g', 'h', 'i', 'j']\n",
      "['a', 'b', 'c', 'd', 'e', 'f', 'g', 'h', 'i', 'j']\n",
      "a\n",
      "b\n",
      "c\n",
      "d\n",
      "e\n",
      "f\n",
      "g\n",
      "h\n",
      "i\n",
      "j\n",
      "a\n",
      "b\n",
      "c\n",
      "d\n",
      "e\n",
      "f\n",
      "g\n",
      "h\n",
      "i\n",
      "j\n",
      "a\n",
      "b\n",
      "c\n",
      "d\n",
      "e\n",
      "f\n",
      "g\n",
      "h\n",
      "i\n",
      "j\n",
      "a\n",
      "b\n",
      "c\n",
      "d\n",
      "e\n",
      "f\n",
      "g\n",
      "h\n",
      "i\n",
      "j\n",
      "a\n",
      "b\n",
      "c\n",
      "d\n",
      "e\n",
      "f\n",
      "g\n",
      "h\n",
      "i\n",
      "j\n"
     ]
    }
   ],
   "source": [
    "lol = [['a', 'b', 'c', 'd', 'e', 'f', 'g', 'h', 'i', 'j'],\n",
    "       ['a', 'b', 'c', 'd', 'e', 'f', 'g', 'h', 'i', 'j'],\n",
    "       ['a', 'b', 'c', 'd', 'e', 'f', 'g', 'h', 'i', 'j'],\n",
    "       ['a', 'b', 'c', 'd', 'e', 'f', 'g', 'h', 'i', 'j'],\n",
    "       ['a', 'b', 'c', 'd', 'e', 'f', 'g', 'h', 'i', 'j']]\n",
    "print(lol[2])\n",
    "print(lol[2][2])\n",
    "print(lol[2].index('g'))\n",
    "print(lol[3][::2])\n",
    "print(lol[3][::-2])\n",
    "for item in lol:\n",
    "    print(item)\n",
    "for item in lol:\n",
    "    for i in item:\n",
    "print(i[print(i) for i in lijst if i in['c', 'd', 'e']]\n"
   ]
  },
  {
   "cell_type": "code",
   "execution_count": 29,
   "metadata": {},
   "outputs": [
    {
     "data": {
      "text/html": [
       "<div>\n",
       "<style scoped>\n",
       "    .dataframe tbody tr th:only-of-type {\n",
       "        vertical-align: middle;\n",
       "    }\n",
       "\n",
       "    .dataframe tbody tr th {\n",
       "        vertical-align: top;\n",
       "    }\n",
       "\n",
       "    .dataframe thead th {\n",
       "        text-align: right;\n",
       "    }\n",
       "</style>\n",
       "<table border=\"1\" class=\"dataframe\">\n",
       "  <thead>\n",
       "    <tr style=\"text-align: right;\">\n",
       "      <th></th>\n",
       "      <th>0</th>\n",
       "      <th>1</th>\n",
       "      <th>2</th>\n",
       "      <th>3</th>\n",
       "      <th>4</th>\n",
       "    </tr>\n",
       "  </thead>\n",
       "  <tbody>\n",
       "    <tr>\n",
       "      <th>0</th>\n",
       "      <td>91125</td>\n",
       "      <td>729</td>\n",
       "      <td>91125</td>\n",
       "      <td>50653</td>\n",
       "      <td>1771561</td>\n",
       "    </tr>\n",
       "    <tr>\n",
       "      <th>1</th>\n",
       "      <td>9261</td>\n",
       "      <td>110592</td>\n",
       "      <td>1728</td>\n",
       "      <td>64</td>\n",
       "      <td>7529536</td>\n",
       "    </tr>\n",
       "    <tr>\n",
       "      <th>2</th>\n",
       "      <td>68921</td>\n",
       "      <td>0</td>\n",
       "      <td>1728</td>\n",
       "      <td>2197</td>\n",
       "      <td>729</td>\n",
       "    </tr>\n",
       "    <tr>\n",
       "      <th>3</th>\n",
       "      <td>2744</td>\n",
       "      <td>8000</td>\n",
       "      <td>42875</td>\n",
       "      <td>8</td>\n",
       "      <td>1073741824</td>\n",
       "    </tr>\n",
       "  </tbody>\n",
       "</table>\n",
       "</div>"
      ],
      "text/plain": [
       "       0       1      2      3           4\n",
       "0  91125     729  91125  50653     1771561\n",
       "1   9261  110592   1728     64     7529536\n",
       "2  68921       0   1728   2197         729\n",
       "3   2744    8000  42875      8  1073741824"
      ]
     },
     "execution_count": 29,
     "metadata": {},
     "output_type": "execute_result"
    }
   ],
   "source": [
    "import pandas as pd  # example .apply with custom function\n",
    "import numpy as np\n",
    "_arr = np.random.randint(50, size=(4, 5))\n",
    "df = pd.DataFrame(_arr)\n",
    "\n",
    "\n",
    "def cube(x):\n",
    "    return x ** 3\n",
    "\n",
    "\n",
    "def sqrt_(x):\n",
    "    return x ** 2\n",
    "\n",
    "\n",
    "df.loc[:, 4] = df.loc[:, 4].map(sqrt_)\n",
    "df.apply(cube)"
   ]
  },
  {
   "cell_type": "code",
   "execution_count": 2,
   "metadata": {},
   "outputs": [],
   "source": [
    "list1 = 1,2,3,4,5\n",
    "lista = list('abcde')\n",
    "listc = list('!@#$%')\n",
    "\n",
    "\n",
    "dicta = {num:letter for  num,letter in zip(list1,lista) if (num < 4) and (letter in 'ab') }\n",
    "dicta\n",
    "dictb = {num:letter for  num,letter in zip(list1,lista)}"
   ]
  },
  {
   "cell_type": "code",
   "execution_count": null,
   "metadata": {},
   "outputs": [],
   "source": [
    "dictb = {key:value for key in list1 for value in {}}"
   ]
  },
  {
   "cell_type": "code",
   "execution_count": 10,
   "metadata": {},
   "outputs": [
    {
     "data": {
      "text/plain": [
       "{}"
      ]
     },
     "execution_count": 10,
     "metadata": {},
     "output_type": "execute_result"
    }
   ],
   "source": [
    "{key:value for key in list1 for value in }"
   ]
  },
  {
   "cell_type": "code",
   "execution_count": 13,
   "metadata": {},
   "outputs": [
    {
     "data": {
      "text/plain": [
       "{1: {'a': '!'}, 2: {'b': '@'}, 3: {'c': '#'}, 4: {'d': '$'}, 5: {'e': '%'}}"
      ]
     },
     "execution_count": 13,
     "metadata": {},
     "output_type": "execute_result"
    }
   ],
   "source": [
    "{key:{lista[i]:listc[i]} for i,key in enumerate(list1)}"
   ]
  },
  {
   "cell_type": "code",
   "execution_count": 2,
   "metadata": {},
   "outputs": [
    {
     "data": {
      "text/plain": [
       "{'a': '!', 'b': '@', 'c': '#', 'd': '$', 'e': '%'}"
      ]
     },
     "execution_count": 2,
     "metadata": {},
     "output_type": "execute_result"
    }
   ],
   "source": [
    "dict(zip(lista,listc))"
   ]
  },
  {
   "cell_type": "code",
   "execution_count": 9,
   "metadata": {},
   "outputs": [
    {
     "data": {
      "text/plain": [
       "{'a': '!', 'b': '@', 'c': '#', 'd': '$', 'e': '%'}"
      ]
     },
     "execution_count": 9,
     "metadata": {},
     "output_type": "execute_result"
    }
   ],
   "source": [
    "dict(zip(lista,listc))"
   ]
  },
  {
   "cell_type": "code",
   "execution_count": 8,
   "metadata": {},
   "outputs": [
    {
     "data": {
      "text/plain": [
       "{1: ('a', '!'), 2: ('b', '@'), 3: ('c', '#'), 4: ('d', '$'), 5: ('e', '%')}"
      ]
     },
     "execution_count": 8,
     "metadata": {},
     "output_type": "execute_result"
    }
   ],
   "source": [
    "dict(zip(list1,dict(zip(lista,listc)).items()))"
   ]
  },
  {
   "cell_type": "code",
   "execution_count": 59,
   "metadata": {},
   "outputs": [
    {
     "data": {
      "text/plain": [
       "['!', '@', '#', '$', '%']"
      ]
     },
     "execution_count": 59,
     "metadata": {},
     "output_type": "execute_result"
    }
   ],
   "source": [
    "listc"
   ]
  },
  {
   "cell_type": "code",
   "execution_count": 56,
   "metadata": {},
   "outputs": [],
   "source": [
    "list1 = ('12345')"
   ]
  },
  {
   "cell_type": "code",
   "execution_count": 58,
   "metadata": {},
   "outputs": [
    {
     "data": {
      "text/plain": [
       "12345"
      ]
     },
     "execution_count": 58,
     "metadata": {},
     "output_type": "execute_result"
    }
   ],
   "source": [
    "eval(list1)"
   ]
  },
  {
   "cell_type": "code",
   "execution_count": 4,
   "metadata": {},
   "outputs": [
    {
     "data": {
      "text/plain": [
       "{1: 'a', 2: 'b', 3: 'c', 4: 'd', 5: 'e'}"
      ]
     },
     "execution_count": 4,
     "metadata": {},
     "output_type": "execute_result"
    }
   ],
   "source": [
    "#merge 2 dicts\n",
    "dictc= {**dicta, **dictb}\n",
    "dictc"
   ]
  },
  {
   "cell_type": "code",
   "execution_count": 15,
   "metadata": {},
   "outputs": [],
   "source": [
    "import numpy as np\n",
    "import scipy.stats as stats\n",
    "import seaborn as sns\n",
    "import matplotlib.pyplot as plt\n",
    "plt.style.use('fivethirtyeight')"
   ]
  },
  {
   "cell_type": "code",
   "execution_count": 16,
   "metadata": {},
   "outputs": [
    {
     "data": {
      "text/plain": [
       "array([-1.64485363,  1.64485363])"
      ]
     },
     "execution_count": 16,
     "metadata": {},
     "output_type": "execute_result"
    }
   ],
   "source": [
    "(stats.norm().ppf([0.05,0.95]))"
   ]
  },
  {
   "cell_type": "code",
   "execution_count": null,
   "metadata": {},
   "outputs": [],
   "source": [
    "# def item_category_maker(x):\n",
    "#     x = x.lower() #force lowercase\n",
    "#     if 'chips' in x:\n",
    "#         return 'chips'\n",
    "#     elif ('burrito' in x) or ('bowl' in x):\n",
    "#         return 'burrito'\n",
    "#     elif 'taco' in x:\n",
    "#         return 'taco'\n",
    "#     elif 'salad' in x:\n",
    "#         return 'salad'\n",
    "#     else:\n",
    "#         return 'drink'# have a left over answer\n",
    "    \n",
    "# chip['broad_type'] = chip.item_name.map(item_category_maker)\n",
    "# print(chip.broad_type.unique())\n",
    "# print(chip.broad_type.value_counts())"
   ]
  },
  {
   "cell_type": "code",
   "execution_count": null,
   "metadata": {},
   "outputs": [],
   "source": [
    "# Filter on rows\n",
    "filtering_mask = (earnings['Time'] == 2016) & (earnings['Statistics'] == 'Mean') & (\n",
    "    earnings['Sex'] == 'All') & (earnings['Workingpattern'] == 'All') & (earnings['Earnings'] == 'Weekly pay - Gross')\n",
    "earnings_row_filt = earnings[filtering_mask]\n",
    "\n",
    "#sum(filtering_mask)\n",
    "\n",
    "# Filter on columns\n",
    "columns_filt = [column for column in earnings.columns if '_codelist' not in column] \n",
    "columns_filt = [column for column in columns_filt if column not in ['Data marking', \n",
    "                                                                    'Coefficient of variation',\n",
    "                                                                    'Sex',\n",
    "                                                                    'Workingpattern']]\n",
    "earnings_col_filt = earnings_row_filt[columns_filt]\n",
    "\n",
    "# Rename columns and reset_index\n",
    "rename_cols = {'V4_2':'Value',\n",
    "                 'ashe-geography':'Geography_code'}\n",
    "earnings_col_filt = earnings_col_filt.rename(rename_cols, axis = 1)\n",
    "earnings_col_filt = earnings_col_filt.reset_index(drop=True)"
   ]
  },
  {
   "cell_type": "code",
   "execution_count": 9,
   "metadata": {},
   "outputs": [
    {
     "name": "stdout",
     "output_type": "stream",
     "text": [
      "(15,)\n",
      "<class 'numpy.ndarray'>\n"
     ]
    },
    {
     "data": {
      "text/plain": [
       "array([1., 2., 1., 2., 1., 2., 1., 2., 1., 2., 1., 2., 1., 2., 1.])"
      ]
     },
     "execution_count": 9,
     "metadata": {},
     "output_type": "execute_result"
    }
   ],
   "source": [
    "import numpy as np\n",
    "a = np.empty(15,)\n",
    "a[::2] = 1\n",
    "a[1::2] = 2\n",
    "print(a.shape)\n",
    "print(type(a))\n",
    "a\n"
   ]
  },
  {
   "cell_type": "code",
   "execution_count": 22,
   "metadata": {},
   "outputs": [
    {
     "data": {
      "text/plain": [
       "[1, 2, 1, 2, 1, 2, 1, 2, 1, 2]"
      ]
     },
     "execution_count": 22,
     "metadata": {},
     "output_type": "execute_result"
    }
   ],
   "source": [
    "a = []\n",
    "for i in range(5):\n",
    "    a.append(1)\n",
    "    a.append(2)\n",
    "a"
   ]
  },
  {
   "cell_type": "code",
   "execution_count": 18,
   "metadata": {},
   "outputs": [
    {
     "data": {
      "text/plain": [
       "list"
      ]
     },
     "execution_count": 18,
     "metadata": {},
     "output_type": "execute_result"
    }
   ],
   "source": [
    "type(a)"
   ]
  },
  {
   "cell_type": "code",
   "execution_count": 1,
   "metadata": {},
   "outputs": [
    {
     "data": {
      "image/png": "[encoded data removed]",
      "text/plain": [
       "<matplotlib.figure.Figure at 0x1a0ae287b8>"
      ]
     },
     "metadata": {
      "image/png": {
       "height": 244,
       "width": 409
      }
     },
     "output_type": "display_data"
    }
   ],
   "source": [
    "# Draw a straight line\n",
    "#read the list of points as (x0, x1), (y0, y1)\n",
    "data = [[0, 2], [1, 2]]\n",
    "\n",
    "plt.plot(data[0], data[1], \"k-\")\n",
    "plt.plot(data[0], data[1], \"o\")\n",
    "plt.show()"
   ]
  },
  {
   "cell_type": "code",
   "execution_count": null,
   "metadata": {},
   "outputs": [],
   "source": [
    "#Plot x vs y \n",
    "df = pd.DataFrame(sample_data, columns=[\"x\", \"y\"])\n",
    "\n",
    "# plot the data with regplot\n",
    "my_plot = df.plot(kind=\"scatter\", x=\"x\", y=\"y\",\n",
    "                  title=\"Sample Data\", figsize=(10, 5))\n",
    "\n",
    "# Add value markers because it's nice to have a visual reference to data points\n",
    "for point in sample_data:\n",
    "    my_plot.text(point[0] + .2, point[1] - .02, str(point))\n",
    "\n",
    "sns.regplot(x=\"x\", y=\"y\", data=df)\n",
    "plt.show()"
   ]
  },
  {
   "cell_type": "code",
   "execution_count": null,
   "metadata": {},
   "outputs": [],
   "source": [
    "# simple scatter plot with line\n",
    "df.plot.scatter(x = 'x', y = 'y')\n",
    "plt.plot([0,50],[100,100])"
   ]
  },
  {
   "cell_type": "code",
   "execution_count": null,
   "metadata": {},
   "outputs": [],
   "source": [
    "#remove outlier\n",
    "remove_out = pd.DataFrame({'height':height, 'weight':weight[:,0]})\n",
    "height_mean = np.mean(height)\n",
    "height_std = np.std(height)\n",
    "remove_out['height_outlier'] = (np.abs(remove_out.height - height_mean) > 1.5*height_std)\n",
    "print (remove_out.height_outlier.sum())\n",
    "\n",
    "height_no = remove_out.height[~remove_out.height_outlier].values\n",
    "weight_no = remove_out.weight[~remove_out.height_outlier].values\n",
    "print (weight_no.shape)\n",
    "weight_no = weight_no.reshape(weight_no.shape[0], 1)\n",
    "print (height_no.shape, weight_no.shape)"
   ]
  },
  {
   "cell_type": "code",
   "execution_count": null,
   "metadata": {},
   "outputs": [],
   "source": [
    "#trick to split ascci data\n",
    "# Load the diabetes dataset\n",
    "columns = \"age sex bmi map tc ldl hdl tch ltg glu\".split()\n",
    "diabetes = datasets.load_diabetes()\n",
    "df = pd.DataFrame(diabetes.data, columns=columns)\n",
    "y = diabetes.target\n",
    "# Take a look at the data again\n",
    "print(df.head())\n",
    "print(df.shape)"
   ]
  },
  {
   "cell_type": "code",
   "execution_count": null,
   "metadata": {},
   "outputs": [],
   "source": [
    "bcw['bare_nuclei'] = bcw.bare_nuclei.map(lambda x: int(x) if not x == '?' else np.nan)\n",
    "bcw.dropna(inplace=True)"
   ]
  },
  {
   "cell_type": "code",
   "execution_count": null,
   "metadata": {},
   "outputs": [],
   "source": [
    "y = hsq['gender']# !!! column\n",
    "X = hsq[predictors] #!!!list"
   ]
  },
  {
   "cell_type": "code",
   "execution_count": null,
   "metadata": {},
   "outputs": [],
   "source": [
    "# new colum with 0 and 1's\n",
    "data['host_wins'] = (data['HostName'] == data['winner']).astype(int)"
   ]
  },
  {
   "cell_type": "code",
   "execution_count": null,
   "metadata": {},
   "outputs": [],
   "source": [
    "# create a folder \"app\"\n",
    "import os\n",
    "folder_ = \"./app\"\n",
    "if not os.path.exists(folder_):\n",
    "    os.makedirs(folder_)"
   ]
  },
  {
   "cell_type": "code",
   "execution_count": null,
   "metadata": {},
   "outputs": [],
   "source": []
  },
  {
   "cell_type": "code",
   "execution_count": null,
   "metadata": {},
   "outputs": [],
   "source": []
  },
  {
   "cell_type": "code",
   "execution_count": null,
   "metadata": {},
   "outputs": [],
   "source": []
  },
  {
   "cell_type": "code",
   "execution_count": null,
   "metadata": {},
   "outputs": [],
   "source": []
  }
 ],
 "metadata": {
  "kernelspec": {
   "display_name": "Python 3",
   "language": "python",
   "name": "python3"
  },
  "language_info": {
   "codemirror_mode": {
    "name": "ipython",
    "version": 3
   },
   "file_extension": ".py",
   "mimetype": "text/x-python",
   "name": "python",
   "nbconvert_exporter": "python",
   "pygments_lexer": "ipython3",
   "version": "3.6.5"
  },
  "toc": {
   "nav_menu": {},
   "number_sections": true,
   "sideBar": true,
   "skip_h1_title": true,
   "title_cell": "Table of Contents",
   "title_sidebar": "Contents",
   "toc_cell": false,
   "toc_position": {},
   "toc_section_display": true,
   "toc_window_display": false
  }
 },
 "nbformat": 4,
 "nbformat_minor": 2
}
