{
 "cells": [
  {
   "cell_type": "markdown",
   "metadata": {
    "toc": true
   },
   "source": [
    "<h1>Table of Contents<span class=\"tocSkip\"></span></h1>\n",
    "<div class=\"toc\"><ul class=\"toc-item\"><li><span><a href=\"#Introduction\" data-toc-modified-id=\"Introduction-1\"><span class=\"toc-item-num\">1&nbsp;&nbsp;</span>Introduction</a></span></li><li><span><a href=\"#Classification\" data-toc-modified-id=\"Classification-2\"><span class=\"toc-item-num\">2&nbsp;&nbsp;</span>Classification</a></span><ul class=\"toc-item\"><li><span><a href=\"#Create-some-data\" data-toc-modified-id=\"Create-some-data-2.1\"><span class=\"toc-item-num\">2.1&nbsp;&nbsp;</span>Create some data</a></span></li><li><span><a href=\"#Get-frequencies\" data-toc-modified-id=\"Get-frequencies-2.2\"><span class=\"toc-item-num\">2.2&nbsp;&nbsp;</span>Get frequencies</a></span></li><li><span><a href=\"#Train-test-split-without-stratification\" data-toc-modified-id=\"Train-test-split-without-stratification-2.3\"><span class=\"toc-item-num\">2.3&nbsp;&nbsp;</span>Train-test split without stratification</a></span></li><li><span><a href=\"#Train-Test-split-with-Stratification-of-y-(target)\" data-toc-modified-id=\"Train-Test-split-with-Stratification-of-y-(target)-2.4\"><span class=\"toc-item-num\">2.4&nbsp;&nbsp;</span>Train-Test split with Stratification of y (target)</a></span></li><li><span><a href=\"#Train-Test-split--on-other-columns\" data-toc-modified-id=\"Train-Test-split--on-other-columns-2.5\"><span class=\"toc-item-num\">2.5&nbsp;&nbsp;</span>Train Test split  on other columns</a></span></li><li><span><a href=\"#Stratification-of-X-multiple-columns\" data-toc-modified-id=\"Stratification-of-X-multiple-columns-2.6\"><span class=\"toc-item-num\">2.6&nbsp;&nbsp;</span>Stratification of X multiple columns</a></span></li></ul></li></ul></div>"
   ]
  },
  {
   "cell_type": "markdown",
   "metadata": {},
   "source": [
    "# Note on Stratification\n",
    "\n",
    "## Introduction\n",
    "\n",
    "Train test split. as well as cross validation has the option to 'stratify'. \n",
    "'Stratification seeks to ensure that each fold is representative of all strata of the data. Generally this is done in a supervised way for classification and aims to ensure each class is (approximately) equally represented across each test fold (which are of course combined in a complementary way to form training folds).'(https://stats.stackexchange.com/questions/49540/understanding-stratified-cross-validation)\n",
    "In a large, well balanced data set for a regression or binary classification problem this option will not be likely needed. However when neither or any of these conditions are met this is a nifty feature.\n",
    "\n",
    "## Classification\n",
    "\n",
    "For classification the target variable is typically stratified. The train and test set will retain the original class proportions.\n"
   ]
  },
  {
   "cell_type": "markdown",
   "metadata": {},
   "source": []
  },
  {
   "cell_type": "markdown",
   "metadata": {},
   "source": [
    "### Create some data"
   ]
  },
  {
   "cell_type": "code",
   "execution_count": 263,
   "metadata": {},
   "outputs": [],
   "source": [
    "# Create data objects fro the iris dataset\n",
    "import pandas as pd\n",
    "from sklearn import datasets\n",
    "# create data set for multiclass classification\n",
    "from sklearn.preprocessing import StandardScaler\n",
    "from sklearn.model_selection import train_test_split\n",
    "from sklearn import datasets\n",
    "\n",
    "\n",
    "def multiclass():\n",
    "    data_multiclass = datasets.load_iris()\n",
    "    df = pd.DataFrame(data_multiclass['data'],\n",
    "                      columns=data_multiclass['feature_names'])\n",
    "    df['ycol'] = data_multiclass['target']\n",
    "    X = df.drop('ycol', axis=1)\n",
    "    y = df['ycol'].values\n",
    "    X_train, X_test, y_train, y_test = train_test_split(\n",
    "        X, y, test_size=0.3, random_state=0)\n",
    "    ss = StandardScaler()\n",
    "    X_train = (ss.fit_transform(X_train))\n",
    "    X_test = ss.transform(X_test)\n",
    "    X = pd.DataFrame(ss.transform(X), columns=df.drop('ycol', axis=1).columns)\n",
    "#     print('Iris Dataset Data has been created for multiclass ML')\n",
    "#     print(f'Shape df {df.shape}')\n",
    "#     print(f'Shape X {X.shape}')\n",
    "#     print(f'Shape y {y.shape}')\n",
    "#     print(f'Shape X_train {X_train.shape}')\n",
    "#     print(f'Shape y_train {y_train.shape}')\n",
    "#     print(f'Shape X_test {X_test.shape}')\n",
    "#     print(f'Shape y_test {y_test.shape}')\n",
    "#     print(f'Mean X {X_train.mean()}, should be close to 0')\n",
    "#     print(f'Std X {X_train.std()}, should be close to 1')\n",
    "#     print(f'Available columns {df.columns.values}')\n",
    "    return df, X, y, X_train, y_train, X_test, y_test"
   ]
  },
  {
   "cell_type": "code",
   "execution_count": 267,
   "metadata": {},
   "outputs": [],
   "source": [
    "df, X, y, X_train, y_train, X_test, y_test = multiclass()"
   ]
  },
  {
   "cell_type": "code",
   "execution_count": 268,
   "metadata": {},
   "outputs": [],
   "source": [
    "#abusing make_classification to create 2 extra columns with severely inbalanced classes\n",
    "from sklearn.datasets import make_classification\n",
    "X_, y_ = make_classification(n_samples=len(X), \n",
    "                             n_features=20, \n",
    "                             n_informative=4, \n",
    "                             n_redundant=2, \n",
    "                             n_repeated=0, \n",
    "                             n_classes=6, \n",
    "                             n_clusters_per_class=2, \n",
    "                             weights=[.05,.05,.1,.1,.2,.5], \n",
    "                             flip_y=0.01, \n",
    "                             class_sep=1.0, \n",
    "                             hypercube=True, \n",
    "                             shift=0.0, \n",
    "                             scale=1.0, \n",
    "                             shuffle=True, \n",
    "                             random_state=None)\n",
    "\n",
    "X['extra'], X['extra1']= y_, y_+1"
   ]
  },
  {
   "cell_type": "markdown",
   "metadata": {},
   "source": [
    "### Get frequencies"
   ]
  },
  {
   "cell_type": "code",
   "execution_count": 269,
   "metadata": {
    "scrolled": true
   },
   "outputs": [
    {
     "name": "stdout",
     "output_type": "stream",
     "text": [
      "y\tPrec.\n",
      "1\t0.05\t%\n",
      "2\t0.05\t%\n",
      "3\t0.1\t%\n",
      "4\t0.1\t%\n",
      "5\t0.21\t%\n",
      "6\t0.49\t%\n"
     ]
    }
   ],
   "source": [
    "# value proportions 'extra1'\n",
    "print(f'y\\tPrec.')\n",
    "for i in range(1,7):\n",
    "    print(f'{i}\\t{round(X[\"extra1\"].value_counts(sort = False)[i]/X.shape[0],2)}\\t%')"
   ]
  },
  {
   "cell_type": "code",
   "execution_count": 272,
   "metadata": {},
   "outputs": [
    {
     "data": {
      "text/plain": [
       "0    0.05\n",
       "1    0.05\n",
       "2    0.10\n",
       "3    0.10\n",
       "4    0.21\n",
       "5    0.49\n",
       "Name: extra, dtype: float64"
      ]
     },
     "execution_count": 272,
     "metadata": {},
     "output_type": "execute_result"
    }
   ],
   "source": [
    "# value proportions 'extra'\n",
    "round(X[\"extra\"].value_counts(sort=False)/X.shape[0],2)"
   ]
  },
  {
   "cell_type": "code",
   "execution_count": 276,
   "metadata": {},
   "outputs": [
    {
     "data": {
      "text/plain": [
       "0    0.33\n",
       "1    0.33\n",
       "2    0.33\n",
       "dtype: float64"
      ]
     },
     "execution_count": 276,
     "metadata": {},
     "output_type": "execute_result"
    }
   ],
   "source": [
    "# value proportions 'y'\n",
    "round(pd.Series(y).value_counts(sort=False)/X.shape[0],2)"
   ]
  },
  {
   "cell_type": "markdown",
   "metadata": {},
   "source": [
    "### Train-test split without stratification"
   ]
  },
  {
   "cell_type": "code",
   "execution_count": 283,
   "metadata": {},
   "outputs": [
    {
     "name": "stdout",
     "output_type": "stream",
     "text": [
      "(100, 6) (100,)\n",
      "(50, 6) (50,)\n"
     ]
    }
   ],
   "source": [
    "#train test split, stratify = None\n",
    "from sklearn.model_selection import train_test_split\n",
    "X_train, X_test, y_train, y_test = train_test_split(X, y, stratify=None, test_size=0.33, \n",
    "                                                    random_state=2018)\n",
    "print(X_train.shape, y_train.shape)\n",
    "print(X_test.shape, y_test.shape)"
   ]
  },
  {
   "cell_type": "code",
   "execution_count": 284,
   "metadata": {},
   "outputs": [
    {
     "data": {
      "text/plain": [
       "0    0.31\n",
       "1    0.36\n",
       "2    0.33\n",
       "dtype: float64"
      ]
     },
     "execution_count": 284,
     "metadata": {},
     "output_type": "execute_result"
    }
   ],
   "source": [
    "# value proportions 'y', stratify = None\n",
    "round(pd.Series(y_train).value_counts(sort=False)/X_train.shape[0],2)"
   ]
  },
  {
   "cell_type": "code",
   "execution_count": 285,
   "metadata": {},
   "outputs": [
    {
     "data": {
      "text/plain": [
       "0    0.05\n",
       "1    0.05\n",
       "2    0.07\n",
       "3    0.09\n",
       "4    0.22\n",
       "5    0.52\n",
       "Name: extra, dtype: float64"
      ]
     },
     "execution_count": 285,
     "metadata": {},
     "output_type": "execute_result"
    }
   ],
   "source": [
    "# value proportions 'extra'\n",
    "round(X_train[\"extra\"].value_counts(sort=False)/X_train.shape[0],2)"
   ]
  },
  {
   "cell_type": "code",
   "execution_count": 286,
   "metadata": {},
   "outputs": [
    {
     "data": {
      "text/plain": [
       "1    0.05\n",
       "2    0.05\n",
       "3    0.07\n",
       "4    0.09\n",
       "5    0.22\n",
       "6    0.52\n",
       "Name: extra1, dtype: float64"
      ]
     },
     "execution_count": 286,
     "metadata": {},
     "output_type": "execute_result"
    }
   ],
   "source": [
    "# value proportions 'extra1'\n",
    "round(X_train['extra1'].value_counts(sort=False)/X_train.shape[0],2)"
   ]
  },
  {
   "cell_type": "markdown",
   "metadata": {},
   "source": [
    "### Train-Test split with Stratification of y (target)"
   ]
  },
  {
   "cell_type": "code",
   "execution_count": 287,
   "metadata": {},
   "outputs": [
    {
     "name": "stdout",
     "output_type": "stream",
     "text": [
      "(100, 6) (100,)\n",
      "(50, 6) (50,)\n"
     ]
    }
   ],
   "source": [
    "#train test split, stratify = y\n",
    "from sklearn.model_selection import train_test_split\n",
    "X_train, X_test, y_train, y_test = train_test_split(X, y, stratify=y, test_size=0.33, \n",
    "                                                    random_state=2018)\n",
    "print(X_train.shape, y_train.shape)\n",
    "print(X_test.shape, y_test.shape)"
   ]
  },
  {
   "cell_type": "code",
   "execution_count": 288,
   "metadata": {},
   "outputs": [
    {
     "data": {
      "text/plain": [
       "0    0.33\n",
       "1    0.34\n",
       "2    0.33\n",
       "dtype: float64"
      ]
     },
     "execution_count": 288,
     "metadata": {},
     "output_type": "execute_result"
    }
   ],
   "source": [
    "# value proportions 'y', stratify = y\n",
    "round(pd.Series(y_train).value_counts(sort=False)/X_train.shape[0],2)"
   ]
  },
  {
   "cell_type": "code",
   "execution_count": 289,
   "metadata": {},
   "outputs": [
    {
     "data": {
      "text/plain": [
       "0    0.05\n",
       "1    0.05\n",
       "2    0.09\n",
       "3    0.05\n",
       "4    0.21\n",
       "5    0.55\n",
       "Name: extra, dtype: float64"
      ]
     },
     "execution_count": 289,
     "metadata": {},
     "output_type": "execute_result"
    }
   ],
   "source": [
    "# value proportions y\n",
    "round(X_train[\"extra\"].value_counts(sort=False)/X_train.shape[0],2)"
   ]
  },
  {
   "cell_type": "code",
   "execution_count": 290,
   "metadata": {},
   "outputs": [
    {
     "data": {
      "text/plain": [
       "1    0.05\n",
       "2    0.05\n",
       "3    0.09\n",
       "4    0.05\n",
       "5    0.21\n",
       "6    0.55\n",
       "Name: extra1, dtype: float64"
      ]
     },
     "execution_count": 290,
     "metadata": {},
     "output_type": "execute_result"
    }
   ],
   "source": [
    "# value proportions y\n",
    "round(X_train['extra1'].value_counts(sort=False)/X_train.shape[0],2)"
   ]
  },
  {
   "cell_type": "markdown",
   "metadata": {},
   "source": [
    "### Train Test split  on other columns\n",
    "\n",
    "Unfortunately it looses the y stratification, but this may not be a problem. Why the heck would you do this? Well, some features may warrant equal representation in the sets. Features like gender, age groups may spring to mind."
   ]
  },
  {
   "cell_type": "code",
   "execution_count": 300,
   "metadata": {},
   "outputs": [
    {
     "name": "stdout",
     "output_type": "stream",
     "text": [
      "(105, 6) (105,)\n",
      "(45, 6) (45,)\n"
     ]
    }
   ],
   "source": [
    "from sklearn.model_selection import train_test_split\n",
    "X_train, X_test, y_train, y_test = train_test_split(X, y, stratify=X['extra'], test_size=0.3, \n",
    "                                                    random_state=2018)\n",
    "print(X_train.shape, y_train.shape)\n",
    "print(X_test.shape, y_test.shape)"
   ]
  },
  {
   "cell_type": "code",
   "execution_count": 295,
   "metadata": {},
   "outputs": [
    {
     "data": {
      "text/plain": [
       "0    0.37\n",
       "1    0.34\n",
       "2    0.29\n",
       "dtype: float64"
      ]
     },
     "execution_count": 295,
     "metadata": {},
     "output_type": "execute_result"
    }
   ],
   "source": [
    "# value proportions 'y', stratify = 'extra'\n",
    "round(pd.Series(y_train).value_counts(sort=False)/X_train.shape[0],2)"
   ]
  },
  {
   "cell_type": "code",
   "execution_count": 296,
   "metadata": {},
   "outputs": [
    {
     "data": {
      "text/plain": [
       "0    0.05\n",
       "1    0.05\n",
       "2    0.10\n",
       "3    0.10\n",
       "4    0.21\n",
       "5    0.50\n",
       "Name: extra, dtype: float64"
      ]
     },
     "execution_count": 296,
     "metadata": {},
     "output_type": "execute_result"
    }
   ],
   "source": [
    "# value proportions 'extra', stratify = 'extra'\n",
    "round(X_train['extra'].value_counts(sort=False)/X_train.shape[0],2)"
   ]
  },
  {
   "cell_type": "code",
   "execution_count": 297,
   "metadata": {},
   "outputs": [
    {
     "data": {
      "text/plain": [
       "1    0.05\n",
       "2    0.05\n",
       "3    0.10\n",
       "4    0.10\n",
       "5    0.21\n",
       "6    0.50\n",
       "Name: extra1, dtype: float64"
      ]
     },
     "execution_count": 297,
     "metadata": {},
     "output_type": "execute_result"
    }
   ],
   "source": [
    "# value proportions 'extra1', stratify = 'extra'\n",
    "round(X_train[\"extra1\"].value_counts(sort=False)/X_train.shape[0],2)"
   ]
  },
  {
   "cell_type": "markdown",
   "metadata": {},
   "source": [
    "### Stratification of X multiple columns"
   ]
  },
  {
   "cell_type": "code",
   "execution_count": 301,
   "metadata": {},
   "outputs": [
    {
     "name": "stdout",
     "output_type": "stream",
     "text": [
      "(105, 6) (105,)\n",
      "(45, 6) (45,)\n"
     ]
    }
   ],
   "source": [
    "from sklearn.model_selection import train_test_split\n",
    "X_train, X_test, y_train, y_test = train_test_split(X, y, stratify=X[['extra', 'extra1']], test_size=0.3, \n",
    "                                                    random_state=2018)\n",
    "print(X_train.shape, y_train.shape)\n",
    "print(X_test.shape, y_test.shape)"
   ]
  },
  {
   "cell_type": "code",
   "execution_count": 302,
   "metadata": {},
   "outputs": [
    {
     "data": {
      "text/plain": [
       "0    0.0\n",
       "1    0.0\n",
       "2    0.1\n",
       "3    0.1\n",
       "4    0.2\n",
       "5    0.5\n",
       "Name: extra, dtype: float64"
      ]
     },
     "execution_count": 302,
     "metadata": {},
     "output_type": "execute_result"
    }
   ],
   "source": [
    "round(X_train['extra'].value_counts(sort=False)/X_train.shape[0],1)"
   ]
  },
  {
   "cell_type": "code",
   "execution_count": 303,
   "metadata": {},
   "outputs": [
    {
     "data": {
      "text/plain": [
       "1    0.05\n",
       "2    0.05\n",
       "3    0.10\n",
       "4    0.10\n",
       "5    0.21\n",
       "6    0.50\n",
       "Name: extra1, dtype: float64"
      ]
     },
     "execution_count": 303,
     "metadata": {},
     "output_type": "execute_result"
    }
   ],
   "source": [
    "round(X_train['extra1'].value_counts(sort=False)/X_train.shape[0],2)"
   ]
  },
  {
   "cell_type": "code",
   "execution_count": 304,
   "metadata": {},
   "outputs": [
    {
     "data": {
      "text/plain": [
       "105"
      ]
     },
     "execution_count": 304,
     "metadata": {},
     "output_type": "execute_result"
    }
   ],
   "source": [
    "X_train.shape[0]"
   ]
  },
  {
   "cell_type": "code",
   "execution_count": 226,
   "metadata": {},
   "outputs": [],
   "source": [
    "import random\n",
    "X['test'] = [random.randint(0, 5) for x in range(0, X.shape[0])]"
   ]
  },
  {
   "cell_type": "code",
   "execution_count": 227,
   "metadata": {},
   "outputs": [
    {
     "data": {
      "text/plain": [
       "0    0.19\n",
       "1    0.13\n",
       "2    0.19\n",
       "3    0.13\n",
       "4    0.19\n",
       "5    0.16\n",
       "Name: test, dtype: float64"
      ]
     },
     "execution_count": 227,
     "metadata": {},
     "output_type": "execute_result"
    }
   ],
   "source": [
    "round(X['test'].value_counts(sort=False)/X.shape[0],2)"
   ]
  },
  {
   "cell_type": "code",
   "execution_count": null,
   "metadata": {},
   "outputs": [],
   "source": [
    "# Create the bins.  My `y` variable has\n",
    "# 506 observations, and I want 50 bins.\n",
    "\n",
    "bins = np.linspace(0, 506, 50)\n",
    "\n",
    "# Save your Y values in a new ndarray,\n",
    "# broken down by the bins created above.\n",
    "\n",
    "y_binned = np.digitize(y, bins)\n",
    "\n",
    "# Pass y_binned to the stratify argument,\n",
    "# and sklearn will handle the rest\n",
    "\n",
    "X_train, X_test, y_train, y_test = train_test_split(df, y, test_size=0.3, stratify=y_binned)\n"
   ]
  }
 ],
 "metadata": {
  "kernelspec": {
   "display_name": "Python 3",
   "language": "python",
   "name": "python3"
  },
  "language_info": {
   "codemirror_mode": {
    "name": "ipython",
    "version": 3
   },
   "file_extension": ".py",
   "mimetype": "text/x-python",
   "name": "python",
   "nbconvert_exporter": "python",
   "pygments_lexer": "ipython3",
   "version": "3.6.4"
  },
  "toc": {
   "nav_menu": {},
   "number_sections": true,
   "sideBar": true,
   "skip_h1_title": true,
   "title_cell": "Table of Contents",
   "title_sidebar": "Contents",
   "toc_cell": true,
   "toc_position": {},
   "toc_section_display": true,
   "toc_window_display": true
  }
 },
 "nbformat": 4,
 "nbformat_minor": 2
}
