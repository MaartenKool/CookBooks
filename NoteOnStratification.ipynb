{
 "cells": [
  {
   "cell_type": "markdown",
   "metadata": {
    "toc": true
   },
   "source": [
    "<h1>Table of Contents<span class=\"tocSkip\"></span></h1>\n",
    "<div class=\"toc\"><ul class=\"toc-item\"><li><span><a href=\"#Introduction\" data-toc-modified-id=\"Introduction-1\"><span class=\"toc-item-num\">1&nbsp;&nbsp;</span>Introduction</a></span></li><li><span><a href=\"#Stratifying-target-y\" data-toc-modified-id=\"Stratifying-target-y-2\"><span class=\"toc-item-num\">2&nbsp;&nbsp;</span>Stratifying target y</a></span><ul class=\"toc-item\"><li><span><a href=\"#Classification\" data-toc-modified-id=\"Classification-2.1\"><span class=\"toc-item-num\">2.1&nbsp;&nbsp;</span>Classification</a></span><ul class=\"toc-item\"><li><span><a href=\"#Create-some-data\" data-toc-modified-id=\"Create-some-data-2.1.1\"><span class=\"toc-item-num\">2.1.1&nbsp;&nbsp;</span>Create some data</a></span></li><li><span><a href=\"#Get-'original'-frequencies\" data-toc-modified-id=\"Get-'original'-frequencies-2.1.2\"><span class=\"toc-item-num\">2.1.2&nbsp;&nbsp;</span>Get 'original' frequencies</a></span></li><li><span><a href=\"#Train-test-split-without-stratification\" data-toc-modified-id=\"Train-test-split-without-stratification-2.1.3\"><span class=\"toc-item-num\">2.1.3&nbsp;&nbsp;</span>Train-test split without stratification</a></span></li><li><span><a href=\"#Train-Test-split-with-Stratification-of-y-(target)\" data-toc-modified-id=\"Train-Test-split-with-Stratification-of-y-(target)-2.1.4\"><span class=\"toc-item-num\">2.1.4&nbsp;&nbsp;</span>Train-Test split with Stratification of y (target)</a></span></li></ul></li><li><span><a href=\"#Multi-label\" data-toc-modified-id=\"Multi-label-2.2\"><span class=\"toc-item-num\">2.2&nbsp;&nbsp;</span>Multi-label</a></span></li><li><span><a href=\"#Regression\" data-toc-modified-id=\"Regression-2.3\"><span class=\"toc-item-num\">2.3&nbsp;&nbsp;</span>Regression</a></span><ul class=\"toc-item\"><li><span><a href=\"#Create-some-data\" data-toc-modified-id=\"Create-some-data-2.3.1\"><span class=\"toc-item-num\">2.3.1&nbsp;&nbsp;</span>Create some data</a></span></li><li><span><a href=\"#Create-bins\" data-toc-modified-id=\"Create-bins-2.3.2\"><span class=\"toc-item-num\">2.3.2&nbsp;&nbsp;</span>Create bins</a></span></li><li><span><a href=\"#Train-test-split\" data-toc-modified-id=\"Train-test-split-2.3.3\"><span class=\"toc-item-num\">2.3.3&nbsp;&nbsp;</span>Train test split</a></span></li><li><span><a href=\"#Show-results\" data-toc-modified-id=\"Show-results-2.3.4\"><span class=\"toc-item-num\">2.3.4&nbsp;&nbsp;</span>Show results</a></span></li></ul></li><li><span><a href=\"#Stratifying--a-feature-X\" data-toc-modified-id=\"Stratifying--a-feature-X-2.4\"><span class=\"toc-item-num\">2.4&nbsp;&nbsp;</span>Stratifying  a feature X</a></span><ul class=\"toc-item\"><li><span><a href=\"#Binary-or-multiclass\" data-toc-modified-id=\"Binary-or-multiclass-2.4.1\"><span class=\"toc-item-num\">2.4.1&nbsp;&nbsp;</span>Binary or multiclass</a></span></li><li><span><a href=\"#Continuous-features\" data-toc-modified-id=\"Continuous-features-2.4.2\"><span class=\"toc-item-num\">2.4.2&nbsp;&nbsp;</span>Continuous features</a></span></li><li><span><a href=\"#Stratification-of-X-over-multiple-columns\" data-toc-modified-id=\"Stratification-of-X-over-multiple-columns-2.4.3\"><span class=\"toc-item-num\">2.4.3&nbsp;&nbsp;</span>Stratification of X over multiple columns</a></span></li></ul></li></ul></li></ul></div>"
   ]
  },
  {
   "cell_type": "markdown",
   "metadata": {},
   "source": [
    "# Note on Stratification\n",
    "\n",
    "## Introduction\n",
    "\n",
    "Train test split as well as cross validation have the option to 'stratify'. \n",
    "'Stratification seeks to ensure that each fold is representative of all strata of the data. Generally this is done in a supervised way for classification and aims to ensure each class is (approximately) equally represented across each test fold (which are of course combined in a complementary way to form training folds).'(https://stats.stackexchange.com/questions/49540/understanding-stratified-cross-validation)\n",
    "In a large, well balanced data set for a regression or binary classification problem this option will not be likely needed. However when neither or any of these conditions are met this is a nifty feature.\n",
    "\n",
    "## Stratifying target y\n",
    "\n",
    "### Classification\n",
    "\n",
    "The train and test set will retain the original class proportions."
   ]
  },
  {
   "cell_type": "markdown",
   "metadata": {},
   "source": []
  },
  {
   "cell_type": "markdown",
   "metadata": {},
   "source": [
    "#### Create some data"
   ]
  },
  {
   "cell_type": "code",
   "execution_count": 576,
   "metadata": {
    "scrolled": true
   },
   "outputs": [],
   "source": [
    "# Create data objects for the iris dataset\n",
    "import pandas as pd\n",
    "from sklearn import datasets\n",
    "# create data set for multiclass classification\n",
    "from sklearn.preprocessing import StandardScaler\n",
    "from sklearn.model_selection import train_test_split\n",
    "from sklearn import datasets\n",
    "\n",
    "\n",
    "def multiclass():\n",
    "    data_multiclass = datasets.load_iris()\n",
    "    df = pd.DataFrame(data_multiclass['data'],\n",
    "                      columns=data_multiclass['feature_names'])\n",
    "    df['ycol'] = data_multiclass['target']\n",
    "    X = df.drop('ycol', axis=1)\n",
    "    y = df['ycol'].values\n",
    "    X_train, X_test, y_train, y_test = train_test_split(\n",
    "        X, y, test_size=0.3, random_state=0)\n",
    "    ss = StandardScaler()\n",
    "    X_train = (ss.fit_transform(X_train))\n",
    "    X_test = ss.transform(X_test)\n",
    "    X = pd.DataFrame(ss.transform(X), columns=df.drop('ycol', axis=1).columns)\n",
    "#     print('Iris Dataset Data has been created for multiclass ML')\n",
    "#     print(f'Shape df {df.shape}')\n",
    "#     print(f'Shape X {X.shape}')\n",
    "#     print(f'Shape y {y.shape}')\n",
    "#     print(f'Shape X_train {X_train.shape}')\n",
    "#     print(f'Shape y_train {y_train.shape}')\n",
    "#     print(f'Shape X_test {X_test.shape}')\n",
    "#     print(f'Shape y_test {y_test.shape}')\n",
    "#     print(f'Mean X {X_train.mean()}, should be close to 0')\n",
    "#     print(f'Std X {X_train.std()}, should be close to 1')\n",
    "#     print(f'Available columns {df.columns.values}')\n",
    "    return df, X, y, X_train, y_train, X_test, y_test"
   ]
  },
  {
   "cell_type": "code",
   "execution_count": 577,
   "metadata": {
    "scrolled": true
   },
   "outputs": [],
   "source": [
    "df, X, y, X_train, y_train, X_test, y_test = multiclass()"
   ]
  },
  {
   "cell_type": "code",
   "execution_count": 578,
   "metadata": {
    "scrolled": true
   },
   "outputs": [],
   "source": [
    "#abusing make_classification to create 2 extra columns with severely inbalanced classes\n",
    "from sklearn.datasets import make_classification\n",
    "X_, y_ = make_classification(n_samples=len(X), \n",
    "                             n_features=20, \n",
    "                             n_informative=4, \n",
    "                             n_redundant=2, \n",
    "                             n_repeated=0, \n",
    "                             n_classes=6, \n",
    "                             n_clusters_per_class=2, \n",
    "                             weights=[.05,.05,.1,.1,.2,.5], \n",
    "                             flip_y=0.01, \n",
    "                             class_sep=1.0, \n",
    "                             hypercube=True, \n",
    "                             shift=0.0, \n",
    "                             scale=1.0, \n",
    "                             shuffle=True, \n",
    "                             random_state=None)\n",
    "\n",
    "X['extra']= y_"
   ]
  },
  {
   "cell_type": "code",
   "execution_count": 579,
   "metadata": {
    "scrolled": true
   },
   "outputs": [
    {
     "data": {
      "text/plain": [
       "0     7\n",
       "1     7\n",
       "2    16\n",
       "3    16\n",
       "4    31\n",
       "5    73\n",
       "Name: extra, dtype: int64"
      ]
     },
     "execution_count": 579,
     "metadata": {},
     "output_type": "execute_result"
    }
   ],
   "source": [
    "X['extra'].value_counts(sort=False)"
   ]
  },
  {
   "cell_type": "code",
   "execution_count": 580,
   "metadata": {
    "scrolled": true
   },
   "outputs": [],
   "source": [
    "#abusing make_classification to create 2 extra columns with severely inbalanced classes\n",
    "from sklearn.datasets import make_classification\n",
    "X__, y__ = make_classification(n_samples=len(X), \n",
    "                             n_features=3, \n",
    "                             n_informative=3, \n",
    "                             n_redundant=0, \n",
    "                             n_repeated=0, \n",
    "                             n_classes=2, \n",
    "                             n_clusters_per_class=2, \n",
    "                             weights=[.4,.6], \n",
    "                             flip_y=0.01, \n",
    "                             class_sep=1.0, \n",
    "                             hypercube=True, \n",
    "                             shift=0.0, \n",
    "                             scale=1.0, \n",
    "                             shuffle=True, \n",
    "                             random_state=None)\n",
    "\n",
    "X['extra1']= y__"
   ]
  },
  {
   "cell_type": "code",
   "execution_count": 581,
   "metadata": {
    "scrolled": true
   },
   "outputs": [
    {
     "data": {
      "text/plain": [
       "1    89\n",
       "0    61\n",
       "Name: extra1, dtype: int64"
      ]
     },
     "execution_count": 581,
     "metadata": {},
     "output_type": "execute_result"
    }
   ],
   "source": [
    "X['extra1'].value_counts()"
   ]
  },
  {
   "cell_type": "markdown",
   "metadata": {},
   "source": [
    "#### Get 'original' frequencies"
   ]
  },
  {
   "cell_type": "code",
   "execution_count": 582,
   "metadata": {
    "scrolled": false
   },
   "outputs": [
    {
     "name": "stdout",
     "output_type": "stream",
     "text": [
      "y\tPrec.\n",
      "0\t0.41\t%\n",
      "1\t0.59\t%\n"
     ]
    }
   ],
   "source": [
    "# value proportions 'extra1'\n",
    "print(f'y\\tPrec.')\n",
    "for i in range(0,np.max(X['extra1']+1)):\n",
    "    print(f'{i}\\t{round(X[\"extra1\"].value_counts(sort = False)[i]/X.shape[0],2)}\\t%')"
   ]
  },
  {
   "cell_type": "code",
   "execution_count": 583,
   "metadata": {
    "scrolled": true
   },
   "outputs": [
    {
     "data": {
      "text/plain": [
       "0    0.05\n",
       "1    0.05\n",
       "2    0.11\n",
       "3    0.11\n",
       "4    0.21\n",
       "5    0.49\n",
       "Name: extra, dtype: float64"
      ]
     },
     "execution_count": 583,
     "metadata": {},
     "output_type": "execute_result"
    }
   ],
   "source": [
    "# value proportions 'extra'\n",
    "round(X[\"extra\"].value_counts(sort=False)/X.shape[0],2)"
   ]
  },
  {
   "cell_type": "code",
   "execution_count": 584,
   "metadata": {
    "scrolled": true
   },
   "outputs": [
    {
     "data": {
      "text/plain": [
       "0    0.33\n",
       "1    0.33\n",
       "2    0.33\n",
       "dtype: float64"
      ]
     },
     "execution_count": 584,
     "metadata": {},
     "output_type": "execute_result"
    }
   ],
   "source": [
    "# value proportions 'y'\n",
    "round(pd.Series(y).value_counts(sort=False)/X.shape[0],2)"
   ]
  },
  {
   "cell_type": "markdown",
   "metadata": {},
   "source": [
    "#### Train-test split without stratification"
   ]
  },
  {
   "cell_type": "code",
   "execution_count": 585,
   "metadata": {
    "scrolled": true
   },
   "outputs": [
    {
     "name": "stdout",
     "output_type": "stream",
     "text": [
      "(135, 6) (135,)\n",
      "(15, 6) (15,)\n"
     ]
    }
   ],
   "source": [
    "#train test split, stratify = None\n",
    "from sklearn.model_selection import train_test_split\n",
    "X_train, X_test, y_train, y_test = train_test_split(X, y, stratify=None, test_size=0.1, \n",
    "                                                    random_state=2018)\n",
    "print(X_train.shape, y_train.shape)\n",
    "print(X_test.shape, y_test.shape)"
   ]
  },
  {
   "cell_type": "code",
   "execution_count": 586,
   "metadata": {
    "scrolled": true
   },
   "outputs": [
    {
     "data": {
      "text/plain": [
       "0    0.33\n",
       "1    0.33\n",
       "2    0.33\n",
       "dtype: float64"
      ]
     },
     "execution_count": 586,
     "metadata": {},
     "output_type": "execute_result"
    }
   ],
   "source": [
    "# value proportions 'y', stratify = None\n",
    "round(pd.Series(y_train).value_counts(sort=False)/X_train.shape[0],2)"
   ]
  },
  {
   "cell_type": "code",
   "execution_count": 587,
   "metadata": {
    "scrolled": true
   },
   "outputs": [
    {
     "data": {
      "text/plain": [
       "3    0.13\n",
       "4    0.40\n",
       "5    0.47\n",
       "Name: extra, dtype: float64"
      ]
     },
     "execution_count": 587,
     "metadata": {},
     "output_type": "execute_result"
    }
   ],
   "source": [
    "# value proportions 'extra'\n",
    "round(X_test[\"extra\"].value_counts(sort=False)/X_test.shape[0],2)"
   ]
  },
  {
   "cell_type": "code",
   "execution_count": 588,
   "metadata": {
    "scrolled": true
   },
   "outputs": [
    {
     "data": {
      "text/plain": [
       "0    0.42\n",
       "1    0.58\n",
       "Name: extra1, dtype: float64"
      ]
     },
     "execution_count": 588,
     "metadata": {},
     "output_type": "execute_result"
    }
   ],
   "source": [
    "# value proportions 'extra1'\n",
    "round(X_train['extra1'].value_counts(sort=False)/X_train.shape[0],2)"
   ]
  },
  {
   "cell_type": "markdown",
   "metadata": {},
   "source": [
    "#### Train-Test split with Stratification of y (target)"
   ]
  },
  {
   "cell_type": "code",
   "execution_count": 589,
   "metadata": {
    "scrolled": true
   },
   "outputs": [
    {
     "name": "stdout",
     "output_type": "stream",
     "text": [
      "(100, 6) (100,)\n",
      "(50, 6) (50,)\n"
     ]
    }
   ],
   "source": [
    "#train test split, stratify = y\n",
    "from sklearn.model_selection import train_test_split\n",
    "X_train, X_test, y_train, y_test = train_test_split(X, y, stratify=y, test_size=0.33, \n",
    "                                                    random_state=2018)\n",
    "print(X_train.shape, y_train.shape)\n",
    "print(X_test.shape, y_test.shape)"
   ]
  },
  {
   "cell_type": "code",
   "execution_count": 590,
   "metadata": {
    "scrolled": true
   },
   "outputs": [
    {
     "data": {
      "text/plain": [
       "0    0.33\n",
       "1    0.34\n",
       "2    0.33\n",
       "dtype: float64"
      ]
     },
     "execution_count": 590,
     "metadata": {},
     "output_type": "execute_result"
    }
   ],
   "source": [
    "# value proportions 'y', stratify = y\n",
    "round(pd.Series(y_train).value_counts(sort=False)/X_train.shape[0],2)"
   ]
  },
  {
   "cell_type": "code",
   "execution_count": 591,
   "metadata": {
    "scrolled": true
   },
   "outputs": [
    {
     "data": {
      "text/plain": [
       "0    0.05\n",
       "1    0.04\n",
       "2    0.15\n",
       "3    0.10\n",
       "4    0.21\n",
       "5    0.45\n",
       "Name: extra, dtype: float64"
      ]
     },
     "execution_count": 591,
     "metadata": {},
     "output_type": "execute_result"
    }
   ],
   "source": [
    "# value proportions y\n",
    "round(X_train[\"extra\"].value_counts(sort=False)/X_train.shape[0],2)"
   ]
  },
  {
   "cell_type": "code",
   "execution_count": 592,
   "metadata": {
    "scrolled": true
   },
   "outputs": [
    {
     "data": {
      "text/plain": [
       "0    0.39\n",
       "1    0.61\n",
       "Name: extra1, dtype: float64"
      ]
     },
     "execution_count": 592,
     "metadata": {},
     "output_type": "execute_result"
    }
   ],
   "source": [
    "# value proportions y\n",
    "round(X_train['extra1'].value_counts(sort=False)/X_train.shape[0],2)"
   ]
  },
  {
   "cell_type": "markdown",
   "metadata": {},
   "source": [
    "### Multi-label\n",
    "\n"
   ]
  },
  {
   "cell_type": "markdown",
   "metadata": {},
   "source": [
    "from skmultilearn.model_selection import iterative_train_test_split\n",
    "\n",
    "X_train, y_train, X_test, y_test = iterative_train_test_split(X, y, test_size = 0.5)"
   ]
  },
  {
   "cell_type": "markdown",
   "metadata": {},
   "source": [
    "### Regression\n",
    "\n",
    "Continuous data may not be uniformly distributed. When the target is skewed the need may arise to represent less frequent values equally in all folds or splits. Target y needs to be 'tricked' by associating a bin while retain the original value"
   ]
  },
  {
   "cell_type": "markdown",
   "metadata": {},
   "source": [
    "#### Create some data"
   ]
  },
  {
   "cell_type": "code",
   "execution_count": 603,
   "metadata": {
    "scrolled": true
   },
   "outputs": [],
   "source": [
    "# create data set for regression\n",
    "from sklearn.preprocessing import StandardScaler\n",
    "from sklearn.model_selection import train_test_split\n",
    "from sklearn import datasets\n",
    "\n",
    "\n",
    "def regression():\n",
    "    data_regression = datasets.load_diabetes()\n",
    "    df = pd.DataFrame(data_regression['data'],\n",
    "                      columns=data_regression['feature_names'])\n",
    "    df['ycol'] = data_regression['target']\n",
    "    X = df.drop('ycol', axis=1)\n",
    "    y = df['ycol'].values\n",
    "    X_train, X_test, y_train, y_test = train_test_split(\n",
    "        X, y, test_size=0.3, random_state=0)\n",
    "    ss = StandardScaler()\n",
    "    X_train = (ss.fit_transform(X_train))\n",
    "    X_test = ss.transform(X_test)\n",
    "    X = pd.DataFrame(ss.transform(X), columns=df.drop('ycol', axis=1).columns)\n",
    "#     |values}')\n",
    "    return df, X, y, X_train, y_train, X_test, y_test"
   ]
  },
  {
   "cell_type": "code",
   "execution_count": 604,
   "metadata": {
    "scrolled": true
   },
   "outputs": [],
   "source": [
    "df, X, y, X_train, y_train, X_test, y_test = regression()"
   ]
  },
  {
   "cell_type": "markdown",
   "metadata": {},
   "source": [
    "#### Create bins\n",
    "\n",
    "How many bins should be created? Basically as many as possible, as this this retains the original distribution as much as possible. However the constraint is:\n",
    "\n",
    "'''ValueError: The least populated class in y has only 1 member, which is too few. The minimum number of groups for any class cannot be less than 2.\n",
    "'''\n",
    "\n",
    "So the, old-fashioned trial and error,  heuristic approach is likely best"
   ]
  },
  {
   "cell_type": "code",
   "execution_count": 605,
   "metadata": {
    "scrolled": true
   },
   "outputs": [],
   "source": [
    "# Create the bins.  \n",
    "\n",
    "bins = np.linspace(0, X.shape[0], 20)\n",
    "\n",
    "# Save your y values in a new ndarray,\n",
    "# broken down by the bins created above.\n",
    "\n",
    "y_binned = np.digitize(y, bins)"
   ]
  },
  {
   "cell_type": "code",
   "execution_count": 606,
   "metadata": {
    "scrolled": true
   },
   "outputs": [
    {
     "data": {
      "text/plain": [
       "2     0.04\n",
       "3     0.18\n",
       "4     0.20\n",
       "5     0.16\n",
       "6     0.13\n",
       "7     0.13\n",
       "8     0.13\n",
       "9     0.10\n",
       "10    0.08\n",
       "11    0.09\n",
       "12    0.11\n",
       "13    0.05\n",
       "14    0.03\n",
       "15    0.01\n",
       "dtype: float64"
      ]
     },
     "execution_count": 606,
     "metadata": {},
     "output_type": "execute_result"
    }
   ],
   "source": [
    "#proportional binned_y values\n",
    "round(pd.Series(y_binned).value_counts(sort=False)/X_train.shape[0],2)"
   ]
  },
  {
   "cell_type": "code",
   "execution_count": 607,
   "metadata": {
    "scrolled": true
   },
   "outputs": [
    {
     "name": "stdout",
     "output_type": "stream",
     "text": [
      "value \b bin#\n",
      "151.0\t7\n",
      "75.0\t4\n",
      "141.0\t7\n",
      "206.0\t9\n",
      "135.0\t6\n",
      "97.0\t5\n",
      "138.0\t6\n",
      "63.0\t3\n",
      "110.0\t5\n",
      "310.0\t14\n"
     ]
    }
   ],
   "source": [
    "#Just to show what it looks like print the first 10 only\n",
    "y__zipped = []\n",
    "y_zipped = zip(y, y_binned)\n",
    "print(f'value','\\b','bin#')\n",
    "for i in y_zipped:\n",
    "    y__zipped.append(i)\n",
    "for i in y__zipped[:10]:\n",
    "    print(f'{i[0]}\\t{i[1]}')"
   ]
  },
  {
   "cell_type": "markdown",
   "metadata": {},
   "source": [
    "#### Train test split"
   ]
  },
  {
   "cell_type": "code",
   "execution_count": 608,
   "metadata": {
    "scrolled": true
   },
   "outputs": [],
   "source": [
    "#train test split without statification\n",
    "\n",
    "X_train, X_test, y_train, y_test = train_test_split(X, \n",
    "                                                    y, \n",
    "                                                    test_size=0.33, \n",
    "                                                    stratify=None,\n",
    "                                                    random_state=2)"
   ]
  },
  {
   "cell_type": "code",
   "execution_count": 609,
   "metadata": {
    "scrolled": true
   },
   "outputs": [],
   "source": [
    "#Pass y_binned to the stratify argumentand sklearn will handle the rest\n",
    "X_train_, X_test_, y_train_, y_test_ = train_test_split(X, \n",
    "                                                    y, \n",
    "                                                    test_size=0.33, \n",
    "                                                    stratify=y_binned,\n",
    "                                                    random_state=2)"
   ]
  },
  {
   "cell_type": "markdown",
   "metadata": {},
   "source": [
    "#### Show results"
   ]
  },
  {
   "cell_type": "code",
   "execution_count": 610,
   "metadata": {
    "scrolled": true
   },
   "outputs": [],
   "source": [
    "\n",
    "plt.style.use('fivethirtyeight')\n",
    "\n",
    "%config InlineBackend.figure_format = 'retina'\n",
    "%matplotlib inline"
   ]
  },
  {
   "cell_type": "code",
   "execution_count": 611,
   "metadata": {
    "scrolled": false
   },
   "outputs": [
    {
     "data": {
      "image/png": "[encoded data removed]",
      "text/plain": [
       "<matplotlib.figure.Figure at 0x1a223c7780>"
      ]
     },
     "metadata": {
      "image/png": {
       "height": 495,
       "width": 547
      }
     },
     "output_type": "display_data"
    }
   ],
   "source": [
    "#create normalised histogram 'plot' to compare results\n",
    "plt.figure(figsize=(8,8))\n",
    "n,x,_ = plt.hist(y, bins = int(len(y)/50), histtype=u'step', lw=0.0, normed=True )\n",
    "bin_centers = 0.5*(x[1:]+x[:-1])\n",
    "plt.plot(bin_centers,n, lw= 1.5, c='r', label='original') ## using bin_centers rather than edges\n",
    "\n",
    "n_,x_,__= plt.hist(y_train, bins = int(len(y)/50), histtype=u'step',lw=0.0, normed=True )\n",
    "bin_centers_ = 0.5*(x_[1:]+x_[:-1])\n",
    "plt.plot(bin_centers_,n_, lw= 1.5, c='g', label='Not Stratified') ## using bin_centers rather than edges\n",
    "\n",
    "n__,x__,__= plt.hist(y_train_, bins = int(len(y)/50), histtype=u'step',lw=0.0, normed=True )\n",
    "bin_centers__ = 0.5*(x__[1:]+x__[:-1])\n",
    "plt.plot(bin_centers__,n__, lw= 1.5, c='b', label='Stratified') ## using bin_centers rather than edges\n",
    "\n",
    "plt.title('Histogram plot comparing y \\nstratification results')\n",
    "plt.legend(loc='best')\n",
    "plt.show()"
   ]
  },
  {
   "cell_type": "markdown",
   "metadata": {},
   "source": [
    "### Stratifying  a feature X \n",
    "\n",
    "#### Binary or multiclass\n",
    "\n",
    "Why the heck would you do this? Well, some features may warrant equal representation in the sets. Features like 'gender' and 'age' etc groups may spring to mind. Example would be predicting salaries in NL. If your data set is unbalanced you may need to take action. \n",
    "\n",
    "Luckily Sklearn allows for this, obviously y stratification is lost"
   ]
  },
  {
   "cell_type": "code",
   "execution_count": 593,
   "metadata": {
    "scrolled": true
   },
   "outputs": [
    {
     "name": "stdout",
     "output_type": "stream",
     "text": [
      "(105, 6) (105,)\n",
      "(45, 6) (45,)\n"
     ]
    }
   ],
   "source": [
    "from sklearn.model_selection import train_test_split\n",
    "X_train, X_test, y_train, y_test = train_test_split(X, y, stratify=X['extra'], test_size=0.3, \n",
    "                                                    random_state=2018)\n",
    "print(X_train.shape, y_train.shape)\n",
    "print(X_test.shape, y_test.shape)"
   ]
  },
  {
   "cell_type": "code",
   "execution_count": 594,
   "metadata": {
    "scrolled": true
   },
   "outputs": [
    {
     "data": {
      "text/plain": [
       "0    0.39\n",
       "1    0.32\n",
       "2    0.29\n",
       "dtype: float64"
      ]
     },
     "execution_count": 594,
     "metadata": {},
     "output_type": "execute_result"
    }
   ],
   "source": [
    "# value proportions 'y', stratify = 'extra'\n",
    "round(pd.Series(y_train).value_counts(sort=False)/X_train.shape[0],2)"
   ]
  },
  {
   "cell_type": "code",
   "execution_count": 595,
   "metadata": {
    "scrolled": true
   },
   "outputs": [
    {
     "data": {
      "text/plain": [
       "0    0.05\n",
       "1    0.05\n",
       "2    0.10\n",
       "3    0.10\n",
       "4    0.21\n",
       "5    0.49\n",
       "Name: extra, dtype: float64"
      ]
     },
     "execution_count": 595,
     "metadata": {},
     "output_type": "execute_result"
    }
   ],
   "source": [
    "# value proportions 'extra', stratify = 'extra'\n",
    "round(X_train['extra'].value_counts(sort=False)/X_train.shape[0],2)"
   ]
  },
  {
   "cell_type": "code",
   "execution_count": 596,
   "metadata": {
    "scrolled": true
   },
   "outputs": [
    {
     "data": {
      "text/plain": [
       "0    0.42\n",
       "1    0.58\n",
       "Name: extra1, dtype: float64"
      ]
     },
     "execution_count": 596,
     "metadata": {},
     "output_type": "execute_result"
    }
   ],
   "source": [
    "# value proportions 'extra1', stratify = 'extra'\n",
    "round(X_train[\"extra1\"].value_counts(sort=False)/X_train.shape[0],2)"
   ]
  },
  {
   "cell_type": "markdown",
   "metadata": {},
   "source": [
    "#### Continuous features\n",
    "\n",
    "See Regression solution above"
   ]
  },
  {
   "cell_type": "markdown",
   "metadata": {},
   "source": [
    "#### Stratification of X over multiple columns\n",
    "\n",
    "Sklearn allows for this; as long as smallest group is =>2. Obviously this becomes troublesome very quickly as the number of class combinations grows exponentially "
   ]
  },
  {
   "cell_type": "code",
   "execution_count": 597,
   "metadata": {
    "scrolled": true
   },
   "outputs": [
    {
     "name": "stdout",
     "output_type": "stream",
     "text": [
      "(105, 6) (105,)\n",
      "(45, 6) (45,)\n"
     ]
    }
   ],
   "source": [
    "from sklearn.model_selection import train_test_split\n",
    "X_train, X_test, y_train, y_test = train_test_split(X, y, stratify=X[['extra', 'extra1']], test_size=0.3, \n",
    "                                                    random_state=2018)\n",
    "print(X_train.shape, y_train.shape)\n",
    "print(X_test.shape, y_test.shape)"
   ]
  },
  {
   "cell_type": "code",
   "execution_count": 598,
   "metadata": {
    "scrolled": true
   },
   "outputs": [
    {
     "data": {
      "text/plain": [
       "0    0.048\n",
       "1    0.048\n",
       "2    0.105\n",
       "3    0.105\n",
       "4    0.210\n",
       "5    0.486\n",
       "Name: extra, dtype: float64"
      ]
     },
     "execution_count": 598,
     "metadata": {},
     "output_type": "execute_result"
    }
   ],
   "source": [
    "#close\n",
    "round(X_train['extra'].value_counts(sort=False)/X_train.shape[0],3)"
   ]
  },
  {
   "cell_type": "code",
   "execution_count": 599,
   "metadata": {
    "scrolled": true
   },
   "outputs": [
    {
     "data": {
      "text/plain": [
       "0    0.4\n",
       "1    0.6\n",
       "Name: extra1, dtype: float64"
      ]
     },
     "execution_count": 599,
     "metadata": {},
     "output_type": "execute_result"
    }
   ],
   "source": [
    "#exactly right\n",
    "round(X_train['extra1'].value_counts(sort=False)/X_train.shape[0],2)"
   ]
  },
  {
   "cell_type": "code",
   "execution_count": 600,
   "metadata": {
    "scrolled": true
   },
   "outputs": [
    {
     "data": {
      "text/plain": [
       "0    0.30\n",
       "1    0.37\n",
       "2    0.33\n",
       "dtype: float64"
      ]
     },
     "execution_count": 600,
     "metadata": {},
     "output_type": "execute_result"
    }
   ],
   "source": [
    "# value proportions 'y', not startified\n",
    "round(pd.Series(y_train).value_counts(sort=False)/X_train.shape[0],2)"
   ]
  },
  {
   "cell_type": "code",
   "execution_count": 227,
   "metadata": {
    "scrolled": true
   },
   "outputs": [
    {
     "data": {
      "text/plain": [
       "0    0.19\n",
       "1    0.13\n",
       "2    0.19\n",
       "3    0.13\n",
       "4    0.19\n",
       "5    0.16\n",
       "Name: test, dtype: float64"
      ]
     },
     "execution_count": 227,
     "metadata": {},
     "output_type": "execute_result"
    }
   ],
   "source": [
    "import random\n",
    "X['test'] = [random.randint(0, 5) for x in range(0, X.shape[0])]\n",
    "\n",
    "round(X['test'].value_counts(sort=False)/X.shape[0],2)"
   ]
  },
  {
   "cell_type": "code",
   "execution_count": 651,
   "metadata": {
    "scrolled": true
   },
   "outputs": [],
   "source": [
    "from sklearn.datasets import make_multilabel_classification\n",
    "\n",
    "# this will generate a random multi-label dataset\n",
    "X, y = make_multilabel_classification(n_samples=100, \n",
    "                                      n_features=20, \n",
    "                                      n_classes=5, \n",
    "                                      n_labels=2, \n",
    "                                      length=50, \n",
    "                                      allow_unlabeled=False, \n",
    "                                      sparse=False, \n",
    "                                      return_indicator='dense', \n",
    "                                      return_distributions=False, \n",
    "                                      random_state=None)"
   ]
  },
  {
   "cell_type": "code",
   "execution_count": 652,
   "metadata": {
    "scrolled": true
   },
   "outputs": [],
   "source": [
    "from skmultilearn.model_selection import iterative_train_test_split\n",
    "\n",
    "X_train, y_train, X_test, y_test = iterative_train_test_split(X, y, test_size = 0.5)"
   ]
  },
  {
   "cell_type": "code",
   "execution_count": 659,
   "metadata": {
    "scrolled": true
   },
   "outputs": [
    {
     "data": {
      "text/plain": [
       "2.29"
      ]
     },
     "execution_count": 659,
     "metadata": {},
     "output_type": "execute_result"
    }
   ],
   "source": [
    "l = []\n",
    "for i in y:\n",
    "    l.append(sum(i))\n",
    "np.mean(l)"
   ]
  },
  {
   "cell_type": "code",
   "execution_count": 665,
   "metadata": {
    "scrolled": true
   },
   "outputs": [
    {
     "ename": "NameError",
     "evalue": "name 'Counter' is not defined",
     "output_type": "error",
     "traceback": [
      "\u001b[0;31m---------------------------------------------------------------------------\u001b[0m",
      "\u001b[0;31mNameError\u001b[0m                                 Traceback (most recent call last)",
      "\u001b[0;32m<ipython-input-665-13a3bf3df544>\u001b[0m in \u001b[0;36m<module>\u001b[0;34m()\u001b[0m\n\u001b[1;32m      1\u001b[0m \u001b[0;32mfrom\u001b[0m \u001b[0mskmultilearn\u001b[0m\u001b[0;34m.\u001b[0m\u001b[0mmodel_selection\u001b[0m\u001b[0;34m.\u001b[0m\u001b[0mmeasures\u001b[0m \u001b[0;32mimport\u001b[0m \u001b[0mget_combination_wise_output_matrix\u001b[0m\u001b[0;34m\u001b[0m\u001b[0m\n\u001b[1;32m      2\u001b[0m \u001b[0;34m\u001b[0m\u001b[0m\n\u001b[0;32m----> 3\u001b[0;31m \u001b[0mCounter\u001b[0m\u001b[0;34m(\u001b[0m\u001b[0mcombination\u001b[0m \u001b[0;32mfor\u001b[0m \u001b[0mrow\u001b[0m \u001b[0;32min\u001b[0m \u001b[0mget_combination_wise_output_matrix\u001b[0m\u001b[0;34m(\u001b[0m\u001b[0my\u001b[0m\u001b[0;34m.\u001b[0m\u001b[0mA\u001b[0m\u001b[0;34m,\u001b[0m \u001b[0morder\u001b[0m\u001b[0;34m=\u001b[0m\u001b[0;36m2\u001b[0m\u001b[0;34m)\u001b[0m \u001b[0;32mfor\u001b[0m \u001b[0mcombination\u001b[0m \u001b[0;32min\u001b[0m \u001b[0mrow\u001b[0m\u001b[0;34m)\u001b[0m\u001b[0;34m\u001b[0m\u001b[0m\n\u001b[0m",
      "\u001b[0;31mNameError\u001b[0m: name 'Counter' is not defined"
     ]
    }
   ],
   "source": [
    "from skmultilearn.model_selection.measures import get_combination_wise_output_matrix\n",
    "\n",
    "Counter(combination for row in get_combination_wise_output_matrix(y.A, order=2) for combination in row)\n"
   ]
  },
  {
   "cell_type": "code",
   "execution_count": null,
   "metadata": {
    "scrolled": true
   },
   "outputs": [],
   "source": []
  }
 ],
 "metadata": {
  "hide_input": false,
  "kernelspec": {
   "display_name": "Python 3",
   "language": "python",
   "name": "python3"
  },
  "language_info": {
   "codemirror_mode": {
    "name": "ipython",
    "version": 3
   },
   "file_extension": ".py",
   "mimetype": "text/x-python",
   "name": "python",
   "nbconvert_exporter": "python",
   "pygments_lexer": "ipython3",
   "version": "3.6.8"
  },
  "toc": {
   "nav_menu": {},
   "number_sections": true,
   "sideBar": true,
   "skip_h1_title": true,
   "title_cell": "Table of Contents",
   "title_sidebar": "Contents",
   "toc_cell": true,
   "toc_position": {},
   "toc_section_display": true,
   "toc_window_display": true
  }
 },
 "nbformat": 4,
 "nbformat_minor": 2
}
